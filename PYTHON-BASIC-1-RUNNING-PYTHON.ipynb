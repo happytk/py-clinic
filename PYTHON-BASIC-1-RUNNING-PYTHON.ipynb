{
 "cells": [
  {
   "cell_type": "markdown",
   "metadata": {
    "collapsed": true,
    "slideshow": {
     "slide_type": "slide"
    }
   },
   "source": [
    "## Python Implementations"
   ]
  },
  {
   "cell_type": "markdown",
   "metadata": {},
   "source": [
    "- <span style='color:red'>CPython</span> (표준구현)\n",
    "- Stackless Python\n",
    "- PyPy\n",
    "- Jython\n",
    "- IronPython\n",
    "- PythonNET\n",
    "- Skulpt\n",
    "- MicroPython"
   ]
  },
  {
   "cell_type": "markdown",
   "metadata": {
    "slideshow": {
     "slide_type": "slide"
    }
   },
   "source": [
    "## Python 인터프리터 구하기"
   ]
  },
  {
   "cell_type": "markdown",
   "metadata": {},
   "source": [
    "- http://python.org\n",
    "- Commercial Python Redistributions\n",
    "  - Anaconda (추천)\n",
    "  - ActiveState's ActivePython\n",
    "  - Enthought's Canopy"
   ]
  },
  {
   "cell_type": "markdown",
   "metadata": {
    "slideshow": {
     "slide_type": "slide"
    }
   },
   "source": [
    "## windows cmd에서 사용시"
   ]
  },
  {
   "cell_type": "markdown",
   "metadata": {},
   "source": [
    "설치 후 다음 두 경로를 PATH에 추가해주면 편해요."
   ]
  },
  {
   "cell_type": "markdown",
   "metadata": {},
   "source": [
    "- c:\\python36; c:\\python36\\scripts"
   ]
  },
  {
   "cell_type": "markdown",
   "metadata": {
    "slideshow": {
     "slide_type": "slide"
    }
   },
   "source": [
    "## python 실행하기"
   ]
  },
  {
   "cell_type": "markdown",
   "metadata": {
    "slideshow": {
     "slide_type": "-"
    }
   },
   "source": [
    "```\n",
    "python\n",
    "python file.py\n",
    "python -i file.py\n",
    "python -m json.tool\n",
    "python -c \"print('hi')\"\n",
    "```"
   ]
  },
  {
   "cell_type": "markdown",
   "metadata": {
    "slideshow": {
     "slide_type": "slide"
    }
   },
   "source": [
    "## CYCLE"
   ]
  },
  {
   "cell_type": "markdown",
   "metadata": {},
   "source": [
    "WRITE(EDIT) - COMPILE - RUN"
   ]
  },
  {
   "cell_type": "markdown",
   "metadata": {},
   "source": [
    "WRITE(EDIT) - ~~COMPILE~~ - RUN (인터프리터 언어이기 때문에 컴파일이 필요없어요.)"
   ]
  },
  {
   "cell_type": "markdown",
   "metadata": {
    "slideshow": {
     "slide_type": "subslide"
    }
   },
   "source": [
    "py프로그램문서가 변경되면 pyc로 컴파일해두고 해당 bytecode를 수행해요."
   ]
  },
  {
   "cell_type": "code",
   "execution_count": 6,
   "metadata": {
    "collapsed": false
   },
   "outputs": [
    {
     "name": "stdout",
     "output_type": "stream",
     "text": [
      "  2           0 LOAD_GLOBAL              0 (print)\n",
      "              2 LOAD_CONST               1 ('world')\n",
      "              4 CALL_FUNCTION            1\n",
      "              6 POP_TOP\n",
      "              8 LOAD_CONST               0 (None)\n",
      "             10 RETURN_VALUE\n"
     ]
    }
   ],
   "source": [
    "def hello():\n",
    "    print('world')\n",
    "\n",
    "import dis\n",
    "dis.dis(hello)"
   ]
  },
  {
   "cell_type": "markdown",
   "metadata": {
    "slideshow": {
     "slide_type": "slide"
    }
   },
   "source": [
    "## 개발도구들 (대장은 없습니다.)"
   ]
  },
  {
   "cell_type": "markdown",
   "metadata": {},
   "source": [
    "- sublime text\n",
    "- PyCharm\n",
    "- Atom\n",
    "- Idle"
   ]
  },
  {
   "cell_type": "markdown",
   "metadata": {
    "slideshow": {
     "slide_type": "slide"
    }
   },
   "source": [
    "## 인터프리터 실행 후에는 무얼 하나요"
   ]
  },
  {
   "cell_type": "markdown",
   "metadata": {
    "slideshow": {
     "slide_type": "-"
    }
   },
   "source": [
    "- **코드를 즉시 작성하거나, 궁금한 것을 실험하세요.**\n",
    "- Use the **help** function to read the documentation for a module/class/function.\n",
    "- Use the **dir** functino to list contents of the namespace, or attributes fo an object if you pass one in.\n",
    "- **그 다음에 나의 개발도구에서 code를 작성하세요.**"
   ]
  },
  {
   "cell_type": "code",
   "execution_count": 7,
   "metadata": {
    "collapsed": false,
    "slideshow": {
     "slide_type": "subslide"
    }
   },
   "outputs": [
    {
     "name": "stdout",
     "output_type": "stream",
     "text": [
      "Help on built-in function print in module builtins:\n",
      "\n",
      "print(...)\n",
      "    print(value, ..., sep=' ', end='\\n', file=sys.stdout, flush=False)\n",
      "    \n",
      "    Prints the values to a stream, or to sys.stdout by default.\n",
      "    Optional keyword arguments:\n",
      "    file:  a file-like object (stream); defaults to the current sys.stdout.\n",
      "    sep:   string inserted between values, default a space.\n",
      "    end:   string appended after the last value, default a newline.\n",
      "    flush: whether to forcibly flush the stream.\n",
      "\n"
     ]
    }
   ],
   "source": [
    "help(print)"
   ]
  },
  {
   "cell_type": "code",
   "execution_count": 8,
   "metadata": {
    "collapsed": false,
    "slideshow": {
     "slide_type": "subslide"
    }
   },
   "outputs": [
    {
     "data": {
      "text/plain": [
       "['__add__',\n",
       " '__class__',\n",
       " '__contains__',\n",
       " '__delattr__',\n",
       " '__dir__',\n",
       " '__doc__',\n",
       " '__eq__',\n",
       " '__format__',\n",
       " '__ge__',\n",
       " '__getattribute__',\n",
       " '__getitem__',\n",
       " '__getnewargs__',\n",
       " '__gt__',\n",
       " '__hash__',\n",
       " '__init__',\n",
       " '__init_subclass__',\n",
       " '__iter__',\n",
       " '__le__',\n",
       " '__len__',\n",
       " '__lt__',\n",
       " '__mod__',\n",
       " '__mul__',\n",
       " '__ne__',\n",
       " '__new__',\n",
       " '__reduce__',\n",
       " '__reduce_ex__',\n",
       " '__repr__',\n",
       " '__rmod__',\n",
       " '__rmul__',\n",
       " '__setattr__',\n",
       " '__sizeof__',\n",
       " '__str__',\n",
       " '__subclasshook__',\n",
       " 'capitalize',\n",
       " 'casefold',\n",
       " 'center',\n",
       " 'count',\n",
       " 'encode',\n",
       " 'endswith',\n",
       " 'expandtabs',\n",
       " 'find',\n",
       " 'format',\n",
       " 'format_map',\n",
       " 'index',\n",
       " 'isalnum',\n",
       " 'isalpha',\n",
       " 'isdecimal',\n",
       " 'isdigit',\n",
       " 'isidentifier',\n",
       " 'islower',\n",
       " 'isnumeric',\n",
       " 'isprintable',\n",
       " 'isspace',\n",
       " 'istitle',\n",
       " 'isupper',\n",
       " 'join',\n",
       " 'ljust',\n",
       " 'lower',\n",
       " 'lstrip',\n",
       " 'maketrans',\n",
       " 'partition',\n",
       " 'replace',\n",
       " 'rfind',\n",
       " 'rindex',\n",
       " 'rjust',\n",
       " 'rpartition',\n",
       " 'rsplit',\n",
       " 'rstrip',\n",
       " 'split',\n",
       " 'splitlines',\n",
       " 'startswith',\n",
       " 'strip',\n",
       " 'swapcase',\n",
       " 'title',\n",
       " 'translate',\n",
       " 'upper',\n",
       " 'zfill']"
      ]
     },
     "execution_count": 8,
     "metadata": {},
     "output_type": "execute_result"
    }
   ],
   "source": [
    "dir(\"string\")"
   ]
  },
  {
   "cell_type": "markdown",
   "metadata": {
    "slideshow": {
     "slide_type": "slide"
    }
   },
   "source": [
    "## 프로그램 작성 규칙"
   ]
  },
  {
   "cell_type": "markdown",
   "metadata": {},
   "source": [
    "**PEP8: Style Guide for Python Code**을 따르는 것을 권장합니다.\n",
    "\n",
    "- 상수는 대문자\n",
    "- 클래스명은 CamelCase\n",
    "- 변수와 함수는 `_`으로 구분된 단어의 조합\n",
    "- dunder function은 python의 약속된 동작들을 지정할때 사용합니다.\n"
   ]
  },
  {
   "cell_type": "markdown",
   "metadata": {
    "slideshow": {
     "slide_type": "subslide"
    }
   },
   "source": [
    "### Indentation"
   ]
  },
  {
   "cell_type": "markdown",
   "metadata": {},
   "source": [
    "- 탭 혹은 스페이스를 이용해서 들여쓰기를 합니다.\n",
    "- 들여쓰기 자체가 강제된 문법입니다."
   ]
  },
  {
   "cell_type": "code",
   "execution_count": 9,
   "metadata": {
    "collapsed": true
   },
   "outputs": [],
   "source": [
    "def hello():\n",
    "    print('world')\n",
    "    if True:\n",
    "        print('hello')"
   ]
  },
  {
   "cell_type": "markdown",
   "metadata": {
    "slideshow": {
     "slide_type": "subslide"
    }
   },
   "source": [
    "> 그리고 인덴테이션으로 Block 구분을 하는 것은 \"인간중심적\"이기 때문입니다. 사실 아무리 {..}로 Block 구분을 하게 되어 있다고 해도, 사람들은 인덴테이션을 적용해서 \"읽기 좋게\" 만듭니다. 왜냐하면 우리가 고차원 프로그래밍 언어를 사용하는 가장 큰 이유가 \"인간\"이 다루기 좋게 하려는 것이기 때문이죠.\n",
    "> 예컨대 다음과 같은 코드는 문법적으로 의미론적으로 문제가 없으나 그렇게 포맷팅하지 않죠.\n",
    "\n",
    "```\n",
    "for (i.First(); !i.IsDone(); i.Next()) {\n",
    "i.CurrentItem()->Accept(v);\n",
    "     if hadEnough()\n",
    "         doSomethingPlease();\n",
    "         orImayGoMad();}\n",
    "     ThereFore();\n",
    "Finally();\n",
    "--------------------------------------------\n",
    "for (i.First(); !i.IsDone(); i.Next()) {i.CurrentItem()->Accept(v);if hadEnough()\n",
    "doSomethingPlease();orI\n",
    "mayGoMad();}ThereFore();Finally();\n",
    "```"
   ]
  },
  {
   "cell_type": "markdown",
   "metadata": {
    "slideshow": {
     "slide_type": "subslide"
    }
   },
   "source": [
    "> 그런데, 어차피 인덴테이션을 할 것이라면 중복되게 {..}를 치는 노력을 하지 말고 그냥 인덴테이션 그것으로 Block 구분을 하자는 것이 파이썬의 철학입니다. 이것은 단순히 글자 몇개를 덜치자는 것이 아닙니다. {..}에 의한 Block 구분을 컴퓨터를 위한 것이고, 인덴테이션은 사람을 위한 것인데, 만약 우리는 인덴테이션으로 의미구분을 하면서 컴퓨터는 {..}로 의미구분을 하게되면 양자간에 오해가 생길 수 있습니다. 예컨대, C언어에서 같은 Block 내에 속하면서 자신이 인덴테이션을 틀리게 한 경우를 생각해 보죠. 잦은 실수입니다만, 쉽게 찾아내기 어렵습니다. 사람은 우선 인덴테이션에 의거해서 코드를 읽으려는 경향이 높기 때문입니다.\n",
    "\n",
    "http://no-smok.net/nsmk/PythonLanguage"
   ]
  },
  {
   "cell_type": "markdown",
   "metadata": {
    "slideshow": {
     "slide_type": "subslide"
    }
   },
   "source": [
    "에디터에서 space나 tab을 보이게 하는 옵션을 켜고 프로그래밍 하는 것이 좋습니다."
   ]
  },
  {
   "cell_type": "markdown",
   "metadata": {},
   "source": [
    "![title](img/python-indentation.png)"
   ]
  },
  {
   "cell_type": "markdown",
   "metadata": {},
   "source": [
    "다음 문장은 python으로 어떻게 porting할까요?\n",
    "```\n",
    "if (condition) {}\n",
    "while True {}\n",
    "function dummy() {}\n",
    "```"
   ]
  },
  {
   "cell_type": "markdown",
   "metadata": {},
   "source": [
    "python에서는 pass statement가 있습니다. 문법적인 조건을 충족시키기 위해 아무것도 하지 않는 문장임을 표시할 때 사용.\n",
    "```\n",
    "if condition:\n",
    "    pass\n",
    "while True:\n",
    "    pass\n",
    "def dummy():\n",
    "    pass\n",
    "```"
   ]
  },
  {
   "cell_type": "markdown",
   "metadata": {
    "slideshow": {
     "slide_type": "subslide"
    }
   },
   "source": [
    "### PYTHONIC? WAY OF CODING"
   ]
  },
  {
   "cell_type": "markdown",
   "metadata": {},
   "source": [
    "- *여러분이 이해하지 못하는 기능을 사용하는 개발자들을 총으로 쏴버리는 것이, 새로운 무언가를 배우는 것보다 쉽다. 그리고 그렇게 살아남은 프로그래머들은 이해하기 쉬운 python 0.9.6 버전의 일부 기능만을 사용할 것이다. -- zen of python의 저자.*\n",
    "- *Program must be written for people to read, and only incidentally for machines to execute. --Abelson & Sussman, SICP*\n",
    "- \n",
    "- JAVA, C 기존 legacy 언어에 익숙하다면, 내가 PYTHONIC하게 코드를 작성하고 있는가 고민해보면 좋습니다.\n",
    "- 외국어를 공부할때와 비슷합니다. 안녕, 얼마에요만 알아도 여행은 할 수 있지만, 그 나라 말을 더 다양하게 구사할 수 있다면, 여행이 더 풍성해지겠죠."
   ]
  },
  {
   "cell_type": "markdown",
   "metadata": {
    "slideshow": {
     "slide_type": "subslide"
    }
   },
   "source": [
    "IDIOMATIC PYTHON"
   ]
  },
  {
   "cell_type": "code",
   "execution_count": 10,
   "metadata": {
    "collapsed": false,
    "slideshow": {
     "slide_type": "fragment"
    }
   },
   "outputs": [
    {
     "name": "stdout",
     "output_type": "stream",
     "text": [
      "3 2\n"
     ]
    }
   ],
   "source": [
    "a = 2\n",
    "b = 3\n",
    "\n",
    "temp = a\n",
    "a = b\n",
    "b = temp\n",
    "print(a, b)"
   ]
  },
  {
   "cell_type": "code",
   "execution_count": 11,
   "metadata": {
    "collapsed": false,
    "slideshow": {
     "slide_type": "fragment"
    }
   },
   "outputs": [
    {
     "name": "stdout",
     "output_type": "stream",
     "text": [
      "3 2\n"
     ]
    }
   ],
   "source": [
    "a, b = 2, 3\n",
    "b, a = a, b\n",
    "print(a, b)"
   ]
  },
  {
   "cell_type": "markdown",
   "metadata": {
    "slideshow": {
     "slide_type": "subslide"
    }
   },
   "source": [
    "IDIOMATIC PYTHON"
   ]
  },
  {
   "cell_type": "code",
   "execution_count": 3,
   "metadata": {
    "collapsed": true
   },
   "outputs": [],
   "source": [
    "a = 2\n",
    "if a == 2 or a == 3 or a == 4:\n",
    "    pass"
   ]
  },
  {
   "cell_type": "code",
   "execution_count": 4,
   "metadata": {
    "collapsed": true
   },
   "outputs": [],
   "source": [
    "a = 2\n",
    "if a in (2, 3, 4):\n",
    "    pass"
   ]
  },
  {
   "cell_type": "markdown",
   "metadata": {
    "slideshow": {
     "slide_type": "subslide"
    }
   },
   "source": [
    "IDIOMATIC PYTHON"
   ]
  },
  {
   "cell_type": "code",
   "execution_count": 12,
   "metadata": {
    "collapsed": false,
    "slideshow": {
     "slide_type": "fragment"
    }
   },
   "outputs": [
    {
     "name": "stdout",
     "output_type": "stream",
     "text": [
      "55\n"
     ]
    }
   ],
   "source": [
    "sum_ = 0\n",
    "for i in range(11):\n",
    "    sum_ += i\n",
    "print(sum_)"
   ]
  },
  {
   "cell_type": "code",
   "execution_count": 13,
   "metadata": {
    "collapsed": false,
    "slideshow": {
     "slide_type": "fragment"
    }
   },
   "outputs": [
    {
     "data": {
      "text/plain": [
       "55"
      ]
     },
     "execution_count": 13,
     "metadata": {},
     "output_type": "execute_result"
    }
   ],
   "source": [
    "sum(range(11))"
   ]
  },
  {
   "cell_type": "markdown",
   "metadata": {
    "slideshow": {
     "slide_type": "slide"
    }
   },
   "source": [
    "## PYTHON 전문가가 되고 싶다면 "
   ]
  },
  {
   "cell_type": "markdown",
   "metadata": {},
   "source": [
    "There would be so many things, but things I can remind right now are:\n",
    "\n",
    "- Metaclasses and ABCs (including abc, numbers and collections)\n",
    "- Iterators and generators (including itertools)\n",
    "- Standardized distribution methods (distutils, setuptools, Distribute, pip, virtualenv, etc)\n",
    "- The Python Standard Library\n",
    "- De facto standard third party modules e.g. lxml for XML/HTML parsing, simplejson for JSON parsing/serialization, gevent for asynchronous IO/green threads\n",
    "- Documentation using Sphinx and reStructuredText\n",
    "- Differences between Python versions (e.g. 2.7 vs 3.2) and implementations (e.g. CPython vs Stackless Python)\n",
    "\n",
    "http://www.reddit.com/r/Python/comments/jb2pb/what_would_someone_have_to_know_to_be_classified/c2amuac"
   ]
  },
  {
   "cell_type": "markdown",
   "metadata": {
    "slideshow": {
     "slide_type": "subslide"
    }
   },
   "source": [
    "The Python Standard Library\n",
    "\n",
    "- 의외로 많은 것들이 이미 만들어져 있습니다.\n",
    "- 게다가 기본 탑재되어 있다는 것\n",
    "- __인터넷이 끊긴 서버__에서 만난 python"
   ]
  },
  {
   "cell_type": "markdown",
   "metadata": {
    "slideshow": {
     "slide_type": "subslide"
    }
   },
   "source": [
    "당신이 조금 더 부지런할 수 있다면 버전업되면서 나오는 언어의 NEW FEATURES를 살펴보는것도 좋겠습니다.\n",
    "\n",
    "- http://docs.python.org/whatsnew/2.7.html\n",
    "- http://docs.python.org/whatsnew/2.6.html\n",
    "- http://docs.python.org/whatsnew/2.5.html\n",
    "- http://docs.python.org/release/2.4.3/whatsnew/whatsnew24.html"
   ]
  },
  {
   "cell_type": "code",
   "execution_count": null,
   "metadata": {
    "collapsed": true,
    "slideshow": {
     "slide_type": "subslide"
    }
   },
   "outputs": [],
   "source": [
    "PYTHONIC하게 글을 쓰기 위해서는 다른 사람의 코드를 많이 읽어보는 것이 좋습니다."
   ]
  },
  {
   "cell_type": "code",
   "execution_count": null,
   "metadata": {
    "collapsed": true,
    "slideshow": {
     "slide_type": "subslide"
    }
   },
   "outputs": [],
   "source": [
    "수업에서 다루지 않을 것들.\n",
    "\n",
    "- Metaclass, ABCs\n",
    "  - 여러분이 framework를 개발/유지보수하지 않는 이상, 위 내용들은 만질 일이 거의 없습니다.\n",
    "- AsyncIO\n",
    "  - 난이도 자체가 있습니다. 스스로 공부해나가시길 바랍니다.\n"
   ]
  }
 ],
 "metadata": {
  "celltoolbar": "Slideshow",
  "kernelspec": {
   "display_name": "Python 3",
   "language": "python",
   "name": "python3"
  },
  "language_info": {
   "codemirror_mode": {
    "name": "ipython",
    "version": 3
   },
   "file_extension": ".py",
   "mimetype": "text/x-python",
   "name": "python",
   "nbconvert_exporter": "python",
   "pygments_lexer": "ipython3",
   "version": "3.6.0"
  }
 },
 "nbformat": 4,
 "nbformat_minor": 2
}
