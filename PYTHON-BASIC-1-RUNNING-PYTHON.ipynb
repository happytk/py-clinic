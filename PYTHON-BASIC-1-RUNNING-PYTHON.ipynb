{
 "cells": [
  {
   "cell_type": "markdown",
   "metadata": {
    "slideshow": {
     "slide_type": "slide"
    }
   },
   "source": [
    "## python 실행하기"
   ]
  },
  {
   "cell_type": "markdown",
   "metadata": {
    "slideshow": {
     "slide_type": "subslide"
    }
   },
   "source": [
    "실습환경은 jupyter를 권장하지만, 자유롭게 선택 가능합니다.\n",
    "- python\n",
    "```\n",
    "Python 3.6.0 |Anaconda 4.3.1 (64-bit)| (default, Dec 23 2016, 11:57:41) [MSC v.1900 64 bit (AMD64)] on win32\n",
    "Type \"help\", \"copyright\", \"credits\" or \"license\" for more information.\n",
    ">>>\n",
    "```\n",
    "- ipython\n",
    "- idle\n",
    "\n",
    "cmd에서 사용시 python실행경로 자체가 PATH에 잡혀있지 않아서 추가해주시면 됩니다. (편리합니다.)\n",
    " - c:\\python36; c:\\python36\\scripts (기본 python을 설치시에 한하여)"
   ]
  },
  {
   "cell_type": "markdown",
   "metadata": {
    "slideshow": {
     "slide_type": "subslide"
    }
   },
   "source": [
    "다양한 실행방법\n",
    "```\n",
    "python\n",
    "python file.py\n",
    "python -i file.py\n",
    "python -m json.tool\n",
    "python -c \"print('hi')\"\n",
    "```"
   ]
  },
  {
   "cell_type": "markdown",
   "metadata": {
    "slideshow": {
     "slide_type": "slide"
    }
   },
   "source": [
    "## CYCLE"
   ]
  },
  {
   "cell_type": "markdown",
   "metadata": {},
   "source": [
    "일반적인 개발패턴 : WRITE(EDIT) - COMPILE - RUN"
   ]
  },
  {
   "cell_type": "markdown",
   "metadata": {},
   "source": [
    "PYTHON 개발패턴 : WRITE(EDIT) - ~~COMPILE~~ - RUN (인터프리터 언어이기 때문에 컴파일이 필요없어요.)"
   ]
  },
  {
   "cell_type": "markdown",
   "metadata": {
    "slideshow": {
     "slide_type": "subslide"
    }
   },
   "source": [
    "프로그램 소스 파일을 pyc로 컴파일해두고 해당 bytecode를 수행해요.\n",
    "```\n",
    "MacBook-Pro-2:board happytk$ ls -al\n",
    "total 104\n",
    "drwxr-xr-x  14 happytk  staff   476 Mar 22 23:06 .\n",
    "drwxr-xr-x  19 happytk  staff   646 Mar 23 10:42 ..\n",
    "-rw-r--r--   1 happytk  staff   241 Mar 21 23:07 __init__.py\n",
    "-rw-r--r--   1 happytk  staff   480 Mar 21 23:13 __init__.pyc\n",
    "-rw-r--r--   1 happytk  staff   554 Mar 22 22:11 forms.py\n",
    "-rw-r--r--   1 happytk  staff  1068 Mar 22 22:12 forms.pyc\n",
    "-rw-r--r--   1 happytk  staff  3139 Mar 22 23:06 models.py\n",
    "-rw-r--r--   1 happytk  staff  4941 Mar 22 23:06 models.pyc\n",
    "-rw-r--r--   1 happytk  staff   757 Mar 22 19:48 signals.py\n",
    "-rw-r--r--   1 happytk  staff  1049 Mar 22 22:12 signals.pyc\n",
    "drwxr-xr-x   3 happytk  staff   102 Mar 21 23:07 templates\n",
    "-rw-r--r--   1 happytk  staff  7021 Mar 22 21:49 views.py\n",
    "-rw-r--r--   1 happytk  staff  6510 Mar 22 22:12 views.pyc\n",
    "MacBook-Pro-2:board happytk$ \n",
    "```"
   ]
  },
  {
   "cell_type": "code",
   "execution_count": 4,
   "metadata": {
    "slideshow": {
     "slide_type": "subslide"
    }
   },
   "outputs": [
    {
     "name": "stdout",
     "output_type": "stream",
     "text": [
      "world\n",
      " 99           0 LOAD_GLOBAL              0 (compile)\n",
      "              2 LOAD_FAST                1 (source)\n",
      "              4 LOAD_FAST                2 (filename)\n",
      "              6 LOAD_FAST                3 (symbol)\n",
      "              8 LOAD_FAST                0 (self)\n",
      "             10 LOAD_ATTR                1 (flags)\n",
      "             12 LOAD_GLOBAL              2 (PyCF_ONLY_AST)\n",
      "             14 BINARY_OR\n",
      "             16 LOAD_CONST               1 (1)\n",
      "    -->      18 CALL_FUNCTION            5\n",
      "             20 RETURN_VALUE\n"
     ]
    }
   ],
   "source": [
    "def hello():\n",
    "    print('world')\n",
    "\n",
    "import dis\n",
    "dis.dis(hello())"
   ]
  },
  {
   "cell_type": "markdown",
   "metadata": {
    "slideshow": {
     "slide_type": "slide"
    }
   },
   "source": [
    "## 개발도구들 (대장은 없습니다.)"
   ]
  },
  {
   "cell_type": "markdown",
   "metadata": {
    "slideshow": {
     "slide_type": "subslide"
    }
   },
   "source": [
    "- sublimetext https://www.sublimetext.com\n",
    "- PyCharm https://www.jetbrains.com/pycharm/\n",
    "- Atom https://atom.io\n",
    "- Idle\n",
    "- 메모장, 다양한 편집도구들\n",
    "- Jupyter에서 만든 문서를 python 파일로 export할 수도 있습니다. http://ljs93kr.tistory.com/51"
   ]
  },
  {
   "cell_type": "markdown",
   "metadata": {
    "slideshow": {
     "slide_type": "slide"
    }
   },
   "source": [
    "## 인터프리터를 실행 후에는 무얼 하나요"
   ]
  },
  {
   "cell_type": "markdown",
   "metadata": {
    "slideshow": {
     "slide_type": "subslide"
    }
   },
   "source": [
    "- **코드를 즉시 작성하거나, 궁금한 것을 실험하세요.**\n",
    "- Use the **help** function to read the documentation for a module/class/function.\n",
    "- Use the **dir** functino to list contents of the namespace, or attributes fo an object if you pass one in.\n",
    "- **그 다음에 나의 개발도구에서 code를 작성하세요.**"
   ]
  },
  {
   "cell_type": "code",
   "execution_count": 5,
   "metadata": {
    "slideshow": {
     "slide_type": "subslide"
    }
   },
   "outputs": [
    {
     "name": "stdout",
     "output_type": "stream",
     "text": [
      "Help on built-in function print in module builtins:\n",
      "\n",
      "print(...)\n",
      "    print(value, ..., sep=' ', end='\\n', file=sys.stdout, flush=False)\n",
      "    \n",
      "    Prints the values to a stream, or to sys.stdout by default.\n",
      "    Optional keyword arguments:\n",
      "    file:  a file-like object (stream); defaults to the current sys.stdout.\n",
      "    sep:   string inserted between values, default a space.\n",
      "    end:   string appended after the last value, default a newline.\n",
      "    flush: whether to forcibly flush the stream.\n",
      "\n"
     ]
    }
   ],
   "source": [
    "# 유용한 함수 - help\n",
    "help(print)"
   ]
  },
  {
   "cell_type": "code",
   "execution_count": 5,
   "metadata": {
    "slideshow": {
     "slide_type": "subslide"
    }
   },
   "outputs": [
    {
     "data": {
      "text/plain": [
       "'STRING'"
      ]
     },
     "execution_count": 5,
     "metadata": {},
     "output_type": "execute_result"
    }
   ],
   "source": [
    "# 유용한 함수 - dir\n",
    "# 모듈이나 객체의 내부 속성들을 살펴볼 수 있습니다.\n",
    "\"string\".upper()"
   ]
  },
  {
   "cell_type": "markdown",
   "metadata": {
    "slideshow": {
     "slide_type": "slide"
    }
   },
   "source": [
    "## 프로그램 작성 규칙\n",
    "*Naming Rule*"
   ]
  },
  {
   "cell_type": "markdown",
   "metadata": {
    "slideshow": {
     "slide_type": "subslide"
    }
   },
   "source": [
    "**PEP8: Style Guide for Python Code**을 따르는 것을 권장합니다.\n",
    "\n",
    "- 상수는 대문자\n",
    "- 클래스명은 CamelCase\n",
    "- 변수와 함수는 `_`으로 구분된 단어의 조합\n",
    "- `_` 한 글자는 dummy 변수를 표현할 때 사용합니다. (다국어모듈에서도 사용합니다.)\n",
    "- `_`로 시작하는 이름은 외부에 노출하고 싶지 않을때 사용합니다. (클래스, 모듈의 private의미, 등)\n",
    "- `__`로 시작하는 이름은 가급적 사용하지 않습니다. (python의 예약어들이 많습니다.)"
   ]
  },
  {
   "cell_type": "markdown",
   "metadata": {
    "slideshow": {
     "slide_type": "subslide"
    }
   },
   "source": [
    "## Indentation\n",
    "*이것때문에 종종 피곤합니다.*"
   ]
  },
  {
   "cell_type": "markdown",
   "metadata": {
    "slideshow": {
     "slide_type": "subslide"
    }
   },
   "source": [
    "- python의 코드는 탭 혹은 스페이스를 이용해서 들여쓰기를 합니다.\n",
    "- 다른 언어와 다르게 들여쓰기 자체가 **문법**입니다.\n",
    "- 들여쓰기 자체가 **강제된 문법**을 사용합니다."
   ]
  },
  {
   "cell_type": "code",
   "execution_count": 9,
   "metadata": {
    "collapsed": true
   },
   "outputs": [],
   "source": [
    "def hello():\n",
    "    print('world')\n",
    "    if True:\n",
    "        print('hello')"
   ]
  },
  {
   "cell_type": "markdown",
   "metadata": {
    "slideshow": {
     "slide_type": "subslide"
    }
   },
   "source": [
    "> 그리고 인덴테이션으로 Block 구분을 하는 것은 \"인간중심적\"이기 때문입니다. 사실 아무리 {..}로 Block 구분을 하게 되어 있다고 해도, 사람들은 인덴테이션을 적용해서 \"읽기 좋게\" 만듭니다. 왜냐하면 우리가 고차원 프로그래밍 언어를 사용하는 가장 큰 이유가 \"인간\"이 다루기 좋게 하려는 것이기 때문이죠.\n",
    "> 예컨대 다음과 같은 코드는 문법적으로 의미론적으로 문제가 없으나 그렇게 포맷팅하지 않죠.\n",
    "\n",
    "```\n",
    "for (i.First(); !i.IsDone(); i.Next()) {i.CurrentItem()->Accept(v);if hadEnough()\n",
    "doSomethingPlease();orI\n",
    "mayGoMad();}ThereFore();Finally();\n",
    "```"
   ]
  },
  {
   "cell_type": "markdown",
   "metadata": {
    "slideshow": {
     "slide_type": "subslide"
    }
   },
   "source": [
    "http://no-smok.net/nsmk/PythonLanguage\n",
    "> 그런데, 어차피 인덴테이션을 할 것이라면 중복되게 {..}를 치는 노력을 하지 말고 그냥 인덴테이션 그것으로 Block 구분을 하자는 것이 파이썬의 철학입니다. 이것은 단순히 글자 몇개를 덜치자는 것이 아닙니다. {..}에 의한 Block 구분을 컴퓨터를 위한 것이고, 인덴테이션은 사람을 위한 것인데, 만약 우리는 인덴테이션으로 의미구분을 하면서 컴퓨터는 {..}로 의미구분을 하게되면 양자간에 오해가 생길 수 있습니다. 예컨대, C언어에서 같은 Block 내에 속하면서 자신이 인덴테이션을 틀리게 한 경우를 생각해 보죠. 잦은 실수입니다만, 쉽게 찾아내기 어렵습니다. 사람은 우선 인덴테이션에 의거해서 코드를 읽으려는 경향이 높기 때문입니다.\n",
    "\n",
    "```\n",
    "if (condition1) \n",
    "    if (condition2)\n",
    "        printf(\"helloworld\\n\");\n",
    "else\n",
    "    printf(\"goodbye-c\\n\");\n",
    "```"
   ]
  },
  {
   "cell_type": "markdown",
   "metadata": {
    "slideshow": {
     "slide_type": "subslide"
    }
   },
   "source": [
    "에디터에서 space나 tab을 보이게 하는 옵션을 켜고 프로그래밍 하는 것이 좋습니다.\n",
    "- tab -> space 강제변환과 같은 옵션을 사용하기도 합니다."
   ]
  },
  {
   "cell_type": "markdown",
   "metadata": {
    "slideshow": {
     "slide_type": "subslide"
    }
   },
   "source": [
    "![title](img/python-indentation.png)"
   ]
  },
  {
   "cell_type": "markdown",
   "metadata": {
    "slideshow": {
     "slide_type": "subslide"
    }
   },
   "source": [
    "다음 문장은 python으로 어떻게 porting할까요?\n",
    "```\n",
    "if (condition) {}\n",
    "while True {}\n",
    "function dummy() {}\n",
    "```"
   ]
  },
  {
   "cell_type": "markdown",
   "metadata": {
    "slideshow": {
     "slide_type": "subslide"
    }
   },
   "source": [
    "python에서는 **pass** statement가 있습니다. 문법을 충족시키기 위해 아무것도 하지 않는 문장임을 표시할 때 사용합니다.\n",
    "```\n",
    "if condition:\n",
    "    pass\n",
    "while True:\n",
    "    pass\n",
    "def dummy():\n",
    "    # 주석은 의미있는 statement로 대체될 수 없습니다.\n",
    "    pass\n",
    "```"
   ]
  },
  {
   "cell_type": "markdown",
   "metadata": {
    "slideshow": {
     "slide_type": "slide"
    }
   },
   "source": [
    "### PYTHONIC? WAY OF CODING"
   ]
  },
  {
   "cell_type": "markdown",
   "metadata": {
    "slideshow": {
     "slide_type": "subslide"
    }
   },
   "source": [
    "- *여러분이 이해하지 못하는 기능을 사용하는 개발자들을 총으로 쏴버리는 것이, 새로운 무언가를 배우는 것보다 쉽다. 그리고 그렇게 살아남은 프로그래머들은 이해하기 쉬운 python 0.9.6 버전의 일부 기능만을 사용할 것이다. -- zen of python의 저자.*\n",
    "- *Program must be written for people to read, and only incidentally for machines to execute. --Abelson & Sussman, SICP*\n",
    "\n",
    "- JAVA, C 기존 legacy 언어에 익숙하다면, 내가 PYTHONIC하게 코드를 작성하고 있는가 고민해보면 좋습니다.\n",
    "- 외국어를 공부할때와 비슷합니다. 안녕, 얼마에요만 알아도 여행은 할 수 있지만, 그 나라 말을 더 다양하게 구사할 수 있다면, 여행이 더 풍성해지겠죠."
   ]
  },
  {
   "cell_type": "markdown",
   "metadata": {
    "slideshow": {
     "slide_type": "subslide"
    }
   },
   "source": [
    "IDIOMATIC PYTHON"
   ]
  },
  {
   "cell_type": "code",
   "execution_count": 10,
   "metadata": {
    "slideshow": {
     "slide_type": "fragment"
    }
   },
   "outputs": [
    {
     "name": "stdout",
     "output_type": "stream",
     "text": [
      "3 2\n"
     ]
    }
   ],
   "source": [
    "a = 2\n",
    "b = 3\n",
    "\n",
    "temp = a\n",
    "a = b\n",
    "b = temp\n",
    "print(a, b)"
   ]
  },
  {
   "cell_type": "code",
   "execution_count": 11,
   "metadata": {
    "slideshow": {
     "slide_type": "fragment"
    }
   },
   "outputs": [
    {
     "name": "stdout",
     "output_type": "stream",
     "text": [
      "3 2\n"
     ]
    }
   ],
   "source": [
    "a, b = 2, 3\n",
    "b, a = a, b\n",
    "print(a, b)"
   ]
  },
  {
   "cell_type": "markdown",
   "metadata": {
    "slideshow": {
     "slide_type": "subslide"
    }
   },
   "source": [
    "IDIOMATIC PYTHON"
   ]
  },
  {
   "cell_type": "code",
   "execution_count": 3,
   "metadata": {
    "collapsed": true
   },
   "outputs": [],
   "source": [
    "a = 2\n",
    "if a == 2 or a == 3 or a == 4:\n",
    "    pass"
   ]
  },
  {
   "cell_type": "code",
   "execution_count": 4,
   "metadata": {
    "collapsed": true
   },
   "outputs": [],
   "source": [
    "a = 2\n",
    "if a in (2, 3, 4):\n",
    "    pass"
   ]
  },
  {
   "cell_type": "markdown",
   "metadata": {
    "slideshow": {
     "slide_type": "subslide"
    }
   },
   "source": [
    "IDIOMATIC PYTHON"
   ]
  },
  {
   "cell_type": "code",
   "execution_count": 12,
   "metadata": {
    "slideshow": {
     "slide_type": "fragment"
    }
   },
   "outputs": [
    {
     "name": "stdout",
     "output_type": "stream",
     "text": [
      "55\n"
     ]
    }
   ],
   "source": [
    "sum_ = 0\n",
    "for i in range(11):\n",
    "    sum_ += i\n",
    "print(sum_)"
   ]
  },
  {
   "cell_type": "code",
   "execution_count": 1,
   "metadata": {
    "slideshow": {
     "slide_type": "fragment"
    }
   },
   "outputs": [
    {
     "data": {
      "text/plain": [
       "55"
      ]
     },
     "execution_count": 1,
     "metadata": {},
     "output_type": "execute_result"
    }
   ],
   "source": [
    "sum(range(11))"
   ]
  },
  {
   "cell_type": "markdown",
   "metadata": {
    "slideshow": {
     "slide_type": "subslide"
    }
   },
   "source": [
    "**그 외에도 많습니다!** 차차 배워갈 수도 있고, 시간이 남으면 더 소개하도록 하겠습니다."
   ]
  },
  {
   "cell_type": "markdown",
   "metadata": {
    "slideshow": {
     "slide_type": "slide"
    }
   },
   "source": [
    "## PYTHON 전문가가 되고 싶다면?"
   ]
  },
  {
   "cell_type": "markdown",
   "metadata": {
    "slideshow": {
     "slide_type": "subslide"
    }
   },
   "source": [
    "There would be so many things, but things I can remind right now are:\n",
    "\n",
    "- Metaclasses and ABCs (including abc, numbers and collections)\n",
    "- Iterators and generators (including itertools)\n",
    "- Standardized distribution methods (distutils, setuptools, Distribute, pip, virtualenv, etc)\n",
    "- The Python Standard Library\n",
    "- De facto standard third party modules e.g. lxml for XML/HTML parsing, simplejson for JSON parsing/serialization, gevent for asynchronous IO/green threads\n",
    "- Documentation using Sphinx and reStructuredText\n",
    "- Differences between Python versions (e.g. 2.7 vs 3.2) and implementations (e.g. CPython vs Stackless Python)\n",
    "\n",
    "http://www.reddit.com/r/Python/comments/jb2pb/what_would_someone_have_to_know_to_be_classified/c2amuac"
   ]
  },
  {
   "cell_type": "markdown",
   "metadata": {
    "slideshow": {
     "slide_type": "subslide"
    }
   },
   "source": [
    "The Python Standard Library을 잘 다룰 수 있으면 좋아요.\n",
    "\n",
    "- 의외로 많은 것들이 이미 만들어져 있습니다.\n",
    "- 게다가 기본 탑재되어 있다는 것"
   ]
  },
  {
   "cell_type": "markdown",
   "metadata": {
    "slideshow": {
     "slide_type": "subslide"
    }
   },
   "source": [
    "TREND를 놓치지 않는 센스. 버전업되면서 나오는 언어의 NEW FEATURES를 살펴보는것은 좋습니다.\n",
    "\n",
    "- http://docs.python.org/whatsnew/2.7.html\n",
    "- http://docs.python.org/whatsnew/2.6.html\n",
    "- http://docs.python.org/whatsnew/2.5.html\n",
    "- http://docs.python.org/release/2.4.3/whatsnew/whatsnew24.html"
   ]
  },
  {
   "cell_type": "markdown",
   "metadata": {
    "collapsed": true,
    "slideshow": {
     "slide_type": "subslide"
    }
   },
   "source": [
    "PYTHONIC하게 글을 쓰기 위해서는 **다른 사람의 코드를 많이 읽어보는 것이 좋습니다.**\n",
    "\n",
    "> “책 만 권을 읽으면 신들린 듯이 쓸 수 있다(讀書破萬卷 下筆如有神).”"
   ]
  },
  {
   "cell_type": "markdown",
   "metadata": {
    "collapsed": true,
    "slideshow": {
     "slide_type": "subslide"
    }
   },
   "source": [
    "수업에서 다루지 않을 것 같지만, 추후 공부해보면 좋을 주제들.\n",
    "\n",
    "- Coroutine\n",
    "- Metaclass, ABCs\n",
    "  - 여러분이 framework를 개발/유지보수하지 않는 이상, 위 내용들은 만질 일이 거의 없습니다.\n",
    "- AsyncIO\n",
    "  - 활발하게 Python3에서 개선되고 있는 주제입니다.\n"
   ]
  }
 ],
 "metadata": {
  "celltoolbar": "Slideshow",
  "kernelspec": {
   "display_name": "Python 3",
   "language": "python",
   "name": "python3"
  },
  "language_info": {
   "codemirror_mode": {
    "name": "ipython",
    "version": 3
   },
   "file_extension": ".py",
   "mimetype": "text/x-python",
   "name": "python",
   "nbconvert_exporter": "python",
   "pygments_lexer": "ipython3",
   "version": "3.6.1"
  }
 },
 "nbformat": 4,
 "nbformat_minor": 2
}
