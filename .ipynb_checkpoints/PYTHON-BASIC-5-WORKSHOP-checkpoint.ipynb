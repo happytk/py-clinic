{
 "cells": [
  {
   "cell_type": "markdown",
   "metadata": {},
   "source": [
    "**(WORKSHOP)**\n",
    "\n",
    "\n",
    "**10명의 학생이 있습니다. (joe, park, kang, bae, jung, she, khan, seo, lee, kim)**\n",
    "\n",
    "**10명의 학생에게 random하게 학점(A-F)을 부여합니다.**\n",
    "```\n",
    "joe -> A\n",
    "park -> B\n",
    "kang -> C\n",
    "...\n",
    "```\n",
    "\n",
    "**학점별로 학생들을 분류한 후,**\n",
    "```\n",
    "A -> joe, lee, khan\n",
    "B -> she, park\n",
    "..\n",
    "```\n",
    "\n",
    "**최고학점부터 출력, 학생의 이름도 정렬하여 출력해주세요.**\n",
    "```\n",
    "A -> joe, khan, lee\n",
    "B -> park, she\n",
    "\n",
    "..\n",
    "```"
   ]
  },
  {
   "cell_type": "markdown",
   "metadata": {},
   "source": [
    "**(WORKSHOP)**\n",
    "\n",
    "c:\\windows\\system32 디렉토리 안에 있는 dll파일들을 목록으로 만든 후,\n",
    "\n",
    "일괄로 소문자로 재처리한 다음에,\n",
    "\n",
    "크기별로 정렬해서 제일 큰 사이즈 10개를 출력\n",
    "\n",
    "파일이름의 앞자리2개를 약어로 분류해서 가장 개수가 많은 약어이름 10개를 출력"
   ]
  },
  {
   "cell_type": "code",
   "execution_count": 31,
   "metadata": {
    "collapsed": false
   },
   "outputs": [
    {
     "name": "stdout",
     "output_type": "stream",
     "text": [
      "('c:\\\\windows\\\\system32\\\\maxxvoiceapo4064.dll', 12834736)\n",
      "('c:\\\\windows\\\\system32\\\\maxxvoiceapo3064.dll', 12975360)\n",
      "('c:\\\\windows\\\\system32\\\\maxxaudiorealtek64.dll', 14048512)\n",
      "('c:\\\\windows\\\\system32\\\\shell32.dll', 14183424)\n",
      "('c:\\\\windows\\\\system32\\\\wmp.dll', 14632960)\n",
      "('c:\\\\windows\\\\system32\\\\mshtml.dll', 17892352)\n",
      "('c:\\\\windows\\\\system32\\\\igdumdim64.dll', 19380224)\n",
      "('c:\\\\windows\\\\system32\\\\imageres.dll', 20268032)\n",
      "('c:\\\\windows\\\\system32\\\\igd10iumd64.dll', 21088256)\n",
      "('c:\\\\windows\\\\system32\\\\igdfcl64.dll', 25971712)\n"
     ]
    }
   ],
   "source": [
    "import glob\n",
    "basedir = 'c:\\\\windows\\\\system32'\n",
    "files = [\n",
    "    (file.lower(), os.path.getsize(file)) for file in glob.glob(os.path.join(basedir, '*.dll'))\n",
    "]\n",
    "for entry in sorted(files, key=lambda x:x[1])[-10:]:\n",
    "    print(entry)"
   ]
  },
  {
   "cell_type": "code",
   "execution_count": 38,
   "metadata": {
    "collapsed": false
   },
   "outputs": [
    {
     "data": {
      "text/plain": [
       "[('kb', 166),\n",
       " ('ms', 114),\n",
       " ('nl', 88),\n",
       " ('mf', 81),\n",
       " ('ap', 80),\n",
       " ('wi', 41),\n",
       " ('wm', 38),\n",
       " ('ws', 33),\n",
       " ('ne', 27),\n",
       " ('se', 26)]"
      ]
     },
     "execution_count": 38,
     "metadata": {},
     "output_type": "execute_result"
    }
   ],
   "source": [
    "import glob\n",
    "basedir = 'c:\\\\windows\\\\system32'\n",
    "files = [\n",
    "    os.path.split(file)[1].lower()[:2] for file in glob.glob(os.path.join(basedir, '*.dll'))\n",
    "]\n",
    "from collections import Counter\n",
    "Counter(files).most_common(10)"
   ]
  }
 ],
 "metadata": {
  "kernelspec": {
   "display_name": "Python 3",
   "language": "python",
   "name": "python3"
  },
  "language_info": {
   "codemirror_mode": {
    "name": "ipython",
    "version": 3
   },
   "file_extension": ".py",
   "mimetype": "text/x-python",
   "name": "python",
   "nbconvert_exporter": "python",
   "pygments_lexer": "ipython3",
   "version": "3.6.0"
  }
 },
 "nbformat": 4,
 "nbformat_minor": 2
}
