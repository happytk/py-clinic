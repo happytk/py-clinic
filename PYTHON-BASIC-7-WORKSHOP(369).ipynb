{
 "cells": [
  {
   "cell_type": "markdown",
   "metadata": {},
   "source": [
    "**WORKSHOP**\n",
    "\n",
    "1-100까지 숫자에 대해서 369게임을 만들어봅시다.\n",
    "\n",
    "출력형식은 1,2,CLAP,4,5,CLAP,7,8,CLAP .... ,CLAP, CLAPCLAP, 100"
   ]
  },
  {
   "cell_type": "code",
   "execution_count": null,
   "metadata": {
    "collapsed": true
   },
   "outputs": [],
   "source": [
    "for number in range(1, 101):\n",
    "    ret = []\n",
    "    for numstr in str(number):\n",
    "        if numstr in '369':\n",
    "            ret.append('clap')\n",
    "\n",
    "    if ret:\n",
    "        print(''.join(ret))\n",
    "    else:\n",
    "        print(number)"
   ]
  },
  {
   "cell_type": "code",
   "execution_count": null,
   "metadata": {},
   "outputs": [],
   "source": [
    "[''.join(['clap' for numstr in str(number) if numstr in '369']) or number for number in range(1, 101)]"
   ]
  }
 ],
 "metadata": {
  "kernelspec": {
   "display_name": "Python 3",
   "language": "python",
   "name": "python3"
  },
  "language_info": {
   "codemirror_mode": {
    "name": "ipython",
    "version": 3
   },
   "file_extension": ".py",
   "mimetype": "text/x-python",
   "name": "python",
   "nbconvert_exporter": "python",
   "pygments_lexer": "ipython3",
   "version": "3.6.1"
  }
 },
 "nbformat": 4,
 "nbformat_minor": 2
}
