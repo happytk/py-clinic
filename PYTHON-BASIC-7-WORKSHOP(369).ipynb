{
 "cells": [
  {
   "cell_type": "markdown",
   "metadata": {
    "slideshow": {
     "slide_type": "slide"
    }
   },
   "source": [
    "**WORKSHOP**\n",
    "\n",
    "1-100까지 숫자에 대해서 369게임을 만들어봅시다.\n",
    "\n",
    "출력형식은 1,2,CLAP,4,5,CLAP,7,8,CLAP .... ,CLAP, CLAPCLAP, 100"
   ]
  }
 ],
 "metadata": {
  "celltoolbar": "Slideshow",
  "kernelspec": {
   "display_name": "Python 3",
   "language": "python",
   "name": "python3"
  },
  "language_info": {
   "codemirror_mode": {
    "name": "ipython",
    "version": 3
   },
   "file_extension": ".py",
   "mimetype": "text/x-python",
   "name": "python",
   "nbconvert_exporter": "python",
   "pygments_lexer": "ipython3",
   "version": "3.6.1"
  }
 },
 "nbformat": 4,
 "nbformat_minor": 2
}
