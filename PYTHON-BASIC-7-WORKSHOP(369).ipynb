{
 "cells": [
  {
   "cell_type": "markdown",
   "metadata": {},
   "source": [
    "**WORKSHOP**\n",
    "\n",
    "1-100까지 숫자에 대해서 369게임을 만들어봅시다.\n",
    "출력형식은 1,2,CLAP,4,5,CLAP,7,8,CLAP .... ,CLAP, CLAPCLAP, 100"
   ]
  },
  {
   "cell_type": "code",
   "execution_count": null,
   "metadata": {
    "collapsed": true
   },
   "outputs": [],
   "source": [
    "for i in range(30,101):\n",
    "    ret = ''\n",
    "    for is_369 in str(i):\n",
    "        if is_369 in '369':\n",
    "            ret += 'clap'\n",
    "\n",
    "    if ret:\n",
    "        print(ret)\n",
    "    else:\n",
    "        print(i)"
   ]
  },
  {
   "cell_type": "code",
   "execution_count": 11,
   "metadata": {
    "collapsed": false
   },
   "outputs": [
    {
     "name": "stdout",
     "output_type": "stream",
     "text": [
      "clap\n",
      "clap\n",
      "clap\n",
      "clapclap\n",
      "clap\n",
      "clap\n",
      "clapclap\n",
      "clap\n",
      "clap\n",
      "clapclap\n",
      "40\n",
      "41\n",
      "42\n",
      "clap\n",
      "44\n",
      "45\n",
      "clap\n",
      "47\n",
      "48\n",
      "clap\n",
      "50\n",
      "51\n",
      "52\n",
      "clap\n",
      "54\n",
      "55\n",
      "clap\n",
      "57\n",
      "58\n",
      "clap\n",
      "clap\n",
      "clap\n",
      "clap\n",
      "clapclap\n",
      "clap\n",
      "clap\n",
      "clapclap\n",
      "clap\n",
      "clap\n",
      "clapclap\n",
      "70\n",
      "71\n",
      "72\n",
      "clap\n",
      "74\n",
      "75\n",
      "clap\n",
      "77\n",
      "78\n",
      "clap\n",
      "80\n",
      "81\n",
      "82\n",
      "clap\n",
      "84\n",
      "85\n",
      "clap\n",
      "87\n",
      "88\n",
      "clap\n",
      "clap\n",
      "clap\n",
      "clap\n",
      "clapclap\n",
      "clap\n",
      "clap\n",
      "clapclap\n",
      "clap\n",
      "clap\n",
      "clapclap\n",
      "100\n"
     ]
    }
   ],
   "source": [
    "for i in range(30,101): print(''.join(['clap' for is_369 in str(i) if is_369 in '369']) or i)"
   ]
  }
 ],
 "metadata": {
  "kernelspec": {
   "display_name": "Python 3",
   "language": "python",
   "name": "python3"
  },
  "language_info": {
   "codemirror_mode": {
    "name": "ipython",
    "version": 3
   },
   "file_extension": ".py",
   "mimetype": "text/x-python",
   "name": "python",
   "nbconvert_exporter": "python",
   "pygments_lexer": "ipython3",
   "version": "3.6.0"
  }
 },
 "nbformat": 4,
 "nbformat_minor": 2
}
