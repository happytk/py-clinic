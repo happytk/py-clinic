{
 "cells": [
  {
   "cell_type": "markdown",
   "metadata": {
    "collapsed": true
   },
   "source": [
    "https://pypi.python.org/pypi/Flask/0.12.2/json\n",
    "\n",
    "json데이터를 받아서 releases정보를 정렬해보세요.\n",
    "그리고 마지막 release와 최초 release 버전 정보를 출력하는 스크립트를 작성해보세요."
   ]
  },
  {
   "cell_type": "code",
   "execution_count": 26,
   "metadata": {},
   "outputs": [
    {
     "data": {
      "text/plain": [
       "(('0.1', datetime.datetime(2010, 4, 16, 14, 29, 37)),\n",
       " ('0.12.2', datetime.datetime(2017, 5, 16, 6, 39, 38)))"
      ]
     },
     "execution_count": 26,
     "metadata": {},
     "output_type": "execute_result"
    }
   ],
   "source": [
    "from urllib.request import urlopen\n",
    "from datetime import datetime\n",
    "import json\n",
    "f = urlopen('https://pypi.python.org/pypi/Flask/0.12.2/json')\n",
    "d = json.load(f)\n",
    "releases = d['releases']\n",
    "\n",
    "result = []\n",
    "for version, version_info in releases.items():\n",
    "    upload_time = version_info[0]['upload_time']\n",
    "    dt = datetime.strptime(upload_time, '%Y-%m-%dT%H:%M:%S')\n",
    "    result.append((version, dt))\n",
    "result = sorted(result, key=lambda x: x[1])\n",
    "result[0], result[-1]"
   ]
  },
  {
   "cell_type": "code",
   "execution_count": 17,
   "metadata": {},
   "outputs": [
    {
     "data": {
      "text/plain": [
       "('0.9', '2012-07-01T13:12:50')"
      ]
     },
     "execution_count": 17,
     "metadata": {},
     "output_type": "execute_result"
    }
   ],
   "source": [
    "'0.9', releases['0.9'][0]['upload_time']"
   ]
  }
 ],
 "metadata": {
  "kernelspec": {
   "display_name": "Python 3",
   "language": "python",
   "name": "python3"
  },
  "language_info": {
   "codemirror_mode": {
    "name": "ipython",
    "version": 3
   },
   "file_extension": ".py",
   "mimetype": "text/x-python",
   "name": "python",
   "nbconvert_exporter": "python",
   "pygments_lexer": "ipython3",
   "version": "3.6.1"
  }
 },
 "nbformat": 4,
 "nbformat_minor": 2
}
