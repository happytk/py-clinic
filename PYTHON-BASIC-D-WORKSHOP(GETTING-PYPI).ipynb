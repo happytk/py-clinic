{
 "cells": [
  {
   "cell_type": "markdown",
   "metadata": {
    "collapsed": true
   },
   "source": [
    "https://pypi.python.org/pypi/Flask/0.12.2/json\n",
    "\n",
    "json데이터를 받아서 마지막 release와 최초 release 버전 정보를 출력하는 스크립트를 작성해보세요."
   ]
  },
  {
   "cell_type": "code",
   "execution_count": 7,
   "metadata": {},
   "outputs": [
    {
     "data": {
      "text/plain": [
       "['JSONDecodeError',\n",
       " 'JSONDecoder',\n",
       " 'JSONEncoder',\n",
       " '__all__',\n",
       " '__author__',\n",
       " '__builtins__',\n",
       " '__cached__',\n",
       " '__doc__',\n",
       " '__file__',\n",
       " '__loader__',\n",
       " '__name__',\n",
       " '__package__',\n",
       " '__path__',\n",
       " '__spec__',\n",
       " '__version__',\n",
       " '_default_decoder',\n",
       " '_default_encoder',\n",
       " 'codecs',\n",
       " 'decoder',\n",
       " 'detect_encoding',\n",
       " 'dump',\n",
       " 'dumps',\n",
       " 'encoder',\n",
       " 'load',\n",
       " 'loads',\n",
       " 'scanner']"
      ]
     },
     "execution_count": 7,
     "metadata": {},
     "output_type": "execute_result"
    }
   ],
   "source": [
    "import json\n",
    "dir(json)"
   ]
  },
  {
   "cell_type": "code",
   "execution_count": 25,
   "metadata": {},
   "outputs": [
    {
     "name": "stdout",
     "output_type": "stream",
     "text": [
      "0.12.2\n",
      "0.9 2012-07-01T13:12:50\n",
      "0.8 2011-09-29T23:34:21\n",
      "0.1 2010-04-16T14:29:37\n",
      "0.3 2010-05-28T01:24:37\n",
      "0.2 2010-05-12T01:31:26\n",
      "0.5 2010-07-06T16:28:02\n",
      "0.4 2010-06-18T17:14:06\n",
      "0.7 2011-06-28T16:06:18\n",
      "0.6 2010-07-27T14:39:13\n",
      "0.10.1 2013-06-14T08:54:19\n",
      "0.6.1 2010-12-31T15:23:05\n",
      "0.3.1 2010-05-28T21:23:15\n",
      "0.7.2 2011-07-06T10:19:39\n",
      "0.11.1 2016-06-07T16:25:21\n",
      "0.7.1 2011-06-29T18:37:29\n",
      "0.12.2 2017-05-16T06:39:38\n",
      "0.12.1 2017-03-31T16:43:41\n",
      "0.5.1 2010-07-06T19:25:37\n",
      "0.5.2 2010-07-15T20:02:56\n",
      "0.8.1 2012-07-01T13:08:59\n",
      "0.11 2016-05-29T09:02:35\n",
      "0.10 2013-06-13T08:35:51\n",
      "0.12 2016-12-21T20:22:15\n"
     ]
    }
   ],
   "source": [
    "from urllib.request import urlopen\n",
    "import json\n",
    "flask_info = json.load(urlopen('https://pypi.python.org/pypi/Flask/0.12.2/json'))\n",
    "\n",
    "from pprint import pprint\n",
    "print(flask_info['info']['version'])\n",
    "\n",
    "releases = flask_info['releases']\n",
    "for version, version_info in releases.items():\n",
    "    print(version, version_info[0]['upload_time'])"
   ]
  },
  {
   "cell_type": "code",
   "execution_count": null,
   "metadata": {
    "collapsed": true
   },
   "outputs": [],
   "source": [
    "from datetime import datetime\n",
    "\n",
    "result = []\n",
    "for version, version_info in releases.items():\n",
    "    result.append((datetime.strptime(version_info[0]['upload_time'], '%Y-%m-%dT%H:%M:%S'), version))"
   ]
  },
  {
   "cell_type": "code",
   "execution_count": null,
   "metadata": {
    "collapsed": true
   },
   "outputs": [],
   "source": [
    "result.sort()"
   ]
  },
  {
   "cell_type": "code",
   "execution_count": 38,
   "metadata": {},
   "outputs": [
    {
     "data": {
      "text/plain": [
       "'0.12.2'"
      ]
     },
     "execution_count": 38,
     "metadata": {},
     "output_type": "execute_result"
    }
   ],
   "source": [
    "result[-1][1]"
   ]
  },
  {
   "cell_type": "code",
   "execution_count": null,
   "metadata": {
    "collapsed": true
   },
   "outputs": [],
   "source": [
    "class Version:\n",
    "    @classmethod\n",
    "    def from_string(cls, vs):\n",
    "        vs.split('.')"
   ]
  },
  {
   "cell_type": "code",
   "execution_count": 51,
   "metadata": {},
   "outputs": [
    {
     "name": "stdout",
     "output_type": "stream",
     "text": [
      "bigger\n"
     ]
    }
   ],
   "source": [
    "from itertools import zip_longest\n",
    "for x, y in list(zip_longest('0.12'.split('.'), '0.1.1'.split('.'), fillvalue='0')):\n",
    "    if int(x) > int(y):\n",
    "        print('bigger')"
   ]
  },
  {
   "cell_type": "code",
   "execution_count": null,
   "metadata": {
    "collapsed": true
   },
   "outputs": [],
   "source": []
  }
 ],
 "metadata": {
  "kernelspec": {
   "display_name": "Python 3",
   "language": "python",
   "name": "python3"
  },
  "language_info": {
   "codemirror_mode": {
    "name": "ipython",
    "version": 3
   },
   "file_extension": ".py",
   "mimetype": "text/x-python",
   "name": "python",
   "nbconvert_exporter": "python",
   "pygments_lexer": "ipython3",
   "version": "3.6.1"
  }
 },
 "nbformat": 4,
 "nbformat_minor": 2
}
