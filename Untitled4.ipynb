{
 "cells": [
  {
   "cell_type": "markdown",
   "metadata": {},
   "source": [
    "https://pypi.python.org/pypi/lorem/0.1.1"
   ]
  },
  {
   "cell_type": "markdown",
   "metadata": {},
   "source": [
    "https://github.com/vinta/awesome-python#files"
   ]
  },
  {
   "cell_type": "markdown",
   "metadata": {},
   "source": [
    "https://github.com/geekcomputers/Python/blob/master/folder_size.py"
   ]
  },
  {
   "cell_type": "code",
   "execution_count": 6,
   "metadata": {},
   "outputs": [
    {
     "name": "stdout",
     "output_type": "stream",
     "text": [
      "Folder Size: 32221522 Bytes\n",
      "Folder Size: 31466.33 Kilobytes\n",
      "Folder Size: 30.73 Megabytes\n",
      "Folder Size: 0.03 Gigabytes\n"
     ]
    }
   ],
   "source": [
    "import os\n",
    "import sys      # Load the library module and the sys module for the argument vector'''\n",
    "directory = '.'   # Set the variable directory to be the argument supplied by user.\n",
    "\n",
    "dir_size = 0    # Set the size to 0\n",
    "fsizedicr = {'Bytes': 1,\n",
    "             'Kilobytes': float(1) / 1024,\n",
    "             'Megabytes': float(1) / (1024 * 1024),\n",
    "             'Gigabytes': float(1) / (1024 * 1024 * 1024)}\n",
    "for (path, dirs, files) in os.walk(directory):      # Walk through all the directories. For each iteration, os.walk returns the folders, subfolders and files in the dir.\n",
    "    for file in files:                              # Get all the files\n",
    "        filename = os.path.join(path, file)\n",
    "        dir_size += os.path.getsize(filename)       # Add the size of each file in the root dir to get the total size.\n",
    "\n",
    "fsizeList = [str(round(fsizedicr[key] * dir_size, 2)) + \" \" + key for key in fsizedicr] # List of units\n",
    "\n",
    "if dir_size == 0: print (\"File Empty\") # Sanity check to eliminate corner-case of empty file.\n",
    "else:\n",
    "  for units in sorted(fsizeList)[::-1]: # Reverse sort list of units so smallest magnitude units print first.\n",
    "      print (\"Folder Size: \" + units)"
   ]
  },
  {
   "cell_type": "markdown",
   "metadata": {},
   "source": [
    "https://github.com/jaraco/path.py"
   ]
  }
 ],
 "metadata": {
  "kernelspec": {
   "display_name": "Python 3",
   "language": "python",
   "name": "python3"
  },
  "language_info": {
   "codemirror_mode": {
    "name": "ipython",
    "version": 3
   },
   "file_extension": ".py",
   "mimetype": "text/x-python",
   "name": "python",
   "nbconvert_exporter": "python",
   "pygments_lexer": "ipython3",
   "version": "3.6.1"
  }
 },
 "nbformat": 4,
 "nbformat_minor": 2
}
