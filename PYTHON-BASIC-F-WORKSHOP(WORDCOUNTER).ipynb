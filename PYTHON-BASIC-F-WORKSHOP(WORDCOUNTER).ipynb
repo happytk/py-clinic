{
 "cells": [
  {
   "cell_type": "markdown",
   "metadata": {},
   "source": [
    "- 문서(str)를 받아서 의미있는 단어의 top5를 생성해주는 프로그램을 작성합니다. 2자 이상의 단어를 취합합니다."
   ]
  },
  {
   "cell_type": "code",
   "execution_count": 1,
   "metadata": {},
   "outputs": [],
   "source": [
    "# 'word word2 word3 word!' -> {'word': 4}\n",
    "# 'word word2 word3 word! hello:) ' -> {'word': 4. 'hello': 1}"
   ]
  },
  {
   "cell_type": "code",
   "execution_count": 19,
   "metadata": {},
   "outputs": [],
   "source": [
    "import re\n",
    "words = re.findall('[a-z][a-z]+', re.__doc__.lower())\n",
    "\n",
    "# from collections import Counter\n",
    "# Counter(words).most_common(5)\n",
    "from collections import defaultdict\n",
    "\n",
    "# d = {}\n",
    "d = defaultdict(int)\n",
    "for word in words:\n",
    "#     if word in d:\n",
    "#         d[word] += 1\n",
    "#     else:\n",
    "#         d[word] = 1\n",
    "#     try:\n",
    "#         d[word] += 1\n",
    "#     except KeyError:\n",
    "#         d[word] = 1\n",
    "#     d.setdefault(word, 0)\n",
    "    d[word] += 1\n",
    "    \n",
    "\n",
    "\n"
   ]
  },
  {
   "cell_type": "code",
   "execution_count": 28,
   "metadata": {},
   "outputs": [
    {
     "data": {
      "text/plain": [
       "[(82, 'the'), (33, 'of'), (31, 'matches'), (27, 'string'), (15, 'match')]"
      ]
     },
     "execution_count": 28,
     "metadata": {},
     "output_type": "execute_result"
    }
   ],
   "source": [
    "reversed_d = [(v,k) for k, v in d.items()]\n",
    "reversed_d = sorted(reversed_d, reverse=True)\n",
    "reversed_d = list(reversed(sorted(reversed_d)))[:5]\n",
    "reversed_d\n"
   ]
  }
 ],
 "metadata": {
  "kernelspec": {
   "display_name": "Python 3",
   "language": "python",
   "name": "python3"
  },
  "language_info": {
   "codemirror_mode": {
    "name": "ipython",
    "version": 3
   },
   "file_extension": ".py",
   "mimetype": "text/x-python",
   "name": "python",
   "nbconvert_exporter": "python",
   "pygments_lexer": "ipython3",
   "version": "3.6.1"
  }
 },
 "nbformat": 4,
 "nbformat_minor": 2
}
