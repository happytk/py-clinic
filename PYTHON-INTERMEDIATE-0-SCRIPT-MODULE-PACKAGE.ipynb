{
 "cells": [
  {
   "cell_type": "markdown",
   "metadata": {},
   "source": [
    "## SCRIPTS"
   ]
  },
  {
   "cell_type": "markdown",
   "metadata": {},
   "source": [
    "- python 실행으로 수행시킬 수 있는 file입니다.\n",
    "- 아래쪽에 다음 내용이 보일거에요."
   ]
  },
  {
   "cell_type": "code",
   "execution_count": 4,
   "metadata": {
    "collapsed": true
   },
   "outputs": [],
   "source": [
    "if __name__ == \"__main__\":\n",
    "    # do something\n",
    "    pass"
   ]
  },
  {
   "cell_type": "markdown",
   "metadata": {},
   "source": [
    "- import되었을때와 구분해서 수행할 수 있도록.\n",
    "- `__name__` 값이 python에서 해당 파일을 직접 호출했을때 `__main__`으로 설정되요. (import했을때는 .py를 뺀 이름이 할당되요.)"
   ]
  },
  {
   "cell_type": "code",
   "execution_count": 2,
   "metadata": {
    "collapsed": false
   },
   "outputs": [
    {
     "name": "stdout",
     "output_type": "stream",
     "text": [
      "__main__\n"
     ]
    }
   ],
   "source": [
    "print(__name__)"
   ]
  },
  {
   "cell_type": "markdown",
   "metadata": {},
   "source": [
    "## MODULES"
   ]
  },
  {
   "cell_type": "markdown",
   "metadata": {},
   "source": [
    "- .py로 끝나는 파일은 모듈단위로 사용될 수 있습니다.\n",
    "- PEP8을 따르자면 소문자를 사용하고 `_`를 단어사이에 쓰지 않아요.\n",
    "- PYTHONPATH 환경변수나 sys.path에 속해있는 경로를 찾아서 import합니다."
   ]
  },
  {
   "cell_type": "code",
   "execution_count": 5,
   "metadata": {
    "collapsed": false
   },
   "outputs": [
    {
     "name": "stdout",
     "output_type": "stream",
     "text": [
      "['data', 'ETC-JUPYTER-TIPS.ipynb', 'img', 'PYTHON-BASIC-0-PYTHON-VERSION-PEP.ipynb', 'PYTHON-BASIC-1-RUNNING-PYTHON.ipynb', 'PYTHON-BASIC-2-VARIABLES-BUILTIN-TYPES.ipynb', 'PYTHON-BASIC-3-LIST-TUPLE-DICT-SET.ipynb', 'PYTHON-BASIC-4-CONDITION-LOOP-EXCEPTION.ipynb', 'PYTHON-BASIC-5-WORKSHOP.ipynb', 'PYTHON-BASIC-6-STANDARD-LIBRARY.ipynb', 'PYTHON-BASIC-6-WORKSHOP(STUDENT-GRADE).ipynb', 'PYTHON-BASIC-7-WORKSHOP(369).ipynb', 'PYTHON-BASIC-8-WORKSHOP(CONVERTKRW).ipynb', 'PYTHON-BASIC-9-WORKSHOP(TWENTYHILL).ipynb', 'PYTHON-BASIC-A-WORKSHOP(FILEREORG).ipynb', 'PYTHON-BASIC-B-WORKSHOP(GUGU).ipynb', 'PYTHON-BASIC-C-WORKSHOP(WORD-CONCAT).ipynb', 'PYTHON-BASIC-D-WORKSHOP(GETTING-PYPI).ipynb', 'PYTHON-INTERMEDIATE-0-SCRIPT-MODULE-PACKAGE.ipynb', 'PYTHON-INTERMEDIATE-1-COMPREHENSION-CONSTRUCT.ipynb', 'PYTHON-INTERMEDIATE-2-FUNCTION.ipynb', 'PYTHON-INTERMEDIATE-3-FUNCTIONAL.ipynb', 'PYTHON-INTERMEDIATE-4-GLOBAL-LOCAL-CLOSURE.ipynb', 'PYTHON-INTERMEDIATE-5-ITERATION-GENERATORS.ipynb', 'PYTHON-INTERMEDIATE-6-DECORATORS.ipynb', 'PYTHON-INTERMEDIATE-7-CLASS.ipynb', 'PYTHON-INTERMEDIATE-A-WORKSHOP(TAGGEN).ipynb', 'PYTHON-INTERMEDIATE-A-WORKSHOP.ipynb', 'PYTHON-INTERMEDIATE-B-WORKSHOP.ipynb', 'PYTHON-INTERMEDIATE-C-WORKSHOP.ipynb', 'PYTHON-INTERMEDIATE2-0-ENVIRONMENTS.ipynb', 'PYTHON-INTERMEDIATE2-1-CONTEXTMANAGER.ipynb', 'PYTHON-INTERMEDIATE2-2-CONCURRENCY.ipynb', 'PYTHON-INTERMEDIATE2-3-EXTRA.ipynb', 'PYTHON-INTERMEDIATE2-4-QA-TEST.ipynb', 'PYTHON-INTERMEDIATE2-A-WORKSHOP(LAZYLIST).ipynb', 'PYTHON-INTERMEDIATE2-B-WORKSHOP(ORACLECONN).ipynb', 'PYTHON-INTERMEDIATE2-C-WORKSHOP(DIRSIZE).ipynb', 'PYTHON-INTERMEDIATE2-D-WORKSHOP(ORACLE-PERF-MONITOR).ipynb']\n"
     ]
    }
   ],
   "source": [
    "# import the library\n",
    "import glob\n",
    "\n",
    "# use it\n",
    "print(glob.glob('*'))"
   ]
  },
  {
   "cell_type": "markdown",
   "metadata": {},
   "source": [
    "`C:\\PythonXX\\Lib\\glob.py` 파일에서 찾을 수 있어요"
   ]
  },
  {
   "cell_type": "code",
   "execution_count": 11,
   "metadata": {
    "collapsed": false
   },
   "outputs": [
    {
     "data": {
      "text/plain": [
       "['escape',\n",
       " 'fnmatch',\n",
       " 'glob',\n",
       " 'glob0',\n",
       " 'glob1',\n",
       " 'has_magic',\n",
       " 'iglob',\n",
       " 'magic_check',\n",
       " 'magic_check_bytes',\n",
       " 'os',\n",
       " 're']"
      ]
     },
     "execution_count": 11,
     "metadata": {},
     "output_type": "execute_result"
    }
   ],
   "source": [
    "import glob\n",
    "dir(glob)[17:]"
   ]
  },
  {
   "cell_type": "code",
   "execution_count": 12,
   "metadata": {
    "collapsed": false
   },
   "outputs": [
    {
     "name": "stdout",
     "output_type": "stream",
     "text": [
      "Help on function glob in module glob:\n",
      "\n",
      "glob(pathname, *, recursive=False)\n",
      "    Return a list of paths matching a pathname pattern.\n",
      "    \n",
      "    The pattern may contain simple shell-style wildcards a la\n",
      "    fnmatch. However, unlike fnmatch, filenames starting with a\n",
      "    dot are special cases that are not matched by '*' and '?'\n",
      "    patterns.\n",
      "    \n",
      "    If recursive is true, the pattern '**' will match any files and\n",
      "    zero or more directories and subdirectories.\n",
      "\n"
     ]
    }
   ],
   "source": [
    "import glob\n",
    "help(glob.glob)"
   ]
  },
  {
   "cell_type": "code",
   "execution_count": 14,
   "metadata": {
    "collapsed": false
   },
   "outputs": [
    {
     "ename": "ModuleNotFoundError",
     "evalue": "No module named 'glob.glob'; 'glob' is not a package",
     "output_type": "error",
     "traceback": [
      "\u001b[0;31m---------------------------------------------------------------------------\u001b[0m",
      "\u001b[0;31mModuleNotFoundError\u001b[0m                       Traceback (most recent call last)",
      "\u001b[0;32m<ipython-input-14-040a6bffb15b>\u001b[0m in \u001b[0;36m<module>\u001b[0;34m()\u001b[0m\n\u001b[0;32m----> 1\u001b[0;31m \u001b[1;32mimport\u001b[0m \u001b[0mglob\u001b[0m\u001b[1;33m.\u001b[0m\u001b[0mglob\u001b[0m\u001b[1;33m\u001b[0m\u001b[0m\n\u001b[0m",
      "\u001b[0;31mModuleNotFoundError\u001b[0m: No module named 'glob.glob'; 'glob' is not a package"
     ]
    }
   ],
   "source": [
    "import glob.glob"
   ]
  },
  {
   "cell_type": "code",
   "execution_count": 15,
   "metadata": {
    "collapsed": false
   },
   "outputs": [],
   "source": [
    "from glob import glob"
   ]
  },
  {
   "cell_type": "code",
   "execution_count": 16,
   "metadata": {
    "collapsed": true
   },
   "outputs": [],
   "source": [
    "from glob import glob as glob_alias"
   ]
  },
  {
   "cell_type": "markdown",
   "metadata": {},
   "source": [
    "## PACKAGES"
   ]
  },
  {
   "cell_type": "markdown",
   "metadata": {},
   "source": [
    "- `__init__.py` 파일이 속한 디렉토리는 패키지로 사용될 수 있습니다.\n",
    "- subdirectory도 동일하게 구성가능합니다."
   ]
  },
  {
   "cell_type": "code",
   "execution_count": 17,
   "metadata": {
    "collapsed": false
   },
   "outputs": [],
   "source": [
    "# __init__.py:\n",
    "__all__ = [\"bar\"]"
   ]
  },
  {
   "cell_type": "markdown",
   "metadata": {},
   "source": [
    "`c:\\pythonXX\\Lib` 외 `c:\\pythonXX\\Lib\\site-packages`에서 사용자 설치 Library를 찾을 수 있습니다. 설치된 모듈과 패키지를 확인해보세요."
   ]
  },
  {
   "cell_type": "markdown",
   "metadata": {},
   "source": [
    "## EXERCISE"
   ]
  },
  {
   "cell_type": "markdown",
   "metadata": {},
   "source": [
    "In this exercise, you will need to print an alphabetically sorted list of all functions in the `re` module, which contain the word `find`."
   ]
  },
  {
   "cell_type": "code",
   "execution_count": 3,
   "metadata": {
    "collapsed": true
   },
   "outputs": [],
   "source": [
    "import re\n",
    "\n",
    "# Your code goes here"
   ]
  },
  {
   "cell_type": "markdown",
   "metadata": {},
   "source": [
    "## PYPI"
   ]
  },
  {
   "cell_type": "markdown",
   "metadata": {},
   "source": [
    "http://python.org/pypi/\n",
    "\n",
    "- PYTHON버전별로 OS별로 다른 패키지를 사용할수도 있음.\n",
    "- 패키지관리는 pip를 이용합니다. (python3에서는 기본탑재, python2에서는 별도로 설치해주어야 합니다.)\n",
    "- 의존성을 갖는 라이브러리는 함께 설치됩니다."
   ]
  },
  {
   "cell_type": "code",
   "execution_count": 3,
   "metadata": {
    "collapsed": false
   },
   "outputs": [
    {
     "name": "stderr",
     "output_type": "stream",
     "text": [
      "'head'은(는) 내부 또는 외부 명령, 실행할 수 있는 프로그램, 또는\n",
      "배치 파일이 아닙니다.\n"
     ]
    }
   ],
   "source": [
    "!pip freeze | head -n 5"
   ]
  },
  {
   "cell_type": "markdown",
   "metadata": {},
   "source": [
    "pip install <package-name>"
   ]
  },
  {
   "cell_type": "markdown",
   "metadata": {},
   "source": [
    "pip install -r requirements.txt"
   ]
  },
  {
   "cell_type": "markdown",
   "metadata": {},
   "source": [
    "pip --help"
   ]
  },
  {
   "cell_type": "markdown",
   "metadata": {},
   "source": [
    "pip install --no-index --find-links=. <packagefile>"
   ]
  },
  {
   "cell_type": "markdown",
   "metadata": {},
   "source": [
    "## 다양한 packaging format"
   ]
  },
  {
   "cell_type": "markdown",
   "metadata": {},
   "source": [
    "wheels\n",
    " - precompiled, platform-specific binary files"
   ]
  }
 ],
 "metadata": {
  "kernelspec": {
   "display_name": "Python 3",
   "language": "python",
   "name": "python3"
  },
  "language_info": {
   "codemirror_mode": {
    "name": "ipython",
    "version": 3
   },
   "file_extension": ".py",
   "mimetype": "text/x-python",
   "name": "python",
   "nbconvert_exporter": "python",
   "pygments_lexer": "ipython3",
   "version": "3.6.0"
  }
 },
 "nbformat": 4,
 "nbformat_minor": 2
}
