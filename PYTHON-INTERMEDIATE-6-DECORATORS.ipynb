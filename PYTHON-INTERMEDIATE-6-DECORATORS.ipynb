{
 "cells": [
  {
   "cell_type": "markdown",
   "metadata": {
    "slideshow": {
     "slide_type": "slide"
    }
   },
   "source": [
    "## DECORATOR (PEP318)\n",
    "*쉽게 코드를 꾸밀 수 있는*"
   ]
  },
  {
   "cell_type": "markdown",
   "metadata": {
    "slideshow": {
     "slide_type": "subslide"
    }
   },
   "source": [
    "- 함수 호출 전, 호출 후 시점에 로직을 넣고 싶다면.\n",
    "- 함수 arguments를 검사하고 싶을 때\n",
    "- 함수 return값을 검사하고 싶을 때"
   ]
  },
  {
   "cell_type": "markdown",
   "metadata": {
    "slideshow": {
     "slide_type": "subslide"
    }
   },
   "source": [
    "어떻게 만드나요?\n",
    "- 함수를 인자로 받아서 함수를 리턴하는 함수를 만들면 됩니다."
   ]
  },
  {
   "cell_type": "code",
   "execution_count": 14,
   "metadata": {
    "collapsed": true,
    "slideshow": {
     "slide_type": "fragment"
    }
   },
   "outputs": [],
   "source": [
    "def decorator(func):\n",
    "    return func"
   ]
  },
  {
   "cell_type": "markdown",
   "metadata": {
    "slideshow": {
     "slide_type": "subslide"
    }
   },
   "source": [
    "이렇게 사용합니다."
   ]
  },
  {
   "cell_type": "code",
   "execution_count": 10,
   "metadata": {
    "slideshow": {
     "slide_type": "fragment"
    }
   },
   "outputs": [
    {
     "data": {
      "text/plain": [
       "'Return 1'"
      ]
     },
     "execution_count": 10,
     "metadata": {},
     "output_type": "execute_result"
    }
   ],
   "source": [
    "@decorator\n",
    "def function(arg):\n",
    "    return \"Return {}\".format(arg)\n",
    "\n",
    "function(1)"
   ]
  },
  {
   "cell_type": "code",
   "execution_count": 11,
   "metadata": {
    "slideshow": {
     "slide_type": "fragment"
    }
   },
   "outputs": [
    {
     "data": {
      "text/plain": [
       "'Return 1'"
      ]
     },
     "execution_count": 11,
     "metadata": {},
     "output_type": "execute_result"
    }
   ],
   "source": [
    "def function(arg):\n",
    "    return \"Return {}\".format(arg)\n",
    "function=decorator(function)\n",
    "function(1)"
   ]
  },
  {
   "cell_type": "markdown",
   "metadata": {
    "slideshow": {
     "slide_type": "subslide"
    }
   },
   "source": [
    "그럼 함수 호출 전 로직을 넣어봅시다."
   ]
  },
  {
   "cell_type": "code",
   "execution_count": 2,
   "metadata": {
    "collapsed": true,
    "slideshow": {
     "slide_type": "fragment"
    }
   },
   "outputs": [],
   "source": [
    "def decorator(func):\n",
    "    print('before function call')\n",
    "    return func"
   ]
  },
  {
   "cell_type": "code",
   "execution_count": 3,
   "metadata": {
    "slideshow": {
     "slide_type": "fragment"
    }
   },
   "outputs": [
    {
     "name": "stdout",
     "output_type": "stream",
     "text": [
      "before function call\n"
     ]
    }
   ],
   "source": [
    "@decorator\n",
    "def function(arg):\n",
    "    return 'Return {}'.format(arg)"
   ]
  },
  {
   "cell_type": "markdown",
   "metadata": {
    "slideshow": {
     "slide_type": "fragment"
    }
   },
   "source": [
    "<span style='color:red'>???</span>\n",
    "무언가 틀렸습니다.\n",
    "decorator는 <u>함수생성시점</u>에 호출되어서 수행됩니다."
   ]
  },
  {
   "cell_type": "code",
   "execution_count": 13,
   "metadata": {
    "slideshow": {
     "slide_type": "subslide"
    }
   },
   "outputs": [],
   "source": [
    "def decorator(func):\n",
    "    def inner(*args, **kwargs):\n",
    "        print('before function call')\n",
    "        func(*args, **kwargs)\n",
    "        print('after function call')\n",
    "    return inner\n",
    "\n",
    "# @decorator\n",
    "def function(arg):\n",
    "    print('Return {}'.format(arg)) \n",
    "\n",
    "    \n",
    "function = decorator(function)"
   ]
  },
  {
   "cell_type": "code",
   "execution_count": 15,
   "metadata": {
    "slideshow": {
     "slide_type": "subslide"
    }
   },
   "outputs": [
    {
     "name": "stdout",
     "output_type": "stream",
     "text": [
      "Help on function inner in module __main__:\n",
      "\n",
      "inner(*args, **kwargs)\n",
      "\n"
     ]
    }
   ],
   "source": [
    "# dir(function)\n",
    "\n",
    "@decorator\n",
    "def function1(arg):\n",
    "    print('{}'.format(arg))\n",
    "@decorator\n",
    "def function2(arg):\n",
    "    print('{}'.format(arg))\n",
    "\n",
    "(function1.__name__,\n",
    " function2.__name__)\n",
    "\n",
    "help(function1)"
   ]
  },
  {
   "cell_type": "code",
   "execution_count": 11,
   "metadata": {
    "slideshow": {
     "slide_type": "subslide"
    }
   },
   "outputs": [
    {
     "name": "stdout",
     "output_type": "stream",
     "text": [
      "Help on function function1 in module __main__:\n",
      "\n",
      "function1(arg)\n",
      "    xxx\n",
      "\n"
     ]
    }
   ],
   "source": [
    "import functools\n",
    "def decorator(func):\n",
    "    @functools.wraps(func)\n",
    "    def inner(*args, **kwargs):\n",
    "        print('before function call')\n",
    "        func(*args, **kwargs)\n",
    "        print('after function call')\n",
    "    return inner\n",
    "\n",
    "@decorator\n",
    "def function1(arg):\n",
    "    \"\"\"xxx\"\"\"\n",
    "    print('{}'.format(arg))\n",
    "@decorator\n",
    "def function2(arg):\n",
    "    \"\"\"yyy\"\"\"\n",
    "    print('{}'.format(arg))\n",
    "\n",
    "# (function1.__name__, function2.__name__)\n",
    "help(function1)"
   ]
  },
  {
   "cell_type": "markdown",
   "metadata": {
    "slideshow": {
     "slide_type": "subslide"
    }
   },
   "source": [
    "혹시 만들어야 할 일이 있을때 참고해서 쓰면 됩니다 :)\n",
    "평소에는 잘 쓰는게 중요하죠!"
   ]
  },
  {
   "cell_type": "markdown",
   "metadata": {
    "slideshow": {
     "slide_type": "slide"
    }
   },
   "source": [
    "## Parameterized Decorators\n",
    "*좀 더 유명해지고 싶은 library들은 지금까지의 simple한 decorator로는 만족할 수 없었던 것 같습니다.*"
   ]
  },
  {
   "cell_type": "code",
   "execution_count": 17,
   "metadata": {
    "slideshow": {
     "slide_type": "subslide"
    }
   },
   "outputs": [
    {
     "name": "stdout",
     "output_type": "stream",
     "text": [
      "2\n",
      "2\n"
     ]
    }
   ],
   "source": [
    "def repeater(func):\n",
    "    def inner(*args, **kwds):\n",
    "        func(*args, **kwds)\n",
    "        func(*args, **kwds)\n",
    "    return inner\n",
    "\n",
    "@repeater\n",
    "def print_two():\n",
    "    print(2)\n",
    "print_two()"
   ]
  },
  {
   "cell_type": "markdown",
   "metadata": {
    "slideshow": {
     "slide_type": "subslide"
    }
   },
   "source": [
    "아래와 같은 식으로 개선해서 사용하고 싶은거죠."
   ]
  },
  {
   "cell_type": "raw",
   "metadata": {
    "slideshow": {
     "slide_type": "-"
    }
   },
   "source": [
    "@repeater(3)\n",
    "def print_two():\n",
    "    print(2)\n",
    "\n",
    "@repeater(10)\n",
    "def print_two():\n",
    "    print(2)"
   ]
  },
  {
   "cell_type": "code",
   "execution_count": 12,
   "metadata": {
    "collapsed": true,
    "slideshow": {
     "slide_type": "subslide"
    }
   },
   "outputs": [],
   "source": [
    "import functools\n",
    "\n",
    "def repeater(times):\n",
    "    def repeater_times(func):\n",
    "        @functools.wraps(func)\n",
    "        def inner(*args, **kwargs):\n",
    "            for i in range(times):\n",
    "                func(*args, **kwargs)\n",
    "        return inner\n",
    "    return repeater_times"
   ]
  },
  {
   "cell_type": "code",
   "execution_count": 13,
   "metadata": {
    "slideshow": {
     "slide_type": "subslide"
    }
   },
   "outputs": [
    {
     "name": "stdout",
     "output_type": "stream",
     "text": [
      "2\n",
      "2\n",
      "2\n",
      "3\n",
      "3\n",
      "3\n",
      "3\n",
      "3\n"
     ]
    }
   ],
   "source": [
    "@repeater(3)\n",
    "def print_two():\n",
    "    print(2)\n",
    "print_two()\n",
    "\n",
    "@repeater(5)\n",
    "def print_three():\n",
    "    print(3)\n",
    "print_three()"
   ]
  },
  {
   "cell_type": "markdown",
   "metadata": {
    "slideshow": {
     "slide_type": "subslide"
    }
   },
   "source": [
    "역시 필요할때 참고해서 쓰면 됩니다 :) template처럼 기억하세요."
   ]
  },
  {
   "cell_type": "markdown",
   "metadata": {
    "slideshow": {
     "slide_type": "slide"
    }
   },
   "source": [
    "## Stacked Decorators"
   ]
  },
  {
   "cell_type": "code",
   "execution_count": 2,
   "metadata": {},
   "outputs": [
    {
     "name": "stdout",
     "output_type": "stream",
     "text": [
      "world\n",
      "world\n"
     ]
    }
   ],
   "source": [
    "def d1(func):\n",
    "    return func\n",
    "def d2(func):\n",
    "    return func\n",
    "\n",
    "@d1\n",
    "@d2\n",
    "def hello():\n",
    "    print('world')\n",
    "hello()\n",
    "\n",
    "def hello():\n",
    "    print('world')\n",
    "hello = d1(d2(hello))\n",
    "hello()"
   ]
  },
  {
   "cell_type": "markdown",
   "metadata": {
    "slideshow": {
     "slide_type": "slide"
    }
   },
   "source": [
    "### CLASS DECORATOR (PEP3129)"
   ]
  },
  {
   "cell_type": "markdown",
   "metadata": {},
   "source": [
    "function decorator와 거의 비슷합니다. cls를 취하고, cls를 return해주는 function을 만들면 됩니다."
   ]
  },
  {
   "cell_type": "code",
   "execution_count": 45,
   "metadata": {
    "slideshow": {
     "slide_type": "subslide"
    }
   },
   "outputs": [
    {
     "data": {
      "text/plain": [
       "'CHIRP'"
      ]
     },
     "execution_count": 45,
     "metadata": {},
     "output_type": "execute_result"
    }
   ],
   "source": [
    "def add_chirp(cls):\n",
    "    def chirp(self):\n",
    "        return 'CHIRP'\n",
    "    cls.speak = chirp\n",
    "    return cls\n",
    "\n",
    "@add_chirp\n",
    "class Bird:\n",
    "    def speak(self):\n",
    "        return '삐약'\n",
    "\n",
    "bird = Bird()\n",
    "bird.speak()"
   ]
  },
  {
   "cell_type": "markdown",
   "metadata": {
    "slideshow": {
     "slide_type": "subslide"
    }
   },
   "source": [
    "class에 부가기능을 붙이거나,\n",
    "기존 라이브러리에 간단한 patch를 적용하여 쓰고 싶을때 사용할 수 있습니다."
   ]
  },
  {
   "cell_type": "markdown",
   "metadata": {
    "slideshow": {
     "slide_type": "slide"
    }
   },
   "source": [
    "standard library에서는 아래 6개 정도가 decorator로 많이 쓰입니다.\n",
    "\n",
    "- property\n",
    "- classmethod\n",
    "- staticmethod\n",
    "- functools.wraps (위에서 배운 것)\n",
    "- functools.lru_cache\n",
    "- functools.singledispatch"
   ]
  },
  {
   "cell_type": "markdown",
   "metadata": {
    "slideshow": {
     "slide_type": "subslide"
    }
   },
   "source": [
    "<u>다음의 일들을 위해서 decorator를 사용해볼 수 있습니다.</u>\n",
    "\n",
    "- 고비용의 작업들을 caching하고 싶다면\n",
    "- 함수가 동작실패했을 때 재시도를 위해서\n",
    "- 함수가 내부적으로 표준출력으로 내보내는 것을 redirection하고 싶다면\n",
    "- 함수가 동작한 시간을 logging해보려면\n",
    "- 함수 동작시간을 통제하고 싶다면\n",
    "- 접근제어를 위해서"
   ]
  }
 ],
 "metadata": {
  "celltoolbar": "Slideshow",
  "kernelspec": {
   "display_name": "Python 3",
   "language": "python",
   "name": "python3"
  },
  "language_info": {
   "codemirror_mode": {
    "name": "ipython",
    "version": 3
   },
   "file_extension": ".py",
   "mimetype": "text/x-python",
   "name": "python",
   "nbconvert_exporter": "python",
   "pygments_lexer": "ipython3",
   "version": "3.6.1"
  }
 },
 "nbformat": 4,
 "nbformat_minor": 2
}
