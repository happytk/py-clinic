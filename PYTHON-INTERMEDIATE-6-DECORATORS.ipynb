{
 "cells": [
  {
   "cell_type": "markdown",
   "metadata": {
    "slideshow": {
     "slide_type": "slide"
    }
   },
   "source": [
    "## DECORATOR (PEP318)\n",
    "*python을 또 아름답게*"
   ]
  },
  {
   "cell_type": "markdown",
   "metadata": {
    "slideshow": {
     "slide_type": "subslide"
    }
   },
   "source": [
    "decorator는 보통 다음의 경우에 사용될 수 있습니다.\n",
    "- 함수 호출 전, 호출 후 시점에 로직을 넣고 싶다면.\n",
    "- 함수 arguments를 검사하고 싶을 때\n",
    "- 함수 return값을 검사하고 싶을 때"
   ]
  },
  {
   "cell_type": "markdown",
   "metadata": {
    "slideshow": {
     "slide_type": "subslide"
    }
   },
   "source": [
    "어떻게 만드나요?\n",
    "- 함수를 인자로 받아서 함수를 리턴하는 함수를 만들면 됩니다."
   ]
  },
  {
   "cell_type": "code",
   "execution_count": 1,
   "metadata": {
    "slideshow": {
     "slide_type": "fragment"
    }
   },
   "outputs": [],
   "source": [
    "# 이것이 바로 함수를 인자로 받아서 함수를 리턴하는 함수\n",
    "def decorator(func):\n",
    "    return func"
   ]
  },
  {
   "cell_type": "markdown",
   "metadata": {
    "slideshow": {
     "slide_type": "subslide"
    }
   },
   "source": [
    "이렇게 사용합니다."
   ]
  },
  {
   "cell_type": "code",
   "execution_count": 10,
   "metadata": {
    "slideshow": {
     "slide_type": "fragment"
    }
   },
   "outputs": [
    {
     "data": {
      "text/plain": [
       "'Return 1'"
      ]
     },
     "execution_count": 10,
     "metadata": {},
     "output_type": "execute_result"
    }
   ],
   "source": [
    "@decorator\n",
    "def function(arg):\n",
    "    return \"Return {}\".format(arg)\n",
    "\n",
    "# decorator는 특별히 하는 일이 없으므로\n",
    "function(1)"
   ]
  },
  {
   "cell_type": "code",
   "execution_count": 3,
   "metadata": {
    "slideshow": {
     "slide_type": "fragment"
    }
   },
   "outputs": [
    {
     "data": {
      "text/plain": [
       "'Return 1'"
      ]
     },
     "execution_count": 3,
     "metadata": {},
     "output_type": "execute_result"
    }
   ],
   "source": [
    "def function(arg):\n",
    "    return \"Return {}\".format(arg)\n",
    "\n",
    "# 이렇게 표현하는 것과 같습니다.\n",
    "function=decorator(function)\n",
    "\n",
    "# 같은 결과값\n",
    "function(1)"
   ]
  },
  {
   "cell_type": "markdown",
   "metadata": {
    "slideshow": {
     "slide_type": "subslide"
    }
   },
   "source": [
    "그럼 함수 호출 전 로직을 넣어볼까요?"
   ]
  },
  {
   "cell_type": "code",
   "execution_count": 3,
   "metadata": {
    "slideshow": {
     "slide_type": "fragment"
    }
   },
   "outputs": [],
   "source": [
    "def decorator(func):\n",
    "    print('before function call') # 함수 수행전 호출\n",
    "    return func"
   ]
  },
  {
   "cell_type": "code",
   "execution_count": 4,
   "metadata": {
    "slideshow": {
     "slide_type": "fragment"
    }
   },
   "outputs": [
    {
     "name": "stdout",
     "output_type": "stream",
     "text": [
      "before function call\n"
     ]
    }
   ],
   "source": [
    "@decorator\n",
    "def function(arg):\n",
    "    return 'Return {}'.format(arg)"
   ]
  },
  {
   "cell_type": "markdown",
   "metadata": {
    "slideshow": {
     "slide_type": "fragment"
    }
   },
   "source": [
    "<span style='color:red'>???</span>\n",
    "무언가 틀렸습니다.\n",
    "decorator는 <u>함수생성시점</u>에 호출되므로 위와 같이 정리하면 수행 전이긴 한데, 너무 일찍 수행되어 버립니다."
   ]
  },
  {
   "cell_type": "code",
   "execution_count": 6,
   "metadata": {
    "slideshow": {
     "slide_type": "subslide"
    }
   },
   "outputs": [
    {
     "name": "stdout",
     "output_type": "stream",
     "text": [
      "before function call\n",
      "Return 1\n",
      "after function call\n"
     ]
    }
   ],
   "source": [
    "# 아까는 return전 호출이었을뿐,\n",
    "# 수행(호출)전에 수행하려면 다음과 같이 nested function을 사용해야 합니다.\n",
    "def decorator(func):\n",
    "    def inner(*args, **kwargs):\n",
    "        print('before function call')\n",
    "        func(*args, **kwargs)\n",
    "        print('after function call')\n",
    "    return inner\n",
    "\n",
    "@decorator\n",
    "def function(arg):\n",
    "    print('Return {}'.format(arg)) \n",
    "\n",
    "function(1)\n",
    "# function = decorator(function)"
   ]
  },
  {
   "cell_type": "markdown",
   "metadata": {
    "slideshow": {
     "slide_type": "subslide"
    }
   },
   "source": [
    "(잠깐!) decorator는 func 변수를 enclosing하는 closure입니다. (func가 자유변수) 뭐 의식하고 사용할 필요는 없지만 복습할 겸."
   ]
  },
  {
   "cell_type": "code",
   "execution_count": 11,
   "metadata": {
    "slideshow": {
     "slide_type": "fragment"
    }
   },
   "outputs": [
    {
     "data": {
      "text/plain": [
       "('func',)"
      ]
     },
     "execution_count": 11,
     "metadata": {},
     "output_type": "execute_result"
    }
   ],
   "source": [
    "function.__code__.co_freevars # 위의 코드에서 func이 자유변수입니다."
   ]
  },
  {
   "cell_type": "code",
   "execution_count": 9,
   "metadata": {
    "slideshow": {
     "slide_type": "subslide"
    }
   },
   "outputs": [
    {
     "data": {
      "text/plain": [
       "('inner', 'inner')"
      ]
     },
     "execution_count": 9,
     "metadata": {},
     "output_type": "execute_result"
    }
   ],
   "source": [
    "# dir(function)\n",
    "\n",
    "@decorator\n",
    "def function1(arg):\n",
    "    print('{}'.format(arg))\n",
    "@decorator\n",
    "def function2(arg):\n",
    "    print('{}'.format(arg))\n",
    "\n",
    "# 함수는 내부에 이름, doc과 같은 meta값을 갖습니다.\n",
    "(function1.__name__,\n",
    " function2.__name__)"
   ]
  },
  {
   "cell_type": "code",
   "execution_count": 10,
   "metadata": {
    "slideshow": {
     "slide_type": "subslide"
    }
   },
   "outputs": [
    {
     "data": {
      "text/plain": [
       "('function1', 'function2')"
      ]
     },
     "execution_count": 10,
     "metadata": {},
     "output_type": "execute_result"
    }
   ],
   "source": [
    "import functools\n",
    "def decorator(func):\n",
    "    @functools.wraps(func)\n",
    "    def inner(*args, **kwargs):\n",
    "        print('before function call')\n",
    "        func(*args, **kwargs)\n",
    "        print('after function call')\n",
    "    return inner\n",
    "\n",
    "@decorator\n",
    "def function1(arg):\n",
    "    \"\"\"xxx\"\"\"\n",
    "    print('{}'.format(arg))\n",
    "@decorator\n",
    "def function2(arg):\n",
    "    \"\"\"yyy\"\"\"\n",
    "    print('{}'.format(arg))\n",
    "\n",
    "(function1.__name__, function2.__name__)"
   ]
  },
  {
   "cell_type": "markdown",
   "metadata": {
    "slideshow": {
     "slide_type": "subslide"
    }
   },
   "source": [
    "혹시 만들어야 할 일이 있을때 참고해서 쓰면 됩니다 :)\n",
    "평소에는 만들어진 것을 잘 쓰는게 중요하죠!"
   ]
  },
  {
   "cell_type": "markdown",
   "metadata": {
    "slideshow": {
     "slide_type": "slide"
    }
   },
   "source": [
    "## Parameterized Decorators\n",
    "*좀 더 유명해지고 싶은 library들은 지금까지의 simple한 decorator로는 만족할 수 없었던 것 같습니다.*"
   ]
  },
  {
   "cell_type": "code",
   "execution_count": 17,
   "metadata": {
    "slideshow": {
     "slide_type": "subslide"
    }
   },
   "outputs": [
    {
     "name": "stdout",
     "output_type": "stream",
     "text": [
      "2\n",
      "2\n"
     ]
    }
   ],
   "source": [
    "def repeater(func):\n",
    "    def inner(*args, **kwds):\n",
    "        func(*args, **kwds)\n",
    "        func(*args, **kwds)\n",
    "    return inner\n",
    "\n",
    "@repeater\n",
    "def print_two():\n",
    "    print(2)\n",
    "print_two()"
   ]
  },
  {
   "cell_type": "markdown",
   "metadata": {
    "slideshow": {
     "slide_type": "subslide"
    }
   },
   "source": [
    "아래와 같은 식으로 개선해서 사용하고 싶은거죠."
   ]
  },
  {
   "cell_type": "raw",
   "metadata": {
    "slideshow": {
     "slide_type": "-"
    }
   },
   "source": [
    "@repeater(3)\n",
    "def print_two():\n",
    "    print(2)\n",
    "\n",
    "@repeater(10)\n",
    "def print_two():\n",
    "    print(2)"
   ]
  },
  {
   "cell_type": "code",
   "execution_count": 12,
   "metadata": {
    "collapsed": true,
    "slideshow": {
     "slide_type": "subslide"
    }
   },
   "outputs": [],
   "source": [
    "import functools\n",
    "\n",
    "def repeater(times):\n",
    "    def repeater_times(func):\n",
    "        @functools.wraps(func)\n",
    "        def inner(*args, **kwargs):\n",
    "            for i in range(times):\n",
    "                func(*args, **kwargs)\n",
    "        return inner\n",
    "    return repeater_times"
   ]
  },
  {
   "cell_type": "code",
   "execution_count": 13,
   "metadata": {
    "slideshow": {
     "slide_type": "subslide"
    }
   },
   "outputs": [
    {
     "name": "stdout",
     "output_type": "stream",
     "text": [
      "2\n",
      "2\n",
      "2\n",
      "3\n",
      "3\n",
      "3\n",
      "3\n",
      "3\n"
     ]
    }
   ],
   "source": [
    "@repeater(3)\n",
    "def print_two():\n",
    "    print(2)\n",
    "print_two()\n",
    "\n",
    "@repeater(5)\n",
    "def print_three():\n",
    "    print(3)\n",
    "print_three()"
   ]
  },
  {
   "cell_type": "markdown",
   "metadata": {
    "slideshow": {
     "slide_type": "subslide"
    }
   },
   "source": [
    "역시 필요할때 참고해서 쓰면 됩니다 :) template처럼 기억하세요."
   ]
  },
  {
   "cell_type": "markdown",
   "metadata": {
    "slideshow": {
     "slide_type": "slide"
    }
   },
   "source": [
    "## Stacked Decorators"
   ]
  },
  {
   "cell_type": "code",
   "execution_count": 20,
   "metadata": {
    "slideshow": {
     "slide_type": "subslide"
    }
   },
   "outputs": [
    {
     "name": "stdout",
     "output_type": "stream",
     "text": [
      "world\n",
      "world\n"
     ]
    }
   ],
   "source": [
    "def d1(func):\n",
    "    return func\n",
    "def d2(func):\n",
    "    return func\n",
    "\n",
    "# 아래와 같이 여러개를 겹쳐서 사용할 수 있습니다.\n",
    "@d1\n",
    "@d2\n",
    "def hello():\n",
    "    print('world')\n",
    "hello()\n",
    "\n",
    "def hello():\n",
    "    print('world')\n",
    "\n",
    "# 같은효과, 실행순서를 확인하세요.\n",
    "hello = d1(d2(hello))\n",
    "hello()"
   ]
  },
  {
   "cell_type": "markdown",
   "metadata": {
    "slideshow": {
     "slide_type": "slide"
    }
   },
   "source": [
    "### CLASS DECORATOR (PEP3129)"
   ]
  },
  {
   "cell_type": "markdown",
   "metadata": {
    "slideshow": {
     "slide_type": "subslide"
    }
   },
   "source": [
    "function decorator와 거의 비슷합니다. cls를 취하고, cls를 return해주는 function을 만들면 됩니다."
   ]
  },
  {
   "cell_type": "code",
   "execution_count": 45,
   "metadata": {
    "slideshow": {
     "slide_type": "subslide"
    }
   },
   "outputs": [
    {
     "data": {
      "text/plain": [
       "'CHIRP'"
      ]
     },
     "execution_count": 45,
     "metadata": {},
     "output_type": "execute_result"
    }
   ],
   "source": [
    "def add_chirp(cls):\n",
    "    def chirp(self):\n",
    "        return 'CHIRP'\n",
    "    cls.speak = chirp\n",
    "    return cls\n",
    "\n",
    "@add_chirp\n",
    "class Bird:\n",
    "    def speak(self):\n",
    "        return '삐약'\n",
    "\n",
    "bird = Bird()\n",
    "bird.speak()"
   ]
  },
  {
   "cell_type": "markdown",
   "metadata": {
    "slideshow": {
     "slide_type": "subslide"
    }
   },
   "source": [
    "class에 부가기능을 붙이거나,\n",
    "기존 라이브러리에 간단한 patch를 적용하여 쓰고 싶을때 사용할 수 있습니다."
   ]
  },
  {
   "cell_type": "markdown",
   "metadata": {
    "slideshow": {
     "slide_type": "slide"
    }
   },
   "source": [
    "standard library에서는 아래 6개 정도가 decorator로 많이 쓰입니다.\n",
    "\n",
    "- property\n",
    "- classmethod\n",
    "- staticmethod\n",
    "- functools.wraps (위에서 배운 것)\n",
    "- functools.lru_cache\n",
    "- functools.singledispatch"
   ]
  },
  {
   "cell_type": "markdown",
   "metadata": {
    "slideshow": {
     "slide_type": "subslide"
    }
   },
   "source": [
    "<u>다음의 일들을 위해서 decorator를 사용해볼 수 있습니다.</u>\n",
    "\n",
    "- 고비용의 작업들을 caching하고 싶다면\n",
    "- 함수가 동작실패했을 때 재시도를 위해서\n",
    "- 함수가 내부적으로 표준출력으로 내보내는 것을 redirection하고 싶다면\n",
    "- 함수가 동작한 시간을 logging해보려면\n",
    "- 함수 동작시간을 통제하고 싶다면\n",
    "- 접근제어를 위해서"
   ]
  },
  {
   "cell_type": "markdown",
   "metadata": {
    "slideshow": {
     "slide_type": "slide"
    }
   },
   "source": [
    "## Exercise"
   ]
  },
  {
   "cell_type": "markdown",
   "metadata": {
    "slideshow": {
     "slide_type": "subslide"
    }
   },
   "source": [
    "다음 기능을 수행하는 decorator 두 개를 만들어봅시다.\n",
    " - input과 output을 logging하는 decorator\n",
    " - input이 문자가 아니거나 혹은 False일 경우 critical로 경고를 띄워주고 함수는 수행하지 않는 decorator\n",
    "\n",
    "```\n",
    "@check\n",
    "@monitor\n",
    "def hello(world):\n",
    "    return len(world)\n",
    "\n",
    "> hello(\"world\")\n",
    "[info] input string is \"world\"\n",
    "[info] output value is 5\n",
    "> hello(\"\")\n",
    "[critical] invalid input. done nothing.\n",
    "> hello(3)\n",
    "[critical] invalid input. done nothing.\n",
    "```"
   ]
  },
  {
   "cell_type": "code",
   "execution_count": 13,
   "metadata": {},
   "outputs": [
    {
     "name": "stderr",
     "output_type": "stream",
     "text": [
      "CRITICAL:root:input: ('world', 'world2'), {'extra': 'hello3'}\n",
      "CRITICAL:root:output: 5\n"
     ]
    },
    {
     "name": "stdout",
     "output_type": "stream",
     "text": [
      "{'extra': 'hello3'}\n"
     ]
    },
    {
     "data": {
      "text/plain": [
       "(5, 'hello', 'world의 길이를 return합니다.')"
      ]
     },
     "execution_count": 13,
     "metadata": {},
     "output_type": "execute_result"
    }
   ],
   "source": [
    "import functools\n",
    "import logging\n",
    "\n",
    "def monitor(func):\n",
    "    @functools.wraps(func)\n",
    "    def inner2(*args, **kwargs):\n",
    "        print(kwargs)\n",
    "        logging.critical(f'input: {args}, {kwargs}')\n",
    "        ret = func(*args, **kwargs)\n",
    "        logging.critical(f'output: {ret}')\n",
    "        return ret\n",
    "    inner2.__name__ = func.__name__\n",
    "    inner2.__doc__ = func.__doc__\n",
    "    return inner2\n",
    "\n",
    "@monitor\n",
    "def hello(world, world2, extra='hello'):\n",
    "    '''world의 길이를 return합니다.'''\n",
    "    return len(world)\n",
    "\n",
    "hello('world', 'world2', extra='hello3'), hello.__name__, hello.__doc__"
   ]
  }
 ],
 "metadata": {
  "celltoolbar": "Slideshow",
  "kernelspec": {
   "display_name": "Python 3",
   "language": "python",
   "name": "python3"
  },
  "language_info": {
   "codemirror_mode": {
    "name": "ipython",
    "version": 3
   },
   "file_extension": ".py",
   "mimetype": "text/x-python",
   "name": "python",
   "nbconvert_exporter": "python",
   "pygments_lexer": "ipython3",
   "version": "3.6.1"
  }
 },
 "nbformat": 4,
 "nbformat_minor": 2
}
