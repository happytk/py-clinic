{
 "cells": [
  {
   "cell_type": "markdown",
   "metadata": {
    "slideshow": {
     "slide_type": "slide"
    }
   },
   "source": [
    "## LISTS\n",
    "*Lists are <u>**ordered mutable**</u> sequences*\n"
   ]
  },
  {
   "cell_type": "markdown",
   "metadata": {
    "slideshow": {
     "slide_type": "subslide"
    }
   },
   "source": [
    "- 기존 프로그래밍 언어로 치자면 배열과 비슷해요.\n",
    "- 길이의 제한은 없습니다.\n",
    "- <span style=\"color:blue\">무엇이든!</span> <span style=\"color:red\">섞어서!</span> 담을 수 있어요."
   ]
  },
  {
   "cell_type": "code",
   "execution_count": 1,
   "metadata": {
    "slideshow": {
     "slide_type": "subslide"
    }
   },
   "outputs": [
    {
     "data": {
      "text/plain": [
       "[1, 2, 3]"
      ]
     },
     "execution_count": 1,
     "metadata": {},
     "output_type": "execute_result"
    }
   ],
   "source": [
    "# list만들기\n",
    "mylist = []\n",
    "mylist.append(1)\n",
    "mylist.append(2)\n",
    "mylist.append(3)\n",
    "mylist\n",
    "#mylist = 'helloworld'"
   ]
  },
  {
   "cell_type": "code",
   "execution_count": 65,
   "metadata": {
    "slideshow": {
     "slide_type": "subslide"
    }
   },
   "outputs": [
    {
     "data": {
      "text/plain": [
       "[1, 2, 3]"
      ]
     },
     "execution_count": 65,
     "metadata": {},
     "output_type": "execute_result"
    }
   ],
   "source": [
    "# list만들기\n",
    "mylist = [1,2,3]\n",
    "mylist"
   ]
  },
  {
   "cell_type": "code",
   "execution_count": 1,
   "metadata": {
    "slideshow": {
     "slide_type": "subslide"
    }
   },
   "outputs": [
    {
     "data": {
      "text/plain": [
       "['h', 'e', 'l', 'l', 'o', 'w', 'o', 'r', 'l', 'd']"
      ]
     },
     "execution_count": 1,
     "metadata": {},
     "output_type": "execute_result"
    }
   ],
   "source": [
    "# list만들기\n",
    "mylist = list(\"helloworld\")\n",
    "mylist"
   ]
  },
  {
   "cell_type": "code",
   "execution_count": 2,
   "metadata": {
    "slideshow": {
     "slide_type": "subslide"
    }
   },
   "outputs": [
    {
     "data": {
      "text/plain": [
       "3"
      ]
     },
     "execution_count": 2,
     "metadata": {},
     "output_type": "execute_result"
    }
   ],
   "source": [
    "mylist = [1,2,3]\n",
    "len(mylist)"
   ]
  },
  {
   "cell_type": "code",
   "execution_count": 2,
   "metadata": {
    "slideshow": {
     "slide_type": "subslide"
    }
   },
   "outputs": [
    {
     "data": {
      "text/plain": [
       "(True, True, True, False, True)"
      ]
     },
     "execution_count": 2,
     "metadata": {},
     "output_type": "execute_result"
    }
   ],
   "source": [
    "mylist = [1,2,3]\n",
    "1 in mylist, 2 in mylist, 3 in mylist, 4 in mylist, 'a' in 'abc'"
   ]
  },
  {
   "cell_type": "code",
   "execution_count": 3,
   "metadata": {
    "slideshow": {
     "slide_type": "subslide"
    }
   },
   "outputs": [
    {
     "data": {
      "text/plain": [
       "['h', 'e', 'l', 'l', 'o', 'w', 'o', 'r', 'l', 'd']"
      ]
     },
     "execution_count": 3,
     "metadata": {},
     "output_type": "execute_result"
    }
   ],
   "source": [
    "# 문자열도 list로 바꿀 수 있어요.\n",
    "list('helloworld')"
   ]
  },
  {
   "cell_type": "code",
   "execution_count": 4,
   "metadata": {},
   "outputs": [
    {
     "name": "stdout",
     "output_type": "stream",
     "text": [
      "h e l l o w o r l d "
     ]
    }
   ],
   "source": [
    "for char in \"helloworld\":\n",
    "    print(char, end=\" \")"
   ]
  },
  {
   "cell_type": "code",
   "execution_count": 5,
   "metadata": {
    "slideshow": {
     "slide_type": "subslide"
    }
   },
   "outputs": [
    {
     "data": {
      "text/plain": [
       "[1, 2, 3, 1, 2, 3, 1, 2, 3]"
      ]
     },
     "execution_count": 5,
     "metadata": {},
     "output_type": "execute_result"
    }
   ],
   "source": [
    "# 복제\n",
    "mylist * 3"
   ]
  },
  {
   "cell_type": "code",
   "execution_count": 10,
   "metadata": {
    "slideshow": {
     "slide_type": "subslide"
    }
   },
   "outputs": [
    {
     "data": {
      "text/plain": [
       "([1, 2, 3], [1, 2, 3], [1, 2, 3], 4410800520, 4411599112, 4411542344)"
      ]
     },
     "execution_count": 10,
     "metadata": {},
     "output_type": "execute_result"
    }
   ],
   "source": [
    "# clone (http://www.pythontutor.com 에서 확인해보세요)\n",
    "mylist_ = mylist\n",
    "mylist2 = mylist[:]\n",
    "mylist3 = mylist * 1\n",
    "(\n",
    "    mylist,\n",
    "    mylist2,\n",
    "    mylist3,\n",
    "    id(mylist),\n",
    "    id(mylist2),\n",
    "    id(mylist3),\n",
    ")"
   ]
  },
  {
   "cell_type": "code",
   "execution_count": 101,
   "metadata": {
    "slideshow": {
     "slide_type": "subslide"
    }
   },
   "outputs": [
    {
     "data": {
      "text/plain": [
       "[1, 2, 3, 4, 5, 6]"
      ]
     },
     "execution_count": 101,
     "metadata": {},
     "output_type": "execute_result"
    }
   ],
   "source": [
    "# 결합\n",
    "[1,2,3] + [4,5,6]"
   ]
  },
  {
   "cell_type": "code",
   "execution_count": 5,
   "metadata": {
    "slideshow": {
     "slide_type": "subslide"
    }
   },
   "outputs": [
    {
     "data": {
      "text/plain": [
       "(True, False)"
      ]
     },
     "execution_count": 5,
     "metadata": {},
     "output_type": "execute_result"
    }
   ],
   "source": [
    "# 비교\n",
    "a = [1,2,3]\n",
    "b = [1,2,3]\n",
    "a == b, id(a) == id(b)"
   ]
  },
  {
   "cell_type": "code",
   "execution_count": 11,
   "metadata": {
    "slideshow": {
     "slide_type": "subslide"
    }
   },
   "outputs": [
    {
     "data": {
      "text/plain": [
       "(4410922056, 4411543304, 4411542856, 4411542856)"
      ]
     },
     "execution_count": 11,
     "metadata": {},
     "output_type": "execute_result"
    }
   ],
   "source": [
    "# 비교\n",
    "lst = [1,2,3]\n",
    "lst2 = [1,2,3,4,5]\n",
    "\n",
    "id(lst), id(lst2), id([]), id([1,2,3])  # 마지막 두개 id를 보세요"
   ]
  },
  {
   "cell_type": "code",
   "execution_count": 4,
   "metadata": {
    "slideshow": {
     "slide_type": "subslide"
    }
   },
   "outputs": [
    {
     "name": "stdout",
     "output_type": "stream",
     "text": [
      "[1, 2, 3]\n"
     ]
    },
    {
     "data": {
      "text/plain": [
       "(2, [1, 2], [1])"
      ]
     },
     "execution_count": 4,
     "metadata": {},
     "output_type": "execute_result"
    }
   ],
   "source": [
    "# indexing, slicing도 동작합니다.\n",
    "print(mylist)\n",
    "mylist[1], mylist[1:], mylist[:1] "
   ]
  },
  {
   "cell_type": "code",
   "execution_count": 47,
   "metadata": {
    "slideshow": {
     "slide_type": "subslide"
    }
   },
   "outputs": [
    {
     "name": "stdout",
     "output_type": "stream",
     "text": [
      "list index out of range\n"
     ]
    }
   ],
   "source": [
    "# Accessing an index which does not exist generates an exception (an error).\n",
    "try:\n",
    "    mylist[10]\n",
    "except IndexError as e:\n",
    "    print(e)"
   ]
  },
  {
   "cell_type": "code",
   "execution_count": 6,
   "metadata": {
    "slideshow": {
     "slide_type": "subslide"
    }
   },
   "outputs": [
    {
     "name": "stdout",
     "output_type": "stream",
     "text": [
      "[0, 1, 2, 3, 4, 5, 6, 7, 8, 9]\n",
      "0 apple\n",
      "1 orange\n",
      "2 berry\n"
     ]
    }
   ],
   "source": [
    "# forloop에서 종종 index가 필요할 때 (bad)\n",
    "print(list(range(10)))\n",
    "mylist = [\"apple\", \"orange\", \"berry\"]\n",
    "for i in range(len(mylist)):\n",
    "    print(i, mylist[i])"
   ]
  },
  {
   "cell_type": "code",
   "execution_count": 13,
   "metadata": {
    "slideshow": {
     "slide_type": "subslide"
    }
   },
   "outputs": [
    {
     "name": "stdout",
     "output_type": "stream",
     "text": [
      "0 apple\n",
      "1 orange\n",
      "2 berry\n"
     ]
    }
   ],
   "source": [
    "# forloop에서 종종 index가 필요할 때 (preferred)\n",
    "mylist = [\"apple\", \"orange\", \"berry\"]\n",
    "for i, name in enumerate(mylist):\n",
    "    print(i, name)"
   ]
  },
  {
   "cell_type": "markdown",
   "metadata": {
    "slideshow": {
     "slide_type": "subslide"
    }
   },
   "source": [
    "- <span style=\"color:blue\">무엇이든!</span> <span style=\"color:red\">섞어서!</span> 담을 수 있어요. -> **그렇지만 실제로는 이렇게 잘 하지 않습니다.**"
   ]
  },
  {
   "cell_type": "code",
   "execution_count": 69,
   "metadata": {},
   "outputs": [
    {
     "name": "stdout",
     "output_type": "stream",
     "text": [
      "2\n",
      "22\n"
     ]
    },
    {
     "ename": "TypeError",
     "evalue": "unsupported operand type(s) for *: 'int' and 'NoneType'",
     "output_type": "error",
     "traceback": [
      "\u001b[0;31m---------------------------------------------------------------------------\u001b[0m",
      "\u001b[0;31mTypeError\u001b[0m                                 Traceback (most recent call last)",
      "\u001b[0;32m<ipython-input-69-1657737ec99f>\u001b[0m in \u001b[0;36m<module>\u001b[0;34m()\u001b[0m\n\u001b[1;32m      1\u001b[0m \u001b[0;31m# 묶음처리를 하는 용도로 많이 사용되기 때문입니다.\u001b[0m\u001b[0;34m\u001b[0m\u001b[0;34m\u001b[0m\u001b[0m\n\u001b[1;32m      2\u001b[0m \u001b[0;32mfor\u001b[0m \u001b[0mi\u001b[0m \u001b[0;32min\u001b[0m \u001b[0;34m[\u001b[0m\u001b[0;36m1\u001b[0m\u001b[0;34m,\u001b[0m \u001b[0;34m'2'\u001b[0m\u001b[0;34m,\u001b[0m \u001b[0;32mNone\u001b[0m\u001b[0;34m]\u001b[0m\u001b[0;34m:\u001b[0m\u001b[0;34m\u001b[0m\u001b[0m\n\u001b[0;32m----> 3\u001b[0;31m     \u001b[0mprint\u001b[0m\u001b[0;34m(\u001b[0m\u001b[0;36m2\u001b[0m\u001b[0;34m*\u001b[0m\u001b[0mi\u001b[0m\u001b[0;34m)\u001b[0m\u001b[0;34m\u001b[0m\u001b[0m\n\u001b[0m",
      "\u001b[0;31mTypeError\u001b[0m: unsupported operand type(s) for *: 'int' and 'NoneType'"
     ]
    }
   ],
   "source": [
    "# 묶음처리를 하는 용도로 많이 사용되기 때문입니다.\n",
    "for i in [1, '2', None]:\n",
    "    print(2*i)"
   ]
  },
  {
   "cell_type": "markdown",
   "metadata": {
    "slideshow": {
     "slide_type": "slide"
    }
   },
   "source": [
    "## EXERCISE"
   ]
  },
  {
   "cell_type": "code",
   "execution_count": 1,
   "metadata": {
    "slideshow": {
     "slide_type": "subslide"
    }
   },
   "outputs": [
    {
     "ename": "SyntaxError",
     "evalue": "invalid syntax (<ipython-input-1-14f53c5edaee>, line 5)",
     "output_type": "error",
     "traceback": [
      "\u001b[0;36m  File \u001b[0;32m\"<ipython-input-1-14f53c5edaee>\"\u001b[0;36m, line \u001b[0;32m5\u001b[0m\n\u001b[0;31m    second_name =\u001b[0m\n\u001b[0m                  ^\u001b[0m\n\u001b[0;31mSyntaxError\u001b[0m\u001b[0;31m:\u001b[0m invalid syntax\n"
     ]
    }
   ],
   "source": [
    "# 세개의 이름을 담은list가 있습니다.\n",
    "names = [\"John\", \"Eric\", \"Jessica\"]\n",
    "\n",
    "# names에서 두번째 요소를 가져옵시다.\n",
    "second_name = \n",
    "\n",
    "# names의 길이\n",
    "numbers = \n",
    "\n",
    "# 여기서부터는 수정하지 마세요.\n",
    "print(numbers)\n",
    "print(\"The second name on the names list is %s\" % second_name)"
   ]
  },
  {
   "cell_type": "markdown",
   "metadata": {
    "slideshow": {
     "slide_type": "slide"
    }
   },
   "source": [
    "## DICTIONARIES\n",
    "*파이썬의 숨은 내부공로자. dictionary는 python의 많은 곳에서 사용되고 있습니다.*"
   ]
  },
  {
   "cell_type": "code",
   "execution_count": 6,
   "metadata": {
    "slideshow": {
     "slide_type": "subslide"
    }
   },
   "outputs": [
    {
     "data": {
      "text/plain": [
       "{'Jack': 938377264, 'Jill': 947662781, 'John': 938477566}"
      ]
     },
     "execution_count": 6,
     "metadata": {},
     "output_type": "execute_result"
    }
   ],
   "source": [
    "phonebook = {}\n",
    "phonebook[\"John\"] = 938477566\n",
    "phonebook[\"Jack\"] = 938377264\n",
    "phonebook[\"Jill\"] = 947662781\n",
    "\n",
    "phonebook"
   ]
  },
  {
   "cell_type": "code",
   "execution_count": 64,
   "metadata": {
    "slideshow": {
     "slide_type": "subslide"
    }
   },
   "outputs": [
    {
     "data": {
      "text/plain": [
       "{'Jack': 938377264, 'Jill': 947662781, 'John': 938477566}"
      ]
     },
     "execution_count": 64,
     "metadata": {},
     "output_type": "execute_result"
    }
   ],
   "source": [
    "phonebook = {\n",
    "    \"John\" : 938477566,\n",
    "    \"Jack\" : 938377264,\n",
    "    \"Jill\" : 947662781\n",
    "}\n",
    "phonebook"
   ]
  },
  {
   "cell_type": "code",
   "execution_count": 67,
   "metadata": {
    "slideshow": {
     "slide_type": "subslide"
    }
   },
   "outputs": [
    {
     "data": {
      "text/plain": [
       "{'Jack': 938377264, 'Jill': 947662781, 'John': 938477566}"
      ]
     },
     "execution_count": 67,
     "metadata": {},
     "output_type": "execute_result"
    }
   ],
   "source": [
    "phonebook = dict(John=938477566, J ack=938377264, Jill=947662781)\n",
    "phonebook"
   ]
  },
  {
   "cell_type": "code",
   "execution_count": 46,
   "metadata": {
    "slideshow": {
     "slide_type": "subslide"
    }
   },
   "outputs": [
    {
     "data": {
      "text/plain": [
       "3"
      ]
     },
     "execution_count": 46,
     "metadata": {},
     "output_type": "execute_result"
    }
   ],
   "source": [
    "len(phonebook)"
   ]
  },
  {
   "cell_type": "code",
   "execution_count": 29,
   "metadata": {
    "slideshow": {
     "slide_type": "subslide"
    }
   },
   "outputs": [
    {
     "name": "stdout",
     "output_type": "stream",
     "text": [
      "John\n",
      "Jack\n",
      "Jill\n",
      "John 938477566\n",
      "Jack 938377264\n",
      "Jill 947662781\n",
      "Phone number of John is 938477566\n",
      "Phone number of Jack is 938377264\n",
      "Phone number of Jill is 947662781\n"
     ]
    }
   ],
   "source": [
    "for entry in phonebook:\n",
    "    print(entry)\n",
    "\n",
    "for entry in phonebook:\n",
    "    print(entry, phonebook[entry])\n",
    "    \n",
    "for name, number in phonebook.items():\n",
    "    print(\"Phone number of %s is %d\" % (name, number))"
   ]
  },
  {
   "cell_type": "code",
   "execution_count": 36,
   "metadata": {
    "slideshow": {
     "slide_type": "subslide"
    }
   },
   "outputs": [
    {
     "data": {
      "text/plain": [
       "{'Jack': 938377264, 'Jill': 947662781}"
      ]
     },
     "execution_count": 36,
     "metadata": {},
     "output_type": "execute_result"
    }
   ],
   "source": [
    "phonebook = {\n",
    "   \"John\" : 938477566,\n",
    "   \"Jack\" : 938377264,\n",
    "   \"Jill\" : 947662781\n",
    "}\n",
    "del phonebook[\"John\"]\n",
    "phonebook"
   ]
  },
  {
   "cell_type": "code",
   "execution_count": 8,
   "metadata": {
    "slideshow": {
     "slide_type": "subslide"
    }
   },
   "outputs": [
    {
     "name": "stdout",
     "output_type": "stream",
     "text": [
      "938477566\n"
     ]
    },
    {
     "data": {
      "text/plain": [
       "{'Jack': 938377264, 'Jill': 947662781}"
      ]
     },
     "execution_count": 8,
     "metadata": {},
     "output_type": "execute_result"
    }
   ],
   "source": [
    "phonebook = {\n",
    "   \"John\" : 938477566,\n",
    "   \"Jack\" : 938377264,\n",
    "   \"Jill\" : 947662781\n",
    "}\n",
    "phonebook.pop(\"John\")\n",
    "phonebook"
   ]
  },
  {
   "cell_type": "code",
   "execution_count": 42,
   "metadata": {
    "slideshow": {
     "slide_type": "subslide"
    }
   },
   "outputs": [
    {
     "data": {
      "text/plain": [
       "(True, False)"
      ]
     },
     "execution_count": 42,
     "metadata": {},
     "output_type": "execute_result"
    }
   ],
   "source": [
    "(\"Jack\" in phonebook,\n",
    " \"Wook\" in phonebook)"
   ]
  },
  {
   "cell_type": "code",
   "execution_count": 4,
   "metadata": {},
   "outputs": [
    {
     "name": "stdout",
     "output_type": "stream",
     "text": [
      "True\n"
     ]
    },
    {
     "name": "stderr",
     "output_type": "stream",
     "text": [
      "pyenv-implicit: found multiple python2 in pyenv. Use version 2.7.13.\n"
     ]
    }
   ],
   "source": [
    "%%python2\n",
    "phonebook = {\n",
    "   \"John\" : 938477566,\n",
    "   \"Jack\" : 938377264,\n",
    "   \"Jill\" : 947662781\n",
    "}\n",
    "print phonebook.has_key(\"Jack\")"
   ]
  },
  {
   "cell_type": "code",
   "execution_count": 39,
   "metadata": {
    "slideshow": {
     "slide_type": "subslide"
    }
   },
   "outputs": [
    {
     "ename": "KeyError",
     "evalue": "'Wook'",
     "output_type": "error",
     "traceback": [
      "\u001b[0;31m---------------------------------------------------------------------------\u001b[0m",
      "\u001b[0;31mKeyError\u001b[0m                                  Traceback (most recent call last)",
      "\u001b[0;32m<ipython-input-39-634137a3adb0>\u001b[0m in \u001b[0;36m<module>\u001b[0;34m()\u001b[0m\n\u001b[0;32m----> 1\u001b[0;31m \u001b[0mphonebook\u001b[0m\u001b[1;33m[\u001b[0m\u001b[1;34m\"Wook\"\u001b[0m\u001b[1;33m]\u001b[0m\u001b[1;33m\u001b[0m\u001b[0m\n\u001b[0m",
      "\u001b[0;31mKeyError\u001b[0m: 'Wook'"
     ]
    }
   ],
   "source": [
    "phonebook[\"Wook\"]"
   ]
  },
  {
   "cell_type": "code",
   "execution_count": 6,
   "metadata": {
    "slideshow": {
     "slide_type": "subslide"
    }
   },
   "outputs": [
    {
     "data": {
      "text/plain": [
       "(938377264, None, 'Noname')"
      ]
     },
     "execution_count": 6,
     "metadata": {},
     "output_type": "execute_result"
    }
   ],
   "source": [
    "# 값을 가져오는 안전한 방법\n",
    "phonebook = {\n",
    "   \"John\" : 938477566,\n",
    "   \"Jack\" : 938377264,\n",
    "   \"Jill\" : 947662781\n",
    "}\n",
    "(\n",
    "    phonebook.get('Jack'),\n",
    "    phonebook.get(\"Wook\"),\n",
    "    phonebook.get(\"Wook\", \"Noname\")\n",
    ")"
   ]
  },
  {
   "cell_type": "code",
   "execution_count": 10,
   "metadata": {
    "slideshow": {
     "slide_type": "subslide"
    }
   },
   "outputs": [
    {
     "data": {
      "text/plain": [
       "{'Jack': 938377264, 'Jill': 947662781, 'John': 938477566, 'Mei': 0}"
      ]
     },
     "execution_count": 10,
     "metadata": {},
     "output_type": "execute_result"
    }
   ],
   "source": [
    "phonebook.setdefault('Mei', 0)\n",
    "phonebook.setdefault('Jack', 0)\n",
    "phonebook"
   ]
  },
  {
   "cell_type": "code",
   "execution_count": 11,
   "metadata": {
    "slideshow": {
     "slide_type": "subslide"
    }
   },
   "outputs": [
    {
     "data": {
      "text/plain": [
       "{'Iryan': 8,\n",
       " 'Isoo': 7,\n",
       " 'Jack': 938377264,\n",
       " 'Jill': 947662781,\n",
       " 'John': 938477566,\n",
       " 'Mei': 0}"
      ]
     },
     "execution_count": 11,
     "metadata": {},
     "output_type": "execute_result"
    }
   ],
   "source": [
    "# update\n",
    "phonebook.update({'Isoo': 7, 'Iryan': 8})\n",
    "phonebook"
   ]
  },
  {
   "cell_type": "code",
   "execution_count": 12,
   "metadata": {
    "slideshow": {
     "slide_type": "subslide"
    }
   },
   "outputs": [
    {
     "data": {
      "text/plain": [
       "(4526892160,\n",
       " 4526894392,\n",
       " dict_keys(['John', 'Jack', 'Jill', 'Mei', 'Isoo', 'Iryan']),\n",
       " dict_keys(['John', 'Jack', 'Jill', 'Mei', 'Isoo', 'Iryan', 'hearts']))"
      ]
     },
     "execution_count": 12,
     "metadata": {},
     "output_type": "execute_result"
    }
   ],
   "source": [
    "# clone\n",
    "phonebook2 = dict(phonebook)\n",
    "phonebook2['hearts'] = 917273612\n",
    "(\n",
    "    id(phonebook), id(phonebook2),\n",
    "    phonebook.keys(),\n",
    "    phonebook2.keys(),\n",
    ")"
   ]
  },
  {
   "cell_type": "code",
   "execution_count": 9,
   "metadata": {
    "slideshow": {
     "slide_type": "subslide"
    }
   },
   "outputs": [
    {
     "name": "stdout",
     "output_type": "stream",
     "text": [
      "True 4431191568 4431155776\n",
      "False 4431191568 4431155776\n"
     ]
    }
   ],
   "source": [
    "# 다른 object에 대한 dict의 비교연산\n",
    "phonebook2 = dict(phonebook)\n",
    "print(\n",
    "    phonebook2 == phonebook,\n",
    "    id(phonebook2),\n",
    "    id(phonebook),\n",
    ")\n",
    "phonebook2['John'] = 938477565  # 값을 바꾸면\n",
    "print(\n",
    "    phonebook2 == phonebook,\n",
    "    id(phonebook2),\n",
    "    id(phonebook),\n",
    ")"
   ]
  },
  {
   "cell_type": "markdown",
   "metadata": {
    "slideshow": {
     "slide_type": "subslide"
    }
   },
   "source": [
    "python3.6부터는 dictionaries는 key의 insertion order가 지켜집니다. 이전 버전에서는 `OrderedDict`을 사용했습니다. 그렇지만 하위호환성을 유지하고, 명시적으로 정렬된다는 것이 드러나도록 `OrderedDict`을 계속 사용하는 것이 좋습니다.\n",
    "\n",
    "http://stackoverflow.com/questions/39980323/dictionaries-are-ordered-in-python-3-6"
   ]
  },
  {
   "cell_type": "code",
   "execution_count": 10,
   "metadata": {
    "slideshow": {
     "slide_type": "subslide"
    }
   },
   "outputs": [
    {
     "data": {
      "text/plain": [
       "(True, True, True, True, False)"
      ]
     },
     "execution_count": 10,
     "metadata": {},
     "output_type": "execute_result"
    }
   ],
   "source": [
    "from collections import OrderedDict\n",
    "od = OrderedDict([('k1', 'v1'), ('k2', 'v2'), ('k3', 'v3'), ('k4', 'v4')])\n",
    "od2 = OrderedDict([('k4', 'v4'), ('k2', 'v2'), ('k3', 'v3'), ('k1', 'v1')])\n",
    "nd = dict([('k1', 'v1'), ('k2', 'v2'), ('k3', 'v3'), ('k4', 'v4')])\n",
    "nd2 = dict([('k4', 'v4'), ('k2', 'v2'), ('k3', 'v3'), ('k1', 'v1')])\n",
    "\n",
    "(\n",
    "    list(od.keys()) == list(nd.keys()),\n",
    "    nd == nd2, # 순서가 상관없는 dict끼리의 비교(dict, dict)\n",
    "    od == nd, # 순서가 상관없는 비교(dict, Ordereddict)\n",
    "    od == nd2, # 순서가 상관없는 비교(dict, Ordereddict)\n",
    "    od2 == od # 순서가 상관있는 비교(Ordereddict, Ordereddict)\n",
    ")    "
   ]
  },
  {
   "cell_type": "code",
   "execution_count": 13,
   "metadata": {
    "slideshow": {
     "slide_type": "subslide"
    }
   },
   "outputs": [
    {
     "name": "stdout",
     "output_type": "stream",
     "text": [
      "False\n",
      "['k3', 'k2', 'k1', 'k4']\n"
     ]
    },
    {
     "name": "stderr",
     "output_type": "stream",
     "text": [
      "pyenv-implicit: found multiple python2 in pyenv. Use version 2.7.13.\n"
     ]
    }
   ],
   "source": [
    "%%python2\n",
    "#-*-encoding:utf-8-*-\n",
    "from collections import OrderedDict\n",
    "od = OrderedDict([('k1', 'v1'), ('k2', 'v2'), ('k3', 'v3'), ('k4', 'v4')])\n",
    "nd = dict([('k1', 'v1'), ('k2', 'v2'), ('k3', 'v3'), ('k4', 'v4')])\n",
    "\n",
    "print(list(od.keys()) == list(nd.keys()))\n",
    "print(nd.keys())  # key가 초기화 시점의 순서를 유지하지 않습니다."
   ]
  },
  {
   "cell_type": "code",
   "execution_count": 78,
   "metadata": {
    "slideshow": {
     "slide_type": "subslide"
    }
   },
   "outputs": [
    {
     "data": {
      "text/plain": [
       "True"
      ]
     },
     "execution_count": 78,
     "metadata": {},
     "output_type": "execute_result"
    }
   ],
   "source": [
    "# 다양한 초기화 방법\n",
    "a = dict(one=1, two=2, three=3)\n",
    "b = {'one': 1, 'two': 2, 'three': 3}\n",
    "c = dict(zip(['one', 'two', 'three'], [1, 2, 3]))\n",
    "d = dict([('one', 1), ('two', 2), ('three', 3)])\n",
    "e = {'one': 1, 'two': 2, 'three': 3}\n",
    "\n",
    "# 5개 모두 같은 결과입니다.\n",
    "a == b == c == d == e"
   ]
  },
  {
   "cell_type": "code",
   "execution_count": 79,
   "metadata": {
    "slideshow": {
     "slide_type": "subslide"
    }
   },
   "outputs": [
    {
     "name": "stdout",
     "output_type": "stream",
     "text": [
      "['__class__', '__contains__', '__delattr__', '__delitem__', '__dir__', '__doc__', '__eq__', '__format__', '__ge__', '__getattribute__', '__getitem__', '__gt__', '__hash__', '__init__', '__init_subclass__', '__iter__', '__le__', '__len__', '__lt__', '__ne__', '__new__', '__reduce__', '__reduce_ex__', '__repr__', '__setattr__', '__setitem__', '__sizeof__', '__str__', '__subclasshook__', 'clear', 'copy', 'fromkeys', 'get', 'items', 'keys', 'pop', 'popitem', 'setdefault', 'update', 'values']\n"
     ]
    }
   ],
   "source": [
    "# 끝? 아니요. 아직도 볼게 많습니다.\n",
    "print(dir({}))  # copy, fromkeys, popitem, clear"
   ]
  },
  {
   "cell_type": "code",
   "execution_count": 9,
   "metadata": {
    "slideshow": {
     "slide_type": "subslide"
    }
   },
   "outputs": [
    {
     "data": {
      "text/plain": [
       "{'hello': 0}"
      ]
     },
     "execution_count": 9,
     "metadata": {},
     "output_type": "execute_result"
    }
   ],
   "source": [
    "# collections.defaultdict, collections.Counter 도 \n",
    "# 종종 유용하게 사용할 수 있습니다.\n",
    "from collections import defaultdict\n",
    "d = defaultdict(int)\n",
    "d['hello'] += 1\n",
    "d\n",
    "\n",
    "d = dict()\n",
    "if 'hello' in d:\n",
    "    d['hello'] += 1\n",
    "else:\n",
    "    d['hello'] = 0\n",
    "d"
   ]
  },
  {
   "cell_type": "code",
   "execution_count": 63,
   "metadata": {
    "slideshow": {
     "slide_type": "subslide"
    }
   },
   "outputs": [
    {
     "name": "stdout",
     "output_type": "stream",
     "text": [
      "Counter({'l': 3, 'o': 2, 'h': 1, 'e': 1, 'w': 1, 'r': 1, 'd': 1})\n",
      "[('l', 3), ('o', 2), ('h', 1), ('e', 1), ('w', 1), ('r', 1), ('d', 1)]\n",
      "[('l', 3), ('o', 2), ('h', 1)]\n"
     ]
    }
   ],
   "source": [
    "from collections import Counter\n",
    "print(Counter('helloworld'))\n",
    "print(Counter('helloworld').most_common())\n",
    "print(Counter('helloworld').most_common(3))"
   ]
  },
  {
   "cell_type": "code",
   "execution_count": 20,
   "metadata": {
    "slideshow": {
     "slide_type": "subslide"
    }
   },
   "outputs": [],
   "source": [
    "from collections import ChainMap\n",
    "# A ChainMap groups multiple dicts or other mappings together\n",
    "# to create a single, updateable view.\n",
    "# If no maps are specified,\n",
    "# a single empty dictionary is provided so that a new chain always has at least one mapping.\n",
    "\n",
    "import builtins\n",
    "# vars: Return the __dict__ attribute for a module, class, instance,\n",
    "# or any other object with a __dict__ attribute.\n",
    "\n",
    "pylookup = ChainMap(locals(), globals(), vars(builtins))"
   ]
  },
  {
   "cell_type": "markdown",
   "metadata": {
    "slideshow": {
     "slide_type": "slide"
    }
   },
   "source": [
    "## EXERCISE"
   ]
  },
  {
   "cell_type": "code",
   "execution_count": 10,
   "metadata": {
    "slideshow": {
     "slide_type": "subslide"
    }
   },
   "outputs": [
    {
     "name": "stdout",
     "output_type": "stream",
     "text": [
      "Jake is listed in the phonebook.\n",
      "Jill is not listed in the phonebook.\n"
     ]
    }
   ],
   "source": [
    "phonebook = {\n",
    "    \"John\" : 938477566,\n",
    "    \"Jack\" : 938377264,\n",
    "    \"Jill\" : 947662781\n",
    "}\n",
    "\n",
    "# write your code here\n",
    "# phonebook['Jake'] = 93482374\n",
    "phonebook.update(dict(Jake=93482374))\n",
    "phonebook.pop('Jill')\n",
    "\n",
    "\n",
    "# testing code\n",
    "if \"Jake\" in phonebook:\n",
    "    print(\"Jake is listed in the phonebook.\")\n",
    "if \"Jill\" not in phonebook:\n",
    "    print(\"Jill is not listed in the phonebook.\")"
   ]
  },
  {
   "cell_type": "markdown",
   "metadata": {
    "slideshow": {
     "slide_type": "slide"
    }
   },
   "source": [
    "## TUPLES"
   ]
  },
  {
   "cell_type": "markdown",
   "metadata": {
    "slideshow": {
     "slide_type": "fragment"
    }
   },
   "source": [
    "- Tuples are immutable sequences\n",
    "  - *Lists are ordered mutable sequences*\n",
    "- append나 extend같은 명령어를 사용해서 element를 추가할 수 __없습니다.__\n",
    "- element를 삭제할 수도 __없습니다.__\n",
    "- tuple안의 element를 검색할 수는 있습니다.\n",
    "- in operator도 사용할 수 있습니다."
   ]
  },
  {
   "cell_type": "markdown",
   "metadata": {
    "slideshow": {
     "slide_type": "slide"
    }
   },
   "source": [
    "#### 그렇다면 <span class=\"mark\">왜 TUPLE이 필요한가요?</span> 나는 LIST로 충분할 것 같은데요?"
   ]
  },
  {
   "cell_type": "markdown",
   "metadata": {
    "slideshow": {
     "slide_type": "subslide"
    }
   },
   "source": [
    "LIST보다 빠릅니다."
   ]
  },
  {
   "cell_type": "code",
   "execution_count": 23,
   "metadata": {},
   "outputs": [
    {
     "data": {
      "text/plain": [
       "(0.38644645300519187, 0.5286254590027966)"
      ]
     },
     "execution_count": 23,
     "metadata": {},
     "output_type": "execute_result"
    }
   ],
   "source": [
    "from timeit import timeit\n",
    "(timeit(lambda: sum((1,2,3,4,5,6,7,8,9,10,11,12,13,14,15,16,17,18,19,20))),\n",
    " timeit(lambda: sum([1,2,3,4,5,6,7,8,9,10,11,12,13,14,15,16,17,18,19,20])))"
   ]
  },
  {
   "cell_type": "markdown",
   "metadata": {
    "slideshow": {
     "slide_type": "subslide"
    }
   },
   "source": [
    "- 이 데이터는 변하지 않을 거라는 믿음(자신감)을 줘요.\n",
    "- 외부(DB, 네트웍)에서 온 조회성 데이터같은 것을 표현하기에 적합해요.\n",
    "- 함수의 argument는 tuple로 전달됩니다.\n",
    "- 안전한 프로그래밍(write-protected) 습관을 들이기에 좋습니다."
   ]
  },
  {
   "cell_type": "markdown",
   "metadata": {
    "slideshow": {
     "slide_type": "subslide"
    }
   },
   "source": [
    "**변하지 않기 때문에 hashable할 수 있고, dictionary의 key로도 쓰일 수 있습니다.**"
   ]
  },
  {
   "cell_type": "code",
   "execution_count": 24,
   "metadata": {
    "slideshow": {
     "slide_type": "-"
    }
   },
   "outputs": [
    {
     "data": {
      "text/plain": [
       "{(1, 2, 3): (5, 6, 7)}"
      ]
     },
     "execution_count": 24,
     "metadata": {},
     "output_type": "execute_result"
    }
   ],
   "source": [
    "d={}\n",
    "d[(1,2,3)] = (4,5,6)\n",
    "d[(1,2,3)] = (5,6,7)\n",
    "d"
   ]
  },
  {
   "cell_type": "code",
   "execution_count": 25,
   "metadata": {},
   "outputs": [
    {
     "name": "stdout",
     "output_type": "stream",
     "text": [
      "unhashable type: 'list'\n"
     ]
    }
   ],
   "source": [
    "d = {}\n",
    "try:\n",
    "    d[[1,2,3]] = (4,5,6)\n",
    "except TypeError as e:\n",
    "    print(e)"
   ]
  },
  {
   "cell_type": "code",
   "execution_count": 26,
   "metadata": {
    "slideshow": {
     "slide_type": "subslide"
    }
   },
   "outputs": [
    {
     "data": {
      "text/plain": [
       "(('Ringo', 'Drum', 1940), tuple)"
      ]
     },
     "execution_count": 26,
     "metadata": {},
     "output_type": "execute_result"
    }
   ],
   "source": [
    "member = ('Paul', 'Bass', 1942)\n",
    "member2 = ('Ringo', 'Drum', 1940)\n",
    "member2, type(member2)"
   ]
  },
  {
   "cell_type": "markdown",
   "metadata": {
    "slideshow": {
     "slide_type": "subslide"
    }
   },
   "source": [
    "괄호가 꼭 필요한건 아니에요."
   ]
  },
  {
   "cell_type": "code",
   "execution_count": 14,
   "metadata": {},
   "outputs": [],
   "source": [
    "row = 1, 'Fred'\n",
    "row2 = (2, 'Bob')\n",
    "row3 = ('Bill')  # 실수하지 않게 조심.\n",
    "row4 = ('Bill',)\n",
    "row5 = 'Bill',  # 실수하지 않게 조심.\n",
    "row6 = ()"
   ]
  },
  {
   "cell_type": "code",
   "execution_count": 15,
   "metadata": {},
   "outputs": [
    {
     "data": {
      "text/plain": [
       "(tuple, tuple, str, tuple, tuple, tuple, 'BillBILL2')"
      ]
     },
     "execution_count": 15,
     "metadata": {},
     "output_type": "execute_result"
    }
   ],
   "source": [
    "type(row), type(row2), type(row3), type(row4), type(row5), type(row6), row3"
   ]
  },
  {
   "cell_type": "markdown",
   "metadata": {
    "slideshow": {
     "slide_type": "subslide"
    }
   },
   "source": [
    "LIST와 거의 비슷하게 연산자를 사용할 수 있습니다."
   ]
  },
  {
   "cell_type": "code",
   "execution_count": 29,
   "metadata": {},
   "outputs": [
    {
     "data": {
      "text/plain": [
       "(True,\n",
       " 3,\n",
       " ('Paul', 'Bass', 1942, 'Ringo', 'Drum', 1940),\n",
       " ('Paul', 'Bass', 1942, 'Paul', 'Bass', 1942, 'Paul', 'Bass', 1942))"
      ]
     },
     "execution_count": 29,
     "metadata": {},
     "output_type": "execute_result"
    }
   ],
   "source": [
    "(\n",
    "    'Paul' in member,\n",
    "     len(member),\n",
    "     member + member2,\n",
    "     member * 3\n",
    ")"
   ]
  },
  {
   "cell_type": "code",
   "execution_count": 30,
   "metadata": {
    "slideshow": {
     "slide_type": "subslide"
    }
   },
   "outputs": [
    {
     "name": "stdout",
     "output_type": "stream",
     "text": [
      "Paul\n",
      "Bass\n",
      "1942\n"
     ]
    }
   ],
   "source": [
    "# iteration\n",
    "for entry in member:\n",
    "    print(entry)"
   ]
  },
  {
   "cell_type": "code",
   "execution_count": 21,
   "metadata": {},
   "outputs": [
    {
     "data": {
      "text/plain": [
       "(True, 4430838736, 4430839240)"
      ]
     },
     "execution_count": 21,
     "metadata": {},
     "output_type": "execute_result"
    }
   ],
   "source": [
    "# equal test, id는 다를지라도 목록의 값으로 비교해서 판단합니다.\n",
    "(\n",
    "    (1,2,3) == (1,2,3),\n",
    "    id((1,2,3)),\n",
    "    id((1,2,3))\n",
    ")"
   ]
  },
  {
   "cell_type": "code",
   "execution_count": 22,
   "metadata": {
    "scrolled": true,
    "slideshow": {
     "slide_type": "subslide"
    }
   },
   "outputs": [
    {
     "data": {
      "text/plain": [
       "([1, 9], [1, 2], [1, 2, 3])"
      ]
     },
     "execution_count": 22,
     "metadata": {},
     "output_type": "execute_result"
    }
   ],
   "source": [
    "# 목록은 불변이지만 목록안의 내용 자체가 변하지 않는 것은 아니에요.\n",
    "tpl = ([1,], [1,2,], [1,2,3])\n",
    "tpl[0].append(9)\n",
    "tpl"
   ]
  },
  {
   "cell_type": "markdown",
   "metadata": {},
   "source": [
    "![](img/tuple_allow_to_change_the_contents.png)"
   ]
  },
  {
   "cell_type": "markdown",
   "metadata": {
    "slideshow": {
     "slide_type": "subslide"
    }
   },
   "source": [
    "### (참고) namedtuple은 기본내장형은 아니지만 많이 사용해요.\n",
    "- 값만 관리하기보다 명시적으로 key와 함께 사용하고 싶을 때"
   ]
  },
  {
   "cell_type": "code",
   "execution_count": 34,
   "metadata": {
    "slideshow": {
     "slide_type": "fragment"
    }
   },
   "outputs": [
    {
     "data": {
      "text/plain": [
       "Member(name='George', instrument='Guitar', birth_year=1942)"
      ]
     },
     "execution_count": 34,
     "metadata": {},
     "output_type": "execute_result"
    }
   ],
   "source": [
    "from collections import namedtuple\n",
    "Member = namedtuple('Member', 'name,instrument,birth_year')\n",
    "member = Member('George', 'Guitar', 1942)\n",
    "member"
   ]
  },
  {
   "cell_type": "code",
   "execution_count": 35,
   "metadata": {
    "slideshow": {
     "slide_type": "fragment"
    }
   },
   "outputs": [
    {
     "data": {
      "text/plain": [
       "('Guitar', 'George')"
      ]
     },
     "execution_count": 35,
     "metadata": {},
     "output_type": "execute_result"
    }
   ],
   "source": [
    "(member[1],\n",
    " member.name)"
   ]
  },
  {
   "cell_type": "markdown",
   "metadata": {
    "slideshow": {
     "slide_type": "slide"
    }
   },
   "source": [
    "## SETS\n",
    "*In computer science, a set is an abstract data type that can store certain values, without any particular order, and no repeated values.* --wikipedia."
   ]
  },
  {
   "cell_type": "markdown",
   "metadata": {
    "slideshow": {
     "slide_type": "subslide"
    }
   },
   "source": [
    "- A set is a mutable **unordered** collection that **cannot contain duplicates** \n",
    " - 순서는 중요하지 않고  \n",
    " - 중복된 값을 허용하지 않습니다."
   ]
  },
  {
   "cell_type": "code",
   "execution_count": 36,
   "metadata": {
    "slideshow": {
     "slide_type": "subslide"
    }
   },
   "outputs": [
    {
     "data": {
      "text/plain": [
       "{'Eric', 'and', 'is', 'my', 'name'}"
      ]
     },
     "execution_count": 36,
     "metadata": {},
     "output_type": "execute_result"
    }
   ],
   "source": [
    "# {}를 이용해서 표현합니다.\n",
    "{'my', 'name', 'is', 'Eric', 'and', 'Eric', 'is', 'my', 'name'}"
   ]
  },
  {
   "cell_type": "code",
   "execution_count": 17,
   "metadata": {
    "slideshow": {
     "slide_type": "subslide"
    }
   },
   "outputs": [
    {
     "data": {
      "text/plain": [
       "{'Eric', 'and', 'is', 'my', 'name'}"
      ]
     },
     "execution_count": 17,
     "metadata": {},
     "output_type": "execute_result"
    }
   ],
   "source": [
    "set(\"my name is Eric and Eric is my name\".split())"
   ]
  },
  {
   "cell_type": "code",
   "execution_count": 16,
   "metadata": {
    "slideshow": {
     "slide_type": "subslide"
    }
   },
   "outputs": [
    {
     "data": {
      "text/plain": [
       "True"
      ]
     },
     "execution_count": 16,
     "metadata": {},
     "output_type": "execute_result"
    }
   ],
   "source": [
    "# 순서는 중요하지 않아요!\n",
    "set([\"Jake\", \"John\", \"Eric\"]) == {\"John\", \"Jake\", \"Eric\"}"
   ]
  },
  {
   "cell_type": "code",
   "execution_count": 37,
   "metadata": {
    "slideshow": {
     "slide_type": "subslide"
    }
   },
   "outputs": [
    {
     "data": {
      "text/plain": [
       "({'John'}, {'John'}, {'John'}, {'John'})"
      ]
     },
     "execution_count": 37,
     "metadata": {},
     "output_type": "execute_result"
    }
   ],
   "source": [
    "a = set([\"Jake\", \"John\", \"Eric\"])\n",
    "b = set([\"John\", \"Jill\"])\n",
    "\n",
    "a.intersection(b), b.intersection(a), a & b, b & a"
   ]
  },
  {
   "cell_type": "code",
   "execution_count": 38,
   "metadata": {
    "slideshow": {
     "slide_type": "subslide"
    }
   },
   "outputs": [
    {
     "data": {
      "text/plain": [
       "({'Eric', 'Jake', 'Jill'},\n",
       " {'Eric', 'Jake', 'Jill'},\n",
       " {'Eric', 'Jake', 'Jill'},\n",
       " {'Eric', 'Jake', 'Jill'})"
      ]
     },
     "execution_count": 38,
     "metadata": {},
     "output_type": "execute_result"
    }
   ],
   "source": [
    "a = set([\"Jake\", \"John\", \"Eric\"])\n",
    "b = set([\"John\", \"Jill\"])\n",
    "\n",
    "# 교집합을 제외한\n",
    "a.symmetric_difference(b), b.symmetric_difference(a), a^b, b^a"
   ]
  },
  {
   "cell_type": "code",
   "execution_count": 39,
   "metadata": {
    "slideshow": {
     "slide_type": "subslide"
    }
   },
   "outputs": [
    {
     "data": {
      "text/plain": [
       "({'Eric', 'Jake'}, {'Jill'}, {'Eric', 'Jake'}, {'Jill'})"
      ]
     },
     "execution_count": 39,
     "metadata": {},
     "output_type": "execute_result"
    }
   ],
   "source": [
    "a = set([\"Jake\", \"John\", \"Eric\"])\n",
    "b = set([\"John\", \"Jill\"])\n",
    "\n",
    "# 여집합\n",
    "a.difference(b), b.difference(a), a-b, b-a"
   ]
  },
  {
   "cell_type": "code",
   "execution_count": 40,
   "metadata": {
    "slideshow": {
     "slide_type": "subslide"
    }
   },
   "outputs": [
    {
     "data": {
      "text/plain": [
       "({'Eric', 'Jake', 'Jill', 'John'}, {'Eric', 'Jake', 'Jill', 'John'})"
      ]
     },
     "execution_count": 40,
     "metadata": {},
     "output_type": "execute_result"
    }
   ],
   "source": [
    "a = set([\"Jake\", \"John\", \"Eric\"])\n",
    "b = set([\"John\", \"Jill\"])\n",
    "\n",
    "# 합집합\n",
    "a.union(b), a | b"
   ]
  },
  {
   "cell_type": "code",
   "execution_count": 43,
   "metadata": {
    "slideshow": {
     "slide_type": "subslide"
    }
   },
   "outputs": [
    {
     "data": {
      "text/plain": [
       "({'Eric', 'Jake', 'John'}, {'Jill', 'John'})"
      ]
     },
     "execution_count": 43,
     "metadata": {},
     "output_type": "execute_result"
    }
   ],
   "source": [
    "# 이 연산들은 모두 새로운 객체를 생성해냅니다.\n",
    "a = set([\"Jake\", \"John\", \"Eric\"])\n",
    "b = set([\"John\", \"Jill\"])\n",
    "\n",
    "a|b, a&b, a-b, a^b\n",
    "a, b # a,b는 변하지 않았습니다."
   ]
  },
  {
   "cell_type": "code",
   "execution_count": 47,
   "metadata": {
    "slideshow": {
     "slide_type": "subslide"
    }
   },
   "outputs": [
    {
     "data": {
      "text/plain": [
       "{'a', 'b', 'c', 'd'}"
      ]
     },
     "execution_count": 47,
     "metadata": {},
     "output_type": "execute_result"
    }
   ],
   "source": [
    "# 객체 스스로를 바꾸고 싶다면?\n",
    "a = set('abc')\n",
    "a.update(set('bcd'))\n",
    "a"
   ]
  },
  {
   "cell_type": "markdown",
   "metadata": {
    "slideshow": {
     "slide_type": "slide"
    }
   },
   "source": [
    "## EXERCISE \n"
   ]
  },
  {
   "cell_type": "code",
   "execution_count": 32,
   "metadata": {},
   "outputs": [
    {
     "data": {
      "text/plain": [
       "{\"''\",\n",
       " '(plus',\n",
       " '--',\n",
       " ':-)',\n",
       " 'By',\n",
       " 'Dynamic',\n",
       " 'Functions:',\n",
       " 'I/O.',\n",
       " 'Python',\n",
       " 'Static',\n",
       " 'SystemExit',\n",
       " 'These',\n",
       " 'To',\n",
       " 'Unicode',\n",
       " '__displayhook__',\n",
       " '__excepthook__',\n",
       " '__stderr__',\n",
       " '__stdin__',\n",
       " '__stdout__',\n",
       " 'about',\n",
       " 'absolute',\n",
       " 'access',\n",
       " 'after',\n",
       " 'algorithm.',\n",
       " 'an',\n",
       " 'any',\n",
       " 'arguments;',\n",
       " 'argv',\n",
       " 'argv[0]',\n",
       " 'as',\n",
       " 'assign',\n",
       " 'assigning',\n",
       " 'available',\n",
       " 'be',\n",
       " 'been',\n",
       " 'behave',\n",
       " 'binary',\n",
       " 'built',\n",
       " 'builtin_module_names',\n",
       " 'builtins._',\n",
       " 'bytes',\n",
       " 'called',\n",
       " 'calls',\n",
       " 'checks',\n",
       " 'code',\n",
       " 'command',\n",
       " 'containers.',\n",
       " 'control',\n",
       " 'copyright',\n",
       " 'count',\n",
       " 'custom',\n",
       " 'customize',\n",
       " 'debug',\n",
       " 'depth',\n",
       " 'dictionary',\n",
       " 'directory,',\n",
       " 'displayhook',\n",
       " 'displayhook()',\n",
       " 'displayhook;',\n",
       " 'dlopen()',\n",
       " \"don't\",\n",
       " 'else',\n",
       " 'encoded',\n",
       " 'error',\n",
       " 'events',\n",
       " 'exc_info()',\n",
       " 'excepthook',\n",
       " 'excepthook()',\n",
       " 'excepthook;',\n",
       " 'exception',\n",
       " 'exec_prefix',\n",
       " 'executable',\n",
       " 'exit',\n",
       " 'exit()',\n",
       " 'files)',\n",
       " 'find',\n",
       " 'flags',\n",
       " 'float',\n",
       " 'float_info',\n",
       " 'float_repr_style',\n",
       " 'floats',\n",
       " 'function',\n",
       " 'get',\n",
       " 'getdlopenflags()',\n",
       " 'getprofile()',\n",
       " 'getrecursionlimit()',\n",
       " 'getrefcount()',\n",
       " 'getsizeof()',\n",
       " 'gettrace()',\n",
       " 'global',\n",
       " 'handle',\n",
       " 'handler,',\n",
       " 'has',\n",
       " 'hash',\n",
       " 'hash_info',\n",
       " 'hexversion',\n",
       " 'how',\n",
       " 'identifier',\n",
       " 'if',\n",
       " 'implementation',\n",
       " 'implementation.',\n",
       " 'indicating',\n",
       " 'information',\n",
       " 'information.',\n",
       " 'input',\n",
       " 'input()',\n",
       " 'install',\n",
       " 'int',\n",
       " 'int_info',\n",
       " 'integer',\n",
       " 'interact',\n",
       " 'interactive',\n",
       " 'interpreter',\n",
       " \"interpreter's\",\n",
       " 'interpreter.',\n",
       " 'into',\n",
       " 'it',\n",
       " 'its',\n",
       " 'known',\n",
       " 'largest',\n",
       " 'last',\n",
       " 'last_traceback',\n",
       " 'last_type',\n",
       " 'last_value',\n",
       " 'length',\n",
       " 'library',\n",
       " 'like',\n",
       " 'loaded',\n",
       " 'machine-specific',\n",
       " 'maintained',\n",
       " 'max',\n",
       " 'maxsize',\n",
       " 'maxunicode',\n",
       " 'messages',\n",
       " 'module',\n",
       " 'modules',\n",
       " 'named',\n",
       " 'names',\n",
       " 'notice',\n",
       " 'object',\n",
       " 'object;',\n",
       " 'objects',\n",
       " 'objects:',\n",
       " 'often',\n",
       " 'one',\n",
       " 'original',\n",
       " 'other',\n",
       " 'output',\n",
       " 'path;',\n",
       " 'path[0]',\n",
       " 'pertaining',\n",
       " 'platform',\n",
       " 'point',\n",
       " 'possible',\n",
       " 'prefix',\n",
       " 'print',\n",
       " 'print()',\n",
       " 'printed.',\n",
       " 'printing',\n",
       " 'profiling',\n",
       " 'provides',\n",
       " 'raising',\n",
       " 'recursion',\n",
       " 'redirect',\n",
       " 'reference',\n",
       " 'replace',\n",
       " 'repr()',\n",
       " 'results',\n",
       " 'return',\n",
       " 'returns',\n",
       " 'save',\n",
       " 'screen,',\n",
       " 'script',\n",
       " 'sequence',\n",
       " 'session',\n",
       " 'set',\n",
       " 'setcheckinterval()',\n",
       " 'setdlopenflags()',\n",
       " 'setprofile()',\n",
       " 'setrecursionlimit()',\n",
       " 'settrace()',\n",
       " 'show',\n",
       " 'single',\n",
       " 'size',\n",
       " 'some',\n",
       " 'standard',\n",
       " 'stderr',\n",
       " 'stderr;',\n",
       " 'stdin',\n",
       " 'stdin;',\n",
       " 'stdout',\n",
       " 'stdout;',\n",
       " 'strongly',\n",
       " 'struct',\n",
       " 'style',\n",
       " 'supported',\n",
       " 'sys.stderr',\n",
       " 'than',\n",
       " 'these,',\n",
       " 'these.',\n",
       " 'this',\n",
       " 'thread',\n",
       " 'thread-safe',\n",
       " 'thread_info',\n",
       " 'three',\n",
       " 'top-level',\n",
       " 'touch!',\n",
       " 'traceback',\n",
       " 'tracing',\n",
       " 'tuple',\n",
       " 'type',\n",
       " 'uncaught',\n",
       " 'value',\n",
       " 'version',\n",
       " 'version_info',\n",
       " 'with'}"
      ]
     },
     "execution_count": 32,
     "metadata": {},
     "output_type": "execute_result"
    }
   ],
   "source": [
    "import os\n",
    "test_str = os.__doc__\n",
    "# test_str을 단어조합으로 만들어보세요. 총 몇개인가요?\n",
    "lst1 = test_str.split()\n",
    "len(lst1)\n",
    "\n",
    "# test_str을 중복되지 않는 목록으로 만들어보세요.\n",
    "len(set(lst1))\n",
    "\n",
    "import sys\n",
    "test_str2 = sys.__doc__\n",
    "lst2 = test_str2.split()\n",
    "lst2\n",
    "# # test_str2의 단어조합을 만들어보세요. 총 몇개인가요?\n",
    "len(lst2)\n",
    "\n",
    "# test_str2와 test_str의 중복된 단어목록을 만들어보세요.\n",
    "set(lst1) & set(lst2)\n",
    "\n",
    "# test_str2에만 존재하는 단어조합을 만들어보세요.\n",
    "set(lst2) - set(lst1)"
   ]
  },
  {
   "cell_type": "code",
   "execution_count": 33,
   "metadata": {
    "slideshow": {
     "slide_type": "subslide"
    }
   },
   "outputs": [
    {
     "data": {
      "text/plain": [
       "['grape', 'apple', 'berry', 'orange']"
      ]
     },
     "execution_count": 33,
     "metadata": {},
     "output_type": "execute_result"
    }
   ],
   "source": [
    "# 다음 단어 목록을 중복을 제거해봅시다.\n",
    "lst = [\"grape\", \"berry\", \"apple\", \"orange\", \"grape\"]\n",
    "lst = list(set(lst))\n",
    "\n",
    "# 위 코드의 문제점은 무엇인가요?\n",
    "lst"
   ]
  },
  {
   "cell_type": "code",
   "execution_count": 24,
   "metadata": {
    "slideshow": {
     "slide_type": "subslide"
    }
   },
   "outputs": [
    {
     "data": {
      "text/plain": [
       "['grape', 'berry', 'apple', 'orange']"
      ]
     },
     "execution_count": 24,
     "metadata": {},
     "output_type": "execute_result"
    }
   ],
   "source": [
    "# 이렇게 해결할 수 있어요\n",
    "\n",
    "# python2,3\n",
    "from collections import OrderedDict\n",
    "list(OrderedDict.fromkeys([\"grape\", \"berry\", \"apple\", \"orange\"]))\n",
    "\n",
    "# python3.6\n",
    "list(dict.fromkeys([\"grape\", \"berry\", \"apple\", \"orange\"]))"
   ]
  }
 ],
 "metadata": {
  "celltoolbar": "Slideshow",
  "kernelspec": {
   "display_name": "Python 3",
   "language": "python",
   "name": "python3"
  },
  "language_info": {
   "codemirror_mode": {
    "name": "ipython",
    "version": 3
   },
   "file_extension": ".py",
   "mimetype": "text/x-python",
   "name": "python",
   "nbconvert_exporter": "python",
   "pygments_lexer": "ipython3",
   "version": "3.6.1"
  }
 },
 "nbformat": 4,
 "nbformat_minor": 2
}
