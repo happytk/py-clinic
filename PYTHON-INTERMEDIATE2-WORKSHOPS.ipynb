{
 "cells": [
  {
   "cell_type": "markdown",
   "metadata": {},
   "source": [
    "## (WORKSHOP) LOGDATA분석"
   ]
  },
  {
   "cell_type": "code",
   "execution_count": 121,
   "metadata": {},
   "outputs": [
    {
     "data": {
      "text/plain": [
       "[('Mozilla/5.0 (Windows NT 6.1; WOW64; rv:10.0.2) Gecko/20100101 Firefox/10.0.2',\n",
       "  309),\n",
       " ('Mozilla/5.0 (Windows NT 6.1; WOW64) AppleWebKit/535.11 (KHTML, like Gecko) Chrome/17.0.963.79 Safari/535.11',\n",
       "  229)]"
      ]
     },
     "execution_count": 121,
     "metadata": {},
     "output_type": "execute_result"
    }
   ],
   "source": [
    "# accesslog.json 파일을 읽어서 t값을 timestamp값을 구한 후\n",
    "# 1) t의 값을 yyyymmdd형태로 출력해보세요. min, max를 구하면 어떤 결과가 나오나요?\n",
    "# 2) tz의 중복을 제거한 목록을 만들어보세요. Asia에 몇개 도시가 있나요?\n",
    "# 3) a(gent) key값의 OS별(Windows, Macintosh, Linux) 접속 count를 구해보세요.\n",
    "\n",
    "from datetime import datetime\n",
    "from collections import Counter\n",
    "import json\n",
    "\n",
    "s = [\n",
    "    datetime.fromtimestamp(json.loads(line).get('t')).strftime('%Y%m%d')\n",
    "    for line in open('data/accesslog.json', encoding='utf8')\n",
    "    if json.loads(line).get('t')\n",
    "]\n",
    "min(s), max(s)\n",
    "\n",
    "s = {\n",
    "    json.loads(line).get('tz')\n",
    "    for line in open('data/accesslog.json', encoding='utf8')\n",
    "    if json.loads(line).get('tz')\n",
    "    if json.loads(line).get('tz').startswith('Asia')\n",
    "}\n",
    "s\n",
    "\n",
    "s = Counter([\n",
    "    json.loads(line).get('a')\n",
    "    for line in open('data/accesslog.json', encoding='utf8')\n",
    "    if json.loads(line).get('a')\n",
    "])\n",
    "s.most_common(2)"
   ]
  },
  {
   "cell_type": "markdown",
   "metadata": {},
   "source": [
    "## (WORKSHOP) BIGFILE 재처리"
   ]
  },
  {
   "cell_type": "code",
   "execution_count": 122,
   "metadata": {
    "collapsed": true
   },
   "outputs": [],
   "source": [
    "# bigfile.json 파일을 읽어서 영양분(nutrients) 정보만\n",
    "# 재처리 후 description 순서로 출력하는 함수를 만듭니다.\n",
    "# sorted, sort를 이용해보고 빠른 성능을 보이는 방법을 택하세요!\n",
    "\n",
    "# < result >\n",
    "# description,group,units,value\n",
    "# Protein,Composition,g,25.18\n",
    "# ...\n",
    "data = json.load(open('data/bigfile.json'))"
   ]
  },
  {
   "cell_type": "code",
   "execution_count": 130,
   "metadata": {},
   "outputs": [
    {
     "data": {
      "text/plain": [
       "[Nutrient(description='Protein', group='Composition', units='g', value=25.18),\n",
       " Nutrient(description='Total lipid (fat)', group='Composition', units='g', value=29.2),\n",
       " Nutrient(description='Carbohydrate, by difference', group='Composition', units='g', value=3.06)]"
      ]
     },
     "execution_count": 130,
     "metadata": {},
     "output_type": "execute_result"
    }
   ],
   "source": [
    "# class설계하거나 namedtuple을 활용하세요\n",
    "from collections import namedtuple\n",
    "Nutrient = namedtuple('Nutrient', 'description,group,units,value')\n",
    "# n = Nutrient(**data[0]['nutrients'][0])\n",
    "\n",
    "# class Nutrient:\n",
    "#     def __init__(self, **kwargs):\n",
    "#         pass\n",
    "#     @classmethod\n",
    "#     def from_dict(cls, d):\n",
    "#         return cls(**d)\n",
    "    \n",
    "[Nutrient(**d) for ds in data for d in ds['nutrients']][:3]\n",
    "# len({Nutrient.from_dict(d) for ds in data for d in ds['nutrients']}), \\\n",
    "# len([Nutrient.from_dict(d) for ds in data for d in ds['nutrients']])\n",
    "# s = {Nutrient.from_dict(d) for ds in data for d in ds['nutrients']}\n",
    "# s = sorted([Nutrient.from_dict(d) for ds in data for d in ds['nutrients']], key=lambda x:x.description)\n",
    "# s"
   ]
  },
  {
   "cell_type": "code",
   "execution_count": 125,
   "metadata": {},
   "outputs": [
    {
     "ename": "AttributeError",
     "evalue": "type object 'Nutrient' has no attribute 'from_dict'",
     "output_type": "error",
     "traceback": [
      "\u001b[0;31m---------------------------------------------------------------------------\u001b[0m",
      "\u001b[0;31mAttributeError\u001b[0m                            Traceback (most recent call last)",
      "\u001b[0;32m<ipython-input-125-648f698df8fe>\u001b[0m in \u001b[0;36m<module>\u001b[0;34m()\u001b[0m\n\u001b[0;32m----> 1\u001b[0;31m \u001b[0ms\u001b[0m \u001b[0;34m=\u001b[0m \u001b[0mset\u001b[0m\u001b[0;34m(\u001b[0m\u001b[0;34m[\u001b[0m\u001b[0mNutrient\u001b[0m\u001b[0;34m.\u001b[0m\u001b[0mfrom_dict\u001b[0m\u001b[0;34m(\u001b[0m\u001b[0md\u001b[0m\u001b[0;34m)\u001b[0m\u001b[0;34m.\u001b[0m\u001b[0munits\u001b[0m \u001b[0;32mfor\u001b[0m \u001b[0mds\u001b[0m \u001b[0;32min\u001b[0m \u001b[0mdata\u001b[0m \u001b[0;32mfor\u001b[0m \u001b[0md\u001b[0m \u001b[0;32min\u001b[0m \u001b[0mds\u001b[0m\u001b[0;34m[\u001b[0m\u001b[0;34m'nutrients'\u001b[0m\u001b[0;34m]\u001b[0m\u001b[0;34m]\u001b[0m\u001b[0;34m)\u001b[0m\u001b[0;34m\u001b[0m\u001b[0m\n\u001b[0m\u001b[1;32m      2\u001b[0m \u001b[0ms\u001b[0m\u001b[0;34m\u001b[0m\u001b[0m\n",
      "\u001b[0;32m<ipython-input-125-648f698df8fe>\u001b[0m in \u001b[0;36m<listcomp>\u001b[0;34m(.0)\u001b[0m\n\u001b[0;32m----> 1\u001b[0;31m \u001b[0ms\u001b[0m \u001b[0;34m=\u001b[0m \u001b[0mset\u001b[0m\u001b[0;34m(\u001b[0m\u001b[0;34m[\u001b[0m\u001b[0mNutrient\u001b[0m\u001b[0;34m.\u001b[0m\u001b[0mfrom_dict\u001b[0m\u001b[0;34m(\u001b[0m\u001b[0md\u001b[0m\u001b[0;34m)\u001b[0m\u001b[0;34m.\u001b[0m\u001b[0munits\u001b[0m \u001b[0;32mfor\u001b[0m \u001b[0mds\u001b[0m \u001b[0;32min\u001b[0m \u001b[0mdata\u001b[0m \u001b[0;32mfor\u001b[0m \u001b[0md\u001b[0m \u001b[0;32min\u001b[0m \u001b[0mds\u001b[0m\u001b[0;34m[\u001b[0m\u001b[0;34m'nutrients'\u001b[0m\u001b[0;34m]\u001b[0m\u001b[0;34m]\u001b[0m\u001b[0;34m)\u001b[0m\u001b[0;34m\u001b[0m\u001b[0m\n\u001b[0m\u001b[1;32m      2\u001b[0m \u001b[0ms\u001b[0m\u001b[0;34m\u001b[0m\u001b[0m\n",
      "\u001b[0;31mAttributeError\u001b[0m: type object 'Nutrient' has no attribute 'from_dict'"
     ]
    }
   ],
   "source": [
    "s = set([Nutrient.from_dict(d).units for ds in data for d in ds['nutrients']])\n",
    "s"
   ]
  },
  {
   "cell_type": "markdown",
   "metadata": {},
   "source": [
    "## (WORKSHOP) 데이터 선택적 처리"
   ]
  },
  {
   "cell_type": "markdown",
   "metadata": {},
   "source": [
    "연도별 사람들의 출생신고 빈도수가 적혀있는 데이터셋에서 '특정이름'의 빈도수 합계를 계산하는 함수를 만들어주세요.\n",
    "\n",
    "데이터특징\n",
    "- 각 파일의 이름/성별은 고유합니다.\n",
    "- 파일이름에 연도가 있습니다.\n",
    "\n",
    "함수요구사항\n",
    "- return값은 (빈도수,엔트리검색개수)를 tuple로 반납합니다.\n",
    "- 함수의 파라미터 설계를 해주세요.\n",
    " - 검색을 원하는 사용자의 fullname을 mandatory로 받습니다. (대소문자 구분없음)\n",
    " - 남자/여자 구분을 mandatory로 받도록(M/F)\n",
    " - 시작연도와 종료연도를 option으로 받도록(1880-2010)\n",
    " - keyword only로 log출력여부를 받도록(True/False)\n",
    "- 내부적으로 threading사용가능합니다. (optional)"
   ]
  },
  {
   "cell_type": "code",
   "execution_count": null,
   "metadata": {},
   "outputs": [
    {
     "name": "stdout",
     "output_type": "stream",
     "text": [
      "> <ipython-input-137-6fbb25a304ef>(5)search()\n",
      "-> def _proc(year):\n",
      "(Pdb) search_name\n",
      "'John'\n",
      "(Pdb) year_range\n",
      "(1880, 2010)\n",
      "(Pdb) 3+2\n",
      "5\n",
      "(Pdb) help\n",
      "\n",
      "Documented commands (type help <topic>):\n",
      "========================================\n",
      "EOF    c          d        h         list      q        rv       undisplay\n",
      "a      cl         debug    help      ll        quit     s        unt      \n",
      "alias  clear      disable  ignore    longlist  r        source   until    \n",
      "args   commands   display  interact  n         restart  step     up       \n",
      "b      condition  down     j         next      return   tbreak   w        \n",
      "break  cont       enable   jump      p         retval   u        whatis   \n",
      "bt     continue   exit     l         pp        run      unalias  where    \n",
      "\n",
      "Miscellaneous help topics:\n",
      "==========================\n",
      "exec  pdb\n",
      "\n"
     ]
    }
   ],
   "source": [
    "\n",
    "def search(search_name, gender='M',\n",
    "           year_range=(1880, 2010), *, log=False):\n",
    "    import pdb; pdb.set_trace()\n",
    "    def _proc(year):\n",
    "        for index, line in enumerate(\n",
    "                open('data/names/yob{}.txt'.format(year))):\n",
    "            n, g, freq = line.split(',')\n",
    "            if n == search_name and g == gender:\n",
    "                return (int(freq), index+1)\n",
    "        return 0, index + 1\n",
    "    result = list(map(\n",
    "        _proc,\n",
    "        range(year_range[0], year_range[1])\n",
    "    ))\n",
    "    return (\n",
    "        sum(x[0] for x in result),\n",
    "        sum(x[1] for x in result),\n",
    "    )\n",
    "\n",
    "search('John', 'M')"
   ]
  },
  {
   "cell_type": "markdown",
   "metadata": {},
   "source": [
    "## (WORKSHOP) 문자열 조합 경우의 수\n",
    "\n",
    "단어 조합을 만드는 기능을 구현하고자 합니다. 각각을 클래스/함수 각각의 버전으로 만들어보세요\n",
    "- 한글 이름 테스트 -> ['한글이름테스트', '한글이름 테스트', '한글 이름테스트', '한글 이름 테스트']\n",
    "- 한글 테스트 -> ['한글테스트', '한글 테스트']\n",
    "- 한글테스트 -> ['한글테스트']"
   ]
  },
  {
   "cell_type": "code",
   "execution_count": null,
   "metadata": {},
   "outputs": [],
   "source": [
    "# class version\n",
    "# wc = WordCombination()\n",
    "# wc('한글', '이름', '테스트')\n",
    "\n",
    "# function version\n",
    "# wc = word_combination()\n",
    "# wc('한글', '이름', '테스트')\n",
    "\n",
    "# core-logic\n",
    "from itertools import product, zip_longest\n",
    "from functools import reduce\n",
    "from operator import add\n",
    "\n",
    "words = 'a b c'.split()\n",
    "[\n",
    "    ''.join(reduce(add, zip_longest(words, concat_str, fillvalue='')))\n",
    "    for concat_str in product(['', ' '], repeat=len(words)-1)\n",
    "]\n"
   ]
  }
 ],
 "metadata": {
  "kernelspec": {
   "display_name": "Python 3",
   "language": "python",
   "name": "python3"
  },
  "language_info": {
   "codemirror_mode": {
    "name": "ipython",
    "version": 3
   },
   "file_extension": ".py",
   "mimetype": "text/x-python",
   "name": "python",
   "nbconvert_exporter": "python",
   "pygments_lexer": "ipython3",
   "version": "3.6.1"
  }
 },
 "nbformat": 4,
 "nbformat_minor": 2
}
