{
 "cells": [
  {
   "cell_type": "markdown",
   "metadata": {},
   "source": [
    "## DECORATOR (PEP318)"
   ]
  },
  {
   "cell_type": "markdown",
   "metadata": {},
   "source": [
    "- 함수호출 전이나 후에 로직을 넣고 싶다면.\n",
    "- 함수를 인자로 받아서 함수를 리턴하는 함수를 만들면 됩니다."
   ]
  },
  {
   "cell_type": "code",
   "execution_count": 2,
   "metadata": {
    "collapsed": true
   },
   "outputs": [],
   "source": [
    "def decorator(func):\n",
    "    return func"
   ]
  },
  {
   "cell_type": "code",
   "execution_count": 10,
   "metadata": {
    "collapsed": false
   },
   "outputs": [
    {
     "data": {
      "text/plain": [
       "'Return 1'"
      ]
     },
     "execution_count": 10,
     "metadata": {},
     "output_type": "execute_result"
    }
   ],
   "source": [
    "@decorator\n",
    "def function(arg):\n",
    "    return \"Return {}\".format(arg)\n",
    "\n",
    "function(1)"
   ]
  },
  {
   "cell_type": "code",
   "execution_count": 11,
   "metadata": {
    "collapsed": false
   },
   "outputs": [
    {
     "data": {
      "text/plain": [
       "'Return 1'"
      ]
     },
     "execution_count": 11,
     "metadata": {},
     "output_type": "execute_result"
    }
   ],
   "source": [
    "def function(arg):\n",
    "    return \"Return {}\".format(arg)\n",
    "function=decorator(function)\n",
    "function(1)"
   ]
  },
  {
   "cell_type": "markdown",
   "metadata": {},
   "source": [
    "그럼 로직을 넣어봅시다."
   ]
  },
  {
   "cell_type": "code",
   "execution_count": 12,
   "metadata": {
    "collapsed": true
   },
   "outputs": [],
   "source": [
    "def decorator(func):\n",
    "    print('before function call')\n",
    "    return func"
   ]
  },
  {
   "cell_type": "code",
   "execution_count": 14,
   "metadata": {
    "collapsed": false
   },
   "outputs": [
    {
     "name": "stdout",
     "output_type": "stream",
     "text": [
      "before function call\n"
     ]
    }
   ],
   "source": [
    "@decorator\n",
    "def function(arg):\n",
    "    return 'Return {}'.format(arg)"
   ]
  },
  {
   "cell_type": "markdown",
   "metadata": {},
   "source": [
    "???\n",
    "decorator는 함수생성시에 호출됩니다."
   ]
  },
  {
   "cell_type": "code",
   "execution_count": 24,
   "metadata": {
    "collapsed": false
   },
   "outputs": [
    {
     "name": "stdout",
     "output_type": "stream",
     "text": [
      "before function call\n",
      "Return 1\n",
      "after function call\n"
     ]
    }
   ],
   "source": [
    "def decorator(func):\n",
    "    def inner(*args, **kwargs):\n",
    "        print('before function call')\n",
    "        func(*args, **kwargs)\n",
    "        print('after function call')\n",
    "    return inner\n",
    "\n",
    "@decorator\n",
    "def function(arg):\n",
    "    print('Return {}'.format(arg))\n",
    "\n",
    "function(1)"
   ]
  },
  {
   "cell_type": "code",
   "execution_count": 27,
   "metadata": {
    "collapsed": false
   },
   "outputs": [
    {
     "data": {
      "text/plain": [
       "('inner', 'inner')"
      ]
     },
     "execution_count": 27,
     "metadata": {},
     "output_type": "execute_result"
    }
   ],
   "source": [
    "# dir(function)\n",
    "\n",
    "@decorator\n",
    "def function1(arg):\n",
    "    print('{}'.format(arg))\n",
    "@decorator\n",
    "def function2(arg):\n",
    "    print('{}'.format(arg))\n",
    "\n",
    "(function1.__name__,\n",
    " function2.__name__)"
   ]
  },
  {
   "cell_type": "code",
   "execution_count": 30,
   "metadata": {
    "collapsed": false
   },
   "outputs": [
    {
     "data": {
      "text/plain": [
       "('function1', 'function2')"
      ]
     },
     "execution_count": 30,
     "metadata": {},
     "output_type": "execute_result"
    }
   ],
   "source": [
    "import functools\n",
    "def decorator(func):\n",
    "    @functools.wraps(func)\n",
    "    def inner(*args, **kwargs):\n",
    "        print('before function call')\n",
    "        func(*args, **kwargs)\n",
    "        print('after function call')\n",
    "    return inner\n",
    "\n",
    "@decorator\n",
    "def function1(arg):\n",
    "    print('{}'.format(arg))\n",
    "@decorator\n",
    "def function2(arg):\n",
    "    print('{}'.format(arg))\n",
    "\n",
    "(function1.__name__,\n",
    " function2.__name__)"
   ]
  },
  {
   "cell_type": "markdown",
   "metadata": {},
   "source": [
    "그냥 필요할때 참고해서 쓰면 됩니다 :)"
   ]
  },
  {
   "cell_type": "markdown",
   "metadata": {},
   "source": [
    "## Parameterized Decorators"
   ]
  },
  {
   "cell_type": "markdown",
   "metadata": {},
   "source": [
    "- 좀 더 대단해보이는 library들은 simple한 decorator로는 만족하지 않았습니다."
   ]
  },
  {
   "cell_type": "code",
   "execution_count": 35,
   "metadata": {
    "collapsed": false
   },
   "outputs": [
    {
     "name": "stdout",
     "output_type": "stream",
     "text": [
      "2\n",
      "2\n"
     ]
    }
   ],
   "source": [
    "def repeater(func):\n",
    "    def inner(*args, **kwds):\n",
    "        func(*args, **kwds)\n",
    "        func(*args, **kwds)\n",
    "    return new_function\n",
    "\n",
    "@repeater\n",
    "def print_two():\n",
    "    print(2)\n",
    "print_two()"
   ]
  },
  {
   "cell_type": "raw",
   "metadata": {},
   "source": [
    "@repeater(3)\n",
    "def print_two():\n",
    "    print(2)\n",
    "\n",
    "@repeater(10)\n",
    "def print_two():\n",
    "    print(2)"
   ]
  },
  {
   "cell_type": "code",
   "execution_count": 37,
   "metadata": {
    "collapsed": true
   },
   "outputs": [],
   "source": [
    "def repeater(times):\n",
    "    def repeater_times(func):\n",
    "        @functools.wraps(func)\n",
    "        def inner(*args, **kwargs):\n",
    "            for i in range(times):\n",
    "                func(*args, **kwargs)\n",
    "        return inner\n",
    "    return repeater_times"
   ]
  },
  {
   "cell_type": "code",
   "execution_count": 41,
   "metadata": {
    "collapsed": false
   },
   "outputs": [
    {
     "name": "stdout",
     "output_type": "stream",
     "text": [
      "2\n",
      "2\n",
      "2\n",
      "3\n",
      "3\n",
      "3\n",
      "3\n",
      "3\n",
      "3\n",
      "3\n",
      "3\n",
      "3\n",
      "3\n"
     ]
    }
   ],
   "source": [
    "@repeater(3)\n",
    "def print_two():\n",
    "    print(2)\n",
    "print_two()\n",
    "\n",
    "@repeater(10)\n",
    "def print_three():\n",
    "    print(3)\n",
    "print_three()"
   ]
  },
  {
   "cell_type": "markdown",
   "metadata": {},
   "source": [
    "그냥 필요할때 참고해서 쓰면 됩니다 :)"
   ]
  },
  {
   "cell_type": "markdown",
   "metadata": {},
   "source": [
    "### CLASS DECORATOR (PEP3129)"
   ]
  },
  {
   "cell_type": "markdown",
   "metadata": {},
   "source": [
    "function decorator와 거의 비슷합니다. cls를 취하고, cls를 return해주는 function을 만들면 됩니다."
   ]
  },
  {
   "cell_type": "code",
   "execution_count": 45,
   "metadata": {
    "collapsed": false
   },
   "outputs": [
    {
     "data": {
      "text/plain": [
       "'CHIRP'"
      ]
     },
     "execution_count": 45,
     "metadata": {},
     "output_type": "execute_result"
    }
   ],
   "source": [
    "def add_chirp(cls):\n",
    "    def chirp(self):\n",
    "        return 'CHIRP'\n",
    "    cls.speak = chirp\n",
    "    return cls\n",
    "\n",
    "@add_chirp\n",
    "class Bird:\n",
    "    def speak(self):\n",
    "        return '삐약'\n",
    "\n",
    "bird = Bird()\n",
    "bird.speak()"
   ]
  },
  {
   "cell_type": "markdown",
   "metadata": {},
   "source": [
    "class에 부가기능을 붙이거나,\n",
    "기존 라이브러리에 간단한 patch를 적용하여 쓰고 싶을때 사용할 수 있습니다."
   ]
  }
 ],
 "metadata": {
  "kernelspec": {
   "display_name": "Python 3",
   "language": "python",
   "name": "python3"
  },
  "language_info": {
   "codemirror_mode": {
    "name": "ipython",
    "version": 3
   },
   "file_extension": ".py",
   "mimetype": "text/x-python",
   "name": "python",
   "nbconvert_exporter": "python",
   "pygments_lexer": "ipython3",
   "version": "3.6.0"
  }
 },
 "nbformat": 4,
 "nbformat_minor": 2
}
