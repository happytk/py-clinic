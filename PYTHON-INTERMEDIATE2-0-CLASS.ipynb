{
 "cells": [
  {
   "cell_type": "markdown",
   "metadata": {
    "slideshow": {
     "slide_type": "slide"
    }
   },
   "source": [
    "## Class.\n",
    "*python은 모든 것이 객체입니다.*"
   ]
  },
  {
   "cell_type": "code",
   "execution_count": 2,
   "metadata": {
    "slideshow": {
     "slide_type": "subslide"
    }
   },
   "outputs": [
    {
     "name": "stdout",
     "output_type": "stream",
     "text": [
      "140282579367448\n",
      "4520757848\n",
      "4520757792\n"
     ]
    }
   ],
   "source": [
    "# 간단한 클래스 생성, 인스턴스 생성\n",
    "class MyClass:\n",
    "    pass\n",
    "\n",
    "my1 = MyClass()\n",
    "my2 = MyClass()\n",
    "\n",
    "print(id(MyClass))\n",
    "print(id(my1))\n",
    "print(id(my2))"
   ]
  },
  {
   "cell_type": "code",
   "execution_count": 1,
   "metadata": {
    "slideshow": {
     "slide_type": "subslide"
    }
   },
   "outputs": [
    {
     "data": {
      "text/plain": [
       "('world', <__main__.MyClass at 0x10e955ef0>)"
      ]
     },
     "execution_count": 1,
     "metadata": {},
     "output_type": "execute_result"
    }
   ],
   "source": [
    "# 메서드 탑재\n",
    "class MyClass:\n",
    "    def hello(self):\n",
    "        return 'world', self\n",
    "\n",
    "my = MyClass()\n",
    "my.hello()"
   ]
  },
  {
   "cell_type": "markdown",
   "metadata": {
    "slideshow": {
     "slide_type": "subslide"
    }
   },
   "source": [
    "class 안에 선언된 메서드는 기본적으로 첫번째 인자를 **인스턴스**로 받습니다. 꼭 self라고 이름지을 필요는 없는데 self라고 대부분 약속하고 사용합니다."
   ]
  },
  {
   "cell_type": "code",
   "execution_count": 11,
   "metadata": {
    "slideshow": {
     "slide_type": "subslide"
    }
   },
   "outputs": [
    {
     "name": "stdout",
     "output_type": "stream",
     "text": [
      "Object is created. (1, 2, 3) {'keyword': 'hello'}\n"
     ]
    }
   ],
   "source": [
    "# 생성자 (생성 시점에 호출)\n",
    "class MyClass:\n",
    "    def __init__(self, *args, **kwargs):\n",
    "        print('Object is created.', args, kwargs)\n",
    "\n",
    "my1 = MyClass(1,2,3,keyword='hello')"
   ]
  },
  {
   "cell_type": "code",
   "execution_count": 12,
   "metadata": {
    "slideshow": {
     "slide_type": "subslide"
    }
   },
   "outputs": [
    {
     "name": "stdout",
     "output_type": "stream",
     "text": [
      "hello\n",
      "hello\n",
      "hello\n"
     ]
    }
   ],
   "source": [
    "# 클래스변수\n",
    "class MyClass:\n",
    "    variable = \"blah\"\n",
    "\n",
    "my1 = MyClass()\n",
    "my2 = MyClass()\n",
    "MyClass.variable = 'hello'\n",
    "\n",
    "print(my1.variable)\n",
    "print(my2.variable)\n",
    "print(MyClass.variable)"
   ]
  },
  {
   "cell_type": "code",
   "execution_count": 8,
   "metadata": {
    "slideshow": {
     "slide_type": "subslide"
    }
   },
   "outputs": [
    {
     "name": "stdout",
     "output_type": "stream",
     "text": [
      "4519744904 4519744904 4520874736\n",
      "<bound method MyClass.function of <__main__.MyClass object at 0x10d77cc88>>\n",
      "<bound method MyClass.function of <__main__.MyClass object at 0x10d737e10>>\n",
      "<function MyClass.function at 0x10d7712f0>\n"
     ]
    }
   ],
   "source": [
    "class MyClass:\n",
    "    variable = \"blah\"\n",
    "\n",
    "    def function(self):\n",
    "        print(\"This is a message inside the class.\")\n",
    "\n",
    "my1 = MyClass()\n",
    "my2 = MyClass()\n",
    "\n",
    "# 인스턴스의 함수는 동일, 클래스 함수는 달라요.\n",
    "# 나중에 차이를 알아봅시다.\n",
    "print(id(my1.function), id(my2.function), id(MyClass.function))\n",
    "print(my1.function, my2.function, MyClass.function, sep='\\n')  "
   ]
  },
  {
   "cell_type": "code",
   "execution_count": 13,
   "metadata": {
    "slideshow": {
     "slide_type": "subslide"
    }
   },
   "outputs": [
    {
     "data": {
      "text/plain": [
       "('hello', 'blah', 'world')"
      ]
     },
     "execution_count": 13,
     "metadata": {},
     "output_type": "execute_result"
    }
   ],
   "source": [
    "# 인스턴스 변수\n",
    "class MyClass:\n",
    "    def __init__(self):\n",
    "        # 기본적으로는 여기서 정의합니다.\n",
    "        self.world = 'hello'\n",
    "\n",
    "    def function(self):\n",
    "        # 여기서도 할 수는 있지만; 관리가 어려워요.\n",
    "        self.hello = 'world'\n",
    "        return True\n",
    "\n",
    "my1 = MyClass()\n",
    "my2 = MyClass()\n",
    "my2.world = 'blah'\n",
    "my1.world, my2.world, my1.function() and my1.hello"
   ]
  },
  {
   "cell_type": "code",
   "execution_count": 10,
   "metadata": {
    "slideshow": {
     "slide_type": "subslide"
    }
   },
   "outputs": [
    {
     "data": {
      "text/plain": [
       "('hello', 'world')"
      ]
     },
     "execution_count": 10,
     "metadata": {},
     "output_type": "execute_result"
    }
   ],
   "source": [
    "# 모든 것이 public합니다.\n",
    "class MyClass:\n",
    "    def __init__(self):\n",
    "        self.world = 'hello'\n",
    "        self.hello = 'world'\n",
    "\n",
    "my1 = MyClass()\n",
    "my1.world, my1.hello"
   ]
  },
  {
   "cell_type": "code",
   "execution_count": 11,
   "metadata": {
    "slideshow": {
     "slide_type": "subslide"
    }
   },
   "outputs": [
    {
     "ename": "AttributeError",
     "evalue": "'MyClass' object has no attribute '__world'",
     "output_type": "error",
     "traceback": [
      "\u001b[0;31m---------------------------------------------------------------------------\u001b[0m",
      "\u001b[0;31mAttributeError\u001b[0m                            Traceback (most recent call last)",
      "\u001b[0;32m<ipython-input-11-bf4bb040acf1>\u001b[0m in \u001b[0;36m<module>\u001b[0;34m()\u001b[0m\n\u001b[1;32m      6\u001b[0m \u001b[0;34m\u001b[0m\u001b[0m\n\u001b[1;32m      7\u001b[0m \u001b[0mmy1\u001b[0m \u001b[0;34m=\u001b[0m \u001b[0mMyClass\u001b[0m\u001b[0;34m(\u001b[0m\u001b[0;34m)\u001b[0m\u001b[0;34m\u001b[0m\u001b[0m\n\u001b[0;32m----> 8\u001b[0;31m \u001b[0mmy1\u001b[0m\u001b[0;34m.\u001b[0m\u001b[0m__world\u001b[0m\u001b[0;34m,\u001b[0m \u001b[0mmy1\u001b[0m\u001b[0;34m.\u001b[0m\u001b[0m__hello\u001b[0m\u001b[0;34m\u001b[0m\u001b[0m\n\u001b[0m",
      "\u001b[0;31mAttributeError\u001b[0m: 'MyClass' object has no attribute '__world'"
     ]
    }
   ],
   "source": [
    "# private하게 만들어봅시다.\n",
    "class MyClass:\n",
    "    def __init__(self):\n",
    "        self.__world = 'hello'\n",
    "        self.__hello = 'world'\n",
    "\n",
    "my1 = MyClass()\n",
    "my1.__world, my1.__hello"
   ]
  },
  {
   "cell_type": "code",
   "execution_count": 25,
   "metadata": {
    "slideshow": {
     "slide_type": "subslide"
    }
   },
   "outputs": [
    {
     "name": "stdout",
     "output_type": "stream",
     "text": [
      "['_MyClass__hello']\n"
     ]
    },
    {
     "data": {
      "text/plain": [
       "'world'"
      ]
     },
     "execution_count": 25,
     "metadata": {},
     "output_type": "execute_result"
    }
   ],
   "source": [
    "class MyClass:\n",
    "    def __init__(self):\n",
    "        self.__world = 'hello'\n",
    "        self.__hello = 'world'\n",
    "\n",
    "my1 = MyClass()\n",
    "\n",
    "# 이상한 이름이 발견됩니다.\n",
    "print(list(name for name in dir(my1) if 'hello' in name))\n",
    "\n",
    "# private하다더니?\n",
    "my1._MyClass__hello"
   ]
  },
  {
   "cell_type": "markdown",
   "metadata": {
    "slideshow": {
     "slide_type": "subslide"
    }
   },
   "source": [
    "__로 시작하는 변수이름은 Python이 변조를 수행합니다. (mangling한다고 합니다.)\n",
    " * class이름을 앞에 붙여서 변조를 합니다.\n",
    " * 그렇지만 강제로 접근하고자 하면 막을 방법은 없습니다.\n",
    " * <span class=\"mark\">**사용자가 실수하는 것은 막지만, 꼭 접근해야 한다면 하게 해줍니다.**</span>\n",
    " * 테스트 등에서도 유용합니다. (접근할 별다른 코드를 작성하지 않아도 되니까요)"
   ]
  },
  {
   "cell_type": "markdown",
   "metadata": {
    "slideshow": {
     "slide_type": "subslide"
    }
   },
   "source": [
    "![](img/safety-switch.png)"
   ]
  },
  {
   "cell_type": "markdown",
   "metadata": {
    "slideshow": {
     "slide_type": "subslide"
    }
   },
   "source": [
    "    그렇지만 ``__``는 소스를 어지럽게 하고, 이름을 바꾸는 요상한 행위때문에 사용을 권장하지는 않습니다.\n",
    "    `_` 하나로 시작되는 속성은 일반적으로 (관습상, 합의하에) 비공개 속성으로 인지합니다."
   ]
  },
  {
   "cell_type": "code",
   "execution_count": 14,
   "metadata": {
    "slideshow": {
     "slide_type": "subslide"
    }
   },
   "outputs": [
    {
     "data": {
      "text/plain": [
       "('world', 'hello')"
      ]
     },
     "execution_count": 14,
     "metadata": {},
     "output_type": "execute_result"
    }
   ],
   "source": [
    "class MyClass:\n",
    "    def __init__(self):\n",
    "        self._world = 'hello'\n",
    "        self._hello = 'world'\n",
    "\n",
    "my1 = MyClass()\n",
    "my1._hello, my1._world"
   ]
  },
  {
   "cell_type": "markdown",
   "metadata": {
    "slideshow": {
     "slide_type": "slide"
    }
   },
   "source": [
    "## class에 정의된 method는 사실 그냥 function입니다.\n",
    "*여러분은 속고 있었어요.*"
   ]
  },
  {
   "cell_type": "code",
   "execution_count": 15,
   "metadata": {
    "slideshow": {
     "slide_type": "subslide"
    }
   },
   "outputs": [
    {
     "name": "stdout",
     "output_type": "stream",
     "text": [
      "4519405128 4520876232\n",
      "<bound method MyClass.function of <__main__.MyClass object at 0x10d79a400>>\n",
      "<function MyClass.function at 0x10d7718c8>\n"
     ]
    }
   ],
   "source": [
    "class MyClass:\n",
    "    def function(self):\n",
    "        print(\"This is a message inside the class.\")\n",
    "\n",
    "my = MyClass()\n",
    "\n",
    "# 다르다는 것은 아까 확인했습니다.\n",
    "print(id(my.function),id(MyClass.function)) # bound method라고 나오고\n",
    "print(my.function, MyClass.function, sep='\\n') # function이라고 나옵니다."
   ]
  },
  {
   "cell_type": "markdown",
   "metadata": {
    "slideshow": {
     "slide_type": "subslide"
    }
   },
   "source": [
    "bound method는 함수의 첫번째 인자를 instance로 대체해서 호출해 줍니다.\n",
    "```\n",
    "my = MyClass()\n",
    "my.function() # bound-method\n",
    "```\n",
    "->\n",
    "```\n",
    "my = MyClass()\n",
    "MyClass.function(my)\n",
    "```"
   ]
  },
  {
   "cell_type": "code",
   "execution_count": 16,
   "metadata": {
    "slideshow": {
     "slide_type": "subslide"
    }
   },
   "outputs": [
    {
     "name": "stdout",
     "output_type": "stream",
     "text": [
      "This is a message inside the class\n",
      "This is a message inside the class\n"
     ]
    }
   ],
   "source": [
    "class MyClass:\n",
    "    variable = \"blah\"\n",
    "    def function(self):\n",
    "        print(\"This is a message inside the class\")\n",
    "\n",
    "my = MyClass()\n",
    "\n",
    "# 다음 두 개는 같은 효과입니다.\n",
    "my.function()\n",
    "MyClass.function(my)"
   ]
  },
  {
   "cell_type": "markdown",
   "metadata": {
    "slideshow": {
     "slide_type": "slide"
    }
   },
   "source": [
    "## 상속 그리고 classmethod, staticmethod"
   ]
  },
  {
   "cell_type": "code",
   "execution_count": 14,
   "metadata": {
    "slideshow": {
     "slide_type": "subslide"
    }
   },
   "outputs": [
    {
     "data": {
      "text/plain": [
       "(1, 1)"
      ]
     },
     "execution_count": 14,
     "metadata": {},
     "output_type": "execute_result"
    }
   ],
   "source": [
    "# subclass\n",
    "class Bike():\n",
    "    num_passengers = 1\n",
    "\n",
    "class Car(Bike):\n",
    "    pass\n",
    "\n",
    "class Bus(Bike):\n",
    "    num_passengers = 10\n",
    "\n",
    "\n",
    "bike, car = Bike(), Car()\n",
    "bike.num_passengers, car.num_passengers"
   ]
  },
  {
   "cell_type": "code",
   "execution_count": 5,
   "metadata": {
    "slideshow": {
     "slide_type": "subslide"
    }
   },
   "outputs": [
    {
     "data": {
      "text/plain": [
       "(10, [__main__.Hybrid, __main__.Bus, __main__.Car, __main__.Bike, object])"
      ]
     },
     "execution_count": 5,
     "metadata": {},
     "output_type": "execute_result"
    }
   ],
   "source": [
    "# 다중상속\n",
    "class Hybrid(Bus, Car):\n",
    "    def passengers_count(self):\n",
    "        return self.num_passengers\n",
    "\n",
    "Hybrid().passengers_count(), Hybrid.mro()"
   ]
  },
  {
   "cell_type": "code",
   "execution_count": 6,
   "metadata": {
    "slideshow": {
     "slide_type": "skip"
    }
   },
   "outputs": [
    {
     "ename": "TypeError",
     "evalue": "Cannot create a consistent method resolution\norder (MRO) for bases Bike, Bus",
     "output_type": "error",
     "traceback": [
      "\u001b[0;31m---------------------------------------------------------------------------\u001b[0m",
      "\u001b[0;31mTypeError\u001b[0m                                 Traceback (most recent call last)",
      "\u001b[0;32m<ipython-input-6-e8ca92154749>\u001b[0m in \u001b[0;36m<module>\u001b[0;34m()\u001b[0m\n\u001b[1;32m      1\u001b[0m \u001b[0;31m# 똑똑한 다중상속\u001b[0m\u001b[0;34m\u001b[0m\u001b[0;34m\u001b[0m\u001b[0m\n\u001b[1;32m      2\u001b[0m \u001b[0;31m# http://stackoverflow.com/questions/29214888/typeerror-cannot-create-a-consistent-method-resolution-order-mro\u001b[0m\u001b[0;34m\u001b[0m\u001b[0;34m\u001b[0m\u001b[0m\n\u001b[0;32m----> 3\u001b[0;31m \u001b[0;32mclass\u001b[0m \u001b[0mHybrid\u001b[0m\u001b[0;34m(\u001b[0m\u001b[0mBike\u001b[0m\u001b[0;34m,\u001b[0m \u001b[0mBus\u001b[0m\u001b[0;34m)\u001b[0m\u001b[0;34m:\u001b[0m\u001b[0;34m\u001b[0m\u001b[0m\n\u001b[0m\u001b[1;32m      4\u001b[0m     \u001b[0;32mdef\u001b[0m \u001b[0mpassengers_count\u001b[0m\u001b[0;34m(\u001b[0m\u001b[0mself\u001b[0m\u001b[0;34m)\u001b[0m\u001b[0;34m:\u001b[0m\u001b[0;34m\u001b[0m\u001b[0m\n\u001b[1;32m      5\u001b[0m         \u001b[0;32mreturn\u001b[0m \u001b[0mself\u001b[0m\u001b[0;34m.\u001b[0m\u001b[0mnum_passengers\u001b[0m\u001b[0;34m\u001b[0m\u001b[0m\n",
      "\u001b[0;31mTypeError\u001b[0m: Cannot create a consistent method resolution\norder (MRO) for bases Bike, Bus"
     ]
    }
   ],
   "source": [
    "# 똑똑한 다중상속\n",
    "# http://stackoverflow.com/questions/29214888/typeerror-cannot-create-a-consistent-method-resolution-order-mro\n",
    "class Hybrid(Bike, Bus):\n",
    "    def passengers_count(self):\n",
    "        return self.num_passengers\n",
    "\n",
    "Hybrid().passengers_count(), Hybrid.mro()"
   ]
  },
  {
   "cell_type": "code",
   "execution_count": 7,
   "metadata": {
    "slideshow": {
     "slide_type": "subslide"
    }
   },
   "outputs": [
    {
     "name": "stdout",
     "output_type": "stream",
     "text": [
      "1 1 1\n",
      "1 2 1\n",
      "3 2 3\n"
     ]
    }
   ],
   "source": [
    "#다중상속\n",
    "class A:\n",
    "    x = 1\n",
    "class B(A):\n",
    "    pass\n",
    "class C(A):\n",
    "    pass\n",
    "\n",
    "print(A.x, B.x, C.x)\n",
    "B.x = 2\n",
    "print(A.x, B.x, C.x)\n",
    "A.x = 3\n",
    "print(A.x, B.x, C.x)"
   ]
  },
  {
   "cell_type": "code",
   "execution_count": 22,
   "metadata": {
    "slideshow": {
     "slide_type": "subslide"
    }
   },
   "outputs": [
    {
     "data": {
      "text/plain": [
       "([__main__.C, __main__.A, object],\n",
       " [__main__.B, __main__.A, object],\n",
       " mappingproxy({'__doc__': None, '__module__': '__main__'}),\n",
       " mappingproxy({'__doc__': None, '__module__': '__main__', 'x': 2}),\n",
       " mappingproxy({'__dict__': <attribute '__dict__' of 'A' objects>,\n",
       "               '__doc__': None,\n",
       "               '__module__': '__main__',\n",
       "               '__weakref__': <attribute '__weakref__' of 'A' objects>,\n",
       "               'x': 3}))"
      ]
     },
     "execution_count": 22,
     "metadata": {},
     "output_type": "execute_result"
    }
   ],
   "source": [
    "C.mro(), B.mro(), C.__dict__, B.__dict__, A.__dict__"
   ]
  },
  {
   "cell_type": "markdown",
   "metadata": {
    "slideshow": {
     "slide_type": "subslide"
    }
   },
   "source": [
    "다중상속이 가능하다는 것은 알지만, 잘 활용하지는 않습니다. mro자체도 복잡한 상속관계가 아니면 굳이 따지지 않아도 잘 보이니까요."
   ]
  },
  {
   "cell_type": "markdown",
   "metadata": {
    "slideshow": {
     "slide_type": "subslide"
    }
   },
   "source": [
    "![tk-class-inheritance](img/tk-class-inheritance.png)"
   ]
  },
  {
   "cell_type": "markdown",
   "metadata": {
    "slideshow": {
     "slide_type": "subslide"
    }
   },
   "source": [
    "대신에 MixIn 패턴을 많이 사용합니다. MixIn은 독립적인 sub객체를 붙여서 기능을 완성하는 개념입니다. 문법적인 지원요소는 없고 클래스이름 끝에 -mixin이라고 이름 붙여서 다중상속형태로 사용합니다."
   ]
  },
  {
   "cell_type": "code",
   "execution_count": 17,
   "metadata": {
    "slideshow": {
     "slide_type": "subslide"
    }
   },
   "outputs": [
    {
     "name": "stdout",
     "output_type": "stream",
     "text": [
      "<function MyClass.function1 at 0x10d7e9ea0>\n",
      "<function MyClass.function2 at 0x10d7e9e18>\n",
      "<bound method MyClass.function1 of <__main__.MyClass object at 0x10d6689b0>>\n",
      "<function MyClass.function2 at 0x10d7e9e18>\n"
     ]
    }
   ],
   "source": [
    "# staticmethod, bound되지 않은 method는 기본적으로 일반 function입니다. (from python3.)\n",
    "class MyClass:\n",
    "    variable = \"blah\"\n",
    "\n",
    "    def function1():\n",
    "        print(\"This is a message inside the class.\")\n",
    "\n",
    "    @staticmethod\n",
    "    def function2():\n",
    "        print(\"This is a message inside the class(staticmethod)\")\n",
    "\n",
    "print(MyClass.function1)\n",
    "print(MyClass.function2)\n",
    "print(MyClass().function1)\n",
    "print(MyClass().function2)"
   ]
  },
  {
   "cell_type": "markdown",
   "metadata": {
    "slideshow": {
     "slide_type": "subslide"
    }
   },
   "source": [
    "staticmethod는 instnace나 class나 똑같이 함수입니다. 클래스, 인스턴스와 어떤 연결고리도 가질 수가 없기 때문에 ** 잘 사용하지 않습니다.**\n",
    "굳이 class안에 둘 필요가 없으니까요."
   ]
  },
  {
   "cell_type": "code",
   "execution_count": 19,
   "metadata": {
    "slideshow": {
     "slide_type": "subslide"
    }
   },
   "outputs": [
    {
     "data": {
      "text/plain": [
       "'<__main__.MyClass object at 0x10d754b00> world'"
      ]
     },
     "execution_count": 19,
     "metadata": {},
     "output_type": "execute_result"
    }
   ],
   "source": [
    "# classmethod\n",
    "class MyClass:\n",
    "    @classmethod\n",
    "    def make_myclass(cls):\n",
    "        return cls()\n",
    "\n",
    "    def hello(self):\n",
    "        return '{} world'.format(self)\n",
    "\n",
    "# factory-pattern으로 사용할 수 있습니다.\n",
    "my = MyClass.make_myclass()\n",
    "my.hello()"
   ]
  },
  {
   "cell_type": "code",
   "execution_count": 15,
   "metadata": {
    "slideshow": {
     "slide_type": "subslide"
    }
   },
   "outputs": [
    {
     "data": {
      "text/plain": [
       "('hello python', 'python')"
      ]
     },
     "execution_count": 15,
     "metadata": {},
     "output_type": "execute_result"
    }
   ],
   "source": [
    "# properties\n",
    "class MyClass:\n",
    "    def __init__(self, name):\n",
    "        self.name = name\n",
    "    def hello(self):\n",
    "        return f'hello {self.name}'\n",
    "\n",
    "MyClass('python').hello(), MyClass('python').name"
   ]
  },
  {
   "cell_type": "code",
   "execution_count": 25,
   "metadata": {
    "slideshow": {
     "slide_type": "subslide"
    }
   },
   "outputs": [
    {
     "name": "stdout",
     "output_type": "stream",
     "text": [
      "hello python\n"
     ]
    },
    {
     "ename": "AttributeError",
     "evalue": "can't set attribute",
     "output_type": "error",
     "traceback": [
      "\u001b[0;31m---------------------------------------------------------------------------\u001b[0m",
      "\u001b[0;31mAttributeError\u001b[0m                            Traceback (most recent call last)",
      "\u001b[0;32m<ipython-input-25-143795899def>\u001b[0m in \u001b[0;36m<module>\u001b[0;34m()\u001b[0m\n\u001b[1;32m      9\u001b[0m \u001b[0mmy1\u001b[0m \u001b[0;34m=\u001b[0m \u001b[0mMyClass\u001b[0m\u001b[0;34m(\u001b[0m\u001b[0;34m'python'\u001b[0m\u001b[0;34m)\u001b[0m\u001b[0;34m\u001b[0m\u001b[0m\n\u001b[1;32m     10\u001b[0m \u001b[0mprint\u001b[0m\u001b[0;34m(\u001b[0m\u001b[0mmy1\u001b[0m\u001b[0;34m.\u001b[0m\u001b[0mhello\u001b[0m\u001b[0;34m)\u001b[0m\u001b[0;34m\u001b[0m\u001b[0m\n\u001b[0;32m---> 11\u001b[0;31m \u001b[0mmy1\u001b[0m\u001b[0;34m.\u001b[0m\u001b[0mhello\u001b[0m \u001b[0;34m=\u001b[0m \u001b[0;34m'world'\u001b[0m\u001b[0;34m\u001b[0m\u001b[0m\n\u001b[0m",
      "\u001b[0;31mAttributeError\u001b[0m: can't set attribute"
     ]
    }
   ],
   "source": [
    "# properties\n",
    "class MyClass:\n",
    "    def __init__(self, name):\n",
    "        self.name = name\n",
    "    @property\n",
    "    def hello(self):\n",
    "        return f'hello {self.name}'\n",
    "\n",
    "my1 = MyClass('python')\n",
    "print(my1.hello)\n",
    "my1.hello = 'world' # 불가능합니다."
   ]
  },
  {
   "cell_type": "code",
   "execution_count": 26,
   "metadata": {
    "slideshow": {
     "slide_type": "subslide"
    }
   },
   "outputs": [
    {
     "data": {
      "text/plain": [
       "'hello world'"
      ]
     },
     "execution_count": 26,
     "metadata": {},
     "output_type": "execute_result"
    }
   ],
   "source": [
    "# properties에 대한 상세 제어\n",
    "class MyClass:\n",
    "    def __init__(self, name):\n",
    "        self.name = name\n",
    "    @property\n",
    "    def hello(self):\n",
    "        return f'hello {self.name}'\n",
    "    @hello.setter\n",
    "    def hello(self, value):\n",
    "        self.name = value\n",
    "    @hello.deleter\n",
    "    def hello(self):\n",
    "        del self.name\n",
    "\n",
    "my = MyClass('python')\n",
    "my.hello = 'world'\n",
    "my.hello"
   ]
  },
  {
   "cell_type": "code",
   "execution_count": 30,
   "metadata": {
    "slideshow": {
     "slide_type": "subslide"
    }
   },
   "outputs": [
    {
     "name": "stdout",
     "output_type": "stream",
     "text": [
      "Name: hello python\n",
      "Name: hello python, Length: 12\n"
     ]
    }
   ],
   "source": [
    "obj = MyClass('python')\n",
    "\n",
    "# 객체와 문자열 format 쉽게하기\n",
    "print('Name: {user.hello}'.format(user=obj))\n",
    "\n",
    "# 에러발생, \n",
    "# print('Length: {len(user.hello)})'.format(user=obj))\n",
    "\n",
    "# f-string은 강력하니 많이 사용하세요. 3.6을 사용하고 있다면.\n",
    "print(f'Name: {obj.hello}, Length: {len(obj.hello)}')"
   ]
  },
  {
   "cell_type": "markdown",
   "metadata": {
    "slideshow": {
     "slide_type": "slide"
    }
   },
   "source": [
    "## class도 dynamic하게 다룰 수 있습니다. \n",
    "*Python은 dynamic하니까요!*"
   ]
  },
  {
   "cell_type": "code",
   "execution_count": 37,
   "metadata": {
    "slideshow": {
     "slide_type": "subslide"
    }
   },
   "outputs": [
    {
     "data": {
      "text/plain": [
       "('blah', 'blah')"
      ]
     },
     "execution_count": 37,
     "metadata": {},
     "output_type": "execute_result"
    }
   ],
   "source": [
    "class MyClass:\n",
    "    variable = \"blah\"\n",
    "    def function(self):\n",
    "        print(\"This is a message inside the class.\")\n",
    "\n",
    "my1 = MyClass()\n",
    "my2 = MyClass()\n",
    "\n",
    "my1.variable, my2.variable # 같습니다."
   ]
  },
  {
   "cell_type": "code",
   "execution_count": 18,
   "metadata": {
    "slideshow": {
     "slide_type": "subslide"
    }
   },
   "outputs": [
    {
     "name": "stdout",
     "output_type": "stream",
     "text": [
      "blah2 blah2 blah2 oops\n"
     ]
    },
    {
     "data": {
      "text/plain": [
       "({}, {}, {})"
      ]
     },
     "execution_count": 18,
     "metadata": {},
     "output_type": "execute_result"
    }
   ],
   "source": [
    "class MyClass:\n",
    "    variable = \"blah\"\n",
    "\n",
    "    def function(self):\n",
    "        print(\"This is a message inside the class.\")\n",
    "\n",
    "my1 = MyClass()\n",
    "my2 = MyClass()\n",
    "my3 = MyClass()\n",
    "MyClass.hello = \"oops\"\n",
    "MyClass.variable = 'blah2'\n",
    "print(my1.variable, my2.variable, my3.variable, my1.hello)\n",
    "my1.__dict__, my2.__dict__, my3.__dict__"
   ]
  },
  {
   "cell_type": "code",
   "execution_count": 47,
   "metadata": {
    "slideshow": {
     "slide_type": "subslide"
    }
   },
   "outputs": [
    {
     "name": "stdout",
     "output_type": "stream",
     "text": [
      "hack!\n",
      "This is a message inside the class.\n",
      "This is a message inside the class.\n"
     ]
    },
    {
     "data": {
      "text/plain": [
       "{'function': <function __main__.<lambda>>}"
      ]
     },
     "execution_count": 47,
     "metadata": {},
     "output_type": "execute_result"
    }
   ],
   "source": [
    "class MyClass:\n",
    "    variable = \"blah\"\n",
    "\n",
    "    def function(self):\n",
    "        print(\"This is a message inside the class.\")\n",
    "\n",
    "my1 = MyClass()\n",
    "my2 = MyClass()\n",
    "\n",
    "# my1만 특별함수를 갖게 되었습니다.\n",
    "my1.function = lambda : print('hack!')\n",
    "\n",
    "my1.function()\n",
    "my2.function()\n",
    "MyClass().function() # 새로운 객체도 영향받지 않습니다.\n",
    "\n",
    "my1.__dict__ # 이 안에 뭐가 있는지 보세요."
   ]
  },
  {
   "cell_type": "markdown",
   "metadata": {
    "collapsed": true,
    "slideshow": {
     "slide_type": "subslide"
    }
   },
   "source": [
    "이렇게 class의 구현내용을 임의로 변경하는 방법을 monkey-patching이라고도 합니다. 때때로 외부 라이브러리의 긴급patch를 적용하고자 할 때 유용할 수 있습니다. 물론 설계의 복잡도가 높아지므로 권장하지는 않습니다. javascript처럼 builtin-type에 대한 재정의는 불가능합니다."
   ]
  },
  {
   "cell_type": "markdown",
   "metadata": {
    "slideshow": {
     "slide_type": "subslide"
    }
   },
   "source": [
    "인스턴스 레벨의 동적바인딩은 필요에 따라 종종 사용할 수도 있지만, 사용자 실수로 인해서 오동작할 때 분석할 수 있을 정도로만 이해해주어도 좋습니다."
   ]
  },
  {
   "cell_type": "code",
   "execution_count": 48,
   "metadata": {
    "slideshow": {
     "slide_type": "subslide"
    }
   },
   "outputs": [
    {
     "name": "stdout",
     "output_type": "stream",
     "text": [
      "<function custom_function at 0x10d80bb70>\n",
      "<bound method custom_function of <__main__.MyClass object at 0x10d8107b8>>\n",
      "hello world\n"
     ]
    }
   ],
   "source": [
    "def custom_function(self, value):\n",
    "    print('hello {}'.format(value))\n",
    "\n",
    "# 클래스 자체에도 동적으로 함수를 붙일 수 있습니다.\n",
    "MyClass.custom_function = custom_function\n",
    "\n",
    "print(MyClass.custom_function)\n",
    "\n",
    "# 이전에 만들어두었던 객체도 참조할 수 있습니다.\n",
    "# 호출 시점에 찾으니까요.\n",
    "print(my1.custom_function)\n",
    "my1.custom_function('world')"
   ]
  },
  {
   "cell_type": "code",
   "execution_count": 53,
   "metadata": {
    "slideshow": {
     "slide_type": "subslide"
    }
   },
   "outputs": [
    {
     "name": "stdout",
     "output_type": "stream",
     "text": [
      "blah\n",
      "blahblah\n"
     ]
    }
   ],
   "source": [
    "class MyClass:\n",
    "    variable = \"blah\"\n",
    "\n",
    "    def function(self):\n",
    "        print(\"This is a message inside the class.\")\n",
    "\n",
    "print(MyClass.variable)\n",
    "# 객체의 모든 것은 접근 가능하고, 수정가능합니다.\n",
    "MyClass.variable = 'blahblah'\n",
    "print(MyClass.variable)"
   ]
  },
  {
   "cell_type": "code",
   "execution_count": 54,
   "metadata": {
    "slideshow": {
     "slide_type": "subslide"
    }
   },
   "outputs": [
    {
     "name": "stdout",
     "output_type": "stream",
     "text": [
      "blahblah\n",
      "blahblah\n"
     ]
    }
   ],
   "source": [
    "class MyClass:\n",
    "    variable = \"blah\"\n",
    "\n",
    "    def function(self):\n",
    "        print(\"This is a message inside the class.\")\n",
    "\n",
    "\n",
    "myobjectx = MyClass()\n",
    "\n",
    "MyClass.variable = 'blahblah'\n",
    "\n",
    "myobjecty = MyClass()\n",
    "\n",
    "# 항상 호출시점에 찾기때문에 이전,\n",
    "# 이후 인스턴스 모두 값이 바뀌어 있습니다.\n",
    "print(myobjecty.variable)\n",
    "print(myobjectx.variable)"
   ]
  },
  {
   "cell_type": "code",
   "execution_count": 56,
   "metadata": {
    "slideshow": {
     "slide_type": "subslide"
    }
   },
   "outputs": [
    {
     "name": "stdout",
     "output_type": "stream",
     "text": [
      "blahblah\n",
      "blahblah\n",
      "hurray\n",
      "blahblah\n"
     ]
    }
   ],
   "source": [
    "class MyClass:\n",
    "    variable = \"blah\"\n",
    "\n",
    "    def function(self):\n",
    "        print(\"This is a message inside the class.\")\n",
    "\n",
    "myobjectx = MyClass()\n",
    "myobjectx.variable = 'hurray'\n",
    "MyClass.variable = 'blahblah'\n",
    "myobjecty = MyClass()\n",
    "\n",
    "print(MyClass.variable)\n",
    "print(myobjecty.variable)\n",
    "\n",
    "# 인스턴스에 바인딩된 변수\n",
    "print(myobjectx.variable)\n",
    "# 인스턴스의 클래스를 접근해서 확인가능\n",
    "print(myobjectx.__class__.variable)"
   ]
  },
  {
   "cell_type": "code",
   "execution_count": 7,
   "metadata": {
    "slideshow": {
     "slide_type": "subslide"
    }
   },
   "outputs": [
    {
     "ename": "TypeError",
     "evalue": "Can't instantiate abstract class Sample with abstract methods hello",
     "output_type": "error",
     "traceback": [
      "\u001b[0;31m---------------------------------------------------------------------------\u001b[0m",
      "\u001b[0;31mTypeError\u001b[0m                                 Traceback (most recent call last)",
      "\u001b[0;32m<ipython-input-7-09c24800880f>\u001b[0m in \u001b[0;36m<module>\u001b[0;34m()\u001b[0m\n\u001b[1;32m      7\u001b[0m         \u001b[0;32mpass\u001b[0m\u001b[0;34m\u001b[0m\u001b[0m\n\u001b[1;32m      8\u001b[0m \u001b[0;34m\u001b[0m\u001b[0m\n\u001b[0;32m----> 9\u001b[0;31m \u001b[0mSample\u001b[0m\u001b[0;34m(\u001b[0m\u001b[0;34m)\u001b[0m\u001b[0;34m\u001b[0m\u001b[0m\n\u001b[0m",
      "\u001b[0;31mTypeError\u001b[0m: Can't instantiate abstract class Sample with abstract methods hello"
     ]
    }
   ],
   "source": [
    "# abstract class\n",
    "from abc import ABC, abstractmethod\n",
    "\n",
    "class Sample(ABC):\n",
    "    @abstractmethod\n",
    "    def hello(self, name):\n",
    "        pass\n",
    "\n",
    "Sample()"
   ]
  },
  {
   "cell_type": "code",
   "execution_count": 8,
   "metadata": {
    "slideshow": {
     "slide_type": "subslide"
    }
   },
   "outputs": [
    {
     "data": {
      "text/plain": [
       "'hello world'"
      ]
     },
     "execution_count": 8,
     "metadata": {},
     "output_type": "execute_result"
    }
   ],
   "source": [
    "class SampleInherited(Sample):\n",
    "    def hello(self, name):\n",
    "        return 'hello {}'.format(name)\n",
    "SampleInherited().hello('world')"
   ]
  },
  {
   "cell_type": "markdown",
   "metadata": {
    "slideshow": {
     "slide_type": "subslide"
    }
   },
   "source": [
    "<span class=\"mark\">closure와 class는 유사점이 많습니다. closure의 자유변수는 instance변수와 의미가 상통합니다. 그래서 바꾸어 구현할 수 있는 여지가 많습니다.</span>"
   ]
  },
  {
   "cell_type": "code",
   "execution_count": 10,
   "metadata": {
    "slideshow": {
     "slide_type": "subslide"
    }
   },
   "outputs": [
    {
     "data": {
      "text/plain": [
       "True"
      ]
     },
     "execution_count": 10,
     "metadata": {},
     "output_type": "execute_result"
    }
   ],
   "source": [
    "class SampleHello:\n",
    "    def __init__(self, name):\n",
    "        self.name = name\n",
    "    def hello(self):\n",
    "        return 'hello {}'.format(self.name)\n",
    "\n",
    "def sample_hello(name):\n",
    "    def inner():\n",
    "        return 'hello {}'.format(name)\n",
    "    return inner\n",
    "    \n",
    "SampleHello('python').hello() == sample_hello('python')()"
   ]
  },
  {
   "cell_type": "markdown",
   "metadata": {
    "slideshow": {
     "slide_type": "slide"
    }
   },
   "source": [
    "## EXERCISE"
   ]
  },
  {
   "cell_type": "code",
   "execution_count": 19,
   "metadata": {
    "slideshow": {
     "slide_type": "subslide"
    }
   },
   "outputs": [
    {
     "name": "stdout",
     "output_type": "stream",
     "text": [
      "Sonata is a Red car worth $15000.00.\n"
     ]
    },
    {
     "ename": "NameError",
     "evalue": "name 'car2' is not defined",
     "output_type": "error",
     "traceback": [
      "\u001b[0;31m---------------------------------------------------------------------------\u001b[0m",
      "\u001b[0;31mNameError\u001b[0m                                 Traceback (most recent call last)",
      "\u001b[0;32m<ipython-input-19-d60e8a5af33a>\u001b[0m in \u001b[0;36m<module>\u001b[0;34m()\u001b[0m\n\u001b[1;32m     18\u001b[0m \u001b[0;34m\u001b[0m\u001b[0m\n\u001b[1;32m     19\u001b[0m \u001b[0mprint\u001b[0m\u001b[0;34m(\u001b[0m\u001b[0mcar1\u001b[0m\u001b[0;34m.\u001b[0m\u001b[0mdescription\u001b[0m\u001b[0;34m(\u001b[0m\u001b[0;34m)\u001b[0m\u001b[0;34m)\u001b[0m\u001b[0;34m\u001b[0m\u001b[0m\n\u001b[0;32m---> 20\u001b[0;31m \u001b[0mprint\u001b[0m\u001b[0;34m(\u001b[0m\u001b[0mcar2\u001b[0m\u001b[0;34m.\u001b[0m\u001b[0mdescription\u001b[0m\u001b[0;34m(\u001b[0m\u001b[0;34m)\u001b[0m\u001b[0;34m)\u001b[0m\u001b[0;34m\u001b[0m\u001b[0m\n\u001b[0m\u001b[1;32m     21\u001b[0m \u001b[0;34m\u001b[0m\u001b[0m\n\u001b[1;32m     22\u001b[0m \u001b[0;31m# 한화기준으로 출력될 수 있도록\u001b[0m\u001b[0;34m\u001b[0m\u001b[0;34m\u001b[0m\u001b[0m\n",
      "\u001b[0;31mNameError\u001b[0m: name 'car2' is not defined"
     ]
    }
   ],
   "source": [
    "# 클래스를 고쳐주세요. (코드작성)\n",
    "class Vehicle:\n",
    "    def __init__(self, name, color, kind, value):\n",
    "        self.name = name\n",
    "        self.color = color\n",
    "        self.kind = kind\n",
    "        self.value = value\n",
    "    \n",
    "    def description(self):\n",
    "        desc_str = \"%s is a %s %s worth $%.2f.\" % (\n",
    "            self.name, self.color, self.kind, self.value)\n",
    "        return desc_str\n",
    "\n",
    "    \n",
    "# test code\n",
    "car1 = Vehicle(\"Sonata\", \"Red\", \"car\", 15000)\n",
    "cat2 = Vehicle(\"Avante\", \"Black\", \"car\", 20000)\n",
    "\n",
    "print(car1.description())\n",
    "print(car2.description())\n",
    "\n",
    "# 한화기준으로 출력될 수 있도록\n",
    "# krw_description 함수를 patch해봅시다. (코드작성)\n",
    "# $15000 -> 1500만원\n",
    "\n",
    "\n",
    "# test code\n",
    "print(car1.krw_description())\n",
    "print(car1.krw_description())"
   ]
  }
 ],
 "metadata": {
  "celltoolbar": "Slideshow",
  "kernelspec": {
   "display_name": "Python 3",
   "language": "python",
   "name": "python3"
  },
  "language_info": {
   "codemirror_mode": {
    "name": "ipython",
    "version": 3
   },
   "file_extension": ".py",
   "mimetype": "text/x-python",
   "name": "python",
   "nbconvert_exporter": "python",
   "pygments_lexer": "ipython3",
   "version": "3.6.1"
  }
 },
 "nbformat": 4,
 "nbformat_minor": 2
}
