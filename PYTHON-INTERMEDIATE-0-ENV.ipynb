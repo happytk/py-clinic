{
 "cells": [
  {
   "cell_type": "markdown",
   "metadata": {
    "slideshow": {
     "slide_type": "slide"
    }
   },
   "source": [
    "# Python Programming\n",
    "<span class=\"mark\">Intemediate Course</span>, 2017/5/25-26"
   ]
  },
  {
   "cell_type": "markdown",
   "metadata": {
    "slideshow": {
     "slide_type": "subslide"
    }
   },
   "source": [
    "함수와 클래스를 활용한, 좀 더 복잡한 요구사항을 Python으로 구현해봅니다.\n",
    "- 기본 자료구조와 반복문, 조건문은 다시 다루지 않습니다."
   ]
  },
  {
   "cell_type": "markdown",
   "metadata": {
    "collapsed": true,
    "slideshow": {
     "slide_type": "subslide"
    }
   },
   "source": [
    "좀 더 그럴듯한 개발환경 준비하기\n",
    "- ipython 혹은 jupyter는 계속 겸하여 사용합니다.\n",
    "- editor는 sublimetext를 사용합니다.\n",
    " - 그렇지만 좋아하는 editor를 사용하셔도 무방합니다."
   ]
  },
  {
   "cell_type": "markdown",
   "metadata": {
    "slideshow": {
     "slide_type": "subslide"
    }
   },
   "source": [
    "서브라임텍스트 준비하기\n",
    " - https://www.sublimetext.com\n",
    " - https://packagecontrol.io 다양한 패키지를 설치할 수 있어요.\n",
    " - REPL\n",
    " - http://whoyas2.tistory.com/20 sublime + python"
   ]
  },
  {
   "cell_type": "markdown",
   "metadata": {
    "slideshow": {
     "slide_type": "subslide"
    }
   },
   "source": [
    "이번 과정에서는 외부 라이브러리를 일부 사용합니다.\n",
    "```\n",
    "pip install cx_Oracle\n",
    "pip install request\n",
    "```"
   ]
  },
  {
   "cell_type": "markdown",
   "metadata": {
    "slideshow": {
     "slide_type": "subslide"
    }
   },
   "source": [
    "다 설치되었다면 import해봅시다.\n",
    "```\n",
    "Python 3.5.2 (default, Dec 27 2016, 17:50:28)\n",
    "[GCC 4.2.1 Compatible Apple LLVM 8.0.0 (clang-800.0.42.1)] on darwin\n",
    "Type \"help\", \"copyright\", \"credits\" or \"license\" for more information.\n",
    ">>> import cx_Oracle\n",
    ">>>\n",
    "```\n",
    "\n",
    "혹은\n",
    "```\n",
    "(chloe) happytk$ python -c \"import cx_Oracle\"\n",
    "(chloe) happytk$\n",
    "```"
   ]
  }
 ],
 "metadata": {
  "celltoolbar": "Slideshow",
  "kernelspec": {
   "display_name": "Python 3",
   "language": "python",
   "name": "python3"
  },
  "language_info": {
   "codemirror_mode": {
    "name": "ipython",
    "version": 3
   },
   "file_extension": ".py",
   "mimetype": "text/x-python",
   "name": "python",
   "nbconvert_exporter": "python",
   "pygments_lexer": "ipython3",
   "version": "3.6.1"
  }
 },
 "nbformat": 4,
 "nbformat_minor": 2
}
