{
 "cells": [
  {
   "cell_type": "markdown",
   "metadata": {},
   "source": [
    "## WORKSHOP"
   ]
  },
  {
   "cell_type": "code",
   "execution_count": 1,
   "metadata": {},
   "outputs": [
    {
     "data": {
      "text/plain": [
       "False"
      ]
     },
     "execution_count": 1,
     "metadata": {},
     "output_type": "execute_result"
    }
   ],
   "source": [
    "import json\n",
    "from urllib.request import urlopen\n",
    "from urllib.error import HTTPError\n",
    "\n",
    "\n",
    "class PyPiNotFoundException(Exception):\n",
    "    pass\n",
    "\n",
    "class PyPi:\n",
    "    def __init__(self, name, version=None):\n",
    "        base_url = 'https://pypi.python.org/pypi/'\n",
    "        if version:\n",
    "            url = base_url + name + '/' + version + '/json'\n",
    "        else:\n",
    "            url = base_url + name + '/json'\n",
    "        try:\n",
    "            self._data = json.load(urlopen(url))\n",
    "        except HTTPError:\n",
    "            raise PyPiNotFoundException('Info cannot be found.')\n",
    "        self.name = name\n",
    "        self.version = version\n",
    "\n",
    "    def __getattr__(self, name):\n",
    "        return self._data['info'][name]\n",
    "        \n",
    "    def to_json(self):\n",
    "        return json.dumps(self._data)\n",
    "    \n",
    "    def __str__(self):\n",
    "        return f'PYPI-{self.name}({self.version})'\n",
    "\n",
    "    def __repr__(self):\n",
    "        return str(self)\n",
    "    \n",
    "    def __len__(self):\n",
    "        return len(json.dumps(self._data))\n",
    "    \n",
    "    def __iter__(self):\n",
    "        return iter(self._data['info'])\n",
    "    \n",
    "    def __contains__(self, key):\n",
    "        return key in self._data\n",
    "    \n",
    "# 다음 테스트를 통과하도록 작성해보세요.\n",
    "pypi = PyPi('Flask', '0.9')\n",
    "'hello' in pypi"
   ]
  },
  {
   "cell_type": "code",
   "execution_count": null,
   "metadata": {
    "collapsed": true
   },
   "outputs": [],
   "source": [
    "# pypi를 관리하는 class를 만들어봅시다.\n",
    "\n",
    "# url은 다음 형태로 관리됩니다.\n",
    "# https://pypi.python.org/pypi/Flask/0.12.2/json\n",
    "\n",
    "import json\n",
    "from urllib.request import urlopen\n",
    "\n",
    "class PyPi:\n",
    "    def __init__(self, name, version=None):\n",
    "        base_url = 'https://pypi.python.org/pypi/'\n",
    "        if version:\n",
    "            url = base_url + name + '/' + version + '/json'\n",
    "        else:\n",
    "            url = base_url + name + '/json'\n",
    "        self._data = json.load(urlopen(url))\n",
    "\n",
    "# 다음 테스트를 통과하도록 작성해보세요.\n",
    "pypi = PyPi('Flask')\n",
    "\n",
    "# 다음 세가지 속성을 사용할 수 있습니다.\n",
    "assert(pypi.author == 'Armin Ronacher')\n",
    "assert pypi.home_page == \"http://github.com/pallets/flask/\"\n",
    "assert pypi.version == '0.12.2'\n",
    "\n",
    "# 다음 메서드를 만들어주세요.\n",
    "assert pypi.to_json()\n",
    "\n",
    "# 버전을 추가로 지정할 수 있습니다.\n",
    "pypi = PyPi('Flask', '0.9')\n",
    "\n",
    "assert pypi.version == '0.9'\n",
    "\n",
    "# 존재하지 않는 버전이나 패키지를 찾을시에 오류발생\n",
    "pypi = PyPi('Flaask')\n",
    "# raise Exception(\"Flaask doesn't exist.\")\n",
    "pypi = PyPi('Flask', '99.99')\n",
    "# raise Exception(\"Flask(99.99) doesn't exist.\")\n",
    "\n",
    "# 문자열표현을 만들어보아요.\n",
    "pypi\n",
    "# > \"PyPi(Flask, 0.12.2)\"\n",
    "\n",
    "# info의 모든 속성을 객체의 속성으로 연결해보세요.\n",
    "# pypi.author_email\n",
    "# pypi.platform\n",
    "# ...\n",
    "\n",
    "# json데이터의 length를 계산해보세요.\n",
    "len(pypi)\n",
    "\n",
    "# for-loop을 통해 info내용을 볼 수 있도록 만들어보아요.\n",
    "for key in pypi.items():\n",
    "    print(key)\n",
    "    \n",
    "# 특정 key값을 검사할 수 있는 기능을 만들어보아요.\n",
    "'x' in pypi"
   ]
  },
  {
   "cell_type": "code",
   "execution_count": 1,
   "metadata": {},
   "outputs": [
    {
     "ename": "AttributeError",
     "evalue": "'PyPi' object has no attribute 'items'",
     "output_type": "error",
     "traceback": [
      "\u001b[0;31m---------------------------------------------------------------------------\u001b[0m",
      "\u001b[0;31mAttributeError\u001b[0m                            Traceback (most recent call last)",
      "\u001b[0;32m<ipython-input-1-8071acf87a60>\u001b[0m in \u001b[0;36m<module>\u001b[0;34m()\u001b[0m\n\u001b[1;32m     63\u001b[0m \u001b[0;34m\u001b[0m\u001b[0m\n\u001b[1;32m     64\u001b[0m \u001b[0;31m# for-loop을 통해 info내용을 볼 수 있도록 만들어보아요.\u001b[0m\u001b[0;34m\u001b[0m\u001b[0;34m\u001b[0m\u001b[0m\n\u001b[0;32m---> 65\u001b[0;31m \u001b[0;32mfor\u001b[0m \u001b[0mkey\u001b[0m \u001b[0;32min\u001b[0m \u001b[0mpypi\u001b[0m\u001b[0;34m.\u001b[0m\u001b[0mitems\u001b[0m\u001b[0;34m(\u001b[0m\u001b[0;34m)\u001b[0m\u001b[0;34m:\u001b[0m\u001b[0;34m\u001b[0m\u001b[0m\n\u001b[0m\u001b[1;32m     66\u001b[0m     \u001b[0mprint\u001b[0m\u001b[0;34m(\u001b[0m\u001b[0mkey\u001b[0m\u001b[0;34m)\u001b[0m\u001b[0;34m\u001b[0m\u001b[0m\n\u001b[1;32m     67\u001b[0m \u001b[0;34m\u001b[0m\u001b[0m\n",
      "\u001b[0;31mAttributeError\u001b[0m: 'PyPi' object has no attribute 'items'"
     ]
    }
   ],
   "source": [
    "# pypi를 관리하는 class를 만들어봅시다.\n",
    "\n",
    "# url은 다음 형태로 관리됩니다.\n",
    "# https://pypi.python.org/pypi/Flask/0.12.2/json\n",
    "\n",
    "class PyPi:\n",
    "    def __init__(self, name, version=None):\n",
    "        import json\n",
    "        from urllib.request import urlopen\n",
    "        try:\n",
    "            if version:\n",
    "                self._json = json.load(urlopen(f'https://pypi.python.org/pypi/{name}/{version}/json'))\n",
    "            else:\n",
    "                self._json = json.load(urlopen(f'https://pypi.python.org/pypi/{name}/json'))\n",
    "        except:\n",
    "            raise Exception('xx')\n",
    "        self.author = self._json['info']['author']\n",
    "        self.home_page = self._json['info']['home_page']\n",
    "        self.version = self._json['info']['version']\n",
    "    def to_json(self):\n",
    "        return self._json\n",
    "    def __len__(self):\n",
    "        return len(self._json)\n",
    "    def __iter__(self):\n",
    "        return iter(self._json['info'])\n",
    "\n",
    "# 다음 테스트를 통과하도록 작성해보세요.\n",
    "pypi = PyPi('Flask')\n",
    "\n",
    "# 다음 세가지 속성을 사용할 수 있습니다.\n",
    "assert pypi.author == 'Armin Ronacher'\n",
    "assert pypi.home_page == \"http://github.com/pallets/flask/\"\n",
    "assert pypi.version == '0.12.2'\n",
    "\n",
    "# 다음 메서드를 만들어주세요.\n",
    "assert pypi.to_json()\n",
    "\n",
    "# 버전을 추가로 지정할 수 있습니다.\n",
    "pypi = PyPi('Flask', '0.9')\n",
    "assert pypi.version == '0.9'\n",
    "\n",
    "# 존재하지 않는 버전이나 패키지를 찾을시에 오류발생\n",
    "# pypi = PyPi('Flaask')\n",
    "# > raise Exception(\"Flaask doesn't exist.\")\n",
    "# pypi = PyPi('Flask', '99.99')\n",
    "# > raise Exception(\"Flask(99.99) doesn't exist.\")\n",
    "\n",
    "# import json\n",
    "# from urllib.request import urlopen\n",
    "# json.load(urlopen('https://pypi.python.org/pypi/Flask/0.12.2/json'))\n",
    "\n",
    "# 문자열표현을 만들어보아요.\n",
    "pypi\n",
    "# > \"PyPi(Flask, 0.12.2)\"\n",
    "\n",
    "# info의 모든 속성을 객체의 속성으로 연결해보세요.\n",
    "# pypi.author_email\n",
    "# pypi.platform\n",
    "# ...\n",
    "\n",
    "# json데이터의 length를 계산해보세요.\n",
    "len(pypi)\n",
    "\n",
    "# for-loop을 통해 info내용을 볼 수 있도록 만들어보아요.\n",
    "for key in pypi.items():\n",
    "    print(key)\n",
    "    \n",
    "# 특정 key값을 검사할 수 있는 기능을 만들어보아요.\n",
    "'x' in pypi"
   ]
  },
  {
   "cell_type": "code",
   "execution_count": 10,
   "metadata": {
    "collapsed": true
   },
   "outputs": [],
   "source": [
    "# http://flupy.org/data/flags/<code>/<code>.gif\n",
    "countries = \"BD BR CD CN DE EG ET FR ID IN IR JP KR MX NG PH PK RU TR US VN\".lower().split()\n",
    "from concurrent.futures import ProcessPoolExecutor\n",
    "import time\n",
    "from urllib.request import urlopen\n",
    "def _(kr):\n",
    "    open(f'{kr}.gif', 'wb').write(urlopen(f'http://flupy.org/data/flags/{kr}/{kr}.gif').read())\n",
    "    return 'ok'\n",
    "    \n",
    "pool = ProcessPoolExecutor(max_workers=4)\n",
    "start = time.time()\n",
    "results = list(pool.map(_,countries))\n",
    "end = time.time()"
   ]
  },
  {
   "cell_type": "code",
   "execution_count": 11,
   "metadata": {},
   "outputs": [
    {
     "data": {
      "text/plain": [
       "4.31687593460083"
      ]
     },
     "execution_count": 11,
     "metadata": {},
     "output_type": "execute_result"
    }
   ],
   "source": [
    "end - start"
   ]
  },
  {
   "cell_type": "code",
   "execution_count": 6,
   "metadata": {},
   "outputs": [
    {
     "data": {
      "text/plain": [
       "6369"
      ]
     },
     "execution_count": 6,
     "metadata": {},
     "output_type": "execute_result"
    }
   ],
   "source": [
    "from urllib.request import urlopen\n",
    "open('kr.gif', 'wb').write(urlopen('http://flupy.org/data/flags/kr/kr.gif').read())"
   ]
  },
  {
   "cell_type": "markdown",
   "metadata": {},
   "source": [
    "## WORKSHOP(TEST)"
   ]
  },
  {
   "cell_type": "markdown",
   "metadata": {},
   "source": [
    "문자열 조합 경우의 수를 모두 출력하는 함수를 만들어봅시다.\n",
    "\n",
    "- 한글 이름 테스트 -> ['한글이름테스트', '한글이름 테스트', '한글 이름테스트', '한글 이름 테스트']\n",
    "- 한글 테스트 -> ['한글테스트', '한글 테스트']\n",
    "- 한글테스트 -> ['한글테스트']\n",
    "\n",
    "클래스버전과, 함수버전 두가지를 만들어봅시다."
   ]
  },
  {
   "cell_type": "code",
   "execution_count": 1,
   "metadata": {},
   "outputs": [
    {
     "name": "stdout",
     "output_type": "stream",
     "text": [
      "[('1', '1'), ('1', '2'), ('2', '1'), ('2', '2')]\n",
      "Help on class product in module itertools:\n",
      "\n",
      "class product(builtins.object)\n",
      " |  product(*iterables, repeat=1) --> product object\n",
      " |  \n",
      " |  Cartesian product of input iterables.  Equivalent to nested for-loops.\n",
      " |  \n",
      " |  For example, product(A, B) returns the same as:  ((x,y) for x in A for y in B).\n",
      " |  The leftmost iterators are in the outermost for-loop, so the output tuples\n",
      " |  cycle in a manner similar to an odometer (with the rightmost element changing\n",
      " |  on every iteration).\n",
      " |  \n",
      " |  To compute the product of an iterable with itself, specify the number\n",
      " |  of repetitions with the optional repeat keyword argument. For example,\n",
      " |  product(A, repeat=4) means the same as product(A, A, A, A).\n",
      " |  \n",
      " |  product('ab', range(3)) --> ('a',0) ('a',1) ('a',2) ('b',0) ('b',1) ('b',2)\n",
      " |  product((0,1), (0,1), (0,1)) --> (0,0,0) (0,0,1) (0,1,0) (0,1,1) (1,0,0) ...\n",
      " |  \n",
      " |  Methods defined here:\n",
      " |  \n",
      " |  __getattribute__(self, name, /)\n",
      " |      Return getattr(self, name).\n",
      " |  \n",
      " |  __iter__(self, /)\n",
      " |      Implement iter(self).\n",
      " |  \n",
      " |  __new__(*args, **kwargs) from builtins.type\n",
      " |      Create and return a new object.  See help(type) for accurate signature.\n",
      " |  \n",
      " |  __next__(self, /)\n",
      " |      Implement next(self).\n",
      " |  \n",
      " |  __reduce__(...)\n",
      " |      Return state information for pickling.\n",
      " |  \n",
      " |  __setstate__(...)\n",
      " |      Set state information for unpickling.\n",
      " |  \n",
      " |  __sizeof__(...)\n",
      " |      Returns size in memory, in bytes.\n",
      "\n"
     ]
    }
   ],
   "source": [
    "len([('', ''), ('', ' '), (' ', ''), (' ', ' ')])\n",
    "import itertools\n",
    "print(list(itertools.product(['1', '2'], repeat=2)))\n",
    "help(itertools.product)"
   ]
  },
  {
   "cell_type": "code",
   "execution_count": 15,
   "metadata": {},
   "outputs": [
    {
     "data": {
      "text/plain": [
       "['한글이름', '한글-이름']"
      ]
     },
     "execution_count": 15,
     "metadata": {},
     "output_type": "execute_result"
    }
   ],
   "source": [
    "from itertools import product, zip_longest\n",
    "from functools import reduce\n",
    "from operator import add\n",
    "\n",
    "def word_combination(sep=' '):\n",
    "    \"\"\"단어조합generator    \n",
    "    \n",
    "    > wc = word_combination()\n",
    "    > wc(한글', '이름', '테스트')\n",
    "    ['한글이름테스트', '한글이름 테스트', '한글 이름테스트', '한글 이름 테스트']\n",
    "    > wc = word_combination(sep='-')\n",
    "    > wc('한글', '이름', '테스트')\n",
    "    ['한글이름테스트', '한글이름-테스트', '한글-이름테스트', '한글-이름-테스트']\n",
    "    \"\"\"\n",
    "    def inner(*words):\n",
    "        return [\n",
    "            ''.join(reduce(add, zip_longest(words, concat_str, fillvalue='')))\n",
    "            for concat_str in product(['', sep], repeat=len(words)-1)\n",
    "        ]\n",
    "    return inner\n",
    "\n",
    "wc = word_combination('-')\n",
    "wc('한글', '이름')"
   ]
  },
  {
   "cell_type": "code",
   "execution_count": 14,
   "metadata": {},
   "outputs": [
    {
     "data": {
      "text/plain": [
       "['한글이름테스트', '한글이름 테스트', '한글 이름테스트', '한글 이름 테스트']"
      ]
     },
     "execution_count": 14,
     "metadata": {},
     "output_type": "execute_result"
    }
   ],
   "source": [
    "class WordCombination:\n",
    "    \"\"\"단어조합generator\n",
    "    \n",
    "    > wc = WordCombination()\n",
    "    > wc('한글', '이름', '테스트')\n",
    "    ['한글이름테스트', '한글이름 테스트', '한글 이름테스트', '한글 이름 테스트']\n",
    "    > wc = WordCombination(sep='-')\n",
    "    > wc('한글', '이름', '테스트')\n",
    "    ['한글이름테스트', '한글이름-테스트', '한글-이름테스트', '한글-이름-테스트']\n",
    "    \"\"\"\n",
    "    def __init__(self, sep=' '):\n",
    "        self.sep = sep\n",
    "    def __call__(self, *words):\n",
    "        return [\n",
    "            ''.join(reduce(add, zip_longest(words, concat_str, fillvalue='')))\n",
    "            for concat_str in product(['', self.sep], repeat=len(words)-1)\n",
    "        ]\n",
    "\n",
    "wc = WordCombination()\n",
    "wc('한글', '이름', '테스트')"
   ]
  },
  {
   "cell_type": "code",
   "execution_count": 10,
   "metadata": {},
   "outputs": [
    {
     "name": "stdout",
     "output_type": "stream",
     "text": [
      "[('1', '1'), ('1', '2'), ('2', '1'), ('2', '2')]\n"
     ]
    }
   ],
   "source": [
    "class WordCombination:\n",
    "    def __init__(self, sep=' '):\n",
    "        import itertools\n",
    "    def __call__(self, *args):\n",
    "        print(list(itertools.product(['1', '2'], repeat=2)))\n",
    "\n",
    "wc = WordCombination()\n",
    "wc('한글', '이름', '테스트')\n"
   ]
  },
  {
   "cell_type": "markdown",
   "metadata": {},
   "source": [
    "## WORKSHOP"
   ]
  },
  {
   "cell_type": "code",
   "execution_count": null,
   "metadata": {
    "collapsed": true
   },
   "outputs": [],
   "source": [
    "import time\n",
    "import functools\n",
    "def timeit(func):\n",
    "    @functools.wraps(func)\n",
    "    def inner(*args, **kwargs):\n",
    "        before = time.time()\n",
    "        ret = func(*args, **kwargs)\n",
    "        print(f\"{time.time() - before}s is elapsed\")\n",
    "        return ret\n",
    "    return inner"
   ]
  },
  {
   "cell_type": "code",
   "execution_count": null,
   "metadata": {
    "collapsed": true
   },
   "outputs": [],
   "source": [
    "@timeit\n",
    "def heavy_task(elapsed=0):\n",
    "    import time\n",
    "    import random\n",
    "    time.sleep(elapsed or random.randrange(3))\n",
    "    return True\n",
    "\n",
    "#heavy_task(4)\n",
    "help(heavy_task), heavy_task.__name__"
   ]
  },
  {
   "cell_type": "markdown",
   "metadata": {},
   "source": [
    "## WORKSHOP\n",
    "\n",
    "디렉토리를 파라미터로 받아서 해당 디렉토리에 존재하는 서브디렉토리를 포함하는 모든 파일의 합계를 구하는 프로그램을 만들어주세요."
   ]
  },
  {
   "cell_type": "code",
   "execution_count": null,
   "metadata": {
    "collapsed": true
   },
   "outputs": [],
   "source": [
    "def get_size(directory):\n",
    "    # directory의 크기 계산\n",
    "    return 0\n",
    "\n",
    "import os\n",
    "import os.path\n",
    "\n",
    "# os.walk\n",
    "# os.path.getsize"
   ]
  },
  {
   "cell_type": "markdown",
   "metadata": {},
   "source": [
    "## WORKSHOP\n",
    "디렉토리를 파라미터를 받아서 해당 디렉토리에 존재하는 모든 파일의 이름를 key로 하고 각 파일의 크기를 값으로 가진 dictionary를 만들어주세요.  "
   ]
  },
  {
   "cell_type": "code",
   "execution_count": null,
   "metadata": {
    "collapsed": true
   },
   "outputs": [],
   "source": [
    "def get_size(directory):\n",
    "    # directory 크기 계산\n",
    "    return {'f1': 1028374, 'f2': 1928374, 'f3': 92834444}"
   ]
  },
  {
   "cell_type": "markdown",
   "metadata": {},
   "source": [
    "## WORKSHOP\n",
    "디렉토리를 파라미터로 받아서 해당 디렉토리에 존재하는 모든 파일의 합계를 구하는 프로그램을 만들어주세요. (파일만 처리해주시면 됩니다.)"
   ]
  },
  {
   "cell_type": "code",
   "execution_count": null,
   "metadata": {
    "collapsed": true
   },
   "outputs": [],
   "source": [
    "def get_size(directory):\n",
    "    # directory의 크기 계산\n",
    "    return 0\n",
    "\n",
    "import os\n",
    "import os.path\n",
    "\n",
    "# os.listdir\n",
    "# os.path.isfile\n",
    "# os.path.getsize"
   ]
  },
  {
   "cell_type": "code",
   "execution_count": null,
   "metadata": {
    "collapsed": true
   },
   "outputs": [],
   "source": [
    "import os\n",
    "src = os.listdir('.')\n",
    "src = list(filter(os.path.isfile, src))\n",
    "src = map(os.path.getsize, src)\n",
    "sum(src)\n",
    "\n",
    "def get_size(directory):\n",
    "    return sum([os.path.getsize(f) \n",
    "                for f in os.listdir(directory) \n",
    "                if os.path.isfile(f)]    )\n",
    "\n",
    "get_size('.')"
   ]
  }
 ],
 "metadata": {
  "kernelspec": {
   "display_name": "Python 3",
   "language": "python",
   "name": "python3"
  },
  "language_info": {
   "codemirror_mode": {
    "name": "ipython",
    "version": 3
   },
   "file_extension": ".py",
   "mimetype": "text/x-python",
   "name": "python",
   "nbconvert_exporter": "python",
   "pygments_lexer": "ipython3",
   "version": "3.6.1"
  }
 },
 "nbformat": 4,
 "nbformat_minor": 2
}
