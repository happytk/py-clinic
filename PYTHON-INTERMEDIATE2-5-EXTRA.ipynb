{
 "cells": [
  {
   "cell_type": "markdown",
   "metadata": {
    "slideshow": {
     "slide_type": "slide"
    }
   },
   "source": [
    "## PDB\n",
    "*print말고도 debug방법이 있다고요?*"
   ]
  },
  {
   "cell_type": "markdown",
   "metadata": {
    "slideshow": {
     "slide_type": "subslide"
    }
   },
   "source": [
    "디버그하고 싶은 순간 다음 문구를 떠올리세요.\n",
    "```\n",
    "import pdb; pdb.set_trace()\n",
    "```"
   ]
  },
  {
   "cell_type": "markdown",
   "metadata": {
    "slideshow": {
     "slide_type": "subslide"
    }
   },
   "source": [
    "그 다음에는 평소 쓰던 인터프리터 쉘을 쓰듯이."
   ]
  },
  {
   "cell_type": "markdown",
   "metadata": {
    "slideshow": {
     "slide_type": "subslide"
    }
   },
   "source": [
    "help를 이용해서 command를 익혀두세요. <span class=\"girk\">변수이름과 중복되면 테스트하기 어려워요.</span>\n",
    "- http://web.stanford.edu/class/physics91si/2013/handouts/Pdb_Commands.pdf"
   ]
  },
  {
   "cell_type": "markdown",
   "metadata": {
    "slideshow": {
     "slide_type": "slide"
    }
   },
   "source": [
    "## DON'T #1"
   ]
  },
  {
   "cell_type": "markdown",
   "metadata": {
    "slideshow": {
     "slide_type": "subslide"
    }
   },
   "source": [
    "unique한 숫자를 보관하는 class를 만들어봅시다.\n",
    "```\n",
    ">> un = UniqueNumber([10,20,30])\n",
    ">> un.pick(30)\n",
    ">> un.pick(40)\n",
    ">> un.number_list\n",
    "[10, 20, 30, 40]\n",
    "```"
   ]
  },
  {
   "cell_type": "code",
   "execution_count": 3,
   "metadata": {
    "slideshow": {
     "slide_type": "subslide"
    }
   },
   "outputs": [
    {
     "data": {
      "text/plain": [
       "[10, 20, 30, 40]"
      ]
     },
     "execution_count": 3,
     "metadata": {},
     "output_type": "execute_result"
    }
   ],
   "source": [
    "class UniqueNumber:\n",
    "    def __init__(self, lst=[]):\n",
    "        self.number_list = lst\n",
    "    def pick(self, number):\n",
    "        if number not in self.number_list:\n",
    "            self.number_list.append(number)\n",
    "\n",
    "un = UniqueNumber([10,20,30])\n",
    "un.pick(30)\n",
    "un.pick(40)\n",
    "un.number_list"
   ]
  },
  {
   "cell_type": "code",
   "execution_count": 4,
   "metadata": {
    "slideshow": {
     "slide_type": "subslide"
    }
   },
   "outputs": [
    {
     "data": {
      "text/plain": [
       "[40]"
      ]
     },
     "execution_count": 4,
     "metadata": {},
     "output_type": "execute_result"
    }
   ],
   "source": [
    "box = UniqueNumber()\n",
    "box.pick(40)\n",
    "box.number_list"
   ]
  },
  {
   "cell_type": "code",
   "execution_count": 6,
   "metadata": {
    "slideshow": {
     "slide_type": "subslide"
    }
   },
   "outputs": [
    {
     "data": {
      "text/plain": [
       "[40]"
      ]
     },
     "execution_count": 6,
     "metadata": {},
     "output_type": "execute_result"
    }
   ],
   "source": [
    "magic_box = UniqueNumber()\n",
    "magic_box.number_list"
   ]
  },
  {
   "cell_type": "code",
   "execution_count": 15,
   "metadata": {},
   "outputs": [
    {
     "data": {
      "text/plain": [
       "(111769992, 111769992)"
      ]
     },
     "execution_count": 15,
     "metadata": {},
     "output_type": "execute_result"
    }
   ],
   "source": [
    "id(magic_box.number_list), id(box.number_list)"
   ]
  },
  {
   "cell_type": "markdown",
   "metadata": {
    "slideshow": {
     "slide_type": "subslide"
    }
   },
   "source": [
    "함수가 정의되는 순간에 기본값이 계산됩니다. 기본값이 mutable객체라면 함수 정의하는 순간에 생성되었고 함수 호출시마다 해당 객체가 사용됩니다. 즉, **함수의 default parameter로 mutable객체를 정의하지 마세요.**"
   ]
  },
  {
   "cell_type": "code",
   "execution_count": 20,
   "metadata": {
    "slideshow": {
     "slide_type": "subslide"
    }
   },
   "outputs": [
    {
     "data": {
      "text/plain": [
       "([30, 40], [])"
      ]
     },
     "execution_count": 20,
     "metadata": {},
     "output_type": "execute_result"
    }
   ],
   "source": [
    "class UniqueNumber:\n",
    "    def __init__(self, lst=None):\n",
    "        self.number_list = lst or []\n",
    "    def pick(self, number):\n",
    "        if number not in self.number_list:\n",
    "            self.number_list.append(number)\n",
    "\n",
    "un1 = UniqueNumber()\n",
    "un2 = UniqueNumber()\n",
    "un1.pick(30)\n",
    "un1.pick(40)\n",
    "\n",
    "un.number_list, un2.number_list"
   ]
  },
  {
   "cell_type": "markdown",
   "metadata": {
    "slideshow": {
     "slide_type": "slide"
    }
   },
   "source": [
    "## DON'T #2"
   ]
  },
  {
   "cell_type": "markdown",
   "metadata": {
    "slideshow": {
     "slide_type": "subslide"
    }
   },
   "source": [
    "어떤 동작을 수행하기 전에 모든 것을 체크하는 스타일(Look Before You Leap)\n",
    "- 누울 자리를 보고 다리를 뻗어라."
   ]
  },
  {
   "cell_type": "markdown",
   "metadata": {
    "slideshow": {
     "slide_type": "subslide"
    }
   },
   "source": [
    "어떤 동작을 수행하기 전에 모든 것을 체크하는 스타일(Look Before You Leap)\n",
    " - 특정 동작을 수행하기 전에 가급적 모든 위험사항을 기재\n",
    " - 특정 동작은 반드시 안전하게 수행되어야 하는 위험성 (하나라도 놓친다면..)\n",
    " - 체크, 체크, 체크는 Multithread환경에서는 안전하지 않다."
   ]
  },
  {
   "cell_type": "code",
   "execution_count": 3,
   "metadata": {
    "collapsed": true,
    "slideshow": {
     "slide_type": "subslide"
    }
   },
   "outputs": [],
   "source": [
    "def get_log_level(config_dict):\n",
    "    if 'ENABLE_LOGGING' in config_dict:\n",
    "        if config_dict['ENABLE_LOGGING'] != True:\n",
    "            return None\n",
    "        elif not 'DEFAULT_LOG_LEVEL' in config_dict:\n",
    "            return None\n",
    "        else:\n",
    "            return config_dict['DEFAULT_LOG_LEVEL']\n",
    "    else:\n",
    "        return None"
   ]
  },
  {
   "cell_type": "markdown",
   "metadata": {
    "slideshow": {
     "slide_type": "slide"
    }
   },
   "source": [
    "### Easier to Ask for Fogiveness than Permission (EAFP Style)\n",
    "*잘 될거야, 그리고 혹시 그렇지 않다면 예외를 잡으면 돼*"
   ]
  },
  {
   "cell_type": "markdown",
   "metadata": {
    "slideshow": {
     "slide_type": "subslide"
    }
   },
   "source": [
    "- 코드의 목적이 좀 더 부각되어져서 보이고, 명확해보이는 장점.\n",
    "  - 시작하기 전에 체크를 장황하게 하지 않고,\n",
    "  - <span class=\"burk\">그냥 할 일이 먼저 바로 보임.</span>"
   ]
  },
  {
   "cell_type": "code",
   "execution_count": 8,
   "metadata": {
    "slideshow": {
     "slide_type": "subslide"
    }
   },
   "outputs": [
    {
     "data": {
      "text/plain": [
       "('DEBUG', None)"
      ]
     },
     "execution_count": 8,
     "metadata": {},
     "output_type": "execute_result"
    }
   ],
   "source": [
    "def get_log_level(config_dict):\n",
    "    try:\n",
    "        if config_dict['ENABLE_LOGGING'] != True:\n",
    "            return config_dict['DEFAULT_LOG_LEVEL']\n",
    "    except KeyError:\n",
    "        # 필요하면 logging 및 에러처리\n",
    "        return None\n",
    "(\n",
    "    get_log_level(dict(ENABLE_LOGGING=False, DEFAULT_LOG_LEVEL='DEBUG')),\n",
    "    get_log_level(dict())\n",
    ")"
   ]
  },
  {
   "cell_type": "code",
   "execution_count": 9,
   "metadata": {
    "slideshow": {
     "slide_type": "subslide"
    }
   },
   "outputs": [
    {
     "data": {
      "text/plain": [
       "(None, None)"
      ]
     },
     "execution_count": 9,
     "metadata": {},
     "output_type": "execute_result"
    }
   ],
   "source": [
    "def get_log_level(config_dict):\n",
    "    try:\n",
    "        if config_dict['ENABLE_LOGGING'] != true:\n",
    "            return config_dict['DEFAULT_LOG_LEVEL']\n",
    "    except:  # 그래도 이건 좋지 않습니다. 예상하지 않았던 NameError\n",
    "        return None\n",
    "(\n",
    "    get_log_level(dict(ENABLE_LOGGING=False, DEFAULT_LOG_LEVEL='DEBUG')),\n",
    "    get_log_level(dict())\n",
    ")"
   ]
  },
  {
   "cell_type": "markdown",
   "metadata": {
    "slideshow": {
     "slide_type": "slide"
    }
   },
   "source": [
    "## DON'T 3\n"
   ]
  },
  {
   "cell_type": "markdown",
   "metadata": {
    "slideshow": {
     "slide_type": "subslide"
    }
   },
   "source": [
    "PYTHON은 DYNAMIC TYPING을 지원하므로 굳이 변수를 미리 선언하지 마세요."
   ]
  },
  {
   "cell_type": "code",
   "execution_count": 7,
   "metadata": {},
   "outputs": [
    {
     "name": "stdout",
     "output_type": "stream",
     "text": [
      "True\n"
     ]
    }
   ],
   "source": [
    "import random\n",
    "\n",
    "my_variable = None\n",
    "\n",
    "if random.choice([0,1]):\n",
    "    my_variable = True\n",
    "else:\n",
    "    my_variable = False\n",
    "\n",
    "print(my_variable)"
   ]
  },
  {
   "cell_type": "code",
   "execution_count": 6,
   "metadata": {
    "slideshow": {
     "slide_type": "subslide"
    }
   },
   "outputs": [],
   "source": [
    "# argument  entity, subjectarea\n",
    "def ENTITY_GROUPS(self):\n",
    "\n",
    "    ENTITY_ARR = \"\"\n",
    "    # SUBJECT_AREA_REFERENCE_ENTITIES_ARR_XML = \"\"\n",
    "    DRAWING_OBJECT_ENTITY_ARR = \"\"\n",
    "    SUBTYPE_SYMBOL_ARR_XML = \"\"\n",
    "    entityMapDic = {}\n",
    "    entityNameMapDic = {}\n",
    "    entityPhysicalNameMapDic = {}\n",
    "    entityPosDic = {}\n",
    "    attrMapDic = {}\n",
    "\n",
    "    relMapDic = {}\n",
    "    relTypeMapDic = {}\n",
    "    relParentIdDic = {}\n",
    "    relChildIdDic = {}\n",
    "    relAttrDic = {}\n",
    "\n",
    "    drwObjMapDic = {}\n",
    "    drwObjRelMapDic = {}\n",
    "    drwObjSymMapDic = {}\n",
    "    drwObjSymParentMapDic = {}\n",
    "\n",
    "    sbxMapDic = {}\n",
    "    sbxStoredDispMapDic = {}\n",
    "\n",
    "    erDiagramMapDic = {}\n",
    "    erDiagramNameMapDic = {}\n",
    "\n",
    "    sbxProxyMapDic = {}\n",
    "    sbxStoredDispProxyMapDic = {}\n",
    "    subTypeMapDic = {}\n",
    "    subTypeNameMapDic = {}\n",
    "    subTypeTypMapDic = {}\n",
    "    constEntityType = {\"A\", \"L\", \"P\"}\n",
    "\n",
    "    keyGroupMemberPKMapDic = {}\n",
    "    keyGroupMemberFKMapDic = {}\n",
    "\n",
    "    lDefaultGroupMapDic            = {}\n",
    "    lDefaultGroupNameMapDic        = {}\n",
    "    lDefaultValueAttrMapDic        = {}\n",
    "    lDefaultContUsageMapDic        = {}\n",
    "    lDefaultContUsageNameMapDic    = {}\n",
    "    lDefaultContUsageRefMapDic     = {}\n",
    "\n"
   ]
  },
  {
   "cell_type": "markdown",
   "metadata": {},
   "source": [
    "## DON'T 4"
   ]
  },
  {
   "cell_type": "markdown",
   "metadata": {
    "slideshow": {
     "slide_type": "subslide"
    }
   },
   "source": [
    "PYTHON은 FLAT한 소스구조를 선호합니다. (ZEN OF PYTHON, Indentation)"
   ]
  },
  {
   "cell_type": "code",
   "execution_count": 29,
   "metadata": {},
   "outputs": [],
   "source": [
    "import random\n",
    "\n",
    "if random.choice([0,1]):\n",
    "    if random.choice([0,1]):\n",
    "        if random.choice([0,1]):\n",
    "            if random.choice([0,1]):\n",
    "                print('helloworld!')\n",
    "\n",
    "\n",
    "import itertools\n",
    "\n",
    "if sum(random.choice([0,1]) for _ in range(4)) == 4:\n",
    "    print('helloworld')\n"
   ]
  },
  {
   "cell_type": "code",
   "execution_count": 30,
   "metadata": {},
   "outputs": [],
   "source": [
    "for i in range(10):\n",
    "    if i > 10:\n",
    "        print('do something.')\n",
    "\n",
    "for i in range(10):\n",
    "    if i <= 10:\n",
    "        continue\n",
    "    \n",
    "    print('do something')"
   ]
  },
  {
   "cell_type": "markdown",
   "metadata": {
    "slideshow": {
     "slide_type": "skip"
    }
   },
   "source": [
    "### CIRCULAR MODULE DEPENDENCIES\n",
    "*정답이 없습니다*"
   ]
  },
  {
   "cell_type": "code",
   "execution_count": 2,
   "metadata": {
    "slideshow": {
     "slide_type": "skip"
    }
   },
   "outputs": [
    {
     "name": "stdout",
     "output_type": "stream",
     "text": [
      "Overwriting cmd_a.py\n"
     ]
    }
   ],
   "source": [
    "%%writefile cmd_a.py\n",
    "# cmd_a.py\n",
    "import cmd_b\n",
    "\n",
    "x = 'cmd_a'\n",
    "if True:\n",
    "    print(x, cmd_b.x)\n",
    "# import cmd_b\n",
    "\n",
    "# def function1():\n",
    "#     cmd_b.function2()\n",
    "\n",
    "# def function3():\n",
    "#     print('goodbye, world!')"
   ]
  },
  {
   "cell_type": "code",
   "execution_count": 3,
   "metadata": {
    "slideshow": {
     "slide_type": "skip"
    }
   },
   "outputs": [
    {
     "name": "stdout",
     "output_type": "stream",
     "text": [
      "Overwriting cmd_b.py\n"
     ]
    }
   ],
   "source": [
    "%%writefile cmd_b.py\n",
    "# cmd_b.py\n",
    "import cmd_a\n",
    "\n",
    "x = 'cmd_b'\n",
    "if True:\n",
    "    print(x, cmd_a.x)\n",
    "# import cmd_a\n",
    "\n",
    "# def function2():\n",
    "#     print('hello world!')\n",
    "#     cmd_a.function3()"
   ]
  },
  {
   "cell_type": "code",
   "execution_count": 1,
   "metadata": {
    "slideshow": {
     "slide_type": "skip"
    }
   },
   "outputs": [
    {
     "ename": "AttributeError",
     "evalue": "module 'cmd_b' has no attribute 'x'",
     "output_type": "error",
     "traceback": [
      "\u001b[0;31m---------------------------------------------------------------------------\u001b[0m",
      "\u001b[0;31mAttributeError\u001b[0m                            Traceback (most recent call last)",
      "\u001b[0;32m<ipython-input-1-e44bc393da20>\u001b[0m in \u001b[0;36m<module>\u001b[0;34m()\u001b[0m\n\u001b[0;32m----> 1\u001b[0;31m \u001b[0;32mimport\u001b[0m \u001b[0mcmd_b\u001b[0m\u001b[0;34m\u001b[0m\u001b[0m\n\u001b[0m\u001b[1;32m      2\u001b[0m \u001b[0;31m# print(cmd_b.x)\u001b[0m\u001b[0;34m\u001b[0m\u001b[0;34m\u001b[0m\u001b[0m\n\u001b[1;32m      3\u001b[0m \u001b[0;31m# import cmd_a\u001b[0m\u001b[0;34m\u001b[0m\u001b[0;34m\u001b[0m\u001b[0m\n\u001b[1;32m      4\u001b[0m \u001b[0;31m# cmd_a.function1()\u001b[0m\u001b[0;34m\u001b[0m\u001b[0;34m\u001b[0m\u001b[0m\n",
      "\u001b[0;32m~/Dev/PY/cmd_b.py\u001b[0m in \u001b[0;36m<module>\u001b[0;34m()\u001b[0m\n\u001b[1;32m      1\u001b[0m \u001b[0;31m# cmd_b.py\u001b[0m\u001b[0;34m\u001b[0m\u001b[0;34m\u001b[0m\u001b[0m\n\u001b[0;32m----> 2\u001b[0;31m \u001b[0;32mimport\u001b[0m \u001b[0mcmd_a\u001b[0m\u001b[0;34m\u001b[0m\u001b[0m\n\u001b[0m\u001b[1;32m      3\u001b[0m \u001b[0;34m\u001b[0m\u001b[0m\n\u001b[1;32m      4\u001b[0m \u001b[0mx\u001b[0m \u001b[0;34m=\u001b[0m \u001b[0;34m'cmd_b'\u001b[0m\u001b[0;34m\u001b[0m\u001b[0m\n\u001b[1;32m      5\u001b[0m \u001b[0;32mif\u001b[0m \u001b[0;32mTrue\u001b[0m\u001b[0;34m:\u001b[0m\u001b[0;34m\u001b[0m\u001b[0m\n",
      "\u001b[0;32m~/Dev/PY/cmd_a.py\u001b[0m in \u001b[0;36m<module>\u001b[0;34m()\u001b[0m\n\u001b[1;32m      4\u001b[0m \u001b[0mx\u001b[0m \u001b[0;34m=\u001b[0m \u001b[0;34m'cmd_a'\u001b[0m\u001b[0;34m\u001b[0m\u001b[0m\n\u001b[1;32m      5\u001b[0m \u001b[0;32mif\u001b[0m \u001b[0;32mTrue\u001b[0m\u001b[0;34m:\u001b[0m\u001b[0;34m\u001b[0m\u001b[0m\n\u001b[0;32m----> 6\u001b[0;31m     \u001b[0mprint\u001b[0m\u001b[0;34m(\u001b[0m\u001b[0mx\u001b[0m\u001b[0;34m,\u001b[0m \u001b[0mcmd_b\u001b[0m\u001b[0;34m.\u001b[0m\u001b[0mx\u001b[0m\u001b[0;34m)\u001b[0m\u001b[0;34m\u001b[0m\u001b[0m\n\u001b[0m\u001b[1;32m      7\u001b[0m \u001b[0;31m# import cmd_b\u001b[0m\u001b[0;34m\u001b[0m\u001b[0;34m\u001b[0m\u001b[0m\n\u001b[1;32m      8\u001b[0m \u001b[0;34m\u001b[0m\u001b[0m\n",
      "\u001b[0;31mAttributeError\u001b[0m: module 'cmd_b' has no attribute 'x'"
     ]
    }
   ],
   "source": [
    "import cmd_b\n",
    "# print(cmd_b.x)\n",
    "# import cmd_a\n",
    "# cmd_a.function1()"
   ]
  }
 ],
 "metadata": {
  "celltoolbar": "Slideshow",
  "kernelspec": {
   "display_name": "Python 3",
   "language": "python",
   "name": "python3"
  },
  "language_info": {
   "codemirror_mode": {
    "name": "ipython",
    "version": 3
   },
   "file_extension": ".py",
   "mimetype": "text/x-python",
   "name": "python",
   "nbconvert_exporter": "python",
   "pygments_lexer": "ipython3",
   "version": "3.6.1"
  }
 },
 "nbformat": 4,
 "nbformat_minor": 2
}
