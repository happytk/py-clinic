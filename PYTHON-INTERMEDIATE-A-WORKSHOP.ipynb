{
 "cells": [
  {
   "cell_type": "markdown",
   "metadata": {},
   "source": [
    "## (WORKSHOP) HTML tag를 생성해주는 함수를 만들어봅시다."
   ]
  },
  {
   "cell_type": "raw",
   "metadata": {},
   "source": [
    ">> tag('br')\n",
    "'<br/>'\n",
    ">> tag('p', 'hello')\n",
    "'<p>hello</p>'\n",
    ">> print(tag('p', 'hello', 'world'))\n",
    "<p>hello</p>\n",
    "<p>world</p>\n",
    ">> tag('p', 'hello', id=33)\n",
    "'<p id=\"33\">hello</p>'\n",
    ">> print(tag('p', 'hello', 'world', class_='sidebar'))\n",
    "<p class=\"sidebar\">hello</p>\n",
    "<p class=\"sidebar\">world</p>\n",
    ">> tag(content='testing', name='img')\n",
    "'<img content=\"testing\" />'"
   ]
  }
 ],
 "metadata": {
  "kernelspec": {
   "display_name": "Python 3",
   "language": "python",
   "name": "python3"
  },
  "language_info": {
   "codemirror_mode": {
    "name": "ipython",
    "version": 3
   },
   "file_extension": ".py",
   "mimetype": "text/x-python",
   "name": "python",
   "nbconvert_exporter": "python",
   "pygments_lexer": "ipython3",
   "version": "3.6.0"
  }
 },
 "nbformat": 4,
 "nbformat_minor": 2
}
