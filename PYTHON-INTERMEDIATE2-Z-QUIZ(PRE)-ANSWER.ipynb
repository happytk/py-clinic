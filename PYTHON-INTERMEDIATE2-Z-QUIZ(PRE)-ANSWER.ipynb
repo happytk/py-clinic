{
 "cells": [
  {
   "cell_type": "markdown",
   "metadata": {},
   "source": [
    "## 파이썬심화과정 사전 테스트지"
   ]
  },
  {
   "cell_type": "markdown",
   "metadata": {},
   "source": [
    "1) 다음 표현식의 결과를 예상해보세요.\n",
    "```\n",
    "\"123\" * 3\n",
    "```\n",
    "\n",
    "<span class=\"burk\">\"123123123\"</span>"
   ]
  },
  {
   "cell_type": "markdown",
   "metadata": {},
   "source": [
    "2) 다음 단어의 목록(List)을 하나의 문장으로 완성하는 코드를 작성해주세요.\n",
    "\n",
    "```\n",
    "lst = [\"hello\", \"world\", \"python!\"]\n",
    "\n",
    "## your code is here\n",
    "\n",
    "\n",
    "print(result)\n",
    "-> \"hello world python!\"\n",
    "```\n",
    "\n",
    "<span class=\"burk\">result = \"\".join(lst)</span>\n"
   ]
  },
  {
   "cell_type": "markdown",
   "metadata": {},
   "source": [
    "3) range()을 이용해서 1-100까지의 숫자중 짝수의 합계를 구하는 python 코드를 작성해주세요. 아래 Template의 `____`를 채워주셔도 좋고, 새롭게 작성하셔도 좋습니다.\n",
    "\n",
    "```\n",
    "sum = 0\n",
    "for i in range(____):\n",
    "    if _________:\n",
    "         sum += i\n",
    "print(sum)\n",
    "```\n",
    "\n",
    "\n",
    "<span class=\"burk\">sum(range(0,101,2))</span>"
   ]
  }
 ],
 "metadata": {
  "kernelspec": {
   "display_name": "Python 3",
   "language": "python",
   "name": "python3"
  },
  "language_info": {
   "codemirror_mode": {
    "name": "ipython",
    "version": 3
   },
   "file_extension": ".py",
   "mimetype": "text/x-python",
   "name": "python",
   "nbconvert_exporter": "python",
   "pygments_lexer": "ipython3",
   "version": "3.6.1"
  }
 },
 "nbformat": 4,
 "nbformat_minor": 2
}
