{
 "cells": [
  {
   "cell_type": "markdown",
   "metadata": {},
   "source": [
    "**WORKSHOP**\n",
    "\n",
    "백만이하의 숫자를 random으로 받아서 한화(KRW)형식으로 표시해봅시다. 셋째자리마다 ,를 찍어주면 됩니다.\n",
    "\n",
    "987123 -> 987,123"
   ]
  },
  {
   "cell_type": "code",
   "execution_count": 1,
   "metadata": {
    "collapsed": false
   },
   "outputs": [
    {
     "data": {
      "text/plain": [
       "48978294"
      ]
     },
     "execution_count": 1,
     "metadata": {},
     "output_type": "execute_result"
    }
   ],
   "source": [
    "import random\n",
    "random.randrange(100000000)"
   ]
  },
  {
   "cell_type": "code",
   "execution_count": 61,
   "metadata": {
    "collapsed": false
   },
   "outputs": [
    {
     "name": "stdout",
     "output_type": "stream",
     "text": [
      "1\n",
      "2\n",
      "3\n",
      ",\n",
      "4\n",
      "5\n",
      "6\n",
      ",\n",
      "7\n",
      "8\n",
      "9\n"
     ]
    }
   ],
   "source": [
    "num = str(123456789)\n",
    "fmt = []\n",
    "for idx, char in enumerate(reversed(num)):\n",
    "    fmt.append(char)\n",
    "    if (idx+1) % 3 == 0 and len(num) != (idx+1):\n",
    "        fmt.append(',')\n",
    "''.join(reversed(fmt))\n",
    "''.join(reversed(''.join([[char, char+','][(idx+1) % 3 == 0 and len(num) != (idx+1)] for idx, char in enumerate(reversed(num))])))\n",
    "\n",
    "for idx, char in enumerate(num):\n",
    "    print(char)\n",
    "    if (len(num) - idx - 1) % 3 == 0 and len(num) != (idx+1):\n",
    "        print(',')"
   ]
  },
  {
   "cell_type": "code",
   "execution_count": 46,
   "metadata": {
    "collapsed": false
   },
   "outputs": [
    {
     "data": {
      "text/plain": [
       "'\\\\197,829,323'"
      ]
     },
     "execution_count": 46,
     "metadata": {},
     "output_type": "execute_result"
    }
   ],
   "source": [
    "import locale\n",
    "locale.setlocale(locale.LC_ALL, '')\n",
    "locale.currency(197829323, grouping=True)"
   ]
  },
  {
   "cell_type": "code",
   "execution_count": 52,
   "metadata": {
    "collapsed": false
   },
   "outputs": [
    {
     "data": {
      "text/plain": [
       "'12,983,123'"
      ]
     },
     "execution_count": 52,
     "metadata": {},
     "output_type": "execute_result"
    }
   ],
   "source": [
    "import locale\n",
    "locale.format('%.0f', 12983123, 1)"
   ]
  }
 ],
 "metadata": {
  "kernelspec": {
   "display_name": "Python 3",
   "language": "python",
   "name": "python3"
  },
  "language_info": {
   "codemirror_mode": {
    "name": "ipython",
    "version": 3
   },
   "file_extension": ".py",
   "mimetype": "text/x-python",
   "name": "python",
   "nbconvert_exporter": "python",
   "pygments_lexer": "ipython3",
   "version": "3.6.0"
  }
 },
 "nbformat": 4,
 "nbformat_minor": 2
}
