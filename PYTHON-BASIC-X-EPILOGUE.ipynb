{
 "cells": [
  {
   "cell_type": "markdown",
   "metadata": {
    "slideshow": {
     "slide_type": "slide"
    }
   },
   "source": [
    "## 지금즈음 아마도 당신은.."
   ]
  },
  {
   "cell_type": "markdown",
   "metadata": {
    "slideshow": {
     "slide_type": "subslide"
    }
   },
   "source": [
    "지금즈음 아마도 당신은..\n",
    "- 오늘 배운 내용의 절반은 **깨끗히** 잊어버렸다.\n",
    "- 그리고 나머지 절반은.."
   ]
  },
  {
   "cell_type": "markdown",
   "metadata": {
    "slideshow": {
     "slide_type": "fragment"
    }
   },
   "source": [
    "- 그리고 남은 절반을 **어떻게든 기억해보고 싶다면,,**"
   ]
  },
  {
   "cell_type": "markdown",
   "metadata": {
    "slideshow": {
     "slide_type": "subslide"
    }
   },
   "source": [
    "나를 불편하게 하는 것! -> 그것을 바꿔보세요."
   ]
  },
  {
   "cell_type": "markdown",
   "metadata": {
    "slideshow": {
     "slide_type": "subslide"
    }
   },
   "source": [
    "나를 불편하게 하는 것! -> 그것을 **프로그래밍으로** 바꿔보세요."
   ]
  },
  {
   "cell_type": "markdown",
   "metadata": {
    "slideshow": {
     "slide_type": "subslide"
    }
   },
   "source": [
    "나를 불편하게 하는 것! -> 그것을 **Python 프로그래밍으로** 바꿔보세요."
   ]
  },
  {
   "cell_type": "markdown",
   "metadata": {
    "slideshow": {
     "slide_type": "slide"
    }
   },
   "source": [
    "![title](img/zen-of-python.png)\n",
    "## The Zen of Python"
   ]
  },
  {
   "cell_type": "markdown",
   "metadata": {
    "slideshow": {
     "slide_type": "subslide"
    }
   },
   "source": [
    "```\n",
    ">> import this  # PEP20\n",
    "The Zen of Python, by Tim Peters\n",
    "\n",
    "Beautiful is better than ugly.\n",
    "Explicit is better than implicit.\n",
    "Simple is better than complex.\n",
    "Complex is better than complicated.\n",
    "..\n",
    "```"
   ]
  },
  {
   "cell_type": "markdown",
   "metadata": {
    "slideshow": {
     "slide_type": "subslide"
    }
   },
   "source": [
    "- 아름다움이 추함보다 좋다.\n",
    "- 명시적인 것이 암시적인 것보다 좋다.\n",
    "- 단순함이 복잡함보다 좋다.\n",
    "- 복잡함이 꼬인것보다 좋다.\n",
    "- 수평적인 것이 계층적인 것보다 좋다."
   ]
  },
  {
   "cell_type": "markdown",
   "metadata": {
    "slideshow": {
     "slide_type": "subslide"
    }
   },
   "source": [
    "- 흩어지는 것이 밀집한 것보다 좋다.\n",
    "- 가독성은 중요하다.\n",
    "- 특별한 경우라는 것이 규칙을 어길정도로 특별할 것은 아니다.\n",
    "- 그럼에도 실용성은 순수성에 우선한다.\n",
    "- 오류 앞에서 침묵하지 않는다.\n",
    "- 명시적으로 오류를 감추려고 하는 것이 아니라면."
   ]
  },
  {
   "cell_type": "markdown",
   "metadata": {
    "slideshow": {
     "slide_type": "subslide"
    }
   },
   "source": [
    "- 모호하게 만들고 이를 유추하겠다는 유혹을 버려라.\n",
    "- 어떤 일이든 명확한 - 바람직하고 유일한 - 방법이 존재한다.\n",
    "- 비록 당신이 우둔해서 그 방법이 처음에는 명확해 보이지 않을지라도.\n",
    "- 지금 하는게 아예 안하는 것보다 낫다.\n",
    "- 아예 안하는 것이 지금 당장 하는것보다 나을 때도 있지만."
   ]
  },
  {
   "cell_type": "markdown",
   "metadata": {
    "slideshow": {
     "slide_type": "subslide"
    }
   },
   "source": [
    "- 구현 결과를 설명하기 어렵다면, 그 아이디어는 나쁜 것이다.\n",
    "- 구현 결과를 설명하기 쉽다면, 그 아이디어는 좋은 아이디어일 수 있다.\n",
    "- 네임스페이스는 좋은 아이디어다. - 더 많이 쓰자."
   ]
  },
  {
   "cell_type": "markdown",
   "metadata": {
    "slideshow": {
     "slide_type": "slide"
    }
   },
   "source": [
    "## 오늘 배운 내용 한장 정리"
   ]
  },
  {
   "cell_type": "markdown",
   "metadata": {
    "slideshow": {
     "slide_type": "subslide"
    }
   },
   "source": [
    "![Title](img/emc2.jpg)"
   ]
  },
  {
   "cell_type": "markdown",
   "metadata": {
    "slideshow": {
     "slide_type": "subslide"
    }
   },
   "source": [
    "Python은 적게 쓰고 많이 일할 수 있는 *표현력이 있는* 프로그래밍 언어입니다."
   ]
  },
  {
   "cell_type": "markdown",
   "metadata": {
    "slideshow": {
     "slide_type": "subslide"
    }
   },
   "source": [
    "Happy Python!\n",
    "\n",
    "감사합니다."
   ]
  }
 ],
 "metadata": {
  "celltoolbar": "Slideshow",
  "kernelspec": {
   "display_name": "Python 3",
   "language": "python",
   "name": "python3"
  },
  "language_info": {
   "codemirror_mode": {
    "name": "ipython",
    "version": 3
   },
   "file_extension": ".py",
   "mimetype": "text/x-python",
   "name": "python",
   "nbconvert_exporter": "python",
   "pygments_lexer": "ipython3",
   "version": "3.6.1"
  }
 },
 "nbformat": 4,
 "nbformat_minor": 2
}
