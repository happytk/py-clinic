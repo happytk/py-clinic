{
 "cells": [
  {
   "cell_type": "markdown",
   "metadata": {
    "collapsed": true
   },
   "source": [
    "## 주석처리하기"
   ]
  },
  {
   "cell_type": "code",
   "execution_count": 1,
   "metadata": {
    "collapsed": false
   },
   "outputs": [
    {
     "data": {
      "text/plain": [
       "'this\\nis\\na\\ncomment\\nfor\\nblock'"
      ]
     },
     "execution_count": 1,
     "metadata": {},
     "output_type": "execute_result"
    }
   ],
   "source": [
    "# this is a comment\n",
    "'''this is a comment'''\n",
    "'''this\n",
    "is\n",
    "a\n",
    "comment\n",
    "for\n",
    "block'''"
   ]
  },
  {
   "cell_type": "code",
   "execution_count": 3,
   "metadata": {
    "collapsed": false
   },
   "outputs": [
    {
     "name": "stdout",
     "output_type": "stream",
     "text": [
      "Help on function helloworld in module __main__:\n",
      "\n",
      "helloworld()\n",
      "    this is a description.\n",
      "    \n",
      "    arguments:\n",
      "    :param arg1: one argument\n",
      "    :param arg2: another argument\n",
      "\n",
      "Help on function helloworld in module __main__:\n",
      "\n",
      "helloworld()\n",
      "    this is a description too.asdfasdf\n",
      "    asdfalosjdf\n",
      "    asdlkfjasdf\n",
      "\n"
     ]
    }
   ],
   "source": [
    "import sys\n",
    "def helloworld():\n",
    "    '''this is a description.\n",
    "    \n",
    "    arguments:\n",
    "    :param arg1: one argument\n",
    "    :param arg2: another argument'''\n",
    "    pass\n",
    "\n",
    "help(helloworld)\n",
    "\n",
    "def helloworld():\n",
    "    '''this is a description too.asdfasdf\n",
    "    asdfalosjdf\n",
    "    asdlkfjasdf'''\n",
    "    pass\n",
    "\n",
    "help(helloworld)"
   ]
  },
  {
   "cell_type": "markdown",
   "metadata": {},
   "source": [
    "## 변수 - 요즘은 그릇보다는 라벨에 비유해요"
   ]
  },
  {
   "cell_type": "markdown",
   "metadata": {},
   "source": [
    "참조의 성격을 지니기 때문에요. 참조변수는 단순히 객체를 전달받아 활용할 수 있도록 객체들의 주소만을 관리합니다."
   ]
  },
  {
   "cell_type": "code",
   "execution_count": 18,
   "metadata": {
    "collapsed": false
   },
   "outputs": [
    {
     "name": "stdout",
     "output_type": "stream",
     "text": [
      "v 변수 1681439184\n",
      "1은 객체 1681439184\n",
      "lst 변수 96704776\n",
      "ref2lst 변수 96704776\n"
     ]
    }
   ],
   "source": [
    "v = 1\n",
    "print(\"v 변수\", id(v))\n",
    "print(\"1은 객체\", id(1))\n",
    "\n",
    "lst = [1,2,3,4]\n",
    "ref2lst = lst\n",
    "print(\"lst 변수\", id(lst))\n",
    "print(\"ref2lst 변수\", id(ref2lst))"
   ]
  },
  {
   "cell_type": "markdown",
   "metadata": {},
   "source": [
    "변수는 선언시점에 반드시 값을 할당해야 합니다. 타입은 지정하지 않습니다. 값을 지정하는 시점에 타입이 동적으로 결정됩니다."
   ]
  },
  {
   "cell_type": "code",
   "execution_count": 8,
   "metadata": {
    "collapsed": true
   },
   "outputs": [],
   "source": [
    "a = None\n",
    "a = 1\n",
    "a = \"str\""
   ]
  },
  {
   "cell_type": "markdown",
   "metadata": {},
   "source": [
    "변수의 타입을 살펴볼 수 있어요."
   ]
  },
  {
   "cell_type": "code",
   "execution_count": 12,
   "metadata": {
    "collapsed": false
   },
   "outputs": [
    {
     "name": "stdout",
     "output_type": "stream",
     "text": [
      "<class 'int'>\n",
      "<class 'str'>\n",
      "<class 'NoneType'>\n",
      "<class 'bool'>\n",
      "<class 'bool'>\n",
      "<class 'module'>\n",
      "<class 'builtin_function_or_method'>\n",
      "<class 'builtin_function_or_method'>\n"
     ]
    }
   ],
   "source": [
    "print(type(1))\n",
    "print(type(\"string\"))\n",
    "print(type(None))\n",
    "print(type(False))\n",
    "print(type(True))\n",
    "import os\n",
    "print(type(os))\n",
    "print(type(os.listdir))\n",
    "print(type(os.path.isdir))"
   ]
  },
  {
   "cell_type": "markdown",
   "metadata": {},
   "source": [
    "유형검사"
   ]
  },
  {
   "cell_type": "code",
   "execution_count": 16,
   "metadata": {
    "collapsed": false
   },
   "outputs": [
    {
     "name": "stdout",
     "output_type": "stream",
     "text": [
      "True\n",
      "True\n",
      "True\n"
     ]
    }
   ],
   "source": [
    "print(isinstance(1, int))\n",
    "print(isinstance(1.0, float))\n",
    "print(isinstance(True, bool))"
   ]
  },
  {
   "cell_type": "markdown",
   "metadata": {},
   "source": [
    "언어 차원의 식별자(keyword)는 건드릴 수 없습니다."
   ]
  },
  {
   "cell_type": "code",
   "execution_count": 19,
   "metadata": {
    "collapsed": false
   },
   "outputs": [
    {
     "ename": "SyntaxError",
     "evalue": "invalid syntax (<ipython-input-19-66e782acac48>, line 1)",
     "output_type": "error",
     "traceback": [
      "\u001b[0;36m  File \u001b[0;32m\"<ipython-input-19-66e782acac48>\"\u001b[0;36m, line \u001b[0;32m1\u001b[0m\n\u001b[0;31m    if = 3\u001b[0m\n\u001b[0m       ^\u001b[0m\n\u001b[0;31mSyntaxError\u001b[0m\u001b[0;31m:\u001b[0m invalid syntax\n"
     ]
    }
   ],
   "source": [
    "if = 3\n",
    "def = 'a'"
   ]
  },
  {
   "cell_type": "code",
   "execution_count": 25,
   "metadata": {
    "collapsed": false
   },
   "outputs": [
    {
     "name": "stdout",
     "output_type": "stream",
     "text": [
      "33\n",
      "['False', 'None', 'True', 'and', 'as', 'assert', 'break', 'class', 'continue', 'def', 'del', 'elif', 'else', 'except', 'finally', 'for', 'from', 'global', 'if', 'import', 'in', 'is', 'lambda', 'nonlocal', 'not', 'or', 'pass', 'raise', 'return', 'try', 'while', 'with', 'yield']\n"
     ]
    }
   ],
   "source": [
    "import keyword\n",
    "print(len(keyword.kwlist))\n",
    "print(keyword.kwlist)"
   ]
  },
  {
   "cell_type": "markdown",
   "metadata": {},
   "source": [
    "삭제할수도 있습니다."
   ]
  },
  {
   "cell_type": "code",
   "execution_count": 27,
   "metadata": {
    "collapsed": false
   },
   "outputs": [
    {
     "ename": "NameError",
     "evalue": "name 'hello' is not defined",
     "output_type": "error",
     "traceback": [
      "\u001b[0;31m---------------------------------------------------------------------------\u001b[0m",
      "\u001b[0;31mNameError\u001b[0m                                 Traceback (most recent call last)",
      "\u001b[0;32m<ipython-input-27-18f8b78ffbf2>\u001b[0m in \u001b[0;36m<module>\u001b[0;34m()\u001b[0m\n\u001b[1;32m      1\u001b[0m \u001b[0mhello\u001b[0m \u001b[1;33m=\u001b[0m \u001b[1;34m'world'\u001b[0m\u001b[1;33m\u001b[0m\u001b[0m\n\u001b[1;32m      2\u001b[0m \u001b[1;32mdel\u001b[0m \u001b[0mhello\u001b[0m\u001b[1;33m\u001b[0m\u001b[0m\n\u001b[0;32m----> 3\u001b[0;31m \u001b[0mprint\u001b[0m\u001b[1;33m(\u001b[0m\u001b[0mhello\u001b[0m\u001b[1;33m)\u001b[0m\u001b[1;33m\u001b[0m\u001b[0m\n\u001b[0m",
      "\u001b[0;31mNameError\u001b[0m: name 'hello' is not defined"
     ]
    }
   ],
   "source": [
    "hello = 'world'\n",
    "del hello\n",
    "print(hello)"
   ]
  },
  {
   "cell_type": "markdown",
   "metadata": {},
   "source": [
    "재미있는 시도들"
   ]
  },
  {
   "cell_type": "code",
   "execution_count": 33,
   "metadata": {
    "collapsed": false
   },
   "outputs": [
    {
     "name": "stdout",
     "output_type": "stream",
     "text": [
      "2\n",
      "1 2\n",
      "(1, 2)\n",
      "3 3\n",
      "1 [2, 3, 4] 5\n"
     ]
    }
   ],
   "source": [
    "x = 0\n",
    "x = x + 1\n",
    "x += 1\n",
    "print(x)\n",
    "\n",
    "x, y = 1, 2\n",
    "print(x, y)\n",
    "\n",
    "x = 1, 2\n",
    "print(x) # 나중에 배워요.\n",
    "\n",
    "x = y = 3\n",
    "print(x, y)\n",
    "\n",
    "x, *y, z = 1, 2, 3, 4, 5\n",
    "print(x, y, z)  # 나중에 배워요."
   ]
  }
 ],
 "metadata": {
  "kernelspec": {
   "display_name": "Python 3",
   "language": "python",
   "name": "python3"
  },
  "language_info": {
   "codemirror_mode": {
    "name": "ipython",
    "version": 3
   },
   "file_extension": ".py",
   "mimetype": "text/x-python",
   "name": "python",
   "nbconvert_exporter": "python",
   "pygments_lexer": "ipython3",
   "version": "3.6.0"
  }
 },
 "nbformat": 4,
 "nbformat_minor": 2
}
