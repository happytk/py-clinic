{
 "cells": [
  {
   "cell_type": "markdown",
   "metadata": {
    "slideshow": {
     "slide_type": "slide"
    }
   },
   "source": [
    "## Python 기본문법요소\n",
    "*주석, 변수, 변수타입*"
   ]
  },
  {
   "cell_type": "markdown",
   "metadata": {
    "collapsed": true,
    "slideshow": {
     "slide_type": "slide"
    }
   },
   "source": [
    "## 주석처리하기\n",
    "\n",
    "> 주석 또는 코멘트(comment)는 프로그래밍에 있어 내용을 메모하는 목적으로 쓰인다. 소스 코드를 더 쉽게 이해할 수 있게 만드는 것이 주 목적이며, 컴파일러와 인터프리터에 의해 일반적으로 무시된다."
   ]
  },
  {
   "cell_type": "markdown",
   "metadata": {
    "slideshow": {
     "slide_type": "subslide"
    }
   },
   "source": [
    "주석은 크게 세가지로 표현 가능합니다."
   ]
  },
  {
   "cell_type": "code",
   "execution_count": 1,
   "metadata": {
    "slideshow": {
     "slide_type": "-"
    }
   },
   "outputs": [
    {
     "data": {
      "text/plain": [
       "'this\\nis\\na\\ncomment\\nfor\\nblock'"
      ]
     },
     "execution_count": 1,
     "metadata": {},
     "output_type": "execute_result"
    }
   ],
   "source": [
    "# this is a comment\n",
    "'''this is a comment'''\n",
    "'''this\n",
    "is\n",
    "a\n",
    "comment\n",
    "for\n",
    "block'''\n",
    "\"\"\"이것도 주석입니다.\"\"\"\n",
    "\"\"\"네\n",
    "이것도\n",
    "문자열이면서\n",
    "주석\n",
    "입니다.\"\"\""
   ]
  },
  {
   "cell_type": "code",
   "execution_count": 1,
   "metadata": {
    "slideshow": {
     "slide_type": "subslide"
    }
   },
   "outputs": [
    {
     "name": "stdout",
     "output_type": "stream",
     "text": [
      "Help on function helloworld in module __main__:\n",
      "\n",
      "helloworld()\n",
      "    this is a description.\n",
      "    \n",
      "    arguments:\n",
      "    :param arg1: one argument\n",
      "    :param arg2: another argument\n",
      "\n"
     ]
    }
   ],
   "source": [
    "# 파이썬코드의 주석 위치를 눈여겨 보세요.\n",
    "def helloworld():\n",
    "    '''this is a description.\n",
    "    \n",
    "    arguments:\n",
    "    :param arg1: one argument\n",
    "    :param arg2: another argument'''\n",
    "    pass\n",
    "\n",
    "help(helloworld)"
   ]
  },
  {
   "cell_type": "markdown",
   "metadata": {
    "slideshow": {
     "slide_type": "slide"
    }
   },
   "source": [
    "## 변수\n",
    "> 컴퓨터 프로그래밍에서 변수(變數) 또는 스칼라(scalar)는 아직 알려지지 않거나 어느 정도까지만 알려져 있는 양이나 정보에 대한 상징적인 이름이다. 컴퓨터 소스 코드에서의 변수 이름은 일반적으로 데이터 저장 위치와 그 안의 내용물과 관련되어 있으며 이러한 것들은 프로그램 실행 도중에 변경될 수 있다."
   ]
  },
  {
   "cell_type": "markdown",
   "metadata": {
    "slideshow": {
     "slide_type": "subslide"
    }
   },
   "source": [
    "변수를 비유할때\n",
    "- 전통적으로는 '그릇', 등의 개념으로 설명을 많이 하지만,\n",
    "- 요즘은 '라벨'로도 많이 비유합니다.\n",
    "- 객체지향에서는 변수가 참조(reference)의 성격을 지니기 때문입니다."
   ]
  },
  {
   "cell_type": "code",
   "execution_count": 69,
   "metadata": {
    "collapsed": true,
    "slideshow": {
     "slide_type": "subslide"
    }
   },
   "outputs": [],
   "source": [
    "v1 = 1\n",
    "v2 = 1\n",
    "v3 = \"abc\"\n",
    "v4 = \"def\"\n",
    "v5 = object()\n",
    "v6 = object()\n",
    "v7 = v5\n",
    "v8 = v6"
   ]
  },
  {
   "cell_type": "markdown",
   "metadata": {
    "slideshow": {
     "slide_type": "subslide"
    }
   },
   "source": [
    "![var-visualize](img/var-visualize.png)"
   ]
  },
  {
   "cell_type": "markdown",
   "metadata": {
    "slideshow": {
     "slide_type": "subslide"
    }
   },
   "source": [
    "Python Tutor - Visualize Python, Java, JavaScript, TypeScript, Ruby, C, and C++ code execution\n",
    "\n",
    "http://www.pythontutor.com/"
   ]
  },
  {
   "cell_type": "code",
   "execution_count": 1,
   "metadata": {
    "slideshow": {
     "slide_type": "subslide"
    }
   },
   "outputs": [
    {
     "name": "stdout",
     "output_type": "stream",
     "text": [
      "v 변수 4354736928\n",
      "1은 객체 4354736928\n",
      "lst 변수 4395346632\n",
      "ref2lst 변수 4395346632\n"
     ]
    }
   ],
   "source": [
    "v = 1\n",
    "print(\"v 변수\", id(v))\n",
    "print(\"1은 객체\", id(1))\n",
    "\n",
    "lst = [1,2,3,4]\n",
    "ref2lst = lst\n",
    "print(\"lst 변수\", id(lst))\n",
    "print(\"ref2lst 변수\", id(ref2lst))"
   ]
  },
  {
   "cell_type": "markdown",
   "metadata": {
    "slideshow": {
     "slide_type": "subslide"
    }
   },
   "source": [
    "![](img/code_visualize_a.png)"
   ]
  },
  {
   "cell_type": "markdown",
   "metadata": {
    "slideshow": {
     "slide_type": "subslide"
    }
   },
   "source": [
    "- 변수는 선언시점에 반드시 어떤 값이든 할당해야 합니다.\n",
    "- 타입은 지정하지 않습니다.\n",
    "- 값을 지정하는 시점에 타입이 동적으로 결정(변경)됩니다.\n",
    "\n",
    "- **미리 변수를 선언하지 않는 편이에요.**"
   ]
  },
  {
   "cell_type": "markdown",
   "metadata": {
    "slideshow": {
     "slide_type": "subslide"
    }
   },
   "source": [
    "python3.6에서는 static type checking을 도와주는 문법이 추가되었습니다.\n",
    "(PEP 484 -- Type Hints)\n",
    "\n",
    "```python\n",
    "a : str = 'hello'\n",
    "b : int = 3\n",
    "```\n",
    "\n",
    "> It should also be emphasized that Python will remain a dynamically typed language, and the authors have no desire to ever make type hints mandatory, even by convention."
   ]
  },
  {
   "cell_type": "code",
   "execution_count": 71,
   "metadata": {
    "collapsed": true,
    "slideshow": {
     "slide_type": "subslide"
    }
   },
   "outputs": [],
   "source": [
    "# 변수를 재정의하면서 타입이 바뀌어요.\n",
    "a = None\n",
    "a = 1\n",
    "a = \"str\""
   ]
  },
  {
   "cell_type": "markdown",
   "metadata": {
    "slideshow": {
     "slide_type": "subslide"
    }
   },
   "source": [
    "변수의 타입을 살펴볼 수 있어요."
   ]
  },
  {
   "cell_type": "code",
   "execution_count": 72,
   "metadata": {
    "slideshow": {
     "slide_type": "fragment"
    }
   },
   "outputs": [
    {
     "name": "stdout",
     "output_type": "stream",
     "text": [
      "<class 'int'>\n",
      "<class 'str'>\n",
      "<class 'NoneType'>\n",
      "<class 'bool'>\n",
      "<class 'bool'>\n",
      "<class 'module'>\n",
      "<class 'builtin_function_or_method'>\n",
      "<class 'function'>\n"
     ]
    }
   ],
   "source": [
    "print(type(1))\n",
    "print(type(\"string\"))\n",
    "print(type(None))\n",
    "print(type(False))\n",
    "print(type(True))\n",
    "\n",
    "import os\n",
    "print(type(os))\n",
    "print(type(os.listdir))\n",
    "print(type(os.path.isdir))"
   ]
  },
  {
   "cell_type": "markdown",
   "metadata": {
    "slideshow": {
     "slide_type": "subslide"
    }
   },
   "source": [
    "유형검사"
   ]
  },
  {
   "cell_type": "code",
   "execution_count": 8,
   "metadata": {},
   "outputs": [
    {
     "data": {
      "text/plain": [
       "True"
      ]
     },
     "execution_count": 8,
     "metadata": {},
     "output_type": "execute_result"
    }
   ],
   "source": [
    "abc = 3\n",
    "type(abc) == type(1)"
   ]
  },
  {
   "cell_type": "code",
   "execution_count": 9,
   "metadata": {
    "slideshow": {
     "slide_type": "fragment"
    }
   },
   "outputs": [
    {
     "data": {
      "text/plain": [
       "(True, True, True)"
      ]
     },
     "execution_count": 9,
     "metadata": {},
     "output_type": "execute_result"
    }
   ],
   "source": [
    "# preferred way\n",
    "(\n",
    "    isinstance(abc, int),\n",
    "    isinstance(1.0, float),\n",
    "    isinstance(True, bool),\n",
    ")"
   ]
  },
  {
   "cell_type": "markdown",
   "metadata": {
    "slideshow": {
     "slide_type": "subslide"
    }
   },
   "source": [
    "언어 차원의 식별자(keyword)는 건드릴 수 없습니다. 식별자는 변수 이름으로 사용할 수 없어요."
   ]
  },
  {
   "cell_type": "code",
   "execution_count": 4,
   "metadata": {
    "slideshow": {
     "slide_type": "fragment"
    }
   },
   "outputs": [
    {
     "ename": "SyntaxError",
     "evalue": "invalid syntax (<ipython-input-4-22e2b51cc9d3>, line 1)",
     "output_type": "error",
     "traceback": [
      "\u001b[0;36m  File \u001b[0;32m\"<ipython-input-4-22e2b51cc9d3>\"\u001b[0;36m, line \u001b[0;32m1\u001b[0m\n\u001b[0;31m    if = 3\u001b[0m\n\u001b[0m       ^\u001b[0m\n\u001b[0;31mSyntaxError\u001b[0m\u001b[0;31m:\u001b[0m invalid syntax\n"
     ]
    }
   ],
   "source": [
    "if = 3\n",
    "def = 'a'\n",
    "class = '3'"
   ]
  },
  {
   "cell_type": "code",
   "execution_count": 7,
   "metadata": {
    "slideshow": {
     "slide_type": "fragment"
    }
   },
   "outputs": [
    {
     "data": {
      "text/plain": [
       "(33, ['False', 'None', 'True', 'and', 'as'])"
      ]
     },
     "execution_count": 7,
     "metadata": {},
     "output_type": "execute_result"
    }
   ],
   "source": [
    "import keyword\n",
    "len(keyword.kwlist), keyword.kwlist[:5]"
   ]
  },
  {
   "cell_type": "markdown",
   "metadata": {
    "slideshow": {
     "slide_type": "subslide"
    }
   },
   "source": [
    "변수는 삭제할수도 있습니다. 모든 참조가 삭제되면 python이 자동으로 메모리에서 해제합니다. garbage collector!"
   ]
  },
  {
   "cell_type": "code",
   "execution_count": 8,
   "metadata": {},
   "outputs": [
    {
     "ename": "NameError",
     "evalue": "name 'hello' is not defined",
     "output_type": "error",
     "traceback": [
      "\u001b[0;31m---------------------------------------------------------------------------\u001b[0m",
      "\u001b[0;31mNameError\u001b[0m                                 Traceback (most recent call last)",
      "\u001b[0;32m<ipython-input-8-18f8b78ffbf2>\u001b[0m in \u001b[0;36m<module>\u001b[0;34m()\u001b[0m\n\u001b[1;32m      1\u001b[0m \u001b[0mhello\u001b[0m \u001b[0;34m=\u001b[0m \u001b[0;34m'world'\u001b[0m\u001b[0;34m\u001b[0m\u001b[0m\n\u001b[1;32m      2\u001b[0m \u001b[0;32mdel\u001b[0m \u001b[0mhello\u001b[0m\u001b[0;34m\u001b[0m\u001b[0m\n\u001b[0;32m----> 3\u001b[0;31m \u001b[0mprint\u001b[0m\u001b[0;34m(\u001b[0m\u001b[0mhello\u001b[0m\u001b[0;34m)\u001b[0m\u001b[0;34m\u001b[0m\u001b[0m\n\u001b[0m",
      "\u001b[0;31mNameError\u001b[0m: name 'hello' is not defined"
     ]
    }
   ],
   "source": [
    "hello = 'world'\n",
    "del hello\n",
    "print(hello)"
   ]
  },
  {
   "cell_type": "markdown",
   "metadata": {
    "slideshow": {
     "slide_type": "subslide"
    }
   },
   "source": [
    "재미있는 시도들"
   ]
  },
  {
   "cell_type": "code",
   "execution_count": 10,
   "metadata": {},
   "outputs": [
    {
     "name": "stdout",
     "output_type": "stream",
     "text": [
      "2\n",
      "1 2\n",
      "(1, 2)\n",
      "3 3\n",
      "1 [2, 3, 4] 5\n"
     ]
    }
   ],
   "source": [
    "x = 0\n",
    "x = x + 1\n",
    "x += 1\n",
    "print(x)\n",
    "\n",
    "x, y = 1, 2\n",
    "print(x, y)\n",
    "\n",
    "x = 1, 2\n",
    "print(x) # tuple, 나중에 배워요.\n",
    "\n",
    "x = y = 3\n",
    "print(x, y)\n",
    "\n",
    "x, *y, z = 1, 2, 3, 4, 5\n",
    "print(x, y, z)  # unpacking, 나중에 배워요."
   ]
  },
  {
   "cell_type": "markdown",
   "metadata": {
    "slideshow": {
     "slide_type": "slide"
    }
   },
   "source": [
    "## 숫자\n",
    "*int, float, bool*"
   ]
  },
  {
   "cell_type": "code",
   "execution_count": 11,
   "metadata": {
    "slideshow": {
     "slide_type": "subslide"
    }
   },
   "outputs": [
    {
     "data": {
      "text/plain": [
       "(3, int, 1610660368)"
      ]
     },
     "execution_count": 11,
     "metadata": {},
     "output_type": "execute_result"
    }
   ],
   "source": [
    "# 숫자도 객체입니다(int)\n",
    "3, type(3), id(3)"
   ]
  },
  {
   "cell_type": "code",
   "execution_count": 53,
   "metadata": {
    "slideshow": {
     "slide_type": "subslide"
    }
   },
   "outputs": [
    {
     "data": {
      "text/plain": [
       "(3.0, float, 4352949176)"
      ]
     },
     "execution_count": 53,
     "metadata": {},
     "output_type": "execute_result"
    }
   ],
   "source": [
    "# 숫자도 객체입니다(float)\n",
    "3.0, type(3.0), id(3.0)"
   ]
  },
  {
   "cell_type": "code",
   "execution_count": 2,
   "metadata": {
    "slideshow": {
     "slide_type": "subslide"
    }
   },
   "outputs": [
    {
     "data": {
      "text/plain": [
       "(True, False)"
      ]
     },
     "execution_count": 2,
     "metadata": {},
     "output_type": "execute_result"
    }
   ],
   "source": [
    "# Boolean type도 숫자입니다. (객체입니다.)(bool)\n",
    "True, False"
   ]
  },
  {
   "cell_type": "code",
   "execution_count": 4,
   "metadata": {
    "slideshow": {
     "slide_type": "subslide"
    }
   },
   "outputs": [
    {
     "data": {
      "text/plain": [
       "['__abs__', '__add__', '__and__']"
      ]
     },
     "execution_count": 4,
     "metadata": {},
     "output_type": "execute_result"
    }
   ],
   "source": [
    "# 숫자도 객체입니다\n",
    "dir(3)[:3]"
   ]
  },
  {
   "cell_type": "code",
   "execution_count": 5,
   "metadata": {
    "slideshow": {
     "slide_type": "subslide"
    }
   },
   "outputs": [
    {
     "data": {
      "text/plain": [
       "(True, True)"
      ]
     },
     "execution_count": 5,
     "metadata": {},
     "output_type": "execute_result"
    }
   ],
   "source": [
    "# type검사\n",
    "isinstance(3, int), isinstance(3, object)"
   ]
  },
  {
   "cell_type": "code",
   "execution_count": 6,
   "metadata": {
    "slideshow": {
     "slide_type": "subslide"
    }
   },
   "outputs": [
    {
     "data": {
      "text/plain": [
       "True"
      ]
     },
     "execution_count": 6,
     "metadata": {},
     "output_type": "execute_result"
    }
   ],
   "source": [
    "# 복습. True, False도 사실은 숫자형입니다.\n",
    "isinstance(True, int)"
   ]
  },
  {
   "cell_type": "markdown",
   "metadata": {
    "slideshow": {
     "slide_type": "slide"
    }
   },
   "source": [
    "## 문자열\n",
    "*문자열만 잘 다뤄도, 당신은 Python의 고수, Perl을 몰락시킨 Python의 강력한 문자열처리*"
   ]
  },
  {
   "cell_type": "code",
   "execution_count": 6,
   "metadata": {
    "slideshow": {
     "slide_type": "subslide"
    }
   },
   "outputs": [
    {
     "name": "stdout",
     "output_type": "stream",
     "text": [
      "4395458480\n",
      "4395503856\n",
      "4354736928\n",
      "4354736928\n"
     ]
    }
   ],
   "source": [
    "astring = \"Hello world!\"\n",
    "astring2 = 'Hello world!'  # quotation은 선택할 수 있어요\n",
    "anumber = 1\n",
    "anumber2 = 1\n",
    "print(id(astring))\n",
    "print(id(astring2))\n",
    "print(id(anumber))\n",
    "print(id(anumber2))\n",
    "\n",
    "# 문자열은 같은 내용을 가진 객체인데 id가 다른 이유는?\n",
    "# https://stackoverflow.com/questions/20453640/why-strings-object-are-cached-in-python"
   ]
  },
  {
   "cell_type": "code",
   "execution_count": 21,
   "metadata": {
    "slideshow": {
     "slide_type": "subslide"
    }
   },
   "outputs": [
    {
     "name": "stdout",
     "output_type": "stream",
     "text": [
      "single quotes are ' '\n"
     ]
    },
    {
     "data": {
      "text/plain": [
       "12"
      ]
     },
     "execution_count": 21,
     "metadata": {},
     "output_type": "execute_result"
    }
   ],
   "source": [
    "astring = \"Hello world!\"\n",
    "print(\"single quotes are ' '\")  # ', \"를 잘 섞어쓰기.\n",
    "\n",
    "len(astring)"
   ]
  },
  {
   "cell_type": "code",
   "execution_count": 16,
   "metadata": {
    "slideshow": {
     "slide_type": "subslide"
    }
   },
   "outputs": [
    {
     "data": {
      "text/plain": [
       "(4, False, True)"
      ]
     },
     "execution_count": 16,
     "metadata": {},
     "output_type": "execute_result"
    }
   ],
   "source": [
    "astring = \"Hello world!\"\n",
    "astring.index(\"o\"), \"z\" in astring, \"world\" in astring"
   ]
  },
  {
   "cell_type": "code",
   "execution_count": 22,
   "metadata": {
    "slideshow": {
     "slide_type": "subslide"
    }
   },
   "outputs": [
    {
     "data": {
      "text/plain": [
       "3"
      ]
     },
     "execution_count": 22,
     "metadata": {},
     "output_type": "execute_result"
    }
   ],
   "source": [
    "astring = \"Hello world!\"\n",
    "astring.count(\"l\")"
   ]
  },
  {
   "cell_type": "code",
   "execution_count": 1,
   "metadata": {
    "slideshow": {
     "slide_type": "subslide"
    }
   },
   "outputs": [
    {
     "data": {
      "text/plain": [
       "('lo w', 'lo world!', 'Hel', 'Hello world!')"
      ]
     },
     "execution_count": 1,
     "metadata": {},
     "output_type": "execute_result"
    }
   ],
   "source": [
    "# 문자열의 slicing\n",
    "astring = \"Hello world!\"\n",
    "astring[3:7], astring[3:], astring[:3], astring[:]"
   ]
  },
  {
   "cell_type": "code",
   "execution_count": 30,
   "metadata": {
    "slideshow": {
     "slide_type": "subslide"
    }
   },
   "outputs": [
    {
     "data": {
      "text/plain": [
       "('ld!', 'Hello wor')"
      ]
     },
     "execution_count": 30,
     "metadata": {},
     "output_type": "execute_result"
    }
   ],
   "source": [
    "# 음수로 indexing할 수 있습니다.\n",
    "astring = \"Hello world!\"\n",
    "astring[-3:], astring[:-3]"
   ]
  },
  {
   "cell_type": "code",
   "execution_count": 31,
   "metadata": {
    "slideshow": {
     "slide_type": "subslide"
    }
   },
   "outputs": [
    {
     "data": {
      "text/plain": [
       "('Hel', 'lo world!')"
      ]
     },
     "execution_count": 31,
     "metadata": {},
     "output_type": "execute_result"
    }
   ],
   "source": [
    "# index의 end가 포함되지 않는 것은 처음에는 헷갈려도\n",
    "# 편리하다고 느껴지게 됩니다.\n",
    "astring = \"Hello world!\"\n",
    "astring[:3], astring[3:]"
   ]
  },
  {
   "cell_type": "code",
   "execution_count": 24,
   "metadata": {
    "slideshow": {
     "slide_type": "subslide"
    }
   },
   "outputs": [
    {
     "data": {
      "text/plain": [
       "'l '"
      ]
     },
     "execution_count": 24,
     "metadata": {},
     "output_type": "execute_result"
    }
   ],
   "source": [
    "astring = \"Hello world!\"\n",
    "astring[3:7:2]"
   ]
  },
  {
   "cell_type": "code",
   "execution_count": 26,
   "metadata": {
    "slideshow": {
     "slide_type": "subslide"
    }
   },
   "outputs": [
    {
     "name": "stdout",
     "output_type": "stream",
     "text": [
      "lo w\n",
      "lo w\n"
     ]
    }
   ],
   "source": [
    "astring = \"Hello world!\"\n",
    "print(astring[3:7])\n",
    "print(astring[3:7:1])"
   ]
  },
  {
   "cell_type": "code",
   "execution_count": 27,
   "metadata": {
    "slideshow": {
     "slide_type": "subslide"
    }
   },
   "outputs": [
    {
     "name": "stdout",
     "output_type": "stream",
     "text": [
      "!dlrow olleH\n"
     ]
    }
   ],
   "source": [
    "astring = \"Hello world!\"\n",
    "print(astring[::-1])"
   ]
  },
  {
   "cell_type": "code",
   "execution_count": 28,
   "metadata": {
    "slideshow": {
     "slide_type": "subslide"
    }
   },
   "outputs": [
    {
     "name": "stdout",
     "output_type": "stream",
     "text": [
      "HELLO WORLD!\n",
      "hello world!\n"
     ]
    }
   ],
   "source": [
    "astring = \"Hello world!\"\n",
    "print(astring.upper())\n",
    "print(astring.lower())"
   ]
  },
  {
   "cell_type": "code",
   "execution_count": 29,
   "metadata": {
    "slideshow": {
     "slide_type": "subslide"
    }
   },
   "outputs": [
    {
     "name": "stdout",
     "output_type": "stream",
     "text": [
      "True\n",
      "False\n"
     ]
    }
   ],
   "source": [
    "astring = \"Hello world!\"\n",
    "print(astring.startswith(\"Hello\"))\n",
    "print(astring.endswith(\"asdfasdfasdf\"))"
   ]
  },
  {
   "cell_type": "code",
   "execution_count": 4,
   "metadata": {
    "slideshow": {
     "slide_type": "subslide"
    }
   },
   "outputs": [
    {
     "name": "stdout",
     "output_type": "stream",
     "text": [
      "['Hello', 'world!']\n"
     ]
    }
   ],
   "source": [
    "astring = \"Hello world!\"\n",
    "afewwords = astring.split(\" \")\n",
    "print(afewwords)"
   ]
  },
  {
   "cell_type": "code",
   "execution_count": 8,
   "metadata": {
    "slideshow": {
     "slide_type": "subslide"
    }
   },
   "outputs": [
    {
     "name": "stdout",
     "output_type": "stream",
     "text": [
      "HELLO  WORLD\n",
      "['HELLO', 'WORLD']\n",
      "['', '', '', 'HELLO', '', 'WORLD', '', '', '']\n"
     ]
    }
   ],
   "source": [
    "astring = \"   HELLO  WORLD   \"\n",
    "print(astring.strip())\n",
    "print(astring.split())\n",
    "print(astring.split(' '))"
   ]
  },
  {
   "cell_type": "code",
   "execution_count": 66,
   "metadata": {
    "slideshow": {
     "slide_type": "subslide"
    }
   },
   "outputs": [
    {
     "data": {
      "text/plain": [
       "True"
      ]
     },
     "execution_count": 66,
     "metadata": {},
     "output_type": "execute_result"
    }
   ],
   "source": [
    "isinstance('hello', str)\n",
    "isinstance(u'hello', str) # python3\n",
    "# isinstance('hello', basestring) # python2\n",
    "# isinstance(u'hello', basestring) # python2\n",
    "# isinstance(u'hello', unicode) # python2"
   ]
  },
  {
   "cell_type": "code",
   "execution_count": 14,
   "metadata": {
    "slideshow": {
     "slide_type": "subslide"
    }
   },
   "outputs": [
    {
     "data": {
      "text/plain": [
       "('hello', 'Hello', 4394163536, 4395637592)"
      ]
     },
     "execution_count": 14,
     "metadata": {},
     "output_type": "execute_result"
    }
   ],
   "source": [
    "# python에서 문자열은 immutable입니다.\n",
    "hello = 'hello'\n",
    "hello_again = hello.capitalize()\n",
    "(\n",
    "    hello, hello_again,\n",
    "    id(hello), id(hello_again)\n",
    ")\n",
    "# hello[0] = 'H' -> 에러발생"
   ]
  },
  {
   "cell_type": "code",
   "execution_count": 46,
   "metadata": {
    "slideshow": {
     "slide_type": "subslide"
    }
   },
   "outputs": [
    {
     "data": {
      "text/plain": [
       "'helloworld'"
      ]
     },
     "execution_count": 46,
     "metadata": {},
     "output_type": "execute_result"
    }
   ],
   "source": [
    "# 문자열 이어붙이기\n",
    "'hello'+'world'"
   ]
  },
  {
   "cell_type": "code",
   "execution_count": 49,
   "metadata": {
    "slideshow": {
     "slide_type": "subslide"
    }
   },
   "outputs": [
    {
     "data": {
      "text/plain": [
       "'helloworld'"
      ]
     },
     "execution_count": 49,
     "metadata": {},
     "output_type": "execute_result"
    }
   ],
   "source": [
    "# 문자열 이어붙이기\n",
    "'hello' 'world'"
   ]
  },
  {
   "cell_type": "code",
   "execution_count": 51,
   "metadata": {
    "slideshow": {
     "slide_type": "subslide"
    }
   },
   "outputs": [
    {
     "data": {
      "text/plain": [
       "'helloworld'"
      ]
     },
     "execution_count": 51,
     "metadata": {},
     "output_type": "execute_result"
    }
   ],
   "source": [
    "# 문자열 이어붙이기\n",
    "'hello' \\\n",
    "'world'"
   ]
  },
  {
   "cell_type": "code",
   "execution_count": 50,
   "metadata": {
    "slideshow": {
     "slide_type": "subslide"
    }
   },
   "outputs": [
    {
     "data": {
      "text/plain": [
       "'helloworld'"
      ]
     },
     "execution_count": 50,
     "metadata": {},
     "output_type": "execute_result"
    }
   ],
   "source": [
    "# 문자열 이어붙이기\n",
    "(\n",
    "    'hello'\n",
    "    'world'\n",
    ")"
   ]
  },
  {
   "cell_type": "markdown",
   "metadata": {
    "slideshow": {
     "slide_type": "slide"
    }
   },
   "source": [
    "## None"
   ]
  },
  {
   "cell_type": "markdown",
   "metadata": {
    "slideshow": {
     "slide_type": "subslide"
    }
   },
   "source": [
    "아무것도 아님을 표현할때 사용합니다. C언어, JAVA언어의 NULL의 의미와 같습니다."
   ]
  },
  {
   "cell_type": "code",
   "execution_count": 13,
   "metadata": {
    "collapsed": true,
    "slideshow": {
     "slide_type": "fragment"
    }
   },
   "outputs": [],
   "source": [
    "a = None\n",
    "a"
   ]
  },
  {
   "cell_type": "markdown",
   "metadata": {
    "slideshow": {
     "slide_type": "slide"
    }
   },
   "source": [
    "## EXERCISE"
   ]
  },
  {
   "cell_type": "code",
   "execution_count": 1,
   "metadata": {
    "slideshow": {
     "slide_type": "subslide"
    }
   },
   "outputs": [
    {
     "name": "stdout",
     "output_type": "stream",
     "text": [
      "Hey there! what should this string be? Length of s = 38\n"
     ]
    }
   ],
   "source": [
    "s = \"Hey there! what should this string be?\"\n",
    "\n",
    "# Length should be 20\n",
    "print(s, \"Length of s = %d\" % len(s))"
   ]
  },
  {
   "cell_type": "code",
   "execution_count": 2,
   "metadata": {
    "slideshow": {
     "slide_type": "subslide"
    }
   },
   "outputs": [
    {
     "name": "stdout",
     "output_type": "stream",
     "text": [
      "The first occurrence of the letter a = 8\n"
     ]
    }
   ],
   "source": [
    "s = \"Hey there! should this string be?\"\n",
    "\n",
    "# First occurrence of \"a\" should be at index 8\n",
    "print(\"The first occurrence of the letter a = %d\" % s.index(\"a\"))"
   ]
  },
  {
   "cell_type": "code",
   "execution_count": 4,
   "metadata": {
    "slideshow": {
     "slide_type": "subslide"
    }
   },
   "outputs": [
    {
     "name": "stdout",
     "output_type": "stream",
     "text": [
      "a occurs 1 times\n"
     ]
    }
   ],
   "source": [
    "s = \"Hey there! what should this string be?\"\n",
    "\n",
    "# Number of a's should be 2\n",
    "print(\"a occurs %d times\" % s.count(\"a\"))"
   ]
  },
  {
   "cell_type": "code",
   "execution_count": 7,
   "metadata": {
    "slideshow": {
     "slide_type": "subslide"
    }
   },
   "outputs": [
    {
     "name": "stdout",
     "output_type": "stream",
     "text": [
      "The first five characters are 'Hey there! what should this string be?'\n",
      "The next five characters are 'Hey there! what should this string be?'\n",
      "The thirteenth character is 'Hey there! what should this string be?'\n",
      "The characters with odd index are 'Hey there! what should this string be?'\n",
      "The last five characters are 'Hey there! what should this string be?'\n"
     ]
    }
   ],
   "source": [
    "s = \"Hey there! what should this string be?\"\n",
    "\n",
    "# Slicing the string into bits\n",
    "print(\"The first five characters are '%s'\" % s[:]) # Start to 5\n",
    "print(\"The next five characters are '%s'\" % s[:]) # 5 to 10\n",
    "print(\"The thirteenth character is '%s'\" % s[:]) # Just number 12\n",
    "print(\"The characters with odd index are '%s'\" % s[::]) #(0-based indexing)\n",
    "print(\"The last five characters are '%s'\" % s[:]) # 5th-from-last to end\n",
    "\n",
    "# The first five characters are 'Hey t'\n",
    "# The next five characters are 'here!'\n",
    "# The thirteenth character is 'h'\n",
    "# The characters with odd index are 'e hr!wa hudti tigb?'\n",
    "# The last five characters are 'g be?'"
   ]
  },
  {
   "cell_type": "code",
   "execution_count": 8,
   "metadata": {
    "slideshow": {
     "slide_type": "subslide"
    }
   },
   "outputs": [
    {
     "name": "stdout",
     "output_type": "stream",
     "text": [
      "String in uppercase: Hey there! what should this string be?\n"
     ]
    }
   ],
   "source": [
    "s = \"Hey there! what should this string be?\"\n",
    "\n",
    "# Convert everything to uppercase\n",
    "print(\"String in uppercase: %s\" % s)"
   ]
  },
  {
   "cell_type": "code",
   "execution_count": 9,
   "metadata": {
    "slideshow": {
     "slide_type": "subslide"
    }
   },
   "outputs": [
    {
     "name": "stdout",
     "output_type": "stream",
     "text": [
      "String in lowercase: Hey there! what should this string be?\n"
     ]
    }
   ],
   "source": [
    "s = \"Hey there! what should this string be?\"\n",
    "\n",
    "# Convert everything to lowercase\n",
    "print(\"String in lowercase: %s\" % s)"
   ]
  },
  {
   "cell_type": "code",
   "execution_count": 10,
   "metadata": {
    "slideshow": {
     "slide_type": "subslide"
    }
   },
   "outputs": [
    {
     "name": "stdout",
     "output_type": "stream",
     "text": [
      "String starts with 'Hel'. Good!\n"
     ]
    }
   ],
   "source": [
    "s = \"Hello there! what should this string be?\"\n",
    "\n",
    "# Check how a string starts\n",
    "if s.startswith(\"Hel\"):\n",
    "    print(\"String starts with 'Hel'. Good!\")"
   ]
  },
  {
   "cell_type": "code",
   "execution_count": 11,
   "metadata": {
    "slideshow": {
     "slide_type": "subslide"
    }
   },
   "outputs": [
    {
     "name": "stdout",
     "output_type": "stream",
     "text": [
      "String ends with 'ome!'. Good!\n"
     ]
    }
   ],
   "source": [
    "s = \"Hey there! what should this string be? awesome!\"\n",
    "# Check how a string ends\n",
    "if s.endswith(\"ome!\"):\n",
    "    print(\"String ends with 'ome!'. Good!\")"
   ]
  },
  {
   "cell_type": "code",
   "execution_count": 12,
   "metadata": {
    "slideshow": {
     "slide_type": "subslide"
    }
   },
   "outputs": [
    {
     "name": "stdout",
     "output_type": "stream",
     "text": [
      "Split the words of the string: Hey there! what should this string be?\n"
     ]
    }
   ],
   "source": [
    "s = \"Hey there! what should this string be?\"\n",
    "\n",
    "# Split the string into separate strings,\n",
    "# each containing only a word\n",
    "print(\"Split the words of the string: %s\" % s)\n",
    "\n",
    "# Split the words of the string: ['Hey', 'there!', 'what', 'should', 'this', 'string', 'be?']"
   ]
  },
  {
   "cell_type": "code",
   "execution_count": 13,
   "metadata": {
    "slideshow": {
     "slide_type": "subslide"
    }
   },
   "outputs": [
    {
     "name": "stdout",
     "output_type": "stream",
     "text": [
      "Join the words of the string: ['Hey', 'there!', 'what', 'should', 'this', 'string', 'be?']\n"
     ]
    }
   ],
   "source": [
    "s = ['Hey', 'there!', 'what', 'should', 'this', 'string', 'be?']\n",
    "\n",
    "print(\"Join the words of the string: %s\" % s)"
   ]
  },
  {
   "cell_type": "markdown",
   "metadata": {
    "slideshow": {
     "slide_type": "slide"
    }
   },
   "source": [
    "## 형변환"
   ]
  },
  {
   "cell_type": "code",
   "execution_count": 16,
   "metadata": {
    "slideshow": {
     "slide_type": "subslide"
    }
   },
   "outputs": [
    {
     "data": {
      "text/plain": [
       "(345, 3)"
      ]
     },
     "execution_count": 16,
     "metadata": {},
     "output_type": "execute_result"
    }
   ],
   "source": [
    "# 문자열 -> 숫자, 소수 -> 정수\n",
    "int(\"345\"), int(3.45)"
   ]
  },
  {
   "cell_type": "code",
   "execution_count": 49,
   "metadata": {},
   "outputs": [
    {
     "data": {
      "text/plain": [
       "3.0"
      ]
     },
     "execution_count": 49,
     "metadata": {},
     "output_type": "execute_result"
    }
   ],
   "source": [
    "# 정수 -> 소수\n",
    "float(3)"
   ]
  },
  {
   "cell_type": "code",
   "execution_count": 37,
   "metadata": {
    "slideshow": {
     "slide_type": "subslide"
    }
   },
   "outputs": [
    {
     "data": {
      "text/plain": [
       "'345'"
      ]
     },
     "execution_count": 37,
     "metadata": {},
     "output_type": "execute_result"
    }
   ],
   "source": [
    "# 숫자 -> 문자열\n",
    "str(345)"
   ]
  },
  {
   "cell_type": "code",
   "execution_count": 40,
   "metadata": {
    "slideshow": {
     "slide_type": "subslide"
    }
   },
   "outputs": [
    {
     "data": {
      "text/plain": [
       "type"
      ]
     },
     "execution_count": 40,
     "metadata": {},
     "output_type": "execute_result"
    }
   ],
   "source": [
    "# 다음 형식으로 표기합니다.\n",
    "type(object)"
   ]
  },
  {
   "cell_type": "code",
   "execution_count": 29,
   "metadata": {
    "slideshow": {
     "slide_type": "subslide"
    }
   },
   "outputs": [
    {
     "name": "stdout",
     "output_type": "stream",
     "text": [
      "must be str, not int\n"
     ]
    }
   ],
   "source": [
    "# python은 묵시적인 형변환을 지원하지 않기 때문에 연산시에는 주의가 필요합니다.\n",
    "# python은 명시적인 것을 선호해요!\n",
    "try:\n",
    "    \"hello\" + 345\n",
    "except TypeError as e:\n",
    "    print(e)"
   ]
  },
  {
   "cell_type": "code",
   "execution_count": 25,
   "metadata": {
    "slideshow": {
     "slide_type": "subslide"
    }
   },
   "outputs": [
    {
     "name": "stdout",
     "output_type": "stream",
     "text": [
      "345hello\n"
     ]
    }
   ],
   "source": [
    "# python은 묵시적인 형변환을 지원하지 않기 때문에 연산시에는 주의가 필요합니다.\n",
    "try:\n",
    "    print(str(345) + \"hello\")\n",
    "except TypeError as e:\n",
    "    print(e)"
   ]
  },
  {
   "cell_type": "markdown",
   "metadata": {
    "slideshow": {
     "slide_type": "slide"
    }
   },
   "source": [
    "## 문자열포맷팅(String Formatting)"
   ]
  },
  {
   "cell_type": "code",
   "execution_count": 33,
   "metadata": {
    "slideshow": {
     "slide_type": "subslide"
    }
   },
   "outputs": [
    {
     "name": "stdout",
     "output_type": "stream",
     "text": [
      "Hello, John!\n"
     ]
    }
   ],
   "source": [
    "# This prints out \"Hello, John!\"\n",
    "name = \"John\"\n",
    "print(\"Hello, %s!\" % name)"
   ]
  },
  {
   "cell_type": "code",
   "execution_count": 34,
   "metadata": {
    "slideshow": {
     "slide_type": "subslide"
    }
   },
   "outputs": [
    {
     "name": "stdout",
     "output_type": "stream",
     "text": [
      "John is 23 years old.\n"
     ]
    }
   ],
   "source": [
    "# This prints out \"John is 23 years old.\"\n",
    "name = \"John\"\n",
    "age = 23\n",
    "print(\"%s is %d years old.\" % (name, age))"
   ]
  },
  {
   "cell_type": "code",
   "execution_count": 1,
   "metadata": {
    "slideshow": {
     "slide_type": "subslide"
    }
   },
   "outputs": [
    {
     "name": "stdout",
     "output_type": "stream",
     "text": [
      "A list: [1, 2, 3]\n"
     ]
    }
   ],
   "source": [
    "# This prints out: A list: [1, 2, 3]\n",
    "mylist = [1,2,3]\n",
    "print(\"A list: %s\" % mylist) "
   ]
  },
  {
   "cell_type": "markdown",
   "metadata": {
    "slideshow": {
     "slide_type": "subslide"
    }
   },
   "source": [
    "좀 더 개선된 방법 `.format METHOD`을 사용하세요. (PEP 3101)"
   ]
  },
  {
   "cell_type": "code",
   "execution_count": 15,
   "metadata": {
    "slideshow": {
     "slide_type": "fragment"
    }
   },
   "outputs": [
    {
     "name": "stdout",
     "output_type": "stream",
     "text": [
      "Name: Paul plays: Bass\n",
      "Name: Paul plays: Bass\n",
      "Name: Paul plays: Bass\n"
     ]
    }
   ],
   "source": [
    "person = {'name': 'Paul', 'instrument': 'Bass'}\n",
    "print(\"Name: {} plays: {}\".format(\n",
    "    person['name'], person['instrument']\n",
    "))\n",
    "print(\"Name: {1} plays: {0}\".format(\n",
    "    person['instrument'], person['name']\n",
    "))\n",
    "\n",
    "print(\"Name: {name} plays: {instrument}\".format(\n",
    "    name=person['name'],\n",
    "    instrument=person['instrument']\n",
    "))"
   ]
  },
  {
   "cell_type": "code",
   "execution_count": 16,
   "metadata": {
    "scrolled": true,
    "slideshow": {
     "slide_type": "fragment"
    }
   },
   "outputs": [
    {
     "name": "stdout",
     "output_type": "stream",
     "text": [
      "Name: Paul plays: Bass\n"
     ]
    }
   ],
   "source": [
    "# **keyword는 나중에 배워요.\n",
    "print(\"Name: {name} plays: {instrument}\".format(**person))"
   ]
  },
  {
   "cell_type": "markdown",
   "metadata": {
    "slideshow": {
     "slide_type": "subslide"
    }
   },
   "source": [
    "좀 더 좀 더 개선된 방법. f-strings in Python 3.6 (PEP 498)"
   ]
  },
  {
   "cell_type": "code",
   "execution_count": 17,
   "metadata": {
    "slideshow": {
     "slide_type": "fragment"
    }
   },
   "outputs": [
    {
     "name": "stdout",
     "output_type": "stream",
     "text": [
      "Name: Paul plays: Bass\n"
     ]
    }
   ],
   "source": [
    "print(f\"Name: {person['name']} plays: {person['instrument']}\")"
   ]
  },
  {
   "cell_type": "markdown",
   "metadata": {
    "slideshow": {
     "slide_type": "subslide"
    }
   },
   "source": [
    "## EXERCISE"
   ]
  },
  {
   "cell_type": "code",
   "execution_count": 19,
   "metadata": {
    "slideshow": {
     "slide_type": "subslide"
    }
   },
   "outputs": [],
   "source": [
    "data = (\"John\", \"Doe\", 53.44)\n",
    "\n",
    "# 다음과 같이 출력해보세요.\n",
    "# Hello John Doe 53.44\n",
    "\n",
    "# .format method를 이용해보세요.\n",
    "# f-string으로 고쳐보세요"
   ]
  },
  {
   "cell_type": "markdown",
   "metadata": {
    "slideshow": {
     "slide_type": "slide"
    }
   },
   "source": [
    "## 다양한 문자열 표현방법"
   ]
  },
  {
   "cell_type": "code",
   "execution_count": 33,
   "metadata": {
    "slideshow": {
     "slide_type": "subslide"
    }
   },
   "outputs": [
    {
     "name": "stdout",
     "output_type": "stream",
     "text": [
      "helloworld\n",
      "\n",
      "helloworld\\n\n",
      "helloworld\n",
      "\n",
      "b'helloworld\\n'\n"
     ]
    }
   ],
   "source": [
    "print(\"helloworld\\n\")\n",
    "print(r\"helloworld\\n\")  # escape무시, re모듈과 같이 많이 쓰입니다.\n",
    "print(u\"helloworld\\n\")  # unicode, python3는 기본적으로 unicode를 사용합니다.\n",
    "print(b\"helloworld\\n\")  # byte표현, python3에서 나왔어요"
   ]
  },
  {
   "cell_type": "code",
   "execution_count": 36,
   "metadata": {
    "slideshow": {
     "slide_type": "subslide"
    }
   },
   "outputs": [
    {
     "name": "stdout",
     "output_type": "stream",
     "text": [
      "True\n",
      "6\n",
      "b'\\xec\\x95\\x88\\xeb\\x85\\x95\\xed\\x95\\x98\\xec\\x84\\xb8\\xec\\x9a\\x94!'\n",
      "�븞�뀞�븯�꽭�슂!\n",
      "안녕하세요!\n"
     ]
    }
   ],
   "source": [
    "# PYTHON3은 모든 문자열이 유니코드입니다.\n",
    "unistr = \"안녕하세요!\"\n",
    "print(unistr == u\"안녕하세요!\")\n",
    "print(len(unistr))\n",
    "print(unistr.encode('utf8'))  # byte로 변환시 encode\n",
    "print(unistr.encode('utf8').decode('cp949', errors='replace'))  # byte를 문자열로 변환시 decode\n",
    "print(unistr.encode('utf8').decode('utf8', errors='replace'))  # byte를 문자열로 변환시 decode"
   ]
  },
  {
   "cell_type": "markdown",
   "metadata": {
    "slideshow": {
     "slide_type": "subslide"
    }
   },
   "source": [
    "(참고) 소스파일 인코딩은 utf-8이 기본입니다. (python2에서는 ascii여서 utf-8로 작성할 경우 별도 지시자를 달아주어야 했습니다.)"
   ]
  },
  {
   "cell_type": "code",
   "execution_count": 45,
   "metadata": {
    "collapsed": true
   },
   "outputs": [],
   "source": [
    "#-*-encoding:utf-8-*-"
   ]
  },
  {
   "cell_type": "markdown",
   "metadata": {
    "slideshow": {
     "slide_type": "subslide"
    }
   },
   "source": [
    "(참고) Python2에서는 기본문자열이 ascii이기 때문에 u를 붙여서 유니코드 문자열을 별도로 표기했어요."
   ]
  },
  {
   "cell_type": "code",
   "execution_count": 5,
   "metadata": {
    "collapsed": true
   },
   "outputs": [],
   "source": [
    "unistr = u\"안녕하세요\"\n",
    "unistr = \"this is string represented by ascii\""
   ]
  }
 ],
 "metadata": {
  "celltoolbar": "Slideshow",
  "kernelspec": {
   "display_name": "Python 3",
   "language": "python",
   "name": "python3"
  },
  "language_info": {
   "codemirror_mode": {
    "name": "ipython",
    "version": 3
   },
   "file_extension": ".py",
   "mimetype": "text/x-python",
   "name": "python",
   "nbconvert_exporter": "python",
   "pygments_lexer": "ipython3",
   "version": "3.6.1"
  }
 },
 "nbformat": 4,
 "nbformat_minor": 2
}
