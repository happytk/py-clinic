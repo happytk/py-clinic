{
 "cells": [
  {
   "cell_type": "code",
   "execution_count": 4,
   "metadata": {
    "collapsed": false
   },
   "outputs": [
    {
     "name": "stdout",
     "output_type": "stream",
     "text": [
      " C 드라이브의 볼륨: Windows7 64bit\n",
      " 볼륨 일련 번호: 741D-0A25\n",
      "\n",
      " C:\\Users\\SOC64BIT\\PY 디렉터리\n",
      "\n",
      "2017-05-04  오전 10:12    <DIR>          .\n",
      "2017-05-04  오전 10:12    <DIR>          ..\n",
      "2017-05-04  오전 09:00            10,244 .DS_Store\n",
      "2017-05-04  오전 09:55    <DIR>          .git\n",
      "2017-05-03  오후 04:15                19 .gitignore\n",
      "2017-05-04  오전 10:12    <DIR>          .ipynb_checkpoints\n",
      "2017-05-04  오전 09:55    <DIR>          data\n",
      "2017-05-04  오전 10:12                72 etc-jupyter-magics.ipynb\n",
      "2017-05-04  오전 09:55    <DIR>          img\n",
      "2017-05-04  오전 10:11            13,490 PYTHON-BASIC-0-PYTHON-VERSION-PEP.ipynb\n",
      "2017-05-03  오후 11:13            15,620 PYTHON-BASIC-1-RUNNING-PYTHON.ipynb\n",
      "2017-05-03  오전 11:52            23,199 PYTHON-BASIC-2-VARIABLES-BUILTIN-TYPES.ipynb\n",
      "2017-05-03  오후 09:47            25,674 PYTHON-BASIC-3-LIST-TUPLE-DICT-SET.ipynb\n",
      "2017-05-03  오후 09:00            16,242 PYTHON-BASIC-4-CONDITION-LOOP-EXCEPTION.ipynb\n",
      "2017-05-03  오전 11:00             3,724 PYTHON-BASIC-5-WORKSHOP.ipynb\n",
      "2017-05-02  오후 04:07               751 PYTHON-BASIC-6-WORKSHOP.ipynb\n",
      "2017-05-02  오후 03:53               698 PYTHON-BASIC-7-WORKSHOP.ipynb\n",
      "2017-05-02  오후 03:56             1,102 PYTHON-BASIC-8-WORKSHOP.ipynb\n",
      "2017-05-03  오전 09:57             1,189 PYTHON-BASIC-9-WORKSHOP.ipynb\n",
      "2017-05-03  오후 05:06            10,480 PYTHON-INTERMEDIATE-0-SCRIPT-MODULE-PACKAGE.ipynb\n",
      "2017-05-03  오후 03:50             6,015 PYTHON-INTERMEDIATE-1-COMPREHENSION-CONSTRUCT.ipynb\n",
      "2017-05-03  오후 04:01            15,047 PYTHON-INTERMEDIATE-2-FUNCTION.ipynb\n",
      "2017-05-03  오후 03:30             1,706 PYTHON-INTERMEDIATE-3-FUNCTIONAL.ipynb\n",
      "2017-05-03  오후 11:03             2,434 PYTHON-INTERMEDIATE-4-GLOBAL-LOCAL-CLOSURE.ipynb\n",
      "2017-05-03  오후 10:58            11,328 PYTHON-INTERMEDIATE-5-ITERATION-GENERATORS.ipynb\n",
      "2017-05-03  오후 11:04            11,973 PYTHON-INTERMEDIATE-6-DECORATORS.ipynb\n",
      "2017-05-03  오후 06:01             7,712 PYTHON-INTERMEDIATE-7-CLASS.ipynb\n",
      "2017-05-03  오후 11:05             1,147 PYTHON-INTERMEDIATE-A-WORKSHOP.ipynb\n",
      "2017-05-03  오후 11:05               605 PYTHON-INTERMEDIATE-B-WORKSHOP.ipynb\n",
      "2017-05-03  오후 02:24             2,007 PYTHON-INTERMEDIATE2-0-ENVIRONMENTS.ipynb\n",
      "2017-05-03  오후 11:42               581 PYTHON-INTERMEDIATE2-1-CONTEXTMANAGER.ipynb\n",
      "2017-05-03  오후 11:40             4,592 PYTHON-INTERMEDIATE2-2-CONCURRENCY.ipynb\n",
      "2017-05-03  오후 04:01               706 PYTHON-INTERMEDIATE2-3-EXTRA.ipynb\n",
      "2017-05-03  오후 05:11               932 PYTHON-INTERMEDIATE2-4-QA-TEST.ipynb\n",
      "              28개 파일             189,289 바이트\n",
      "               6개 디렉터리   3,157,917,696 바이트 남음\n"
     ]
    }
   ],
   "source": [
    "!dir"
   ]
  },
  {
   "cell_type": "markdown",
   "metadata": {},
   "source": [
    "편집창에서 alt를 누른채로 mouse drag를 하면 multi-row동시편집이 가능하다."
   ]
  },
  {
   "cell_type": "code",
   "execution_count": 7,
   "metadata": {
    "collapsed": false
   },
   "outputs": [
    {
     "data": {
      "application/json": {
       "cell": {
        "!": "OSMagics",
        "HTML": "Other",
        "SVG": "Other",
        "bash": "Other",
        "capture": "ExecutionMagics",
        "cmd": "Other",
        "debug": "ExecutionMagics",
        "file": "Other",
        "html": "DisplayMagics",
        "javascript": "DisplayMagics",
        "js": "DisplayMagics",
        "latex": "DisplayMagics",
        "perl": "Other",
        "prun": "ExecutionMagics",
        "pypy": "Other",
        "python": "Other",
        "python2": "Other",
        "python3": "Other",
        "ruby": "Other",
        "script": "ScriptMagics",
        "sh": "Other",
        "svg": "DisplayMagics",
        "sx": "OSMagics",
        "system": "OSMagics",
        "time": "ExecutionMagics",
        "timeit": "ExecutionMagics",
        "writefile": "OSMagics"
       },
       "line": {
        "alias": "OSMagics",
        "alias_magic": "BasicMagics",
        "autocall": "AutoMagics",
        "automagic": "AutoMagics",
        "autosave": "KernelMagics",
        "bookmark": "OSMagics",
        "cd": "OSMagics",
        "clear": "KernelMagics",
        "cls": "KernelMagics",
        "colors": "BasicMagics",
        "config": "ConfigMagics",
        "connect_info": "KernelMagics",
        "copy": "Other",
        "ddir": "Other",
        "debug": "ExecutionMagics",
        "dhist": "OSMagics",
        "dirs": "OSMagics",
        "doctest_mode": "BasicMagics",
        "echo": "Other",
        "ed": "Other",
        "edit": "KernelMagics",
        "env": "OSMagics",
        "gui": "BasicMagics",
        "hist": "Other",
        "history": "HistoryMagics",
        "killbgscripts": "ScriptMagics",
        "ldir": "Other",
        "less": "KernelMagics",
        "load": "CodeMagics",
        "load_ext": "ExtensionMagics",
        "loadpy": "CodeMagics",
        "logoff": "LoggingMagics",
        "logon": "LoggingMagics",
        "logstart": "LoggingMagics",
        "logstate": "LoggingMagics",
        "logstop": "LoggingMagics",
        "ls": "Other",
        "lsmagic": "BasicMagics",
        "macro": "ExecutionMagics",
        "magic": "BasicMagics",
        "matplotlib": "PylabMagics",
        "mkdir": "Other",
        "more": "KernelMagics",
        "notebook": "BasicMagics",
        "page": "BasicMagics",
        "pastebin": "CodeMagics",
        "pdb": "ExecutionMagics",
        "pdef": "NamespaceMagics",
        "pdoc": "NamespaceMagics",
        "pfile": "NamespaceMagics",
        "pinfo": "NamespaceMagics",
        "pinfo2": "NamespaceMagics",
        "popd": "OSMagics",
        "pprint": "BasicMagics",
        "precision": "BasicMagics",
        "profile": "BasicMagics",
        "prun": "ExecutionMagics",
        "psearch": "NamespaceMagics",
        "psource": "NamespaceMagics",
        "pushd": "OSMagics",
        "pwd": "OSMagics",
        "pycat": "OSMagics",
        "pylab": "PylabMagics",
        "qtconsole": "KernelMagics",
        "quickref": "BasicMagics",
        "recall": "HistoryMagics",
        "rehashx": "OSMagics",
        "reload_ext": "ExtensionMagics",
        "ren": "Other",
        "rep": "Other",
        "rerun": "HistoryMagics",
        "reset": "NamespaceMagics",
        "reset_selective": "NamespaceMagics",
        "rmdir": "Other",
        "run": "ExecutionMagics",
        "save": "CodeMagics",
        "sc": "OSMagics",
        "set_env": "OSMagics",
        "store": "StoreMagics",
        "sx": "OSMagics",
        "system": "OSMagics",
        "tb": "ExecutionMagics",
        "time": "ExecutionMagics",
        "timeit": "ExecutionMagics",
        "unalias": "OSMagics",
        "unload_ext": "ExtensionMagics",
        "who": "NamespaceMagics",
        "who_ls": "NamespaceMagics",
        "whos": "NamespaceMagics",
        "xdel": "NamespaceMagics",
        "xmode": "BasicMagics"
       }
      },
      "text/plain": [
       "Available line magics:\n",
       "%alias  %alias_magic  %autocall  %automagic  %autosave  %bookmark  %cd  %clear  %cls  %colors  %config  %connect_info  %copy  %ddir  %debug  %dhist  %dirs  %doctest_mode  %echo  %ed  %edit  %env  %gui  %hist  %history  %killbgscripts  %ldir  %less  %load  %load_ext  %loadpy  %logoff  %logon  %logstart  %logstate  %logstop  %ls  %lsmagic  %macro  %magic  %matplotlib  %mkdir  %more  %notebook  %page  %pastebin  %pdb  %pdef  %pdoc  %pfile  %pinfo  %pinfo2  %popd  %pprint  %precision  %profile  %prun  %psearch  %psource  %pushd  %pwd  %pycat  %pylab  %qtconsole  %quickref  %recall  %rehashx  %reload_ext  %ren  %rep  %rerun  %reset  %reset_selective  %rmdir  %run  %save  %sc  %set_env  %store  %sx  %system  %tb  %time  %timeit  %unalias  %unload_ext  %who  %who_ls  %whos  %xdel  %xmode\n",
       "\n",
       "Available cell magics:\n",
       "%%!  %%HTML  %%SVG  %%bash  %%capture  %%cmd  %%debug  %%file  %%html  %%javascript  %%js  %%latex  %%perl  %%prun  %%pypy  %%python  %%python2  %%python3  %%ruby  %%script  %%sh  %%svg  %%sx  %%system  %%time  %%timeit  %%writefile\n",
       "\n",
       "Automagic is ON, % prefix IS NOT needed for line magics."
      ]
     },
     "execution_count": 7,
     "metadata": {},
     "output_type": "execute_result"
    }
   ],
   "source": [
    "%lsmagic"
   ]
  },
  {
   "cell_type": "code",
   "execution_count": 2,
   "metadata": {
    "collapsed": false
   },
   "outputs": [
    {
     "name": "stdout",
     "output_type": "stream",
     "text": [
      " helloworld\n"
     ]
    }
   ],
   "source": [
    "%prun\n",
    "print('helloworld')"
   ]
  },
  {
   "cell_type": "markdown",
   "metadata": {},
   "source": [
    "`~/.juypter/custom/custom.css` 파일을 수정해서 jupyter 외관을 간단히 customizing할 수 있음."
   ]
  }
 ],
 "metadata": {
  "kernelspec": {
   "display_name": "Python 3",
   "language": "python",
   "name": "python3"
  },
  "language_info": {
   "codemirror_mode": {
    "name": "ipython",
    "version": 3
   },
   "file_extension": ".py",
   "mimetype": "text/x-python",
   "name": "python",
   "nbconvert_exporter": "python",
   "pygments_lexer": "ipython3",
   "version": "3.6.0"
  }
 },
 "nbformat": 4,
 "nbformat_minor": 2
}
