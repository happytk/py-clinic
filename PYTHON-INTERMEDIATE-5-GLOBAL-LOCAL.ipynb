{
 "cells": [
  {
   "cell_type": "code",
   "execution_count": 6,
   "metadata": {
    "collapsed": false
   },
   "outputs": [
    {
     "name": "stdout",
     "output_type": "stream",
     "text": [
      "{'__name__': '__main__', '__doc__': 'Automatically created module for IPython interactive environment', '__package__': None, '__loader__': None, '__spec__': None, '__builtin__': <module 'builtins' (built-in)>, '__builtins__': <module 'builtins' (built-in)>, '_ih': ['', 'print locals()', 'print(locals())', 'print(locals())\\ndef hello():\\n    print(locals())', \"print(locals())\\nprint('-'*50)\\ndef hello():\\n    print(locals())\", \"print(locals())\\nprint('-'*50)\\ndef hello():\\n    world = 'hello'\\n    print(locals())\", \"print(locals())\\nprint('-'*50)\\ndef hello():\\n    world = 'hello'\\n    print(locals())\\nhello()\"], '_oh': {}, '_dh': ['C:\\\\Users\\\\SOC64BIT'], '_sh': <module 'IPython.core.shadowns' from 'C:\\\\ProgramData\\\\Anaconda3\\\\lib\\\\site-packages\\\\IPython\\\\core\\\\shadowns.py'>, 'In': ['', 'print locals()', 'print(locals())', 'print(locals())\\ndef hello():\\n    print(locals())', \"print(locals())\\nprint('-'*50)\\ndef hello():\\n    print(locals())\", \"print(locals())\\nprint('-'*50)\\ndef hello():\\n    world = 'hello'\\n    print(locals())\", \"print(locals())\\nprint('-'*50)\\ndef hello():\\n    world = 'hello'\\n    print(locals())\\nhello()\"], 'Out': {}, 'get_ipython': <bound method InteractiveShell.get_ipython of <ipykernel.zmqshell.ZMQInteractiveShell object at 0x0000000005C46BA8>>, 'exit': <IPython.core.autocall.ZMQExitAutocall object at 0x000000000622F198>, 'quit': <IPython.core.autocall.ZMQExitAutocall object at 0x000000000622F198>, '_': '', '__': '', '___': '', '_i': \"print(locals())\\nprint('-'*50)\\ndef hello():\\n    world = 'hello'\\n    print(locals())\", '_ii': \"print(locals())\\nprint('-'*50)\\ndef hello():\\n    print(locals())\", '_iii': 'print(locals())\\ndef hello():\\n    print(locals())', '_i1': 'print locals()', '_i2': 'print(locals())', '_i3': 'print(locals())\\ndef hello():\\n    print(locals())', 'hello': <function hello at 0x00000000073AA8C8>, '_i4': \"print(locals())\\nprint('-'*50)\\ndef hello():\\n    print(locals())\", '_i5': \"print(locals())\\nprint('-'*50)\\ndef hello():\\n    world = 'hello'\\n    print(locals())\", '_i6': \"print(locals())\\nprint('-'*50)\\ndef hello():\\n    world = 'hello'\\n    print(locals())\\nhello()\"}\n",
      "--------------------------------------------------\n",
      "{'world': 'hello'}\n"
     ]
    }
   ],
   "source": [
    "print(locals())\n",
    "print('-'*50)\n",
    "def hello():\n",
    "    world = 'hello'\n",
    "    print(locals())\n",
    "hello()"
   ]
  }
 ],
 "metadata": {
  "kernelspec": {
   "display_name": "Python 3",
   "language": "python",
   "name": "python3"
  },
  "language_info": {
   "codemirror_mode": {
    "name": "ipython",
    "version": 3
   },
   "file_extension": ".py",
   "mimetype": "text/x-python",
   "name": "python",
   "nbconvert_exporter": "python",
   "pygments_lexer": "ipython3",
   "version": "3.6.0"
  }
 },
 "nbformat": 4,
 "nbformat_minor": 2
}
