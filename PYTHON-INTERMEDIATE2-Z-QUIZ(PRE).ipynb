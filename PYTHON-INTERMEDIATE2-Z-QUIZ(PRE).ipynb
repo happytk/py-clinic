{
 "cells": [
  {
   "cell_type": "markdown",
   "metadata": {},
   "source": [
    "다음 표현식의 결과를 예상해보세요.\n",
    "```\n",
    "\"123\" * 3\n",
    "```\n"
   ]
  },
  {
   "cell_type": "markdown",
   "metadata": {},
   "source": [
    "다음 단어의 목록(List)을 하나의 문장으로 완성하려면?\n",
    "\n",
    "```\n",
    "lst = [\"hello\", \"world\", \"python\"]\n",
    "```\n"
   ]
  },
  {
   "cell_type": "markdown",
   "metadata": {},
   "source": [
    "range()을 이용해서 1-100까지의 숫자중 짝수의 합계를 구하는 python 코드를 작성해주세요."
   ]
  }
 ],
 "metadata": {
  "kernelspec": {
   "display_name": "Python 3",
   "language": "python",
   "name": "python3"
  },
  "language_info": {
   "codemirror_mode": {
    "name": "ipython",
    "version": 3
   },
   "file_extension": ".py",
   "mimetype": "text/x-python",
   "name": "python",
   "nbconvert_exporter": "python",
   "pygments_lexer": "ipython3",
   "version": "3.6.1"
  }
 },
 "nbformat": 4,
 "nbformat_minor": 2
}
