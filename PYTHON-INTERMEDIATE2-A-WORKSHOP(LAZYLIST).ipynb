{
 "cells": [
  {
   "cell_type": "markdown",
   "metadata": {},
   "source": [
    "굉장히 무거운 처리로 가져오는 값이 있다고 가정합시다."
   ]
  },
  {
   "cell_type": "code",
   "execution_count": 7,
   "metadata": {},
   "outputs": [
    {
     "data": {
      "text/plain": [
       "[0, 7, 2, 8, 4, 5, 9, 8, 7, 6, 5]"
      ]
     },
     "execution_count": 7,
     "metadata": {},
     "output_type": "execute_result"
    }
   ],
   "source": [
    "import time\n",
    "import random\n",
    "def heavy_task():\n",
    "    time.sleep(3)\n",
    "    return [random.choice(range(10)) for _ in range(random.randrange(20))]\n",
    "heavy_task()"
   ]
  },
  {
   "cell_type": "markdown",
   "metadata": {},
   "source": [
    "성능 향상을 위해 해당 데이터를 사용하는 시점에 값을 가져오는 형식으로 list와 유사하게 동작하는 객체를 만들고자 합니다."
   ]
  },
  {
   "cell_type": "code",
   "execution_count": 11,
   "metadata": {},
   "outputs": [
    {
     "name": "stdout",
     "output_type": "stream",
     "text": [
      "False\n",
      "0\n",
      "None\n"
     ]
    }
   ],
   "source": [
    "class LazySelect(list):\n",
    "    def load_once_but_lately(self):\n",
    "        heavy_task()\n",
    "\n",
    "lst = LazySelect()\n",
    "\n",
    "print(2 in lst) # 사용하는 시점에 loading.\n",
    "print(len(lst)) # 이후에는 caching값 사용\n",
    "print(lst.append(10))"
   ]
  }
 ],
 "metadata": {
  "kernelspec": {
   "display_name": "Python 3",
   "language": "python",
   "name": "python3"
  },
  "language_info": {
   "codemirror_mode": {
    "name": "ipython",
    "version": 3
   },
   "file_extension": ".py",
   "mimetype": "text/x-python",
   "name": "python",
   "nbconvert_exporter": "python",
   "pygments_lexer": "ipython3",
   "version": "3.6.1"
  }
 },
 "nbformat": 4,
 "nbformat_minor": 2
}
