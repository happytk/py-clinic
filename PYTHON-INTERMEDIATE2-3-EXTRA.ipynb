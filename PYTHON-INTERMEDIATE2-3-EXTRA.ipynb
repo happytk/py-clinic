{
 "cells": [
  {
   "cell_type": "markdown",
   "metadata": {},
   "source": [
    "unique한 숫자를 보관하는 class를 만들어봅시다.\n",
    "```\n",
    ">> un = UniqueNumber([10,20,30])\n",
    ">> un.pick(30)\n",
    ">> un.pick(40)\n",
    ">> un.number_list\n",
    "[10, 20, 30, 40]\n",
    "```"
   ]
  },
  {
   "cell_type": "code",
   "execution_count": 9,
   "metadata": {
    "collapsed": false
   },
   "outputs": [
    {
     "data": {
      "text/plain": [
       "[10, 20, 30, 40]"
      ]
     },
     "execution_count": 9,
     "metadata": {},
     "output_type": "execute_result"
    }
   ],
   "source": [
    "class UniqueNumber:\n",
    "    def __init__(self, lst=[]):\n",
    "        self.number_list = lst\n",
    "    def pick(self, number):\n",
    "        if number not in self.number_list:\n",
    "            self.number_list.append(number)\n",
    "\n",
    "un = UniqueNumber([10,20,30])\n",
    "un.pick(30)\n",
    "un.pick(40)\n",
    "un.number_list"
   ]
  },
  {
   "cell_type": "code",
   "execution_count": 12,
   "metadata": {
    "collapsed": false
   },
   "outputs": [
    {
     "data": {
      "text/plain": [
       "[40]"
      ]
     },
     "execution_count": 12,
     "metadata": {},
     "output_type": "execute_result"
    }
   ],
   "source": [
    "box = UniqueNumber()\n",
    "box.pick(40)\n",
    "box.number_list"
   ]
  },
  {
   "cell_type": "code",
   "execution_count": 14,
   "metadata": {
    "collapsed": false
   },
   "outputs": [
    {
     "data": {
      "text/plain": [
       "[40]"
      ]
     },
     "execution_count": 14,
     "metadata": {},
     "output_type": "execute_result"
    }
   ],
   "source": [
    "magic_box = UniqueNumber()\n",
    "magic_box.number_list"
   ]
  },
  {
   "cell_type": "code",
   "execution_count": 15,
   "metadata": {
    "collapsed": false
   },
   "outputs": [
    {
     "data": {
      "text/plain": [
       "(111769992, 111769992)"
      ]
     },
     "execution_count": 15,
     "metadata": {},
     "output_type": "execute_result"
    }
   ],
   "source": [
    "id(magic_box.number_list), id(box.number_list)"
   ]
  },
  {
   "cell_type": "markdown",
   "metadata": {},
   "source": [
    "함수가 정의되는 순간에 기본값이 계산됩니다. 기본값이 mutable객체라면 함수 정의하는 순간에 생성되었고 함수 호출시마다 해당 객체가 사용됩니다. 즉, **함수의 default parameter로 mutable객체를 정의하지 마세요.**"
   ]
  },
  {
   "cell_type": "code",
   "execution_count": 20,
   "metadata": {
    "collapsed": false
   },
   "outputs": [
    {
     "data": {
      "text/plain": [
       "([30, 40], [])"
      ]
     },
     "execution_count": 20,
     "metadata": {},
     "output_type": "execute_result"
    }
   ],
   "source": [
    "class UniqueNumber:\n",
    "    def __init__(self, lst=None):\n",
    "        self.number_list = lst or []\n",
    "    def pick(self, number):\n",
    "        if number not in self.number_list:\n",
    "            self.number_list.append(number)\n",
    "\n",
    "un1 = UniqueNumber()\n",
    "un2 = UniqueNumber()\n",
    "un1.pick(30)\n",
    "un1.pick(40)\n",
    "\n",
    "un.number_list, un2.number_list"
   ]
  }
 ],
 "metadata": {
  "kernelspec": {
   "display_name": "Python 3",
   "language": "python",
   "name": "python3"
  },
  "language_info": {
   "codemirror_mode": {
    "name": "ipython",
    "version": 3
   },
   "file_extension": ".py",
   "mimetype": "text/x-python",
   "name": "python",
   "nbconvert_exporter": "python",
   "pygments_lexer": "ipython3",
   "version": "3.6.0"
  }
 },
 "nbformat": 4,
 "nbformat_minor": 2
}
