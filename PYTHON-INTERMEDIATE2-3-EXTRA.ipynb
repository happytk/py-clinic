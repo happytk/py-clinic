{
 "cells": [
  {
   "cell_type": "markdown",
   "metadata": {},
   "source": [
    "## DON'T #1"
   ]
  },
  {
   "cell_type": "markdown",
   "metadata": {},
   "source": [
    "unique한 숫자를 보관하는 class를 만들어봅시다.\n",
    "```\n",
    ">> un = UniqueNumber([10,20,30])\n",
    ">> un.pick(30)\n",
    ">> un.pick(40)\n",
    ">> un.number_list\n",
    "[10, 20, 30, 40]\n",
    "```"
   ]
  },
  {
   "cell_type": "code",
   "execution_count": 5,
   "metadata": {},
   "outputs": [
    {
     "data": {
      "text/plain": [
       "[10, 20, 30, 40]"
      ]
     },
     "execution_count": 5,
     "metadata": {},
     "output_type": "execute_result"
    }
   ],
   "source": [
    "class UniqueNumber:\n",
    "    def __init__(self, lst=[]):\n",
    "        self.number_list = lst\n",
    "    def pick(self, number):\n",
    "        if number not in self.number_list:\n",
    "            self.number_list.append(number)\n",
    "\n",
    "un = UniqueNumber([10,20,30])\n",
    "un.pick(30)\n",
    "un.pick(40)\n",
    "un.number_list"
   ]
  },
  {
   "cell_type": "code",
   "execution_count": 12,
   "metadata": {},
   "outputs": [
    {
     "data": {
      "text/plain": [
       "[40]"
      ]
     },
     "execution_count": 12,
     "metadata": {},
     "output_type": "execute_result"
    }
   ],
   "source": [
    "box = UniqueNumber()\n",
    "box.pick(40)\n",
    "box.number_list"
   ]
  },
  {
   "cell_type": "code",
   "execution_count": 14,
   "metadata": {},
   "outputs": [
    {
     "data": {
      "text/plain": [
       "[40]"
      ]
     },
     "execution_count": 14,
     "metadata": {},
     "output_type": "execute_result"
    }
   ],
   "source": [
    "magic_box = UniqueNumber()\n",
    "magic_box.number_list"
   ]
  },
  {
   "cell_type": "code",
   "execution_count": 15,
   "metadata": {},
   "outputs": [
    {
     "data": {
      "text/plain": [
       "(111769992, 111769992)"
      ]
     },
     "execution_count": 15,
     "metadata": {},
     "output_type": "execute_result"
    }
   ],
   "source": [
    "id(magic_box.number_list), id(box.number_list)"
   ]
  },
  {
   "cell_type": "markdown",
   "metadata": {},
   "source": [
    "함수가 정의되는 순간에 기본값이 계산됩니다. 기본값이 mutable객체라면 함수 정의하는 순간에 생성되었고 함수 호출시마다 해당 객체가 사용됩니다. 즉, **함수의 default parameter로 mutable객체를 정의하지 마세요.**"
   ]
  },
  {
   "cell_type": "code",
   "execution_count": 20,
   "metadata": {},
   "outputs": [
    {
     "data": {
      "text/plain": [
       "([30, 40], [])"
      ]
     },
     "execution_count": 20,
     "metadata": {},
     "output_type": "execute_result"
    }
   ],
   "source": [
    "class UniqueNumber:\n",
    "    def __init__(self, lst=None):\n",
    "        self.number_list = lst or []\n",
    "    def pick(self, number):\n",
    "        if number not in self.number_list:\n",
    "            self.number_list.append(number)\n",
    "\n",
    "un1 = UniqueNumber()\n",
    "un2 = UniqueNumber()\n",
    "un1.pick(30)\n",
    "un1.pick(40)\n",
    "\n",
    "un.number_list, un2.number_list"
   ]
  },
  {
   "cell_type": "markdown",
   "metadata": {},
   "source": [
    "## DON'T #2"
   ]
  },
  {
   "cell_type": "markdown",
   "metadata": {},
   "source": [
    "어떤 동작을 수행하기 전에 모든 것을 체크하는 스타일(Look Before You Leap)"
   ]
  },
  {
   "cell_type": "markdown",
   "metadata": {},
   "source": [
    "어떤 동작을 수행하기 전에 모든 것을 체크하는 스타일(Look Before You Leap)\n",
    " - 특정 동작을 수행하기 전에 가급적 모든 위험사항을 기재\n",
    " - 특정 동작은 반드시 안전하게 수행되어야 하는 위험성 (하나라도 놓친다면..)\n",
    " - 체크, 체크, 체크는 Multithread환경에서는 안전하지 않다."
   ]
  },
  {
   "cell_type": "code",
   "execution_count": 3,
   "metadata": {
    "collapsed": true
   },
   "outputs": [],
   "source": [
    "def get_log_level(config_dict):\n",
    "    if 'ENABLE_LOGGING' in config_dict:\n",
    "        if config_dict['ENABLE_LOGGING'] != True:\n",
    "            return None\n",
    "        elif not 'DEFAULT_LOG_LEVEL' in config_dict:\n",
    "            return None\n",
    "        else:\n",
    "            return config_dict['DEFAULT_LOG_LEVEL']\n",
    "    else:\n",
    "        return None"
   ]
  },
  {
   "cell_type": "markdown",
   "metadata": {},
   "source": [
    "### Easier to Ask for Fogiveness than Permission (EAFP Style)\n",
    "*잘 될거야, 그리고 혹시 그렇지 않다면 예외를 잡으면 돼*"
   ]
  },
  {
   "cell_type": "markdown",
   "metadata": {},
   "source": [
    "- 코드의 목적이 좀 더 부각되어져서 보이고, 명확해보이는 장점.\n",
    "  - 시작하기 전에 체크를 장황하게 하지 않고, 그냥 할 일 먼저 바로 보임."
   ]
  },
  {
   "cell_type": "code",
   "execution_count": 4,
   "metadata": {
    "collapsed": true
   },
   "outputs": [],
   "source": [
    "def get_log_level(config_dict):\n",
    "    try:\n",
    "        if config_dict['ENABLE_LOGGING'] != True:\n",
    "            return config_dict['DEFAULT_LOG_LEVEL']\n",
    "    except KeyError:\n",
    "        # 필요하면 logging 및 에러처리\n",
    "        return None"
   ]
  }
 ],
 "metadata": {
  "kernelspec": {
   "display_name": "Python 3",
   "language": "python",
   "name": "python3"
  },
  "language_info": {
   "codemirror_mode": {
    "name": "ipython",
    "version": 3
   },
   "file_extension": ".py",
   "mimetype": "text/x-python",
   "name": "python",
   "nbconvert_exporter": "python",
   "pygments_lexer": "ipython3",
   "version": "3.6.1"
  }
 },
 "nbformat": 4,
 "nbformat_minor": 2
}
