{
 "cells": [
  {
   "cell_type": "markdown",
   "metadata": {
    "slideshow": {
     "slide_type": "slide"
    }
   },
   "source": [
    "## PROTOCOL\n",
    "<span class=\"mark\">왜 python에서는 object.length() 대신에 len(object)를 사용하나요?</span>"
   ]
  },
  {
   "cell_type": "markdown",
   "metadata": {
    "slideshow": {
     "slide_type": "subslide"
    }
   },
   "source": [
    "- 특정한 action에 대해 python 언어가 제시하는 protocol이 있습니다.\n",
    " - <span class=\"girk\">for문에서 iterable한 객체를 다루는 protocol을 떠올려보세요.</span>\n",
    "- 해당 protocol을 구현만 한다면 어느 객체도 python이 다룰 수 있습니다.\n",
    " - 사용자 객체도 builtin객체처럼 다룰 수 있는 강력한 장점을 제시합니다.\n",
    " - builtin처럼 동작시키기 위해 기존 상속 메커니즘(혹은 java에서 사용하는 interface)을 필요로 하지 않습니다.\n",
    " - 그저 *필요한 동작에 대한 protocol만 구현해주면 됩니다.*\n",
    "- dunder function 스타일로 구현합니다."
   ]
  },
  {
   "cell_type": "code",
   "execution_count": 1,
   "metadata": {
    "slideshow": {
     "slide_type": "subslide"
    }
   },
   "outputs": [
    {
     "data": {
      "text/plain": [
       "10"
      ]
     },
     "execution_count": 1,
     "metadata": {},
     "output_type": "execute_result"
    }
   ],
   "source": [
    "# 예) 객체의 길이계산은 __len__을 호출합니다.\n",
    "class Sample():\n",
    "    def __len__(self):\n",
    "        return 10\n",
    "\n",
    "len(Sample())    "
   ]
  },
  {
   "cell_type": "code",
   "execution_count": 3,
   "metadata": {
    "slideshow": {
     "slide_type": "subslide"
    }
   },
   "outputs": [
    {
     "data": {
      "text/plain": [
       "10"
      ]
     },
     "execution_count": 3,
     "metadata": {},
     "output_type": "execute_result"
    }
   ],
   "source": [
    "# 예) 호출은 __call__을 호출합니다.\n",
    "class Sample():\n",
    "    def __call__(self):\n",
    "        return 10\n",
    "sample = Sample()\n",
    "sample()"
   ]
  },
  {
   "cell_type": "code",
   "execution_count": 4,
   "metadata": {
    "slideshow": {
     "slide_type": "subslide"
    }
   },
   "outputs": [
    {
     "data": {
      "text/plain": [
       "True"
      ]
     },
     "execution_count": 4,
     "metadata": {},
     "output_type": "execute_result"
    }
   ],
   "source": [
    "# 예) in operator는 __contains__를 호출합니다.\n",
    "class Sample():\n",
    "    def __contains__(self, any_value):\n",
    "        return True\n",
    "sample = Sample()\n",
    "10 in sample"
   ]
  },
  {
   "cell_type": "code",
   "execution_count": 4,
   "metadata": {
    "slideshow": {
     "slide_type": "subslide"
    }
   },
   "outputs": [
    {
     "data": {
      "text/plain": [
       "('world', 'Universe')"
      ]
     },
     "execution_count": 4,
     "metadata": {},
     "output_type": "execute_result"
    }
   ],
   "source": [
    "# 이상한 객체를 만들 수 있습니다.\n",
    "#__setattr__, __getattr__을 배우기 위함.\n",
    "class Blackhole():\n",
    "    def __init__(self):\n",
    "        self.hello = 'world'\n",
    "    def __getattr__(self, name):\n",
    "        return 'Universe'\n",
    "\n",
    "b = Blackhole()\n",
    "# . operator로 접근할 때.\n",
    "b.hello, b.world"
   ]
  },
  {
   "cell_type": "code",
   "execution_count": 8,
   "metadata": {
    "slideshow": {
     "slide_type": "subslide"
    }
   },
   "outputs": [
    {
     "data": {
      "text/plain": [
       "('Universe', 'Universe')"
      ]
     },
     "execution_count": 8,
     "metadata": {},
     "output_type": "execute_result"
    }
   ],
   "source": [
    "# 이상한 객체를 만들 수 있습니다.\n",
    "#__getitem__, __setitem__을 배우기 위함.\n",
    "class AnotherBlackhole():\n",
    "    def __getitem__(self, name):\n",
    "        return 'Universe'\n",
    "\n",
    "b = AnotherBlackhole()\n",
    "# [] operator로 접근할 때.\n",
    "b['hello'], b['world']"
   ]
  },
  {
   "cell_type": "markdown",
   "metadata": {
    "slideshow": {
     "slide_type": "subslide"
    }
   },
   "source": [
    "특정 protocol 구현여부를 검사할 수도 있습니다. (특정한 동작을 수행할 수 있는지)"
   ]
  },
  {
   "cell_type": "code",
   "execution_count": 6,
   "metadata": {
    "slideshow": {
     "slide_type": "subslide"
    }
   },
   "outputs": [
    {
     "name": "stdout",
     "output_type": "stream",
     "text": [
      "['AsyncGenerator', 'AsyncIterable', 'AsyncIterator', 'Awaitable', 'ByteString', 'Callable', 'Collection', 'Container', 'Coroutine', 'Generator', 'Hashable', 'ItemsView', 'Iterable', 'Iterator', 'KeysView', 'Mapping', 'MappingView', 'MutableMapping', 'MutableSequence', 'MutableSet', 'Reversible', 'Sequence', 'Set', 'Sized', 'ValuesView', '__all__', '__builtins__', '__cached__', '__doc__', '__file__', '__loader__', '__name__', '__package__', '__spec__']\n"
     ]
    },
    {
     "data": {
      "text/plain": [
       "(10, 20)"
      ]
     },
     "execution_count": 6,
     "metadata": {},
     "output_type": "execute_result"
    }
   ],
   "source": [
    "from collections.abc import Sized, Callable\n",
    "from collections import abc\n",
    "print(dir(abc))\n",
    "\n",
    "# 예) 객체의 길이계산은 __len__을 호출합니다.\n",
    "class Sample:\n",
    "    def __len__(self):\n",
    "        return 10\n",
    "    def __call__(self):\n",
    "        return 20\n",
    "\n",
    "sample = Sample()\n",
    "isinstance(sample, Sized) and len(sample), \\\n",
    "isinstance(sample, Callable) and sample()"
   ]
  },
  {
   "cell_type": "code",
   "execution_count": 7,
   "metadata": {
    "slideshow": {
     "slide_type": "subslide"
    }
   },
   "outputs": [
    {
     "data": {
      "text/plain": [
       "True"
      ]
     },
     "execution_count": 7,
     "metadata": {},
     "output_type": "execute_result"
    }
   ],
   "source": [
    "from collections.abc import Container\n",
    "class Sample:\n",
    "    def __contains__(self, _):\n",
    "        return True\n",
    "\n",
    "isinstance(Sample(), Container)"
   ]
  },
  {
   "cell_type": "markdown",
   "metadata": {
    "slideshow": {
     "slide_type": "subslide"
    }
   },
   "source": [
    "내가 만든 함수에서 arguement검사를 해본다고 합시다."
   ]
  },
  {
   "cell_type": "code",
   "execution_count": 10,
   "metadata": {
    "slideshow": {
     "slide_type": "subslide"
    }
   },
   "outputs": [
    {
     "name": "stdout",
     "output_type": "stream",
     "text": [
      "True\n",
      "True\n",
      "True\n"
     ]
    }
   ],
   "source": [
    "# builtin-dictionary와 호환되는 object를 만들고 싶다면\n",
    "from collections.abc import Mapping\n",
    "from collections import OrderedDict\n",
    "\n",
    "# 다음 세개 method중 하나라도 없으면 에러발생!\n",
    "class MyDict(Mapping):\n",
    "    def __getitem__(self, key):\n",
    "        return None\n",
    "    def __iter__(self):\n",
    "        pass\n",
    "    def __len__(self):\n",
    "        return 0\n",
    "\n",
    "print(isinstance({'hello': 'world'}, Mapping))\n",
    "print(isinstance(OrderedDict({'hello': 'world'}), Mapping))\n",
    "print(isinstance(MyDict(), Mapping))"
   ]
  }
 ],
 "metadata": {
  "celltoolbar": "Slideshow",
  "kernelspec": {
   "display_name": "Python 3",
   "language": "python",
   "name": "python3"
  },
  "language_info": {
   "codemirror_mode": {
    "name": "ipython",
    "version": 3
   },
   "file_extension": ".py",
   "mimetype": "text/x-python",
   "name": "python",
   "nbconvert_exporter": "python",
   "pygments_lexer": "ipython3",
   "version": "3.6.1"
  }
 },
 "nbformat": 4,
 "nbformat_minor": 2
}
