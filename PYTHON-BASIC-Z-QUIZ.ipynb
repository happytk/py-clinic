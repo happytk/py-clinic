{
 "cells": [
  {
   "cell_type": "markdown",
   "metadata": {},
   "source": [
    "문자열을 다음과 같이 목록으로 바꾸고 싶을 때 사용할 수 있는 keyword는 무엇일까요?\n",
    "```\n",
    "\"abc\" -> [\"a\", \"b\", \"c\"]\n",
    "```"
   ]
  },
  {
   "cell_type": "markdown",
   "metadata": {},
   "source": [
    "다음중 forloop에 돌릴 수 없는 object는?\n",
    " 1. range(10)\n",
    " 2. [1]\n",
    " 3. (1)\n",
    " 4. \"power\""
   ]
  },
  {
   "cell_type": "markdown",
   "metadata": {},
   "source": [
    "다음 코드의 수행결과는?\n",
    "```\n",
    "for i in range(3):\n",
    "    if i == 3:\n",
    "        break\n",
    "    print('processed.')\n",
    "else:\n",
    "    print('thank-you')\n",
    "print('end.')\n",
    "```"
   ]
  },
  {
   "cell_type": "markdown",
   "metadata": {},
   "source": [
    "참과 거짓을 나타내는 Python의 값은? (대소문자에 유의해서 작성해주세요.)"
   ]
  },
  {
   "cell_type": "markdown",
   "metadata": {},
   "source": [
    "python의 다음 코드 수행 결과를 예측해보세요.\n",
    "\n",
    "```\n",
    "x = 10\n",
    "y = \"20\"\n",
    "\n",
    "x + y\n",
    "```\n",
    "\n",
    " 1. \"30\"\n",
    " 2. 30\n",
    " 3. \"TypeError\" Exception 발생"
   ]
  },
  {
   "cell_type": "markdown",
   "metadata": {},
   "source": [
    "다음 코드중 if 구문을 완성해주세요.\n",
    "```\n",
    "user_input = input()\n",
    "answers = ['hello', 'world']\n",
    "\n",
    "# 사용자입력값(user_input)이 정답목록(answers)안에 있는지를 검사\n",
    "if _______________________________________________________:\n",
    "    print('correct!')\n",
    "```"
   ]
  },
  {
   "cell_type": "markdown",
   "metadata": {},
   "source": [
    "다음 수행 결과를 예측해보세요.\n",
    "\n",
    "```\n",
    "[1, 2, 3] * 3\n",
    "```"
   ]
  },
  {
   "cell_type": "markdown",
   "metadata": {},
   "source": [
    "다음 수행 결과를 예측해보세요.\n",
    "\n",
    "```\n",
    "len([\"1\", \"234\", \"5678\"])\n",
    "```"
   ]
  },
  {
   "cell_type": "markdown",
   "metadata": {},
   "source": [
    "다음 수행 결과를 예측해보세요.\n",
    "\n",
    "```\n",
    "\"123\" * 3\n",
    "```"
   ]
  },
  {
   "cell_type": "markdown",
   "metadata": {},
   "source": [
    "다음 수행 결과를 예측해보세요.\n",
    "```\n",
    "list(set(list([1,1,1])))\n",
    "```"
   ]
  },
  {
   "cell_type": "markdown",
   "metadata": {},
   "source": [
    "다음 수행 결과를 예측해보세요.\n",
    "```\n",
    "for k, v in enumerate([1,2,3]):\n",
    "    print(f'{k}, {v}')\n",
    "```"
   ]
  }
 ],
 "metadata": {
  "kernelspec": {
   "display_name": "Python 3",
   "language": "python",
   "name": "python3"
  },
  "language_info": {
   "codemirror_mode": {
    "name": "ipython",
    "version": 3
   },
   "file_extension": ".py",
   "mimetype": "text/x-python",
   "name": "python",
   "nbconvert_exporter": "python",
   "pygments_lexer": "ipython3",
   "version": "3.6.0"
  }
 },
 "nbformat": 4,
 "nbformat_minor": 2
}
