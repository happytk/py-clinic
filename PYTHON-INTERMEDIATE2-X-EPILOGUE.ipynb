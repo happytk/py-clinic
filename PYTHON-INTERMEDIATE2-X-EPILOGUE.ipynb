{
 "cells": [
  {
   "cell_type": "markdown",
   "metadata": {
    "slideshow": {
     "slide_type": "slide"
    }
   },
   "source": [
    "## 지금즈음 아마도 당신은.."
   ]
  },
  {
   "cell_type": "markdown",
   "metadata": {
    "slideshow": {
     "slide_type": "subslide"
    }
   },
   "source": [
    "지금즈음 아마도 당신은..\n",
    "- 배운 내용의 절반은 **깨끗히** 잊어버렸다.\n",
    "- 그리고 나머지 절반은.."
   ]
  },
  {
   "cell_type": "markdown",
   "metadata": {
    "slideshow": {
     "slide_type": "subslide"
    }
   },
   "source": [
    "이것외에 다른 방법은 없습니다.\n",
    " * 많이 읽고,\n",
    " * 많이 쓰는 것"
   ]
  },
  {
   "cell_type": "markdown",
   "metadata": {
    "slideshow": {
     "slide_type": "subslide"
    }
   },
   "source": [
    "새로운 것을 두려움없이!\n",
    "> 여러분이 이해하지 못하는 기능을 사용하는 개발자들을 총으로 쏴버리는 것이, 새로운 무언가를 배우는 것보다 쉽다. 그리고 그렇게 살아남은 프로그래머들은 이해하기 쉬운 python 0.9.6 버전의 일부 기능만을 사용할 것이다. -- zen of python의 저자."
   ]
  },
  {
   "cell_type": "markdown",
   "metadata": {
    "slideshow": {
     "slide_type": "subslide"
    }
   },
   "source": [
    "재미있게 읽기 좋은 코드를 작성해보세요. python은 그렇게 해줄 수 있는 언어입니다.\n",
    "> Program must be written for people to read, and only incidentally for machines to execute. --Abelson & Sussman, SICP"
   ]
  },
  {
   "cell_type": "markdown",
   "metadata": {
    "slideshow": {
     "slide_type": "subslide"
    }
   },
   "source": [
    "잘못된 내용이나 궁금한 부분은 wecanfly@sk.com 문의주시면 겸손히 듣고, 성심껏 돕겠습니다."
   ]
  },
  {
   "cell_type": "markdown",
   "metadata": {
    "slideshow": {
     "slide_type": "subslide"
    }
   },
   "source": [
    "감사합니다! Happy Python!"
   ]
  }
 ],
 "metadata": {
  "celltoolbar": "Slideshow",
  "kernelspec": {
   "display_name": "Python 3",
   "language": "python",
   "name": "python3"
  },
  "language_info": {
   "codemirror_mode": {
    "name": "ipython",
    "version": 3
   },
   "file_extension": ".py",
   "mimetype": "text/x-python",
   "name": "python",
   "nbconvert_exporter": "python",
   "pygments_lexer": "ipython3",
   "version": "3.6.1"
  }
 },
 "nbformat": 4,
 "nbformat_minor": 2
}
