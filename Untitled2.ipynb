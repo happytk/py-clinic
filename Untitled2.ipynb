{
 "cells": [
  {
   "cell_type": "markdown",
   "metadata": {},
   "source": [
    "## WORKSHOP\n",
    "\n",
    "아래 파일을 읽을 수 있도록 준비해주세요. 홈디렉토리에 위치시키시면 됩니다.\n",
    "- 파일다운로드 경로: http://erc.skcc.com:8000/\n",
    "- 파일이름: asadmin-script.py"
   ]
  },
  {
   "cell_type": "code",
   "execution_count": 17,
   "metadata": {},
   "outputs": [
    {
     "name": "stdout",
     "output_type": "stream",
     "text": [
      "# Copyright (c) 2011 Joel Barciauskas http://joel.barciausk.as/\n",
      "\n",
      "#\n",
      "\n",
      "# Permission is hereby granted, free of charge, to any person obtaining a\n",
      "\n",
      "# copy of this software and associated documentation files (the\n",
      "\n",
      "# \"Software\"), to deal in the Software without restriction, including\n",
      "\n",
      "# Copyright (c) 2011 Joel Barciauskas http://joel.barciausk.as/\n",
      "\n",
      "#\n",
      "\n",
      "# Permission is hereby granted, free of charge, to any person obtaining a\n",
      "\n",
      "# copy of this software and associated documentation files (the\n",
      "\n",
      "# \"Software\"), to deal in the Software without restriction, including\n",
      "\n"
     ]
    }
   ],
   "source": [
    "lines = open('asadmin-script.py').readlines()\n",
    "for line in lines[:5]:\n",
    "    print(line)\n",
    "    \n",
    "from itertools import islice\n",
    "for line in islice(open('asadmin-script.py'), 5):\n",
    "    print(line)"
   ]
  },
  {
   "cell_type": "code",
   "execution_count": 10,
   "metadata": {},
   "outputs": [
    {
     "data": {
      "text/plain": [
       "['__doc__',\n",
       " '__loader__',\n",
       " '__name__',\n",
       " '__package__',\n",
       " '__spec__',\n",
       " '_grouper',\n",
       " '_tee',\n",
       " '_tee_dataobject',\n",
       " 'accumulate',\n",
       " 'chain',\n",
       " 'combinations',\n",
       " 'combinations_with_replacement',\n",
       " 'compress',\n",
       " 'count',\n",
       " 'cycle',\n",
       " 'dropwhile',\n",
       " 'filterfalse',\n",
       " 'groupby',\n",
       " 'islice',\n",
       " 'permutations',\n",
       " 'product',\n",
       " 'repeat',\n",
       " 'starmap',\n",
       " 'takewhile',\n",
       " 'tee',\n",
       " 'zip_longest']"
      ]
     },
     "execution_count": 10,
     "metadata": {},
     "output_type": "execute_result"
    }
   ],
   "source": [
    "import itertools\n",
    "dir(itertools)"
   ]
  },
  {
   "cell_type": "markdown",
   "metadata": {},
   "source": [
    "**해당 주석이 있는 스크립트 파일을 읽어서, 시작 '#' 주석이 없는 새로운 스크립트 파일을 저장해주시면 됩니다. 해당 파일의 이름은 asadmin-script-nosharp.py**"
   ]
  }
 ],
 "metadata": {
  "kernelspec": {
   "display_name": "Python 3",
   "language": "python",
   "name": "python3"
  },
  "language_info": {
   "codemirror_mode": {
    "name": "ipython",
    "version": 3
   },
   "file_extension": ".py",
   "mimetype": "text/x-python",
   "name": "python",
   "nbconvert_exporter": "python",
   "pygments_lexer": "ipython3",
   "version": "3.6.1"
  }
 },
 "nbformat": 4,
 "nbformat_minor": 2
}
