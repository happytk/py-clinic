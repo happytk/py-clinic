{
 "cells": [
  {
   "cell_type": "markdown",
   "metadata": {},
   "source": [
    "## Python 클리닉과정 사전테스트지"
   ]
  },
  {
   "cell_type": "markdown",
   "metadata": {},
   "source": [
    "1) 다음 코드의 실행 결과는 무엇일까요?\n",
    "\n",
    "```\n",
    "x = \"abc\"\n",
    "print(x[1])\n",
    "```\n",
    "\n",
    "<span class=\"burk\">\"b\"</span>"
   ]
  },
  {
   "cell_type": "markdown",
   "metadata": {},
   "source": [
    "2) 사용자 입력이 \"okay\" 이거나 \"OKAY\"임을 테스트하는 코드를 완성해보세요.\n",
    "\n",
    "```\n",
    "inp = input()\n",
    "\n",
    "if ________________________________:\n",
    "    print(\"You entered okay.\")\n",
    "```\n",
    "\n",
    "<span class=\"burk\">inp in [\"okay\", \"OKAY\"]</span> 혹은 <span class=\"burk\">inp.lower() == \"okay\"</span> 혹은 <span class=\"burk\">inp.upper() == \"OKAY\"</span>"
   ]
  },
  {
   "cell_type": "markdown",
   "metadata": {},
   "source": [
    "3) range()을 이용해서 1-10까지의 합계를 구하는 다음 코드를 완성해보세요. \n",
    "아래 두 `___` 공간을 채워주세요.\n",
    "\n",
    "```\n",
    "sum = 0\n",
    "for i in range(__):\n",
    "    _____________\n",
    "    \n",
    "print(sum)\n",
    "```\n",
    "\n",
    "<span class=\"burk\">sum(range(11))</span> 혹은 <span class=\"burk\">11, sum += i</span>"
   ]
  }
 ],
 "metadata": {
  "kernelspec": {
   "display_name": "Python 3",
   "language": "python",
   "name": "python3"
  },
  "language_info": {
   "codemirror_mode": {
    "name": "ipython",
    "version": 3
   },
   "file_extension": ".py",
   "mimetype": "text/x-python",
   "name": "python",
   "nbconvert_exporter": "python",
   "pygments_lexer": "ipython3",
   "version": "3.6.1"
  }
 },
 "nbformat": 4,
 "nbformat_minor": 2
}
