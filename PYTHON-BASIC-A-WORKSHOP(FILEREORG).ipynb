{
 "cells": [
  {
   "cell_type": "markdown",
   "metadata": {
    "slideshow": {
     "slide_type": "slide"
    }
   },
   "source": [
    "**(WORKSHOP)**\n",
    "\n",
    " 1. c:\\windows\\system32 디렉토리 안에 있는 dll파일들을 목록으로 만든 후,\n",
    "\n",
    " 2. 일괄로 소문자로 재처리한 다음에,\n",
    "\n",
    " 2.1. 크기별로 정렬해서 제일 큰 사이즈 10개를 출력\n",
    "\n",
    " 2.2. 파일이름의 앞자리2개를 약어로 분류해서 가장 개수가 많은 약어이름 10개를 출력"
   ]
  },
  {
   "cell_type": "code",
   "execution_count": 4,
   "metadata": {},
   "outputs": [
    {
     "data": {
      "text/plain": [
       "2652"
      ]
     },
     "execution_count": 4,
     "metadata": {},
     "output_type": "execute_result"
    }
   ],
   "source": [
    "import os\n",
    "# os.listdir('c:/windows/system32')\n",
    "\n",
    "import glob\n",
    "# glob.glob('c:/windows/system32/*.dll')\n",
    "\n",
    "import os.path\n",
    "os.path.getsize('.')"
   ]
  }
 ],
 "metadata": {
  "celltoolbar": "Slideshow",
  "kernelspec": {
   "display_name": "Python 3",
   "language": "python",
   "name": "python3"
  },
  "language_info": {
   "codemirror_mode": {
    "name": "ipython",
    "version": 3
   },
   "file_extension": ".py",
   "mimetype": "text/x-python",
   "name": "python",
   "nbconvert_exporter": "python",
   "pygments_lexer": "ipython3",
   "version": "3.6.1"
  }
 },
 "nbformat": 4,
 "nbformat_minor": 2
}
