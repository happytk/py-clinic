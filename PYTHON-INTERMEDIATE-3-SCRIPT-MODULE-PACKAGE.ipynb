{
 "cells": [
  {
   "cell_type": "markdown",
   "metadata": {
    "slideshow": {
     "slide_type": "slide"
    }
   },
   "source": [
    "## SCRIPTS\n",
    "*python을 본격적으로 재사용하기*"
   ]
  },
  {
   "cell_type": "markdown",
   "metadata": {
    "slideshow": {
     "slide_type": "subslide"
    }
   },
   "source": [
    "- python으로 수행시킬 내용을 하나의 파일에 담을 수 있습니다.\n",
    "- 보통 파일단위 수행 목적으로 아래쪽에 다음 내용이 보일거에요."
   ]
  },
  {
   "cell_type": "code",
   "execution_count": 4,
   "metadata": {
    "collapsed": true,
    "slideshow": {
     "slide_type": "subslide"
    }
   },
   "outputs": [],
   "source": [
    "if __name__ == \"__main__\":\n",
    "    # do something\n",
    "    pass"
   ]
  },
  {
   "cell_type": "markdown",
   "metadata": {
    "slideshow": {
     "slide_type": "subslide"
    }
   },
   "source": [
    "- import되었을때와 구분해서 수행할 수 있도록.\n",
    "- `__name__` 값이 python에서 해당 파일을 직접 호출했을때 `__main__`으로 설정되요. (import했을때는 .py를 뺀 이름이 할당되요.)"
   ]
  },
  {
   "cell_type": "code",
   "execution_count": 9,
   "metadata": {
    "slideshow": {
     "slide_type": "subslide"
    }
   },
   "outputs": [
    {
     "data": {
      "text/plain": [
       "'__main__'"
      ]
     },
     "execution_count": 9,
     "metadata": {},
     "output_type": "execute_result"
    }
   ],
   "source": [
    "__name__"
   ]
  },
  {
   "cell_type": "code",
   "execution_count": 10,
   "metadata": {},
   "outputs": [
    {
     "data": {
      "text/plain": [
       "'os'"
      ]
     },
     "execution_count": 10,
     "metadata": {},
     "output_type": "execute_result"
    }
   ],
   "source": [
    "import os\n",
    "os.__name__"
   ]
  },
  {
   "cell_type": "markdown",
   "metadata": {
    "slideshow": {
     "slide_type": "slide"
    }
   },
   "source": [
    "## MODULES"
   ]
  },
  {
   "cell_type": "markdown",
   "metadata": {
    "slideshow": {
     "slide_type": "subslide"
    }
   },
   "source": [
    "- .py로 끝나는 파일은 모듈단위로 사용될 수 있습니다.\n",
    "- 파일이름의 경우 PEP8을 따르자면 소문자를 사용하고 `_`를 단어사이에 쓰지 않아요.\n",
    "- 현재 디렉토리, PYTHONPATH 환경변수, sys.path에 속해있는 경로를 찾아서 import합니다.\n",
    "- 없으면 import error"
   ]
  },
  {
   "cell_type": "markdown",
   "metadata": {
    "slideshow": {
     "slide_type": "subslide"
    }
   },
   "source": [
    "표준라이브러리 위치\n",
    "- `C:\\PythonXX\\Lib\\glob.py` -- standard python \n",
    "- `C:\\ProgramData\\Anaconda3\\lib\\glob.py` --anaconda"
   ]
  },
  {
   "cell_type": "code",
   "execution_count": 11,
   "metadata": {
    "slideshow": {
     "slide_type": "-"
    }
   },
   "outputs": [
    {
     "name": "stdout",
     "output_type": "stream",
     "text": [
      "['cheetsheet', 'data', 'ETC-JUPYTER-TIPS.ipynb', 'img', 'PYTHON-BASIC-0-PYTHON-VERSION-PEP.ipynb', 'PYTHON-BASIC-1-RUNNING-PYTHON.ipynb', 'PYTHON-BASIC-2-VARIABLES-BUILTIN-TYPES.ipynb', 'PYTHON-BASIC-3-LIST-TUPLE-DICT-SET.ipynb', 'PYTHON-BASIC-4-CONDITION-LOOP-EXCEPTION.ipynb', 'PYTHON-BASIC-5-WORKSHOP.ipynb']\n"
     ]
    }
   ],
   "source": [
    "# import the library\n",
    "import glob\n",
    "\n",
    "# use it\n",
    "print(glob.glob('*')[:10])"
   ]
  },
  {
   "cell_type": "code",
   "execution_count": 15,
   "metadata": {
    "slideshow": {
     "slide_type": "subslide"
    }
   },
   "outputs": [
    {
     "data": {
      "text/plain": [
       "['escape',\n",
       " 'fnmatch',\n",
       " 'glob',\n",
       " 'glob0',\n",
       " 'glob1',\n",
       " 'has_magic',\n",
       " 'iglob',\n",
       " 'magic_check',\n",
       " 'magic_check_bytes',\n",
       " 'os',\n",
       " 're']"
      ]
     },
     "execution_count": 15,
     "metadata": {},
     "output_type": "execute_result"
    }
   ],
   "source": [
    "# C:\\ProgramData\\Anaconda3\\lib\\glob.py 파일과 비교하면서 보세요.\n",
    "import glob\n",
    "dir(glob)[17:]"
   ]
  },
  {
   "cell_type": "code",
   "execution_count": 12,
   "metadata": {
    "slideshow": {
     "slide_type": "subslide"
    }
   },
   "outputs": [
    {
     "name": "stdout",
     "output_type": "stream",
     "text": [
      "Help on function glob in module glob:\n",
      "\n",
      "glob(pathname, *, recursive=False)\n",
      "    Return a list of paths matching a pathname pattern.\n",
      "    \n",
      "    The pattern may contain simple shell-style wildcards a la\n",
      "    fnmatch. However, unlike fnmatch, filenames starting with a\n",
      "    dot are special cases that are not matched by '*' and '?'\n",
      "    patterns.\n",
      "    \n",
      "    If recursive is true, the pattern '**' will match any files and\n",
      "    zero or more directories and subdirectories.\n",
      "\n"
     ]
    }
   ],
   "source": [
    "# c:\\python35\\lib\\glob.py 파일과 비교하면서 보세요.\n",
    "import glob\n",
    "help(glob.glob)"
   ]
  },
  {
   "cell_type": "code",
   "execution_count": 14,
   "metadata": {
    "slideshow": {
     "slide_type": "subslide"
    }
   },
   "outputs": [
    {
     "ename": "ModuleNotFoundError",
     "evalue": "No module named 'glob.glob'; 'glob' is not a package",
     "output_type": "error",
     "traceback": [
      "\u001b[0;31m---------------------------------------------------------------------------\u001b[0m",
      "\u001b[0;31mModuleNotFoundError\u001b[0m                       Traceback (most recent call last)",
      "\u001b[0;32m<ipython-input-14-040a6bffb15b>\u001b[0m in \u001b[0;36m<module>\u001b[0;34m()\u001b[0m\n\u001b[0;32m----> 1\u001b[0;31m \u001b[1;32mimport\u001b[0m \u001b[0mglob\u001b[0m\u001b[1;33m.\u001b[0m\u001b[0mglob\u001b[0m\u001b[1;33m\u001b[0m\u001b[0m\n\u001b[0m",
      "\u001b[0;31mModuleNotFoundError\u001b[0m: No module named 'glob.glob'; 'glob' is not a package"
     ]
    }
   ],
   "source": [
    "# import는 module단위까지만 가능합니다.\n",
    "import glob.glob"
   ]
  },
  {
   "cell_type": "code",
   "execution_count": 15,
   "metadata": {
    "collapsed": true,
    "slideshow": {
     "slide_type": "subslide"
    }
   },
   "outputs": [],
   "source": [
    "from glob import glob"
   ]
  },
  {
   "cell_type": "code",
   "execution_count": 1,
   "metadata": {
    "collapsed": true,
    "slideshow": {
     "slide_type": "fragment"
    }
   },
   "outputs": [],
   "source": [
    "from glob import glob as glob_alias"
   ]
  },
  {
   "cell_type": "code",
   "execution_count": 12,
   "metadata": {
    "collapsed": true,
    "slideshow": {
     "slide_type": "subslide"
    }
   },
   "outputs": [],
   "source": [
    "from glob import glob, iglob, escape, fnmatch"
   ]
  },
  {
   "cell_type": "code",
   "execution_count": 13,
   "metadata": {
    "collapsed": true,
    "slideshow": {
     "slide_type": "fragment"
    }
   },
   "outputs": [],
   "source": [
    "# preferred way.\n",
    "from glob import (\n",
    "    glob,\n",
    "    iglob,\n",
    "    escape,\n",
    "    fnmatch\n",
    ")"
   ]
  },
  {
   "cell_type": "code",
   "execution_count": 3,
   "metadata": {
    "collapsed": true,
    "slideshow": {
     "slide_type": "subslide"
    }
   },
   "outputs": [],
   "source": [
    "from glob import *  # 권장하지 않습니다."
   ]
  },
  {
   "cell_type": "code",
   "execution_count": 4,
   "metadata": {
    "slideshow": {
     "slide_type": "fragment"
    }
   },
   "outputs": [
    {
     "name": "stdout",
     "output_type": "stream",
     "text": [
      "<function escape at 0x10ba8d7b8>\n"
     ]
    }
   ],
   "source": [
    "escape = 'hello'\n",
    "from glob import *\n",
    "print(escape)  # hello?"
   ]
  },
  {
   "cell_type": "markdown",
   "metadata": {
    "slideshow": {
     "slide_type": "slide"
    }
   },
   "source": [
    "## PACKAGES"
   ]
  },
  {
   "cell_type": "markdown",
   "metadata": {
    "slideshow": {
     "slide_type": "subslide"
    }
   },
   "source": [
    "- `__init__.py` 파일이 속한 디렉토리는 패키지로 사용될 수 있습니다.\n",
    "- subdirectory도 동일하게 구성가능합니다."
   ]
  },
  {
   "cell_type": "markdown",
   "metadata": {},
   "source": [
    "```\n",
    "mypkg/__init__.py\n",
    "mypkg/hello.py\n",
    "mypkg/world.py\n",
    "mypkg/subpkg/__init__.py\n",
    "mypkg/subpkg/good.py\n",
    "```"
   ]
  },
  {
   "cell_type": "markdown",
   "metadata": {
    "slideshow": {
     "slide_type": "subslide"
    }
   },
   "source": [
    "다음 두가지는 같은 효과를 갖습니다.\n",
    "```\n",
    "mypkg/__init__.py\n",
    "```\n",
    "```\n",
    "mypkg.py\n",
    "```"
   ]
  },
  {
   "cell_type": "markdown",
   "metadata": {
    "slideshow": {
     "slide_type": "subslide"
    }
   },
   "source": [
    "## EXERCISE"
   ]
  },
  {
   "cell_type": "markdown",
   "metadata": {
    "slideshow": {
     "slide_type": "subslide"
    }
   },
   "source": [
    "mypkg라는 패키지를 만들어봅시다.\n",
    "\n",
    "- `mypkg/__init__.py`\n",
    "- `mypkg.py`\n",
    "\n",
    "```\n",
    ">> import mypkg\n",
    "--어느 것이 load될까요?\n",
    "```"
   ]
  },
  {
   "cell_type": "markdown",
   "metadata": {
    "slideshow": {
     "slide_type": "slide"
    }
   },
   "source": [
    "## PYPI\n",
    "*보물섬*"
   ]
  },
  {
   "cell_type": "markdown",
   "metadata": {
    "slideshow": {
     "slide_type": "subslide"
    }
   },
   "source": [
    "http://python.org/pypi/\n",
    "\n",
    "- PYTHON버전별로 OS별로 다른 패키지파일을 사용할수도 있음.\n",
    "- 패키지관리는 pip를 이용합니다. (python3에서는 기본탑재, python2에서는 별도로 설치해주어야 합니다.)\n",
    "- 의존성을 갖는 라이브러리는 함께 설치됩니다."
   ]
  },
  {
   "cell_type": "markdown",
   "metadata": {
    "slideshow": {
     "slide_type": "subslide"
    }
   },
   "source": [
    "pip를 이용해서 설치해요. (인터넷연결필요)\n",
    "```\n",
    "pip install baker\n",
    "pip install sqlalchemy\n",
    "pip install flask\n",
    "pip install flask==0.9\n",
    "```"
   ]
  },
  {
   "cell_type": "markdown",
   "metadata": {
    "slideshow": {
     "slide_type": "subslide"
    }
   },
   "source": [
    "내 프로젝트에서 사용하는 package 전체를 관리할 수 있어요."
   ]
  },
  {
   "cell_type": "code",
   "execution_count": 6,
   "metadata": {},
   "outputs": [
    {
     "name": "stdout",
     "output_type": "stream",
     "text": [
      "appdirs==1.4.3\r\n",
      "appnope==0.1.0\r\n",
      "bleach==2.0.0\r\n",
      "decorator==4.0.11\r\n",
      "entrypoints==0.2.2\r\n"
     ]
    }
   ],
   "source": [
    "!pip freeze | head -n 5"
   ]
  },
  {
   "cell_type": "markdown",
   "metadata": {},
   "source": [
    "pip install -r requirements.txt"
   ]
  },
  {
   "cell_type": "markdown",
   "metadata": {},
   "source": [
    "pip install --no-index --find-links=. <packagefile>"
   ]
  }
 ],
 "metadata": {
  "celltoolbar": "Slideshow",
  "kernelspec": {
   "display_name": "Python 3",
   "language": "python",
   "name": "python3"
  },
  "language_info": {
   "codemirror_mode": {
    "name": "ipython",
    "version": 3
   },
   "file_extension": ".py",
   "mimetype": "text/x-python",
   "name": "python",
   "nbconvert_exporter": "python",
   "pygments_lexer": "ipython3",
   "version": "3.6.1"
  }
 },
 "nbformat": 4,
 "nbformat_minor": 2
}
