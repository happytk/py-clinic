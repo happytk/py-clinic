{
 "cells": [
  {
   "cell_type": "markdown",
   "metadata": {
    "slideshow": {
     "slide_type": "slide"
    }
   },
   "source": [
    "## SCRIPTS\n",
    "*python을 본격적으로 재사용하기*"
   ]
  },
  {
   "cell_type": "markdown",
   "metadata": {},
   "source": [
    "- python으로 수행시킬 내용을 하나의 파일에 담을 수 있습니다.\n",
    "- py 확장자를 가진 파일로 저장해주세요.\n",
    "- 아래의 명령어로 수행할 수 있습니다.\n",
    " - `python <filename>` "
   ]
  },
  {
   "cell_type": "code",
   "execution_count": 1,
   "metadata": {},
   "outputs": [
    {
     "name": "stdout",
     "output_type": "stream",
     "text": [
      "world\n"
     ]
    }
   ],
   "source": [
    "# 다음파일을 hello.py로 저장해보고,\n",
    "# python hello.py로 수행해보세요.\n",
    "def hello(name):\n",
    "    print(name)\n",
    "    \n",
    "hello('world')"
   ]
  },
  {
   "cell_type": "code",
   "execution_count": 2,
   "metadata": {},
   "outputs": [
    {
     "ename": "ModuleNotFoundError",
     "evalue": "No module named 'hello'",
     "output_type": "error",
     "traceback": [
      "\u001b[0;31m---------------------------------------------------------------------------\u001b[0m",
      "\u001b[0;31mModuleNotFoundError\u001b[0m                       Traceback (most recent call last)",
      "\u001b[0;32m<ipython-input-2-4bfa23840346>\u001b[0m in \u001b[0;36m<module>\u001b[0;34m()\u001b[0m\n\u001b[1;32m      1\u001b[0m \u001b[0;31m# world.py를 다음내용으로 저장해보고\u001b[0m\u001b[0;34m\u001b[0m\u001b[0;34m\u001b[0m\u001b[0m\n\u001b[1;32m      2\u001b[0m \u001b[0;31m# hello()를 재활용해보세요.\u001b[0m\u001b[0;34m\u001b[0m\u001b[0;34m\u001b[0m\u001b[0m\n\u001b[0;32m----> 3\u001b[0;31m \u001b[0;32mfrom\u001b[0m \u001b[0mhello\u001b[0m \u001b[0;32mimport\u001b[0m \u001b[0mhello\u001b[0m\u001b[0;34m\u001b[0m\u001b[0m\n\u001b[0m\u001b[1;32m      4\u001b[0m \u001b[0;34m\u001b[0m\u001b[0m\n\u001b[1;32m      5\u001b[0m \u001b[0mhello\u001b[0m\u001b[0;34m(\u001b[0m\u001b[0;34m'world'\u001b[0m\u001b[0;34m)\u001b[0m\u001b[0;34m\u001b[0m\u001b[0m\n",
      "\u001b[0;31mModuleNotFoundError\u001b[0m: No module named 'hello'"
     ]
    }
   ],
   "source": [
    "# world.py를 다음내용으로 저장해보고\n",
    "# hello()를 재활용해보세요.\n",
    "from hello import hello\n",
    "\n",
    "hello('world')\n",
    "\n",
    "# python world.py를 수행하면 무슨 일이 일어나나요?"
   ]
  },
  {
   "cell_type": "code",
   "execution_count": 3,
   "metadata": {
    "collapsed": true,
    "slideshow": {
     "slide_type": "subslide"
    }
   },
   "outputs": [],
   "source": [
    "# 보통 단일 파일을 import가 아닌 실행 목적으로 사용하고자 한다면\n",
    "# 다음 내용을 기재해야 합니다.\n",
    "if __name__ == \"__main__\":\n",
    "    # do something\n",
    "    pass"
   ]
  },
  {
   "cell_type": "markdown",
   "metadata": {
    "slideshow": {
     "slide_type": "subslide"
    }
   },
   "source": [
    "`__name__`이 도대체 뭐길래?\n",
    "\n",
    "- import되었을때와 구분해서 수행할 수 있도록.\n",
    "- `__name__` 값이 python에서 해당 파일을 직접 호출했을때 `__main__`으로 설정되요. (import했을때는 .py를 뺀 이름이 할당되요.)"
   ]
  },
  {
   "cell_type": "code",
   "execution_count": 4,
   "metadata": {
    "slideshow": {
     "slide_type": "subslide"
    }
   },
   "outputs": [
    {
     "data": {
      "text/plain": [
       "'__main__'"
      ]
     },
     "execution_count": 4,
     "metadata": {},
     "output_type": "execute_result"
    }
   ],
   "source": [
    "# __name__을 확인해봅시다.\n",
    "__name__"
   ]
  },
  {
   "cell_type": "code",
   "execution_count": 5,
   "metadata": {},
   "outputs": [
    {
     "data": {
      "text/plain": [
       "'os'"
      ]
     },
     "execution_count": 5,
     "metadata": {},
     "output_type": "execute_result"
    }
   ],
   "source": [
    "# import한 모듈의 __name__은 무얼까?\n",
    "import os\n",
    "os.__name__\n",
    "\n",
    "# 만약 python os.py를 수행했다면 __name__은 당연히 __main__입니다."
   ]
  },
  {
   "cell_type": "markdown",
   "metadata": {
    "slideshow": {
     "slide_type": "slide"
    }
   },
   "source": [
    "## MODULES"
   ]
  },
  {
   "cell_type": "markdown",
   "metadata": {
    "slideshow": {
     "slide_type": "subslide"
    }
   },
   "source": [
    "- 위에서 잠깐 맛본 것과 같이 .py로 끝나는 파일은 import가 가능한 모듈단위로 사용될 수 있습니다.\n",
    "- 파일이름의 경우 PEP8을 따르자면 <span class=\"girk\">소문자를 사용하고 `_`를 단어사이에 쓰지 않아요.</span>\n",
    "- import대상을 찾는 순서를 기억하세요.\n",
    " - 현재 디렉토리, PYTHONPATH 환경변수, sys.path에 속해있는 경로를 찾아서 import합니다.\n",
    " - 없으면 import error\n",
    " - 사용자 모듈은 PYTHONPATH 환경변수를 적절히 지정하면 편리하게 import할 수 있으니 꼭 기억하세요."
   ]
  },
  {
   "cell_type": "markdown",
   "metadata": {
    "slideshow": {
     "slide_type": "subslide"
    }
   },
   "source": [
    "표준라이브러리 위치를 살펴보고 해당 파일을 import해봅시다.\n",
    "- `C:\\PythonXX\\Lib\\glob.py` -- standard python \n",
    "- `C:\\ProgramData\\Anaconda3\\lib\\glob.py` --anaconda"
   ]
  },
  {
   "cell_type": "code",
   "execution_count": 11,
   "metadata": {
    "slideshow": {
     "slide_type": "-"
    }
   },
   "outputs": [
    {
     "name": "stdout",
     "output_type": "stream",
     "text": [
      "['cheetsheet', 'data', 'ETC-JUPYTER-TIPS.ipynb', 'img', 'PYTHON-BASIC-0-PYTHON-VERSION-PEP.ipynb', 'PYTHON-BASIC-1-RUNNING-PYTHON.ipynb', 'PYTHON-BASIC-2-VARIABLES-BUILTIN-TYPES.ipynb', 'PYTHON-BASIC-3-LIST-TUPLE-DICT-SET.ipynb', 'PYTHON-BASIC-4-CONDITION-LOOP-EXCEPTION.ipynb', 'PYTHON-BASIC-5-WORKSHOP.ipynb']\n"
     ]
    }
   ],
   "source": [
    "# import the library\n",
    "import glob\n",
    "\n",
    "# use it\n",
    "print(glob.glob('*')[:10])"
   ]
  },
  {
   "cell_type": "code",
   "execution_count": 15,
   "metadata": {
    "slideshow": {
     "slide_type": "subslide"
    }
   },
   "outputs": [
    {
     "data": {
      "text/plain": [
       "['escape',\n",
       " 'fnmatch',\n",
       " 'glob',\n",
       " 'glob0',\n",
       " 'glob1',\n",
       " 'has_magic',\n",
       " 'iglob',\n",
       " 'magic_check',\n",
       " 'magic_check_bytes',\n",
       " 'os',\n",
       " 're']"
      ]
     },
     "execution_count": 15,
     "metadata": {},
     "output_type": "execute_result"
    }
   ],
   "source": [
    "# C:\\ProgramData\\Anaconda3\\lib\\glob.py 파일과 비교하면서 보세요.\n",
    "import glob\n",
    "dir(glob)[17:]"
   ]
  },
  {
   "cell_type": "code",
   "execution_count": 12,
   "metadata": {
    "slideshow": {
     "slide_type": "subslide"
    }
   },
   "outputs": [
    {
     "name": "stdout",
     "output_type": "stream",
     "text": [
      "Help on function glob in module glob:\n",
      "\n",
      "glob(pathname, *, recursive=False)\n",
      "    Return a list of paths matching a pathname pattern.\n",
      "    \n",
      "    The pattern may contain simple shell-style wildcards a la\n",
      "    fnmatch. However, unlike fnmatch, filenames starting with a\n",
      "    dot are special cases that are not matched by '*' and '?'\n",
      "    patterns.\n",
      "    \n",
      "    If recursive is true, the pattern '**' will match any files and\n",
      "    zero or more directories and subdirectories.\n",
      "\n"
     ]
    }
   ],
   "source": [
    "# c:\\python35\\lib\\glob.py 파일과 비교하면서 보세요.\n",
    "import glob\n",
    "help(glob.glob)"
   ]
  },
  {
   "cell_type": "code",
   "execution_count": 1,
   "metadata": {
    "slideshow": {
     "slide_type": "subslide"
    }
   },
   "outputs": [
    {
     "data": {
      "text/plain": [
       "<function glob.glob>"
      ]
     },
     "execution_count": 1,
     "metadata": {},
     "output_type": "execute_result"
    }
   ],
   "source": [
    "# import는 module단위까지만 가능합니다.\n",
    "# import glob.glob\n",
    "import glob\n",
    "glob.glob"
   ]
  },
  {
   "cell_type": "code",
   "execution_count": 2,
   "metadata": {
    "slideshow": {
     "slide_type": "subslide"
    }
   },
   "outputs": [
    {
     "data": {
      "text/plain": [
       "<function glob.glob>"
      ]
     },
     "execution_count": 2,
     "metadata": {},
     "output_type": "execute_result"
    }
   ],
   "source": [
    "from glob import glob\n",
    "glob"
   ]
  },
  {
   "cell_type": "code",
   "execution_count": 1,
   "metadata": {
    "collapsed": true,
    "slideshow": {
     "slide_type": "fragment"
    }
   },
   "outputs": [],
   "source": [
    "from glob import glob as glob_alias"
   ]
  },
  {
   "cell_type": "code",
   "execution_count": 12,
   "metadata": {
    "collapsed": true,
    "slideshow": {
     "slide_type": "subslide"
    }
   },
   "outputs": [],
   "source": [
    "from glob import glob, iglob, escape, fnmatch"
   ]
  },
  {
   "cell_type": "code",
   "execution_count": 13,
   "metadata": {
    "collapsed": true,
    "slideshow": {
     "slide_type": "fragment"
    }
   },
   "outputs": [],
   "source": [
    "# preferred way.\n",
    "from glob import (\n",
    "    glob,\n",
    "    iglob,\n",
    "    escape,\n",
    "    fnmatch\n",
    ")"
   ]
  },
  {
   "cell_type": "code",
   "execution_count": 3,
   "metadata": {
    "collapsed": true,
    "slideshow": {
     "slide_type": "subslide"
    }
   },
   "outputs": [],
   "source": [
    "from glob import *  # 권장하지 않습니다."
   ]
  },
  {
   "cell_type": "code",
   "execution_count": 4,
   "metadata": {
    "slideshow": {
     "slide_type": "fragment"
    }
   },
   "outputs": [
    {
     "name": "stdout",
     "output_type": "stream",
     "text": [
      "<function escape at 0x10ba8d7b8>\n"
     ]
    }
   ],
   "source": [
    "escape = 'hello'\n",
    "from glob import *\n",
    "print(escape)  # hello?"
   ]
  },
  {
   "cell_type": "markdown",
   "metadata": {
    "slideshow": {
     "slide_type": "slide"
    }
   },
   "source": [
    "## PACKAGES"
   ]
  },
  {
   "cell_type": "markdown",
   "metadata": {
    "slideshow": {
     "slide_type": "subslide"
    }
   },
   "source": [
    "- `__init__.py` 파일이 속한 디렉토리는 패키지로 사용될 수 있습니다.\n",
    "- subdirectory도 동일하게 구성가능합니다."
   ]
  },
  {
   "cell_type": "markdown",
   "metadata": {},
   "source": [
    "```\n",
    "mypkg/__init__.py\n",
    "mypkg/hello.py\n",
    "mypkg/world.py\n",
    "mypkg/subpkg/__init__.py\n",
    "mypkg/subpkg/good.py\n",
    "```"
   ]
  },
  {
   "cell_type": "markdown",
   "metadata": {
    "slideshow": {
     "slide_type": "subslide"
    }
   },
   "source": [
    "다음 두가지는 같은 효과를 갖습니다.\n",
    "```\n",
    "mypkg/__init__.py\n",
    "```\n",
    "```\n",
    "mypkg.py\n",
    "```"
   ]
  },
  {
   "cell_type": "markdown",
   "metadata": {
    "slideshow": {
     "slide_type": "subslide"
    }
   },
   "source": [
    "## EXERCISE"
   ]
  },
  {
   "cell_type": "markdown",
   "metadata": {
    "slideshow": {
     "slide_type": "subslide"
    }
   },
   "source": [
    "mypkg라는 패키지를 만들어봅시다.\n",
    "\n",
    "- `mypkg/__init__.py`\n",
    "- `mypkg.py`\n",
    "\n",
    "```\n",
    ">> import mypkg\n",
    "--어느 것이 load될까요?\n",
    "```\n",
    "\n",
    "`_`로 시작하는 변수를 넣어보세요. import * 하면 보일까요?\n",
    "\n",
    "임의의 디렉토리에 옮긴 후 pythonpath 환경변수를 잡기 전, 후의 import결과를 확인하세요."
   ]
  },
  {
   "cell_type": "markdown",
   "metadata": {
    "slideshow": {
     "slide_type": "slide"
    }
   },
   "source": [
    "## PYPI\n",
    "*Pythonist의 보물섬*"
   ]
  },
  {
   "cell_type": "markdown",
   "metadata": {
    "slideshow": {
     "slide_type": "subslide"
    }
   },
   "source": [
    "http://python.org/pypi/\n",
    "\n",
    "- python이 기본으로 제공하지 않는, 사용자패키지들이 모여있습니다.\n",
    "- playstore, appstore만큼이나 재미있고 신기한 것들이 넘쳐나요!\n",
    "- 배포파일은 pip로 설치하고 삭제할 수 있습니다.\n",
    "- 배포파일은 PYTHON버전별로 OS별로 다른 패키지파일을 사용할수도 있으니 이름을 유심히 살펴보세요.\n",
    "- 의존성을 갖는 라이브러리는 함께 설치됩니다."
   ]
  },
  {
   "cell_type": "markdown",
   "metadata": {
    "slideshow": {
     "slide_type": "subslide"
    }
   },
   "source": [
    "패키지관리는 pip를 이용합니다. (python3에서는 기본탑재, python2에서는 별도로 설치해주어야 합니다.)"
   ]
  },
  {
   "cell_type": "markdown",
   "metadata": {
    "slideshow": {
     "slide_type": "subslide"
    }
   },
   "source": [
    "pip를 이용해서 설치해요. (인터넷연결필요)\n",
    "```\n",
    "pip install baker\n",
    "pip install sqlalchemy\n",
    "pip install flask\n",
    "pip install flask==0.9\n",
    "```"
   ]
  },
  {
   "cell_type": "markdown",
   "metadata": {
    "slideshow": {
     "slide_type": "subslide"
    }
   },
   "source": [
    "내 프로젝트에서 사용하는 package 전체를 관리할 수 있어요."
   ]
  },
  {
   "cell_type": "code",
   "execution_count": 6,
   "metadata": {
    "slideshow": {
     "slide_type": "subslide"
    }
   },
   "outputs": [
    {
     "name": "stdout",
     "output_type": "stream",
     "text": [
      "appdirs==1.4.3\r\n",
      "appnope==0.1.0\r\n",
      "bleach==2.0.0\r\n",
      "decorator==4.0.11\r\n",
      "entrypoints==0.2.2\r\n"
     ]
    }
   ],
   "source": [
    "!pip freeze | head -n 5"
   ]
  },
  {
   "cell_type": "markdown",
   "metadata": {
    "slideshow": {
     "slide_type": "subslide"
    }
   },
   "source": [
    "파일을 이용해서 목록에 있는 모든 패키지를 설치할 수도 있고\n",
    "```\n",
    "pip install -r requirements.txt```\n",
    "\n",
    "인터넷이 되지 않는 환경에서도 설치할 수 있습니다. (물론 설치파일은 옮겨와야죠..)\n",
    "```\n",
    "pip install --no-index --find-links=. <packagefile>\n",
    "```"
   ]
  },
  {
   "cell_type": "markdown",
   "metadata": {
    "slideshow": {
     "slide_type": "slide"
    }
   },
   "source": [
    "## Exercise"
   ]
  },
  {
   "cell_type": "markdown",
   "metadata": {},
   "source": [
    "lorem, faker package를 설치해봅시다.\n",
    "\n",
    "```\n",
    "pip install lorem\n",
    "pip uninstall lorem\n",
    "pip install lorem==0.1.0\n",
    "pip install lorem --upgrade\n",
    "pip install faker\n",
    "```"
   ]
  },
  {
   "cell_type": "code",
   "execution_count": null,
   "metadata": {
    "collapsed": true
   },
   "outputs": [],
   "source": [
    "# import해보세요.\n",
    "import lorem\n",
    "import faker"
   ]
  }
 ],
 "metadata": {
  "celltoolbar": "Slideshow",
  "kernelspec": {
   "display_name": "Python 3",
   "language": "python",
   "name": "python3"
  },
  "language_info": {
   "codemirror_mode": {
    "name": "ipython",
    "version": 3
   },
   "file_extension": ".py",
   "mimetype": "text/x-python",
   "name": "python",
   "nbconvert_exporter": "python",
   "pygments_lexer": "ipython3",
   "version": "3.6.1"
  }
 },
 "nbformat": 4,
 "nbformat_minor": 2
}
