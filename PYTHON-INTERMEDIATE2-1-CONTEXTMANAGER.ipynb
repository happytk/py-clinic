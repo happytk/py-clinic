{
 "cells": [
  {
   "cell_type": "markdown",
   "metadata": {
    "collapsed": true,
    "slideshow": {
     "slide_type": "slide"
    }
   },
   "source": [
    "## The \"with\" statement (PEP 343)"
   ]
  },
  {
   "cell_type": "markdown",
   "metadata": {
    "slideshow": {
     "slide_type": "subslide"
    }
   },
   "source": [
    "파이썬 공식 Reference 에서 발췌\n",
    "> Python’s with statement supports the concept of a <span class=\"mark\">runtime context</span> defined by a context manager. This is implemented using a pair of methods that allow user-defined classes to define a runtime context that is entered before the statement body is executed and exited when the statement ends:"
   ]
  },
  {
   "cell_type": "markdown",
   "metadata": {
    "slideshow": {
     "slide_type": "subslide"
    }
   },
   "source": [
    "일단 with문은 <span class=\"burk\">try-finally 패턴을 단순화</span>할 수 있습니다. <i class=\"fa fa-lightbulb-o \"></i>.\n",
    "- finally는 보통 중요한 리소스를 해제하거나, 상태 복원을 위해서 사용합니다."
   ]
  },
  {
   "cell_type": "code",
   "execution_count": 48,
   "metadata": {
    "slideshow": {
     "slide_type": "subslide"
    }
   },
   "outputs": [
    {
     "name": "stdout",
     "output_type": "stream",
     "text": [
      "253\n"
     ]
    }
   ],
   "source": [
    "# 가장 간단한 예\n",
    "try:\n",
    "    fp = open('data/myfile.txt', 'rb')\n",
    "    print(len(fp.read()))\n",
    "except IOError:\n",
    "    pass\n",
    "finally:\n",
    "    fp.close()"
   ]
  },
  {
   "cell_type": "code",
   "execution_count": 49,
   "metadata": {
    "slideshow": {
     "slide_type": "subslide"
    }
   },
   "outputs": [
    {
     "name": "stdout",
     "output_type": "stream",
     "text": [
      "253\n"
     ]
    }
   ],
   "source": [
    "# 다음과 같이 바꿀 수 있습니다.\n",
    "with open('data/myfile.txt', 'rb') as fp:\n",
    "    print(len(fp.read()))"
   ]
  },
  {
   "cell_type": "code",
   "execution_count": 53,
   "metadata": {
    "slideshow": {
     "slide_type": "subslide"
    }
   },
   "outputs": [
    {
     "name": "stdout",
     "output_type": "stream",
     "text": [
      "253 253\n"
     ]
    }
   ],
   "source": [
    "# 여러개를 한번에 처리할 수 있어요.\n",
    "with open('data/myfile.txt', 'rb') as fp1, \\\n",
    "     open('data/myfile copy.txt', 'rb') as fp2:\n",
    "    data1, data2 = fp1.read(), fp2.read()\n",
    "    print(len(data1), len(data2))"
   ]
  },
  {
   "cell_type": "code",
   "execution_count": 52,
   "metadata": {
    "slideshow": {
     "slide_type": "subslide"
    }
   },
   "outputs": [
    {
     "name": "stdout",
     "output_type": "stream",
     "text": [
      "253 253\n"
     ]
    }
   ],
   "source": [
    "# 변수범위에 조심하세요.\n",
    "with open('data/myfile.txt', 'rb') as fp1, \\\n",
    "     open('data/myfile copy.txt', 'rb') as fp2:\n",
    "    data1, data2 = fp1.read(), fp2.read()\n",
    "\n",
    "print(len(data1), len(data2))"
   ]
  },
  {
   "cell_type": "markdown",
   "metadata": {
    "slideshow": {
     "slide_type": "subslide"
    }
   },
   "source": [
    "Python의 **`__enter__`, `__exit__` 프로토콜**로 직접 구현할 수 있어요.\n",
    "- 시작은 `__enter__`\n",
    "- 끝은 `__exit__`"
   ]
  },
  {
   "cell_type": "code",
   "execution_count": 31,
   "metadata": {
    "slideshow": {
     "slide_type": "subslide"
    }
   },
   "outputs": [
    {
     "name": "stdout",
     "output_type": "stream",
     "text": [
      "253\n"
     ]
    }
   ],
   "source": [
    "class MyFileOpener:\n",
    "    def __enter__(self):\n",
    "        self.fp = open('data/myfile.txt', 'rb')\n",
    "        return self.fp\n",
    "    def __exit__(self, exc_type, exc_value, traceback):\n",
    "        self.fp.close()\n",
    "\n",
    "with MyFileOpener() as f:\n",
    "    print(len(f.read()))    "
   ]
  },
  {
   "cell_type": "code",
   "execution_count": 42,
   "metadata": {
    "slideshow": {
     "slide_type": "subslide"
    }
   },
   "outputs": [
    {
     "name": "stdout",
     "output_type": "stream",
     "text": [
      "__exit__ start <class 'OSError'> [Errno 22] Invalid argument <traceback object at 0x10d68a848>\n",
      "__exit__ end\n"
     ]
    },
    {
     "ename": "OSError",
     "evalue": "[Errno 22] Invalid argument",
     "output_type": "error",
     "traceback": [
      "\u001b[0;31m---------------------------------------------------------------------------\u001b[0m",
      "\u001b[0;31mOSError\u001b[0m                                   Traceback (most recent call last)",
      "\u001b[0;32m<ipython-input-42-058c8679285b>\u001b[0m in \u001b[0;36m<module>\u001b[0;34m()\u001b[0m\n\u001b[1;32m     10\u001b[0m \u001b[0;31m# 예외는 바깥으로 나가요.\u001b[0m\u001b[0;34m\u001b[0m\u001b[0;34m\u001b[0m\u001b[0m\n\u001b[1;32m     11\u001b[0m \u001b[0;32mwith\u001b[0m \u001b[0mMyFileOpener\u001b[0m\u001b[0;34m(\u001b[0m\u001b[0;34m)\u001b[0m \u001b[0;32mas\u001b[0m \u001b[0mf\u001b[0m\u001b[0;34m:\u001b[0m\u001b[0;34m\u001b[0m\u001b[0m\n\u001b[0;32m---> 12\u001b[0;31m     \u001b[0mf\u001b[0m\u001b[0;34m.\u001b[0m\u001b[0mseek\u001b[0m\u001b[0;34m(\u001b[0m\u001b[0;34m-\u001b[0m\u001b[0;36m1\u001b[0m\u001b[0;34m)\u001b[0m\u001b[0;34m\u001b[0m\u001b[0m\n\u001b[0m\u001b[1;32m     13\u001b[0m     \u001b[0mprint\u001b[0m\u001b[0;34m(\u001b[0m\u001b[0mlen\u001b[0m\u001b[0;34m(\u001b[0m\u001b[0mf\u001b[0m\u001b[0;34m.\u001b[0m\u001b[0mread\u001b[0m\u001b[0;34m(\u001b[0m\u001b[0;34m)\u001b[0m\u001b[0;34m)\u001b[0m\u001b[0;34m)\u001b[0m\u001b[0;34m\u001b[0m\u001b[0m\n",
      "\u001b[0;31mOSError\u001b[0m: [Errno 22] Invalid argument"
     ]
    }
   ],
   "source": [
    "class MyFileOpener:\n",
    "    def __enter__(self):\n",
    "        self.fp = open('data/myfile.txt', 'rb')\n",
    "        return self.fp\n",
    "    def __exit__(self, exc_type, exc_value, traceback):\n",
    "        print('__exit__ start', exc_type, exc_value, traceback)\n",
    "        self.fp.close()\n",
    "        print('__exit__ end')\n",
    "\n",
    "# 예외는 바깥으로 나가요.\n",
    "with MyFileOpener() as f:\n",
    "    f.seek(-1)\n",
    "    print(len(f.read()))"
   ]
  },
  {
   "cell_type": "markdown",
   "metadata": {
    "slideshow": {
     "slide_type": "slide"
    }
   },
   "source": [
    "## 다시 context관점으로 돌아가보겠습니다."
   ]
  },
  {
   "cell_type": "code",
   "execution_count": 3,
   "metadata": {
    "collapsed": true,
    "slideshow": {
     "slide_type": "subslide"
    }
   },
   "outputs": [],
   "source": [
    "class HoldingStdout:\n",
    "\n",
    "    def __enter__(self):\n",
    "        import sys\n",
    "        import io\n",
    "        self._write = sys.stdout.write\n",
    "        self.string_io = io.StringIO()\n",
    "        sys.stdout.write = self.string_io.write\n",
    "        return 'dummy'\n",
    "\n",
    "    def __exit__(self, exc_type, exc_value, traceback):\n",
    "        import sys\n",
    "        sys.stdout.write = self._write\n",
    "        print(self.string_io.getvalue(), end='')"
   ]
  },
  {
   "cell_type": "code",
   "execution_count": 5,
   "metadata": {
    "slideshow": {
     "slide_type": "subslide"
    }
   },
   "outputs": [
    {
     "name": "stdout",
     "output_type": "stream",
     "text": [
      "HelloWorld\n",
      "End\n"
     ]
    }
   ],
   "source": [
    "import time\n",
    "with HoldingStdout() as _:\n",
    "    print('HelloWorld')\n",
    "    time.sleep(1)\n",
    "print('End')"
   ]
  },
  {
   "cell_type": "markdown",
   "metadata": {
    "slideshow": {
     "slide_type": "subslide"
    }
   },
   "source": [
    "with문 안에서만 다른 문맥을 갖고 동작하도록 만들 수 있습니다.\n",
    "- 많은 라이브러리들이 with문을 사용할 수 있도록 구현되어 있습니다.\n",
    "- cx_Oracle, sqlite3, threading"
   ]
  },
  {
   "cell_type": "markdown",
   "metadata": {
    "slideshow": {
     "slide_type": "subslide"
    }
   },
   "source": [
    "```\n",
    ">>> import cx_Oracle\n",
    ">>> with cx_Oracle.connect('system/0009') as conn:\n",
    "...     print(conn)\n",
    "```"
   ]
  },
  {
   "cell_type": "code",
   "execution_count": 16,
   "metadata": {
    "slideshow": {
     "slide_type": "subslide"
    }
   },
   "outputs": [
    {
     "name": "stdout",
     "output_type": "stream",
     "text": [
      "Critical section\n",
      "Critical section\n"
     ]
    }
   ],
   "source": [
    "import threading\n",
    "lock = threading.Lock()\n",
    "\n",
    "# old-way\n",
    "lock.acquire()\n",
    "try:\n",
    "    print('Critical section')\n",
    "finally:\n",
    "    lock.release()\n",
    "\n",
    "# new-way\n",
    "with lock:\n",
    "    print('Critical section')"
   ]
  },
  {
   "cell_type": "markdown",
   "metadata": {
    "slideshow": {
     "slide_type": "slide"
    }
   },
   "source": [
    "## (좀 더 직관적인) 다른 구현 방법이 있습니다."
   ]
  },
  {
   "cell_type": "code",
   "execution_count": 7,
   "metadata": {
    "collapsed": true,
    "slideshow": {
     "slide_type": "subslide"
    }
   },
   "outputs": [],
   "source": [
    "# 아까 봤던 가장 간단한 예\n",
    "def myfile_reader():\n",
    "    try:\n",
    "        fp = open('data/myfile.txt', 'rb')\n",
    "        # do something\n",
    "    except IOError:\n",
    "        pass\n",
    "    finally:\n",
    "        fp.close()"
   ]
  },
  {
   "cell_type": "markdown",
   "metadata": {
    "slideshow": {
     "slide_type": "subslide"
    }
   },
   "source": [
    "`fp` <span class=\"mark\"><여기를 끊어주면></span> `open('data/myfile.txt', 'rb')`"
   ]
  },
  {
   "cell_type": "code",
   "execution_count": 10,
   "metadata": {
    "collapsed": true,
    "slideshow": {
     "slide_type": "subslide"
    }
   },
   "outputs": [],
   "source": [
    "# 아까 봤던 가장 간단한 예\n",
    "def myfile_reader():\n",
    "    try:\n",
    "        fp = open('data/myfile.txt', 'rb')\n",
    "        yield fp\n",
    "    except IOError:\n",
    "        pass\n",
    "    finally:\n",
    "        fp.close()"
   ]
  },
  {
   "cell_type": "code",
   "execution_count": 11,
   "metadata": {
    "collapsed": true,
    "slideshow": {
     "slide_type": "subslide"
    }
   },
   "outputs": [],
   "source": [
    "import contextlib \n",
    "# 아까 봤던 가장 간단한 예\n",
    "@contextlib.contextmanager\n",
    "def myfile_reader():\n",
    "    try:\n",
    "        fp = open('data/myfile.txt', 'rb')\n",
    "        yield fp\n",
    "    except IOError:\n",
    "        pass\n",
    "    finally:\n",
    "        fp.close()"
   ]
  },
  {
   "cell_type": "code",
   "execution_count": 17,
   "metadata": {
    "slideshow": {
     "slide_type": "subslide"
    }
   },
   "outputs": [
    {
     "name": "stdout",
     "output_type": "stream",
     "text": [
      "253\n"
     ]
    }
   ],
   "source": [
    "with myfile_reader() as f:\n",
    "    print(len(f.read()))"
   ]
  },
  {
   "cell_type": "code",
   "execution_count": 19,
   "metadata": {
    "slideshow": {
     "slide_type": "subslide"
    }
   },
   "outputs": [],
   "source": [
    "# 자료 준비하면서 발견한 재밌는 예\n",
    "# https://speakerdeck.com/pyconslides/transforming-code-into-beautiful-idiomatic-python-by-raymond-hettinger-1?slide=34\n",
    "import os, contextlib\n",
    "@contextlib.contextmanager\n",
    "def ignored(*exceptions):\n",
    "    try:\n",
    "        yield\n",
    "    except exceptions:\n",
    "        pass\n",
    "\n",
    "with ignored(OSError):\n",
    "    os.remove('somefile.tmp')"
   ]
  },
  {
   "cell_type": "markdown",
   "metadata": {
    "slideshow": {
     "slide_type": "subslide"
    }
   },
   "source": [
    "우리가 코드를 refactoring할때\n",
    "- A<span class=\"burk\">B</span>C, D<span class=\"burk\">B</span>F\n",
    " -> **B를 분리**"
   ]
  },
  {
   "cell_type": "markdown",
   "metadata": {
    "collapsed": true,
    "slideshow": {
     "slide_type": "fragment"
    }
   },
   "source": [
    "- <span class=\"burk\">A</span>B<span class=\"burk\">C</span>, <span class=\"burk\">A</span>D<span class=\"burk\">C</span>\n",
    " -> **A와 C를 분리**\n",
    "\n",
    "두번째 케이스에서 쉽게 사용할 수 있습니다."
   ]
  },
  {
   "cell_type": "markdown",
   "metadata": {
    "slideshow": {
     "slide_type": "subslide"
    }
   },
   "source": [
    "yield는 보통 반복문에서 사용하는 것으로 지금까지 설명했지만,\n",
    "위와 같이 **흐름제어를 위해서도** 사용합니다. 이 과정에서는 다루지 않지만 coroutine과 같은 개념에서 다시 만나게 됩니다.\n",
    "\n",
    "- with문 자체는 최초에는 리소스관리를 위해 등장했지만 (열고닫기)\n",
    "- 공통적으로 사용되는 준비/마무리 과정을 구현하기 위해서도 사용됩니다."
   ]
  }
 ],
 "metadata": {
  "celltoolbar": "Slideshow",
  "kernelspec": {
   "display_name": "Python 3",
   "language": "python",
   "name": "python3"
  },
  "language_info": {
   "codemirror_mode": {
    "name": "ipython",
    "version": 3
   },
   "file_extension": ".py",
   "mimetype": "text/x-python",
   "name": "python",
   "nbconvert_exporter": "python",
   "pygments_lexer": "ipython3",
   "version": "3.6.1"
  }
 },
 "nbformat": 4,
 "nbformat_minor": 2
}
