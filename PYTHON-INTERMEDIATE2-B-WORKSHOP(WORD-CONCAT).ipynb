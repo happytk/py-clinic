{
 "cells": [
  {
   "cell_type": "markdown",
   "metadata": {},
   "source": [
    "## WORKSHOP"
   ]
  },
  {
   "cell_type": "raw",
   "metadata": {},
   "source": [
    "문자열 조합 경우의 수를 모두 출력하는 함수를 만들어봅시다.\n",
    "\n",
    "한글 이름 테스트 -> ['한글이름테스트', '한글이름 테스트', '한글 이름테스트', '한글 이름 테스트']\n",
    "한글 테스트 -> ['한글테스트', '한글 테스트']\n",
    "한글테스트 -> ['한글테스트']"
   ]
  },
  {
   "cell_type": "code",
   "execution_count": 4,
   "metadata": {},
   "outputs": [
    {
     "data": {
      "text/plain": [
       "[1, 2, 3, 4, 4, 5]"
      ]
     },
     "execution_count": 4,
     "metadata": {},
     "output_type": "execute_result"
    }
   ],
   "source": [
    "from itertools import chain\n",
    "list(chain([1,2], [3,4], [4,5]))"
   ]
  },
  {
   "cell_type": "code",
   "execution_count": 5,
   "metadata": {},
   "outputs": [
    {
     "data": {
      "text/plain": [
       "['한글이름테스트', '한글이름 테스트', '한글 이름테스트', '한글 이름 테스트']"
      ]
     },
     "execution_count": 5,
     "metadata": {},
     "output_type": "execute_result"
    }
   ],
   "source": [
    "import operator\n",
    "from itertools import product, zip_longest, chain\n",
    "\n",
    "def _build_composition_str(text):\n",
    "    units = text.split()\n",
    "\n",
    "    return [''.join(chain(*zip_longest(units, concat_str, fillvalue='')))\n",
    "            for concat_str in product(['', ' '], repeat=len(units) - 1)]\n",
    "\n",
    "_build_composition_str('한글 이름 테스트')"
   ]
  }
 ],
 "metadata": {
  "kernelspec": {
   "display_name": "Python 3",
   "language": "python",
   "name": "python3"
  },
  "language_info": {
   "codemirror_mode": {
    "name": "ipython",
    "version": 3
   },
   "file_extension": ".py",
   "mimetype": "text/x-python",
   "name": "python",
   "nbconvert_exporter": "python",
   "pygments_lexer": "ipython3",
   "version": "3.6.1"
  }
 },
 "nbformat": 4,
 "nbformat_minor": 2
}
