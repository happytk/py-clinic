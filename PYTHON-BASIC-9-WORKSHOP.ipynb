{
 "cells": [
  {
   "cell_type": "markdown",
   "metadata": {},
   "source": [
    "**WORKSHOP**\n",
    "\n",
    "1-100사이의 random숫자를 기억하고 사용자와 스무고개 게임을 만들어봅시다.\n",
    "\n",
    "72 <- random하게 생성된 숫자\n",
    "\n",
    "(1) 사용자가 30 입력 -> 제가 가진 숫자보다 작습니다.\n",
    "(2) 사용자가 70 입력 -> 제가 가진 숫자보다 작습니다.\n",
    "(3) 사용자가 80 입력 -> 제가 가진 숫자보다 큽니다.\n",
    "(4) 사용자가 75 입력 -> 제가 가진 숫자보다 큽니다.\n",
    "(5) 사용자가 72 입력 -> 제가 가진 숫자와 같습니다. (종료)\n",
    "..\n",
    "..\n",
    "(20)번 입력이 넘어도 종료."
   ]
  }
 ],
 "metadata": {
  "kernelspec": {
   "display_name": "Python 3",
   "language": "python",
   "name": "python3"
  },
  "language_info": {
   "codemirror_mode": {
    "name": "ipython",
    "version": 3
   },
   "file_extension": ".py",
   "mimetype": "text/x-python",
   "name": "python",
   "nbconvert_exporter": "python",
   "pygments_lexer": "ipython3",
   "version": "3.6.1"
  }
 },
 "nbformat": 4,
 "nbformat_minor": 2
}
