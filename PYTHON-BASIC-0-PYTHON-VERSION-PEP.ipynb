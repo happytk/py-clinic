{
 "cells": [
  {
   "cell_type": "markdown",
   "metadata": {
    "slideshow": {
     "slide_type": "slide"
    }
   },
   "source": [
    "# Python Programming \n",
    "기본과정 2017/5/24\n",
    "\n",
    "강태욱"
   ]
  },
  {
   "cell_type": "markdown",
   "metadata": {
    "slideshow": {
     "slide_type": "subslide"
    }
   },
   "source": [
    "- 동영상 선행 학습을 권장합니다. <span class=\"mark\">클리닉과정</span>으로 실습 위주로 진행합니다.\n",
    "- 1일의 시간동안 변수, 자료형, 조건문, 반복문, 등 PYTHON의 기본문법과 자료형을 다룹니다.\n",
    "- 설명과 함께 보여지는 예제는 틈틈히 자신의 컴퓨터에서 따라하시는 것을 권장합니다. 질문은 언제나 환영합니다.\n",
    "- 대부분 챕터마다 작은 연습문제가 있습니다."
   ]
  },
  {
   "cell_type": "markdown",
   "metadata": {
    "slideshow": {
     "slide_type": "subslide"
    }
   },
   "source": [
    "한줄소개:\n",
    "    <u>Python은 **귀도반로섬**이 만든 프로그래밍언어입니다.</u>\n",
    "    \n",
    "http://www.imaso.co.kr/?p=7592"
   ]
  },
  {
   "cell_type": "markdown",
   "metadata": {
    "slideshow": {
     "slide_type": "subslide"
    }
   },
   "source": [
    "> Over six years ago, in December 1989, I was looking for a \"hobby\" programming project that would keep me occupied during the week around Christmas. My office ... would be closed, but I had a home computer, and not much else on my hands. I decided to write an interpreter for the new scripting language I had been thinking about lately: a descendant of ABC that would appeal to Unix/C hackers. I chose Python as a working title for the project, being in a slightly irreverent mood (and a big fan of Monty Python's Flying Circus)."
   ]
  },
  {
   "cell_type": "markdown",
   "metadata": {
    "slideshow": {
     "slide_type": "subslide"
    }
   },
   "source": [
    "Benevolent Dictator For Life; BDFL; **자비로운 종신 독재자**로서 지금도 Python개발에 적극적으로 참여하고 있습니다."
   ]
  },
  {
   "cell_type": "markdown",
   "metadata": {
    "slideshow": {
     "slide_type": "subslide"
    }
   },
   "source": [
    "파이썬은 현재 두가지 버전이 배포되고 있습니다. (2017.07기준)\n",
    "- 2.7.13\n",
    "- 3.6.2\n",
    "\n",
    "왜?\n",
    "- 2x에서 3x로의 변화는 기존 문법이 호환되지 않았습니다."
   ]
  },
  {
   "cell_type": "markdown",
   "metadata": {
    "slideshow": {
     "slide_type": "slide"
    }
   },
   "source": [
    "![Title](img/Python_2_vs_3.jpg)\n",
    "\n",
    "어떤 파이썬 버전을 써야 할까?"
   ]
  },
  {
   "cell_type": "markdown",
   "metadata": {
    "slideshow": {
     "slide_type": "subslide"
    }
   },
   "source": [
    "- python2.7은 오랜시간 표준이었습니다. (3.x와 더불어.)\n",
    "- python2.7은 __2020년까지만__ 필수 보안이슈들을 다루는 update를 계속 진행합니다.\n",
    "- python3은 __지금도__ 계속 발전하고 있습니다."
   ]
  },
  {
   "cell_type": "markdown",
   "metadata": {
    "slideshow": {
     "slide_type": "fragment"
    }
   },
   "source": [
    "<span class=\"mark\">**처음 배운다면, 무조건 python3을 권장합니다.**</span>"
   ]
  },
  {
   "cell_type": "markdown",
   "metadata": {
    "slideshow": {
     "slide_type": "subslide"
    }
   },
   "source": [
    "python3으로 넘어가야 하는 이유중의 하나.\n",
    "\n",
    "> Python enables parallelism through both the threading and the multiprocessing libraries. Yet it wasn’t until the 3.4 branch that it gave us the asyncio library to help with single-threaded concurrency. This addition was key in providing a more convincing final push to start swapping over from version 2.\n",
    "\n",
    "https://hackernoon.com/threaded-asynchronous-magic-and-how-to-wield-it-bba9ed602c32#.2vio66gah"
   ]
  },
  {
   "cell_type": "markdown",
   "metadata": {
    "slideshow": {
     "slide_type": "subslide"
    }
   },
   "source": [
    "![ipython-stop-to-support-py2](img/ipython-stop-supporting-py2.jpg)"
   ]
  },
  {
   "cell_type": "markdown",
   "metadata": {
    "slideshow": {
     "slide_type": "subslide"
    }
   },
   "source": [
    "### CELERY 4.0 Comes out!, Last major version to support Python 2\n",
    "\n",
    "> **Starting from Celery 5.0 only Python 3.5+ will be supported.**\n",
    "\n",
    "> To make sure you’re not affected by this change you should pin the Celery version in your requirements file, either to a specific version: celery==4.0.0, or a range: celery>=4.0,<5.0.\n",
    "\n",
    "> Dropping support for Python 2 will enable us to remove massive amounts of compatibility code, and going with Python 3.5 allows us to take advantage of typing, async/await, asyncio, and similar concepts there’s no alternative for in older versions.\n",
    "\n",
    "> Celery 4.x will continue to work on Python 2.7, 3.4, 3.5; just as Celery 3.x still works on Python 2.6."
   ]
  },
  {
   "cell_type": "markdown",
   "metadata": {
    "slideshow": {
     "slide_type": "subslide"
    }
   },
   "source": [
    "https://pythonclock.org/"
   ]
  },
  {
   "cell_type": "markdown",
   "metadata": {
    "slideshow": {
     "slide_type": "subslide"
    }
   },
   "source": [
    "python2 개발자를 위한 python3로의 가이드와 호환성 유지를 위한 라이브러리들이 다수 존재합니다."
   ]
  },
  {
   "cell_type": "code",
   "execution_count": 1,
   "metadata": {
    "collapsed": true,
    "slideshow": {
     "slide_type": "subslide"
    }
   },
   "outputs": [],
   "source": [
    "# python2에서 python3 호환성 있는 코드를 작성하기 위한 도구들\n",
    "# (문법들에 대한 polyfill 제공)\n",
    "import six"
   ]
  },
  {
   "cell_type": "markdown",
   "metadata": {
    "slideshow": {
     "slide_type": "subslide"
    }
   },
   "source": [
    "http://www.diveintopython3.net/porting-code-to-python-3-with-2to3.html"
   ]
  },
  {
   "cell_type": "markdown",
   "metadata": {
    "slideshow": {
     "slide_type": "slide"
    }
   },
   "source": [
    "## Python Enhancement Proposals (PEP)"
   ]
  },
  {
   "cell_type": "markdown",
   "metadata": {
    "slideshow": {
     "slide_type": "subslide"
    }
   },
   "source": [
    "PEP란 **파이썬을 개선하기 위한 제안서**를 뜻하는 것으로 3가지로 구분됩니다.\n",
    "\n",
    "- *Standard Track : 파이썬의 새로운 기능이나 구현을 제안*\n",
    "- *Informational : 파이썬의 디자인 이슈나 일반적인 지침을 제안*\n",
    "- *Process : 파이썬 커뮤니티에 정보를 제안*\n",
    "\n",
    "<span class=\"mark\">과정 틈틈히 숫자와 같이 표기해 두었습니다. (PEP8 ..)</span>"
   ]
  },
  {
   "cell_type": "code",
   "execution_count": 1,
   "metadata": {
    "slideshow": {
     "slide_type": "subslide"
    }
   },
   "outputs": [
    {
     "data": {
      "text/plain": [
       "True"
      ]
     },
     "execution_count": 1,
     "metadata": {},
     "output_type": "execute_result"
    }
   ],
   "source": [
    "url = 'https://www.python.org/dev/peps/'\n",
    "\n",
    "import webbrowser\n",
    "webbrowser.open(url)"
   ]
  },
  {
   "cell_type": "markdown",
   "metadata": {
    "slideshow": {
     "slide_type": "slide"
    }
   },
   "source": [
    "## Python Implementations"
   ]
  },
  {
   "cell_type": "markdown",
   "metadata": {
    "slideshow": {
     "slide_type": "subslide"
    }
   },
   "source": [
    "파이썬 인터프리터는 다양한 언어와 framework기반에서 구현되어 있습니다.\n",
    "\n",
    "- <span style='color:red'>CPython</span> (표준구현입니다.)\n",
    "- Stackless Python\n",
    "- PyPy\n",
    "- Jython\n",
    "- IronPython\n",
    "- PythonNET\n",
    "- Skulpt\n",
    "- MicroPython"
   ]
  },
  {
   "cell_type": "markdown",
   "metadata": {
    "slideshow": {
     "slide_type": "slide"
    }
   },
   "source": [
    "## Python 인터프리터 구하기"
   ]
  },
  {
   "cell_type": "markdown",
   "metadata": {
    "slideshow": {
     "slide_type": "subslide"
    }
   },
   "source": [
    "- http://python.org\n",
    "- Commercial Python Redistributions\n",
    "  - **Anaconda https://www.continuum.io/downloads**\n",
    "  - ActiveState's ActivePython\n",
    "  - Enthought's Canopy"
   ]
  },
  {
   "cell_type": "markdown",
   "metadata": {
    "slideshow": {
     "slide_type": "subslide"
    }
   },
   "source": [
    "![](anaconda.png)\n",
    "\n",
    "python 기본 패키지 외 데이터분석에 유용한 외부 패키지들을 다수 같이 packing해두었습니다."
   ]
  },
  {
   "cell_type": "markdown",
   "metadata": {
    "slideshow": {
     "slide_type": "subslide"
    }
   },
   "source": [
    "jupyter가 포함되어 있습니다.\n",
    "- jupyter는 ipython을 웹에서 사용할 수 있도록 개선한 인터프리터 환경이며, python외 다양한 kernel을 함께 사용할 수 있습니다.\n",
    "- http://python.org/ 에서 python 기본을 설치 후 별도로 jupyter를 설치할 수도 있습니다. (깔끔하게)"
   ]
  },
  {
   "cell_type": "markdown",
   "metadata": {
    "slideshow": {
     "slide_type": "subslide"
    }
   },
   "source": [
    "이제 설치해봅시다.\n",
    "\n",
    "- Anaconda 다운로드는 https://www.continuum.io/downloads\n",
    "- jupyter 간단한 사용가이드는 외부 페이지의 도움을 받겠습니다. https://steemit.com/kr/@sanghkaang/2-jupyter "
   ]
  }
 ],
 "metadata": {
  "celltoolbar": "Slideshow",
  "kernelspec": {
   "display_name": "Python 3",
   "language": "python",
   "name": "python3"
  },
  "language_info": {
   "codemirror_mode": {
    "name": "ipython",
    "version": 3
   },
   "file_extension": ".py",
   "mimetype": "text/x-python",
   "name": "python",
   "nbconvert_exporter": "python",
   "pygments_lexer": "ipython3",
   "version": "3.6.1"
  }
 },
 "nbformat": 4,
 "nbformat_minor": 2
}
