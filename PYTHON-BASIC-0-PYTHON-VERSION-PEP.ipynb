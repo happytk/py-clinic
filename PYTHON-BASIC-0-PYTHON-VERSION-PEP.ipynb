{
 "cells": [
  {
   "cell_type": "markdown",
   "metadata": {
    "slideshow": {
     "slide_type": "slide"
    }
   },
   "source": [
    "# Python Programming \n",
    "기본 클리닉 과정 2018/7/11"
   ]
  },
  {
   "cell_type": "markdown",
   "metadata": {
    "slideshow": {
     "slide_type": "subslide"
    }
   },
   "source": [
    "- 동영상 선행 학습을 권장하는 <span class=\"mark\">클리닉과정</span>입니다.\n",
    "- 1일의 시간동안 변수, 자료형, 조건문, 반복문, 등 PYTHON의 기본문법과 자료형을 다룹니다.\n",
    "- 실습위주로 진행하고자 합니다. 설명과 함께 보여지는 예제는 틈틈히 자신의 컴퓨터에서 따라하시는 것을 권장합니다.\n",
    "- 대부분 챕터마다 작은 연습문제가 있습니다.\n",
    "- 질문은 언제나 환영합니다."
   ]
  },
  {
   "cell_type": "markdown",
   "metadata": {
    "slideshow": {
     "slide_type": "subslide"
    }
   },
   "source": [
    "Python은 **귀도반로섬**이 만든 프로그래밍언어입니다.\n",
    "\n",
    "> Over six years ago, in December 1989, <u>I was looking for a \"hobby\" programming project that would keep me occupied during the week around Christmas</u>. My office ... would be closed, but I had <u>a home computer</u>, and not much else on my hands. I decided to write an interpreter for the new scripting language I had been thinking about lately: <u>a descendant of ABC that would appeal to Unix/C hackers</u>. I chose Python as a working title for the project, <u>being in a slightly irreverent mood (and a big fan of Monty Python's Flying Circus)</u>."
   ]
  },
  {
   "cell_type": "markdown",
   "metadata": {
    "slideshow": {
     "slide_type": "subslide"
    }
   },
   "source": [
    "Benevolent Dictator For Life; BDFL; 귀도반로섬이 **자비로운 종신 독재자**로서 지금도 Python개발에 적극적으로 참여하고 있습니다."
   ]
  },
  {
   "cell_type": "markdown",
   "metadata": {
    "slideshow": {
     "slide_type": "slide"
    }
   },
   "source": [
    "## Python Enhancement Proposals (PEP)\n",
    "python을 만들어가는 근간들"
   ]
  },
  {
   "cell_type": "markdown",
   "metadata": {
    "slideshow": {
     "slide_type": "subslide"
    }
   },
   "source": [
    "**파이썬을 개선하기 위한 제안서**이며 크게 세가지로 구분됩니다.\n",
    "\n",
    "- *Standard Track : 파이썬의 새로운 기능이나 구현을 제안*\n",
    "- *Informational : 파이썬의 디자인 이슈나 일반적인 지침을 제안*\n",
    "- *Process : 파이썬 커뮤니티에 정보를 제안하는 절차 등을 규정*\n",
    "\n",
    "BDFL, Editor들이 참여하여 제안하고 개선하고 Python에 구현/반영합니다. <span class=\"mark\">진행하는 자료 틈틈히 같이 표기해 두었습니다. (PEP8 ..)</span>"
   ]
  },
  {
   "cell_type": "markdown",
   "metadata": {
    "slideshow": {
     "slide_type": "subslide"
    }
   },
   "source": [
    "- PEP 0 -- Index of Python Enhancement Proposals (PEPs)\n",
    "- PEP 572 -- Assignment Expressions\n",
    "- https://www.python.org/dev/peps/\n",
    "- https://docs.python.org/3/whatsnew/3.7.html"
   ]
  },
  {
   "cell_type": "markdown",
   "metadata": {
    "slideshow": {
     "slide_type": "subslide"
    }
   },
   "source": [
    "python언어 자체에 대한 설계고민과 히스토리, 이유들을 찾아볼 수 있습니다.\n",
    "- 한글화 진행은 부족한 편입니다."
   ]
  },
  {
   "cell_type": "markdown",
   "metadata": {
    "slideshow": {
     "slide_type": "subslide"
    }
   },
   "source": [
    "파이썬은 현재 두가지 버전이 배포되고 있습니다. (2018.07기준)\n",
    "- 2.7.14\n",
    "- 3.7\n",
    "\n",
    "왜 두가지로 나뉘었나요?\n",
    "- 3은 기존 2문법과 완벽한 호환이 되지 않는 과감한 변화를 택했습니다."
   ]
  },
  {
   "cell_type": "markdown",
   "metadata": {
    "slideshow": {
     "slide_type": "slide"
    }
   },
   "source": [
    "![Title](img/Python_2_vs_3.jpg)\n",
    "\n",
    "어떤 파이썬 버전을 써야 할까?"
   ]
  },
  {
   "cell_type": "markdown",
   "metadata": {
    "slideshow": {
     "slide_type": "subslide"
    }
   },
   "source": [
    "- python2.7은 오랜시간 표준이었습니다. (3.x와 더불어.)\n",
    "- 유명한 리눅스 배포판에는 2.x 버전이 기본적으로 설치되어 있습니다.\n",
    "- python2.7은 __2020년까지만__ 필수 보안이슈들을 다루는 update를 계속 진행합니다.\n",
    "- 반면에 python3은 __지금도__ 계속 발전하고 있습니다."
   ]
  },
  {
   "cell_type": "markdown",
   "metadata": {
    "slideshow": {
     "slide_type": "fragment"
    }
   },
   "source": [
    "<span class=\"mark\">**처음 배운다면, 무조건 python3을 권장합니다.**</span>"
   ]
  },
  {
   "cell_type": "markdown",
   "metadata": {
    "slideshow": {
     "slide_type": "subslide"
    }
   },
   "source": [
    "python3으로 넘어가야 하는 이유중의 하나.\n",
    "\n",
    "> Python enables parallelism through both the threading and the multiprocessing libraries. Yet it wasn’t until the 3.4 branch that it gave us the asyncio library to help with single-threaded concurrency. This addition was key in providing a more convincing final push to start swapping over from version 2.\n",
    "\n",
    "https://hackernoon.com/threaded-asynchronous-magic-and-how-to-wield-it-bba9ed602c32#.2vio66gah"
   ]
  },
  {
   "cell_type": "markdown",
   "metadata": {
    "slideshow": {
     "slide_type": "subslide"
    }
   },
   "source": [
    "![ipython-stop-to-support-py2](img/ipython-stop-supporting-py2.jpg)"
   ]
  },
  {
   "cell_type": "markdown",
   "metadata": {
    "slideshow": {
     "slide_type": "subslide"
    }
   },
   "source": [
    "### CELERY 4.0 Comes out!, Last major version to support Python 2\n",
    "\n",
    "> **Starting from Celery 5.0 only Python 3.5+ will be supported.**\n",
    "\n",
    "> To make sure you’re not affected by this change you should pin the Celery version in your requirements file, either to a specific version: celery==4.0.0, or a range: celery>=4.0,<5.0.\n",
    "\n",
    "> Dropping support for Python 2 will enable us to remove massive amounts of compatibility code, and going with Python 3.5 allows us to take advantage of typing, async/await, asyncio, and similar concepts there’s no alternative for in older versions.\n",
    "\n",
    "> Celery 4.x will continue to work on Python 2.7, 3.4, 3.5; just as Celery 3.x still works on Python 2.6."
   ]
  },
  {
   "cell_type": "markdown",
   "metadata": {
    "slideshow": {
     "slide_type": "subslide"
    }
   },
   "source": [
    "https://pythonclock.org/"
   ]
  },
  {
   "cell_type": "markdown",
   "metadata": {
    "slideshow": {
     "slide_type": "subslide"
    }
   },
   "source": [
    "만약 2를 주력으로 사용해오고 있다면,\n",
    "- 초기와 다르게 지금은 python2 개발자를 위한 python3로의 전환 가이드와 호환성 유지를 위한 라이브러리들이 다수 존재합니다.\n",
    "- 많은 현재도 유지보수되는 유명한 라이브러리들은 python2, python3를 동시에 지원합니다."
   ]
  },
  {
   "cell_type": "code",
   "execution_count": 5,
   "metadata": {
    "slideshow": {
     "slide_type": "subslide"
    }
   },
   "outputs": [
    {
     "name": "stdout",
     "output_type": "stream",
     "text": [
      "Python3!\n"
     ]
    }
   ],
   "source": [
    "# python2에서 python3 호환성 있는 코드를 작성하기 위한 도구들\n",
    "# (문법들에 대한 polyfill 제공)\n",
    "import six\n",
    "if six.PY3:\n",
    "    print('Python3!')\n",
    "\n",
    "# python2는 python3와 호환가능한 코드작성에 도움을 주는\n",
    "# future library를 제공합니다."
   ]
  },
  {
   "cell_type": "markdown",
   "metadata": {
    "slideshow": {
     "slide_type": "subslide"
    }
   },
   "source": [
    "http://www.diveintopython3.net/porting-code-to-python-3-with-2to3.html"
   ]
  },
  {
   "cell_type": "markdown",
   "metadata": {
    "slideshow": {
     "slide_type": "slide"
    }
   },
   "source": [
    "## Python Interpreter"
   ]
  },
  {
   "cell_type": "markdown",
   "metadata": {
    "slideshow": {
     "slide_type": "subslide"
    }
   },
   "source": [
    "Python은\n",
    "- 인터프리터 언어라고도 하고\n",
    "- 스크립트 언어라고도 합니다.\n",
    "\n",
    "Python Code는 CPU가 이해하는 머신코드(machine code)로 직접 변환되지 않고,\n",
    "인터프리터가 해당 역할을 수행합니다."
   ]
  },
  {
   "cell_type": "markdown",
   "metadata": {
    "slideshow": {
     "slide_type": "slide"
    }
   },
   "source": [
    "## Python Implementations"
   ]
  },
  {
   "cell_type": "markdown",
   "metadata": {
    "slideshow": {
     "slide_type": "subslide"
    }
   },
   "source": [
    "파이썬 코드를 동작시키는 인터프리터는 다양한 언어와 framework기반에서 구현되어 있습니다. PSF에서 지원하는 오픈소스이기 때문에 다양한 플랫폼에 무료로 이식할 수 있습니다.\n",
    "\n",
    "- <span style='color:red'>CPython</span> (표준구현입니다.)\n",
    "- Stackless Python\n",
    "- PyPy https://pypy.org/\n",
    "- Jython\n",
    "- IronPython\n",
    "- PythonNET\n",
    "- Skulpt http://www.skulpt.org/\n",
    "- MicroPython"
   ]
  },
  {
   "cell_type": "markdown",
   "metadata": {
    "slideshow": {
     "slide_type": "slide"
    }
   },
   "source": [
    "## Python 인터프리터 구하기"
   ]
  },
  {
   "cell_type": "markdown",
   "metadata": {
    "slideshow": {
     "slide_type": "subslide"
    }
   },
   "source": [
    "- http://python.org\n",
    "- Commercial Python Redistributions\n",
    "  - **Anaconda https://www.continuum.io/downloads**\n",
    "  - ActiveState's ActivePython\n",
    "  - Enthought's Canopy"
   ]
  },
  {
   "cell_type": "markdown",
   "metadata": {
    "slideshow": {
     "slide_type": "subslide"
    }
   },
   "source": [
    "![](img/anaconda.png)\n",
    "\n",
    "python 기본 패키지 외 데이터분석에 유용한 외부 패키지들을 다수 같이 packing해두었습니다."
   ]
  },
  {
   "cell_type": "markdown",
   "metadata": {
    "slideshow": {
     "slide_type": "subslide"
    }
   },
   "source": [
    "![](img/anaconda.png) ![](img/jupyter.png)\n",
    "- anaconda에는 jupyter가 포함되어 있습니다.\n",
    "- jupyter는 ipython을 웹에서 사용할 수 있도록 개선한 인터프리터 환경이며, python외에도 다양한 kernel을 함께 사용할 수 있는 웹 기반의 데이터 분석도구로 발전하고 있습니다.\n",
    "- **이번 과정의 실습과정에서는 jupyter를 사용합니다.**"
   ]
  },
  {
   "cell_type": "markdown",
   "metadata": {
    "slideshow": {
     "slide_type": "subslide"
    }
   },
   "source": [
    "이제 설치해봅시다.\n",
    "\n",
    "- Anaconda 다운로드는 https://www.continuum.io/downloads\n",
    "- jupyter 간단한 사용가이드는 외부 페이지의 도움을 받겠습니다. https://steemit.com/kr/@sanghkaang/2-jupyter \n",
    "- http://python.org/ 에서 python 기본을 설치 후 별도로 jupyter를 설치할 수도 있습니다.\n"
   ]
  }
 ],
 "metadata": {
  "celltoolbar": "Slideshow",
  "kernelspec": {
   "display_name": "Python 3",
   "language": "python",
   "name": "python3"
  },
  "language_info": {
   "codemirror_mode": {
    "name": "ipython",
    "version": 3
   },
   "file_extension": ".py",
   "mimetype": "text/x-python",
   "name": "python",
   "nbconvert_exporter": "python",
   "pygments_lexer": "ipython3",
   "version": "3.6.1"
  }
 },
 "nbformat": 4,
 "nbformat_minor": 2
}
