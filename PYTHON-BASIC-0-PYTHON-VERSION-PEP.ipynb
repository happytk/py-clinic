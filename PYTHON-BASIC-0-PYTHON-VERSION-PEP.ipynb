{
 "cells": [
  {
   "cell_type": "markdown",
   "metadata": {
    "slideshow": {
     "slide_type": "slide"
    }
   },
   "source": [
    "# Python Programming \n",
    "기본과정 2017/5/24"
   ]
  },
  {
   "cell_type": "markdown",
   "metadata": {
    "slideshow": {
     "slide_type": "subslide"
    }
   },
   "source": [
    "- 동영상 선행 학습을 권장합니다.\n",
    "- <span class=\"mark\">클리닉과정입니다.</span> 실습 위주의 방향으로 진행하고자 합니다.\n",
    "- 변수, 자료형, 조건문, 반복문, 등 PYTHON의 기본문법과 자료형을 다룹니다.\n",
    "- 과정마다 예제는 틈틈히 따라하시는 것을 권장합니다. 챕터마다 작은 연습문제가 있습니다."
   ]
  },
  {
   "cell_type": "markdown",
   "metadata": {
    "slideshow": {
     "slide_type": "slide"
    }
   },
   "source": [
    "![Title](img/python-2-vs-python-3.jpg)\n",
    "## 어떤 파이썬 버전을 써야 할까?"
   ]
  },
  {
   "cell_type": "markdown",
   "metadata": {
    "slideshow": {
     "slide_type": "subslide"
    }
   },
   "source": [
    "- python2.7은 오랜시간 표준이었습니다. (3.x와 더불어.)\n",
    "- python2.7은 __2020년까지만__ 필수 보안이슈들을 다루는 update를 계속 진행합니다.\n",
    "- python3은 __지금도__ 계속 발전하고 있습니다.\n",
    "\n",
    "- **저도 아직까지도 2.7을 주력으로 사용하는 개발자입니다.**"
   ]
  },
  {
   "cell_type": "markdown",
   "metadata": {
    "slideshow": {
     "slide_type": "fragment"
    }
   },
   "source": [
    "<span class=\"mark\">**처음 배운다면, python3을 권장합니다.**</span>"
   ]
  },
  {
   "cell_type": "markdown",
   "metadata": {
    "slideshow": {
     "slide_type": "subslide"
    }
   },
   "source": [
    "python3으로 넘어가야 하는 이유중의 하나.\n",
    "\n",
    "> Python enables parallelism through both the threading and the multiprocessing libraries. Yet it wasn’t until the 3.4 branch that it gave us the asyncio library to help with single-threaded concurrency. This addition was key in providing a more convincing final push to start swapping over from version 2.\n",
    "\n",
    "https://hackernoon.com/threaded-asynchronous-magic-and-how-to-wield-it-bba9ed602c32#.2vio66gah"
   ]
  },
  {
   "cell_type": "markdown",
   "metadata": {
    "slideshow": {
     "slide_type": "subslide"
    }
   },
   "source": [
    "![ipython-stop-to-support-py2](img/ipython-stop-supporting-py2.jpg)"
   ]
  },
  {
   "cell_type": "markdown",
   "metadata": {
    "slideshow": {
     "slide_type": "subslide"
    }
   },
   "source": [
    "### CELERY 4.0 Comes out!, Last major version to support Python 2\n",
    "\n",
    "> **Starting from Celery 5.0 only Python 3.5+ will be supported.**\n",
    "\n",
    "> To make sure you’re not affected by this change you should pin the Celery version in your requirements file, either to a specific version: celery==4.0.0, or a range: celery>=4.0,<5.0.\n",
    "\n",
    "> Dropping support for Python 2 will enable us to remove massive amounts of compatibility code, and going with Python 3.5 allows us to take advantage of typing, async/await, asyncio, and similar concepts there’s no alternative for in older versions.\n",
    "\n",
    "> Celery 4.x will continue to work on Python 2.7, 3.4, 3.5; just as Celery 3.x still works on Python 2.6."
   ]
  },
  {
   "cell_type": "markdown",
   "metadata": {
    "slideshow": {
     "slide_type": "subslide"
    }
   },
   "source": [
    "python2 개발자를 위한 python3로의 가이드와 호환성 유지를 위한 라이브러리들이 다수 존재합니다."
   ]
  },
  {
   "cell_type": "code",
   "execution_count": 5,
   "metadata": {
    "slideshow": {
     "slide_type": "-"
    }
   },
   "outputs": [
    {
     "data": {
      "text/plain": [
       "True"
      ]
     },
     "execution_count": 5,
     "metadata": {},
     "output_type": "execute_result"
    }
   ],
   "source": [
    "import six # python2-3 호환성 있는 코드\n",
    "\n",
    "import webbrowser\n",
    "webbrowser.open('http://www.diveintopython3.net/porting-code-to-python-3-with-2to3.html')"
   ]
  },
  {
   "cell_type": "markdown",
   "metadata": {
    "slideshow": {
     "slide_type": "slide"
    }
   },
   "source": [
    "## Python Enhancement Proposals (PEP)"
   ]
  },
  {
   "cell_type": "markdown",
   "metadata": {
    "slideshow": {
     "slide_type": "subslide"
    }
   },
   "source": [
    "*PEP란 파이썬을 개선하기 위한 개선 제안서를 뜻하는 것으로 3가지로 구분됩니다.*\n",
    "\n",
    "- *Standard Track : 파이썬의 새로운 기능이나 구현을 제안*\n",
    "- *Informational : 파이썬의 디자인 이슈나 일반적인 지침을 제안*\n",
    "- *Process : 파이썬 커뮤니티에 정보를 제안*\n",
    "\n",
    "https://til.chann.kr/python/coding-convention\n",
    "\n",
    "<span class=\"mark\">수업과정에서 종종 숫자와 같이 표기되어 있습니다. (PEP8 ..)</span>"
   ]
  },
  {
   "cell_type": "code",
   "execution_count": 1,
   "metadata": {
    "slideshow": {
     "slide_type": "subslide"
    }
   },
   "outputs": [
    {
     "data": {
      "text/plain": [
       "True"
      ]
     },
     "execution_count": 1,
     "metadata": {},
     "output_type": "execute_result"
    }
   ],
   "source": [
    "import webbrowser\n",
    "webbrowser.open('https://www.python.org/dev/peps/')"
   ]
  },
  {
   "cell_type": "markdown",
   "metadata": {
    "slideshow": {
     "slide_type": "slide"
    }
   },
   "source": [
    "## Python Implementations"
   ]
  },
  {
   "cell_type": "markdown",
   "metadata": {
    "slideshow": {
     "slide_type": "subslide"
    }
   },
   "source": [
    "파이썬 인터프리터는 다양한 언어와 framework기반에서 구현되어 있습니다.\n",
    "\n",
    "- <span style='color:red'>CPython</span> (표준구현입니다.)\n",
    "- Stackless Python\n",
    "- PyPy\n",
    "- Jython\n",
    "- IronPython\n",
    "- PythonNET\n",
    "- Skulpt\n",
    "- MicroPython"
   ]
  },
  {
   "cell_type": "markdown",
   "metadata": {
    "slideshow": {
     "slide_type": "slide"
    }
   },
   "source": [
    "## Python 인터프리터 구하기"
   ]
  },
  {
   "cell_type": "markdown",
   "metadata": {
    "slideshow": {
     "slide_type": "subslide"
    }
   },
   "source": [
    "- http://python.org\n",
    "- Commercial Python Redistributions\n",
    "  - **Anaconda https://www.continuum.io/downloads**\n",
    "  - ActiveState's ActivePython\n",
    "  - Enthought's Canopy"
   ]
  },
  {
   "cell_type": "markdown",
   "metadata": {
    "slideshow": {
     "slide_type": "subslide"
    }
   },
   "source": [
    "Anaconda\n",
    "- python 기본 패키지 외 데이터분석에 유용한 외부 패키지들을 다수 같이 packing해두었습니다.\n",
    "- jupyter가 포함되어 있습니다.\n",
    "  - jupyter는 ipython을 웹에서 사용할 수 있도록 개선한 인터프리터 환경이며, python외 다양한 kernel을 함께 사용할 수 있습니다.\n",
    "  - http://python.org/ 에서 python 기본을 설치 후 별도로 jupyter를 설치할 수도 있습니다. (깔끔하게)\n",
    "  - Anaconda 다운로드는 https://www.continuum.io/downloads\n",
    "  - jupyter 간단한 사용가이드는 외부 페이지의 도움을 받겠습니다. https://steemit.com/kr/@sanghkaang/2-jupyter \n",
    "- pep8이 포함되어 있습니다."
   ]
  }
 ],
 "metadata": {
  "celltoolbar": "Slideshow",
  "kernelspec": {
   "display_name": "Python 3",
   "language": "python",
   "name": "python3"
  },
  "language_info": {
   "codemirror_mode": {
    "name": "ipython",
    "version": 3
   },
   "file_extension": ".py",
   "mimetype": "text/x-python",
   "name": "python",
   "nbconvert_exporter": "python",
   "pygments_lexer": "ipython3",
   "version": "3.6.1"
  }
 },
 "nbformat": 4,
 "nbformat_minor": 2
}
