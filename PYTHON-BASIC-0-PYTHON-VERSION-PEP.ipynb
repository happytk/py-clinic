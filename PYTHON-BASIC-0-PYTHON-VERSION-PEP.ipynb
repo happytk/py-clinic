{
 "cells": [
  {
   "cell_type": "markdown",
   "metadata": {},
   "source": [
    "## The Zen of Python"
   ]
  },
  {
   "cell_type": "code",
   "execution_count": 20,
   "metadata": {
    "collapsed": false
   },
   "outputs": [],
   "source": [
    "# PEP20\n",
    "import this"
   ]
  },
  {
   "cell_type": "markdown",
   "metadata": {},
   "source": [
    "## PYTHON2 VS PYTHON3"
   ]
  },
  {
   "cell_type": "markdown",
   "metadata": {},
   "source": [
    "- python2.7은 오랜시간 표준이었습니다.\n",
    "- python2.7은 2020년까지 필수 보안이슈들을 다루는 update를 계속 진행합니다.\n",
    "- python3은 계속 발전하고 있습니다.\n",
    "\n",
    "**아직은 선택할 수 있습니다.**\n",
    "\n",
    "**그러나 처음 배운다면..**\n"
   ]
  },
  {
   "cell_type": "code",
   "execution_count": 3,
   "metadata": {
    "collapsed": false
   },
   "outputs": [
    {
     "data": {
      "text/plain": [
       "True"
      ]
     },
     "execution_count": 3,
     "metadata": {},
     "output_type": "execute_result"
    }
   ],
   "source": [
    "import webbrowser\n",
    "webbrowser.open('http://www.diveintopython3.net/porting-code-to-python-3-with-2to3.html')"
   ]
  },
  {
   "cell_type": "markdown",
   "metadata": {},
   "source": [
    "## Python Enhanced Proposal (PEP)"
   ]
  }
 ],
 "metadata": {
  "kernelspec": {
   "display_name": "Python 3",
   "language": "python",
   "name": "python3"
  },
  "language_info": {
   "codemirror_mode": {
    "name": "ipython",
    "version": 3
   },
   "file_extension": ".py",
   "mimetype": "text/x-python",
   "name": "python",
   "nbconvert_exporter": "python",
   "pygments_lexer": "ipython3",
   "version": "3.6.0"
  }
 },
 "nbformat": 4,
 "nbformat_minor": 2
}
