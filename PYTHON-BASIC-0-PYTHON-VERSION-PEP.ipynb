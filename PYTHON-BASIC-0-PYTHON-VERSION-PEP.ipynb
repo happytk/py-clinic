{
 "cells": [
  {
   "cell_type": "markdown",
   "metadata": {
    "slideshow": {
     "slide_type": "slide"
    }
   },
   "source": [
    "![title](img/zen-of-python.png)"
   ]
  },
  {
   "cell_type": "markdown",
   "metadata": {
    "slideshow": {
     "slide_type": "fragment"
    }
   },
   "source": [
    "## The Zen of Python"
   ]
  },
  {
   "cell_type": "code",
   "execution_count": 14,
   "metadata": {
    "collapsed": true,
    "slideshow": {
     "slide_type": "fragment"
    }
   },
   "outputs": [],
   "source": [
    "# PEP20\n",
    "import this"
   ]
  },
  {
   "cell_type": "markdown",
   "metadata": {
    "slideshow": {
     "slide_type": "subslide"
    }
   },
   "source": [
    "- 아름다움이 추함보다 좋다.\n",
    "- 명시적인 것이 암시적인 것보다 좋다.\n",
    "- 단순함이 복잡함보다 좋다.\n",
    "- 복잡함이 꼬인것보다 좋다.\n",
    "- 수평적인 것이 계층적인 것보다 좋다."
   ]
  },
  {
   "cell_type": "markdown",
   "metadata": {
    "slideshow": {
     "slide_type": "subslide"
    }
   },
   "source": [
    "- 흩어지는 것이 밀집한 것보다 좋다.\n",
    "- 가독성은 중요하다.\n",
    "- 특별한 경우라는 것이 규칙을 어길정도로 특별할 것은 아니다.\n",
    "- 그럼에도 실용성은 순수성에 우선한다.\n",
    "- 오류 앞에서 침묵하지 않는다.\n",
    "- 명시적으로 오류를 감추려고 하는 것이 아니라면."
   ]
  },
  {
   "cell_type": "markdown",
   "metadata": {
    "slideshow": {
     "slide_type": "subslide"
    }
   },
   "source": [
    "- 모호하게 만들고 이를 유추하겠다는 유혹을 버려라.\n",
    "- 어떤 일이든 명확한 - 바람직하고 유일한 - 방법이 존재한다.\n",
    "- 비록 당신이 우둔해서 그 방법이 처음에는 명확해 보이지 않을지라도.\n",
    "- 지금 하는게 아예 안하는 것보다 낫다.\n",
    "- 아예 안하는 것이 지금 당장 하는것보다 나을 때도 있지만."
   ]
  },
  {
   "cell_type": "markdown",
   "metadata": {
    "slideshow": {
     "slide_type": "subslide"
    }
   },
   "source": [
    "- 구현 결과를 설명하기 어렵다면, 그 아이디어는 나쁜 것이다.\n",
    "- 구현 결과를 설명하기 쉽다면, 그 아이디어는 좋은 아이디어일 수 있다.\n",
    "- 네임스페이스는 좋은 아이디어다. - 더 많이 쓰자."
   ]
  },
  {
   "cell_type": "markdown",
   "metadata": {
    "slideshow": {
     "slide_type": "slide"
    }
   },
   "source": [
    "![Title](img/python-2-vs-python-3.jpg)\n",
    "## PYTHON2 VS PYTHON3"
   ]
  },
  {
   "cell_type": "markdown",
   "metadata": {
    "slideshow": {
     "slide_type": "subslide"
    }
   },
   "source": [
    "- python2.7은 오랜시간 표준이었습니다.\n",
    "- python2.7은 __2020년까지만__ 필수 보안이슈들을 다루는 update를 계속 진행합니다.\n",
    "- python3은 __지금도__ 계속 발전하고 있습니다.\n",
    "\n",
    "- **그럼에도 아직은 선택할 수 있습니다.** (저도 아직까지도 2.7에 익숙한 개발자입니다.)"
   ]
  },
  {
   "cell_type": "markdown",
   "metadata": {
    "slideshow": {
     "slide_type": "fragment"
    }
   },
   "source": [
    "**그렇지만 처음 배운다면, python3을 권장합니다.**"
   ]
  },
  {
   "cell_type": "markdown",
   "metadata": {
    "slideshow": {
     "slide_type": "subslide"
    }
   },
   "source": [
    "python3으로 넘어가야 하는 이유중의 하나.\n",
    "\n",
    "> Python enables parallelism through both the threading and the multiprocessing libraries. Yet it wasn’t until the 3.4 branch that it gave us the asyncio library to help with single-threaded concurrency. This addition was key in providing a more convincing final push to start swapping over from version 2.\n",
    "\n",
    "https://hackernoon.com/threaded-asynchronous-magic-and-how-to-wield-it-bba9ed602c32#.2vio66gah"
   ]
  },
  {
   "cell_type": "markdown",
   "metadata": {
    "slideshow": {
     "slide_type": "subslide"
    }
   },
   "source": [
    "### CELERY 4.0 Comes out!\n",
    "### Last major version to support Python 2\n",
    "\n",
    "> **Starting from Celery 5.0 only Python 3.5+ will be supported.**\n",
    "\n",
    "> To make sure you’re not affected by this change you should pin the Celery version in your requirements file, either to a specific version: celery==4.0.0, or a range: celery>=4.0,<5.0.\n",
    "\n",
    "> Dropping support for Python 2 will enable us to remove massive amounts of compatibility code, and going with Python 3.5 allows us to take advantage of typing, async/await, asyncio, and similar concepts there’s no alternative for in older versions.\n",
    "\n",
    "> Celery 4.x will continue to work on Python 2.7, 3.4, 3.5; just as Celery 3.x still works on Python 2.6."
   ]
  },
  {
   "cell_type": "markdown",
   "metadata": {},
   "source": [
    "python2 개발자를 위한 python3로의 가이드"
   ]
  },
  {
   "cell_type": "code",
   "execution_count": 16,
   "metadata": {
    "slideshow": {
     "slide_type": "subslide"
    }
   },
   "outputs": [
    {
     "data": {
      "text/plain": [
       "True"
      ]
     },
     "execution_count": 16,
     "metadata": {},
     "output_type": "execute_result"
    }
   ],
   "source": [
    "import webbrowser\n",
    "webbrowser.open('http://www.diveintopython3.net/porting-code-to-python-3-with-2to3.html')"
   ]
  },
  {
   "cell_type": "markdown",
   "metadata": {
    "slideshow": {
     "slide_type": "slide"
    }
   },
   "source": [
    "## Python Enhancement Proposals (PEP)"
   ]
  },
  {
   "cell_type": "code",
   "execution_count": null,
   "metadata": {
    "collapsed": true
   },
   "outputs": [],
   "source": [
    "import webbrowser\n",
    "webbrowser.open('https://www.python.org/dev/peps/')"
   ]
  }
 ],
 "metadata": {
  "celltoolbar": "Slideshow",
  "kernelspec": {
   "display_name": "Python 3",
   "language": "python",
   "name": "python3"
  },
  "language_info": {
   "codemirror_mode": {
    "name": "ipython",
    "version": 3
   },
   "file_extension": ".py",
   "mimetype": "text/x-python",
   "name": "python",
   "nbconvert_exporter": "python",
   "pygments_lexer": "ipython3",
   "version": "3.6.1"
  }
 },
 "nbformat": 4,
 "nbformat_minor": 2
}
