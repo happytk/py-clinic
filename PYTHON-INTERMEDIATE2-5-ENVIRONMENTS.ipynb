{
 "cells": [
  {
   "cell_type": "markdown",
   "metadata": {
    "slideshow": {
     "slide_type": "slide"
    }
   },
   "source": [
    "# PEP 8 -- Style Guide for Python Code"
   ]
  },
  {
   "cell_type": "markdown",
   "metadata": {
    "slideshow": {
     "slide_type": "subslide"
    }
   },
   "source": [
    "- 귀도 아저씨가 권장하는 표준 스타일 코딩 가이드\n",
    "- https://www.python.org/dev/peps/pep-0008/"
   ]
  },
  {
   "cell_type": "markdown",
   "metadata": {
    "slideshow": {
     "slide_type": "subslide"
    }
   },
   "source": [
    "- *들여쓰기는 공백 문자 네 개로 하자.*\n",
    "- *한 줄의 최대 글자는 79자로 하자.*\n",
    "- *최상위 함수와 클래스 정의들은 두 줄씩 띄우자.*\n",
    "- *파일은 UTF-8 호은 ASCII로 인코딩하자.*"
   ]
  },
  {
   "cell_type": "markdown",
   "metadata": {
    "slideshow": {
     "slide_type": "subslide"
    }
   },
   "source": [
    "- *한 import문에서는 모듈 하나만 임포트한다. 한 줄에 import 문 하나만 쓰자. import는 파일의 처음에 두지만 docstring과 같은 주석이 있으면 바로 그 다음에 위치시키자. import는 표준 라이브러리, 서드 파티, 로컬 라이브러리 순으로 묶자.*"
   ]
  },
  {
   "cell_type": "markdown",
   "metadata": {
    "slideshow": {
     "slide_type": "subslide"
    }
   },
   "source": [
    "- *소괄호나 중괄호, 대괄호 사이에 추가로 공백을 주지 말고, 쉼표 앞에도 공백을 주지 말자.*\n",
    "- *클래스 이름은 CamelCase형식을 따르자. 예외명은 Error로 끝내자. 함수 이름은 seperated_by_underscore와 같이 소문자, 밑줄문자를 이용해서 짓자. 비공개적인 속성이나 메서드 이름은 밑줄 문자로 시작하자.*"
   ]
  },
  {
   "cell_type": "markdown",
   "metadata": {},
   "source": [
    "github를 돌아다녀보면 무섭도록 pep8을 준수하는 착한 사람들이 많습니다.\n",
    "- 누가 작성한 코드도 읽기쉽고 한 눈에 들어오도록 해줍니다.\n",
    "- python의 강제 indentation과 맞물려 뛰어난 readability를 제공합니다."
   ]
  },
  {
   "cell_type": "markdown",
   "metadata": {
    "slideshow": {
     "slide_type": "subslide"
    }
   },
   "source": [
    "- 다양한 협업환경에서의 고민들이 녹아있는만큼, 사소해 보이는 것도 따르는 것에서 손해는 없습니다.\n",
    "- 쉽게 PEP8을 따를 수 있는 도구들이 존재합니다. https://pypi.python.org/pypi/pep8"
   ]
  },
  {
   "cell_type": "markdown",
   "metadata": {
    "slideshow": {
     "slide_type": "subslide"
    }
   },
   "source": [
    "- pep8도 하나의 명령어로 존재합니다.\n",
    "- 직접수행해볼 수도 있고, 편집도구가 도와줄 수도 있습니다.\n",
    "- 내가 선호하는, 선호하지 않는 RULE을 선택할 수 있습니다. 모두 지킬 필요는 없습니다.\n",
    "- 다양한 배포도구와 섞어서 사용할 수 있습니다."
   ]
  },
  {
   "cell_type": "markdown",
   "metadata": {
    "slideshow": {
     "slide_type": "subslide"
    }
   },
   "source": [
    "일단 설치부터. anaconda는 기본 설치되어 있어요!\n",
    "```\n",
    "pip install pep8\n",
    "```"
   ]
  },
  {
   "cell_type": "markdown",
   "metadata": {
    "slideshow": {
     "slide_type": "subslide"
    }
   },
   "source": [
    "pep8명령어의 수행 예\n",
    "```\n",
    "(ercc27) 192:tempv happytk$ pep8 hello.py\n",
    "hello.py:6:1: E101 indentation contains mixed spaces and tabs\n",
    "hello.py:6:1: W191 indentation contains tabs\n",
    "hello.py:8:1: E101 indentation contains mixed spaces and tabs\n",
    "(ercc27) 192:tempv happytk$ pep8 hello.py --ignore=E101\n",
    "hello.py:6:1: W191 indentation contains tabs\n",
    "(ercc27) 192:tempv happytk$\n",
    "```"
   ]
  },
  {
   "cell_type": "markdown",
   "metadata": {
    "slideshow": {
     "slide_type": "subslide"
    }
   },
   "source": [
    "pip install autopep8\n",
    "- 자동으로 코드를 pep8을 준수하도록 수정해줍니다.\n",
    "- jupyter에도 plugin이 존재해요.\n",
    "- 지키고싶은 rule만 지정하는 등 세세옵션 설정도 가능하지만\n",
    "- 내 코드를 너무 헤집어놓을뿐더러 의미도 모르고 사용하게 되어서 저는 쓰지 않았습니다."
   ]
  },
  {
   "cell_type": "markdown",
   "metadata": {
    "slideshow": {
     "slide_type": "slide"
    }
   },
   "source": [
    "# 스타일 검사를 넘어서 코드 오류를 잡아주는 도구들"
   ]
  },
  {
   "cell_type": "code",
   "execution_count": 13,
   "metadata": {
    "collapsed": true,
    "slideshow": {
     "slide_type": "subslide"
    }
   },
   "outputs": [],
   "source": [
    "# 이 코드의 문제점은 무엇인가요?\n",
    "def hello():\n",
    "        while True:\n",
    "            post = Post.objects(replies__writer=source_user).first()\n",
    "            if post is None:\n",
    "                break\n",
    "\n",
    "            for comment in post.replies:\n",
    "                if comment.writer == source_user:\n",
    "                    comment.writer == target_user\n",
    "            post.save()\n",
    "            print(post.id, post.title, [comment.writer for comment in post.replies])"
   ]
  },
  {
   "cell_type": "markdown",
   "metadata": {
    "slideshow": {
     "slide_type": "subslide"
    }
   },
   "source": [
    "- flake8은 미사용변수탐색, py2/py3호환성 이슈, import 스타일 등 다양한 추가 검사를 수행해줍니다.\n",
    "    - pep8 + pyflakes이기 때문에 스타일검사는 기본.\n",
    "    - https://pypi.python.org/pypi/flake8\n",
    "\n",
    "```\n",
    "(ercc27) 192:tempv happytk$ flake8 hello.py\n",
    "hello.py:4:16: F821 undefined name 'Post'\n",
    "hello.py:4:45: F821 undefined name 'source_user'\n",
    "hello.py:9:34: F821 undefined name 'source_user'\n",
    "hello.py:10:35: F821 undefined name 'target_user'\n",
    "```"
   ]
  },
  {
   "cell_type": "markdown",
   "metadata": {
    "slideshow": {
     "slide_type": "fragment"
    }
   },
   "source": [
    "<span class=\"burk\">코드품질향상 및 잠재적인 오류 발견을 위해 꼭 사용하시기를 권장합니다.</span>"
   ]
  },
  {
   "cell_type": "markdown",
   "metadata": {
    "slideshow": {
     "slide_type": "slide"
    }
   },
   "source": [
    "# 가상환경"
   ]
  },
  {
   "cell_type": "markdown",
   "metadata": {
    "slideshow": {
     "slide_type": "subslide"
    }
   },
   "source": [
    "외부에서 받은 파이썬 프로그램을 수행(DEPLOY)할 때\n",
    "- 특정 패키지가 필요하다.\n",
    "- 특정 패키지의 특정버전이 필요하다.\n",
    "  - 그런데 내가 사용하고 있는 다른 프로그램의 패키지와 버전이 다르다.\n",
    "  - 그런데 내가 사용하고 있는 파이썬버전과 다른 인터프리터가 필요하다.\n",
    "  \n",
    "기존에 내가 사용하고 있는 환경과 요구사항이 다르다면?"
   ]
  },
  {
   "cell_type": "markdown",
   "metadata": {
    "slideshow": {
     "slide_type": "subslide"
    }
   },
   "source": [
    "virtualenv 도구를 사용할 수 있습니다.\n",
    " - <span class=\"burk\">패키지와 실행환경 디렉토리를 분리하여 관리</span>\n",
    "\n",
    "내가 설치하고자 하는 임의의 패키지들을 **가상환경을 구축하여 별도로 관리할 수 있습니다.**\n",
    "\n",
    "- python3에서는 기본적으로 venv module을 제공합니다. (PEP 405)\n",
    "- python2에서는 virtualenv를 별도로 설치해줘야 합니다. (pip install virtualenv)"
   ]
  },
  {
   "cell_type": "markdown",
   "metadata": {
    "slideshow": {
     "slide_type": "subslide"
    }
   },
   "source": [
    "Python3은 기본으로 설치되어 있어서 편리해요. Virtual Environment 만들기\n",
    "\n",
    "```\n",
    "python -m venv c:\\myvenv\n",
    "```\n",
    "\n",
    "생성하면 가상환경의 bin과 lib가 생성되어요.\n",
    "```\n",
    "192:Dev happytk$ python -m venv ./tempv\n",
    "192:Dev happytk$ cd ./tempv\n",
    "192:tempv happytk$ ls\n",
    "bin\t\tinclude\t\tlib\t\tpyvenv.cfg\n",
    "192:tempv happytk$ ls -al\n",
    "total 8\n",
    "drwxr-xr-x   6 happytk  staff   204 May 21 00:01 .\n",
    "drwxr-xr-x  79 happytk  staff  2686 May 21 00:01 ..\n",
    "drwxr-xr-x  12 happytk  staff   408 May 21 00:01 bin\n",
    "drwxr-xr-x   2 happytk  staff    68 May 21 00:01 include\n",
    "drwxr-xr-x   3 happytk  staff   102 May 21 00:01 lib\n",
    "-rw-r--r--   1 happytk  staff   101 May 21 00:01 pyvenv.cfg\n",
    "192:tempv happytk$\n",
    "```"
   ]
  },
  {
   "cell_type": "markdown",
   "metadata": {
    "slideshow": {
     "slide_type": "subslide"
    }
   },
   "source": [
    "가상환경으로 들어가기\n",
    "```\n",
    "(linux)source activate\n",
    "(win)scripts\\activate.bat\n",
    "```\n",
    "\n",
    "가상환경에서 빠져나오기\n",
    "```\n",
    "(linux)deactivate\n",
    "(win)scripts\\deactivate.bat\n",
    "```\n",
    "\n",
    "가상환경으로 들어가서 pip를 이용해 설치를 하면 해당 공간에 설치됩니다.\n",
    "```\n",
    "(myvenv) pip install baker\n",
    "```\n",
    "\n",
    "`Lib/site-packages` 디렉토리 안을 살펴보세요! 사용자설치 패키지는 `site-packages`에 설치됩니다."
   ]
  },
  {
   "cell_type": "markdown",
   "metadata": {
    "slideshow": {
     "slide_type": "subslide"
    }
   },
   "source": [
    "Libraries for Python version and environment management.\n",
    "\n",
    "- p - Dead simple interactive Python version management.\n",
    "- pyenv - Simple Python version management.\n",
    "- venv - (Python standard library in Python 3.3+) Creating lightweight virtual environments.\n",
    "- virtualenv - A tool to create isolated Python environments.\n",
    "- virtualenvwrapper - A set of extensions to virtualenv."
   ]
  },
  {
   "cell_type": "markdown",
   "metadata": {
    "slideshow": {
     "slide_type": "slide"
    }
   },
   "source": [
    "# Python 배포환경 삼총사\n",
    "*TOX, TRAVIS, COVERALLS*"
   ]
  },
  {
   "cell_type": "markdown",
   "metadata": {
    "slideshow": {
     "slide_type": "subslide"
    }
   },
   "source": [
    "TOX, TRAVIS, COVERALLS \n",
    "- TOX는 파이썬프로젝트의 테스트 수행을 자동화하고 표준화하는 것을 목표로 함\n",
    "- TRAVIS는 seamless 테스트 환경을 구축해줌(CI)\n",
    "- COVERALLS는 코드테스트의 커버리지를 측정해요.\n",
    "\n",
    "https://www.pycon.kr/2016apac/program/42\n",
    "\n",
    "<span class=\"mark\">github에 공개project를 운영한다면 무료로 사용가능합니다.</span>"
   ]
  },
  {
   "cell_type": "markdown",
   "metadata": {
    "slideshow": {
     "slide_type": "slide"
    }
   },
   "source": [
    "# Python Project 탐험하기\n",
    "*재밌는것 있나?*"
   ]
  },
  {
   "cell_type": "markdown",
   "metadata": {
    "slideshow": {
     "slide_type": "subslide"
    }
   },
   "source": [
    "공통으로 발견되는 파일들이 있습니다.\n",
    "\n",
    "- setup.py\n",
    "- requirements.txt\n",
    "- README\n",
    "- packagename/packagename/*.py (소스위치)\n",
    "\n",
    "다양한 repo를 직접 살펴보세요.\n",
    "- https://github.com/sh4nks/flaskbb\n",
    "- https://github.com/pallets/flask"
   ]
  }
 ],
 "metadata": {
  "celltoolbar": "Slideshow",
  "kernelspec": {
   "display_name": "Python 3",
   "language": "python",
   "name": "python3"
  },
  "language_info": {
   "codemirror_mode": {
    "name": "ipython",
    "version": 3
   },
   "file_extension": ".py",
   "mimetype": "text/x-python",
   "name": "python",
   "nbconvert_exporter": "python",
   "pygments_lexer": "ipython3",
   "version": "3.6.1"
  }
 },
 "nbformat": 4,
 "nbformat_minor": 2
}
