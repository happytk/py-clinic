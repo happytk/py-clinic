{
 "cells": [
  {
   "cell_type": "markdown",
   "metadata": {
    "slideshow": {
     "slide_type": "slide"
    }
   },
   "source": [
    "**(WORKSHOP)**\n",
    "\n",
    "**10명의 학생이 있습니다. (joe, park, kang, bae, jung, she, khan, seo, lee, kim)**\n",
    "**10명의 학생에게 random하게 학점(A-F)을 부여합니다.**\n",
    "```\n",
    "joe -> A\n",
    "park -> B\n",
    "kang -> C\n",
    "...\n",
    "```"
   ]
  },
  {
   "cell_type": "code",
   "execution_count": 14,
   "metadata": {},
   "outputs": [
    {
     "data": {
      "text/plain": [
       "[('joe', 'C'),\n",
       " ('park', 'F'),\n",
       " ('kang', 'E'),\n",
       " ('bae', 'D'),\n",
       " ('jung', 'A'),\n",
       " ('she', 'B'),\n",
       " ('khan', 'C'),\n",
       " ('seo', 'A'),\n",
       " ('lee', 'F'),\n",
       " ('kim', 'F')]"
      ]
     },
     "execution_count": 14,
     "metadata": {},
     "output_type": "execute_result"
    }
   ],
   "source": [
    "import random\n",
    "\n",
    "grades = []\n",
    "for name in 'joe, park, kang, bae, jung, she, khan, seo, lee, kim'.split(', '):\n",
    "    grades.append((name, random.choice('ABCDEF')))\n",
    "grades"
   ]
  },
  {
   "cell_type": "markdown",
   "metadata": {
    "slideshow": {
     "slide_type": "slide"
    }
   },
   "source": [
    "**학점별로 학생들을 분류한 후,**\n",
    "```\n",
    "A -> joe, lee, khan\n",
    "B -> she, park\n",
    "..\n",
    "```"
   ]
  },
  {
   "cell_type": "code",
   "execution_count": 25,
   "metadata": {},
   "outputs": [
    {
     "data": {
      "text/plain": [
       "defaultdict(list,\n",
       "            {'A': ['jung', 'seo'],\n",
       "             'B': ['she'],\n",
       "             'C': ['joe', 'khan'],\n",
       "             'D': ['bae'],\n",
       "             'E': ['kang'],\n",
       "             'F': ['park', 'lee', 'kim']})"
      ]
     },
     "execution_count": 25,
     "metadata": {},
     "output_type": "execute_result"
    }
   ],
   "source": [
    "# ranks = {}\n",
    "# for name, grade in grades:\n",
    "#     if grade not in ranks:\n",
    "#         ranks[grade] = [name]\n",
    "#     else:\n",
    "#         ranks[grade].append(name)\n",
    "\n",
    "# ranks\n",
    "\n",
    "# ranks = {}\n",
    "# for name, grade in grades:\n",
    "#     ranks.setdefault(grade, [])\n",
    "#     ranks[grade].append(name)\n",
    "\n",
    "# ranks\n",
    "\n",
    "import collections\n",
    "ranks = collections.defaultdict(list)\n",
    "for name, grade in grades:\n",
    "    ranks[grade].append(name)\n",
    "\n",
    "ranks"
   ]
  },
  {
   "cell_type": "markdown",
   "metadata": {
    "slideshow": {
     "slide_type": "slide"
    }
   },
   "source": [
    "**최고학점부터 출력, 학생의 이름도 정렬하여 출력해주세요.**\n",
    "```\n",
    "A -> joe, khan, lee\n",
    "B -> park, she\n",
    "\n",
    "..\n",
    "```"
   ]
  },
  {
   "cell_type": "code",
   "execution_count": 40,
   "metadata": {},
   "outputs": [
    {
     "data": {
      "text/plain": [
       "['A', 'B', 'C', 'D', 'E', 'F']"
      ]
     },
     "execution_count": 40,
     "metadata": {},
     "output_type": "execute_result"
    }
   ],
   "source": [
    "grades = list(ranks.keys())\n",
    "sorted(grades)\n",
    "grades.sort()\n",
    "grades.reverse()\n",
    "grades\n",
    "list(reversed(grades))\n",
    "\n",
    "# for grade in sorted(ranks.keys()):\n",
    "#     print(grade, sorted(ranks[grade]))"
   ]
  }
 ],
 "metadata": {
  "celltoolbar": "Slideshow",
  "kernelspec": {
   "display_name": "Python 3",
   "language": "python",
   "name": "python3"
  },
  "language_info": {
   "codemirror_mode": {
    "name": "ipython",
    "version": 3
   },
   "file_extension": ".py",
   "mimetype": "text/x-python",
   "name": "python",
   "nbconvert_exporter": "python",
   "pygments_lexer": "ipython3",
   "version": "3.6.1"
  }
 },
 "nbformat": 4,
 "nbformat_minor": 2
}
