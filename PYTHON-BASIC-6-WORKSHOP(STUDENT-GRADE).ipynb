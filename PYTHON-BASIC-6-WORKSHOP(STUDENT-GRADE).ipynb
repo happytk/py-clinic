{
 "cells": [
  {
   "cell_type": "markdown",
   "metadata": {
    "slideshow": {
     "slide_type": "slide"
    }
   },
   "source": [
    "**(WORKSHOP)**\n",
    "\n",
    "**10명의 학생이 있습니다. (joe, park, kang, bae, jung, she, khan, seo, lee, kim)**\n",
    "**10명의 학생에게 random하게 학점(A-F)을 부여합니다.**\n",
    "```\n",
    "joe -> A\n",
    "park -> B\n",
    "kang -> C\n",
    "...\n",
    "```"
   ]
  },
  {
   "cell_type": "code",
   "execution_count": 3,
   "metadata": {
    "slideshow": {
     "slide_type": "subslide"
    }
   },
   "outputs": [
    {
     "data": {
      "text/plain": [
       "['joe', 'park', 'kang', 'bae', 'jung', 'she', 'khan', 'seo', 'lee', 'kim']"
      ]
     },
     "execution_count": 3,
     "metadata": {},
     "output_type": "execute_result"
    }
   ],
   "source": [
    "names = 'joe,park,kang,bae,jung,she,khan,seo,lee,kim'\n",
    "names = names.split(',')\n",
    "names"
   ]
  },
  {
   "cell_type": "code",
   "execution_count": 4,
   "metadata": {
    "slideshow": {
     "slide_type": "subslide"
    }
   },
   "outputs": [
    {
     "data": {
      "text/plain": [
       "'B'"
      ]
     },
     "execution_count": 4,
     "metadata": {},
     "output_type": "execute_result"
    }
   ],
   "source": [
    "import random\n",
    "random.choice(\"ABCDEF\")"
   ]
  },
  {
   "cell_type": "code",
   "execution_count": 5,
   "metadata": {
    "slideshow": {
     "slide_type": "subslide"
    }
   },
   "outputs": [
    {
     "data": {
      "text/plain": [
       "{'bae': 'F',\n",
       " 'joe': 'B',\n",
       " 'jung': 'F',\n",
       " 'kang': 'D',\n",
       " 'khan': 'B',\n",
       " 'kim': 'A',\n",
       " 'lee': 'A',\n",
       " 'park': 'B',\n",
       " 'seo': 'B',\n",
       " 'she': 'F'}"
      ]
     },
     "execution_count": 5,
     "metadata": {},
     "output_type": "execute_result"
    }
   ],
   "source": [
    "# d = {}\n",
    "# for name in names: d[name] = random.choice('ABCDEF')\n",
    "names = 'joe,park,kang,bae,jung,she,khan,seo,lee,kim'\n",
    "names = names.split(',')\n",
    "names\n",
    "d = {name: random.choice('ABCDEF') for name in names}\n",
    "d"
   ]
  },
  {
   "cell_type": "markdown",
   "metadata": {
    "slideshow": {
     "slide_type": "slide"
    }
   },
   "source": [
    "**학점별로 학생들을 분류한 후,**\n",
    "```\n",
    "A -> joe, lee, khan\n",
    "B -> she, park\n",
    "..\n",
    "```"
   ]
  },
  {
   "cell_type": "code",
   "execution_count": 6,
   "metadata": {
    "slideshow": {
     "slide_type": "subslide"
    }
   },
   "outputs": [
    {
     "data": {
      "text/plain": [
       "{'A': ['lee', 'kim'],\n",
       " 'B': ['joe', 'park', 'khan', 'seo'],\n",
       " 'D': ['kang'],\n",
       " 'F': ['bae', 'jung', 'she']}"
      ]
     },
     "execution_count": 6,
     "metadata": {},
     "output_type": "execute_result"
    }
   ],
   "source": [
    "d_by_grade = {}\n",
    "for name, grade in d.items():\n",
    "    #     d_by_grade[grade] <- name\n",
    "    if grade in d_by_grade:\n",
    "        d_by_grade[grade].append(name)\n",
    "    else:\n",
    "        d_by_grade[grade] = []\n",
    "        my_lst = d_by_grade[grade]\n",
    "        my_lst.append(name)\n",
    "    \n",
    "d_by_grade"
   ]
  },
  {
   "cell_type": "code",
   "execution_count": 8,
   "metadata": {
    "slideshow": {
     "slide_type": "subslide"
    }
   },
   "outputs": [
    {
     "data": {
      "text/plain": [
       "defaultdict(list,\n",
       "            {'A': ['lee', 'kim'],\n",
       "             'B': ['joe', 'park', 'khan', 'seo'],\n",
       "             'D': ['kang'],\n",
       "             'F': ['bae', 'jung', 'she']})"
      ]
     },
     "execution_count": 8,
     "metadata": {},
     "output_type": "execute_result"
    }
   ],
   "source": [
    "from collections import defaultdict\n",
    "d_by_grade = defaultdict(list)\n",
    "for name, grade in d.items():\n",
    "    d_by_grade[grade].append(name)\n",
    "d_by_grade"
   ]
  },
  {
   "cell_type": "code",
   "execution_count": 10,
   "metadata": {
    "slideshow": {
     "slide_type": "subslide"
    }
   },
   "outputs": [
    {
     "data": {
      "text/plain": [
       "['AsyncGenerator',\n",
       " 'AsyncIterable',\n",
       " 'AsyncIterator',\n",
       " 'Awaitable',\n",
       " 'ByteString',\n",
       " 'Callable',\n",
       " 'ChainMap',\n",
       " 'Collection',\n",
       " 'Container',\n",
       " 'Coroutine']"
      ]
     },
     "execution_count": 10,
     "metadata": {},
     "output_type": "execute_result"
    }
   ],
   "source": [
    "import collections\n",
    "dir(collections)[:10]"
   ]
  },
  {
   "cell_type": "markdown",
   "metadata": {
    "slideshow": {
     "slide_type": "slide"
    }
   },
   "source": [
    "**최고학점부터 출력, 학생의 이름도 정렬하여 출력해주세요.**\n",
    "```\n",
    "A -> joe, khan, lee\n",
    "B -> park, she\n",
    "\n",
    "..\n",
    "```"
   ]
  },
  {
   "cell_type": "code",
   "execution_count": 45,
   "metadata": {
    "slideshow": {
     "slide_type": "subslide"
    }
   },
   "outputs": [
    {
     "data": {
      "text/plain": [
       "{'A': ['kang'],\n",
       " 'B': ['joe', 'seo'],\n",
       " 'C': ['jung', 'khan', 'park'],\n",
       " 'D': ['she'],\n",
       " 'E': ['bae', 'lee'],\n",
       " 'F': ['kim']}"
      ]
     },
     "execution_count": 45,
     "metadata": {},
     "output_type": "execute_result"
    }
   ],
   "source": [
    "for _, names in d_by_grade.items():\n",
    "    names.sort()\n",
    "d_by_grade"
   ]
  },
  {
   "cell_type": "code",
   "execution_count": 30,
   "metadata": {
    "slideshow": {
     "slide_type": "subslide"
    }
   },
   "outputs": [
    {
     "data": {
      "text/plain": [
       "0"
      ]
     },
     "execution_count": 30,
     "metadata": {},
     "output_type": "execute_result"
    }
   ],
   "source": [
    "d = defaultdict(int)\n",
    "# d = dict()\n",
    "d['abc']"
   ]
  },
  {
   "cell_type": "code",
   "execution_count": 38,
   "metadata": {
    "slideshow": {
     "slide_type": "subslide"
    }
   },
   "outputs": [
    {
     "data": {
      "text/plain": [
       "(['bae', 'joe', 'jung', 'kang', 'khan', 'kim', 'lee', 'park', 'seo', 'she'],\n",
       " ['kim', 'lee', 'seo', 'khan', 'she', 'jung', 'bae', 'kang', 'park', 'joe'])"
      ]
     },
     "execution_count": 38,
     "metadata": {},
     "output_type": "execute_result"
    }
   ],
   "source": [
    "names = ['joe', 'park', 'kang', 'bae', 'jung', 'she', 'khan', 'seo', 'lee', 'kim']\n",
    "# names.sort()\n",
    "# names.reverse()\n",
    "# names\n",
    "\n",
    "sorted(names), list(reversed(names))"
   ]
  }
 ],
 "metadata": {
  "celltoolbar": "Slideshow",
  "kernelspec": {
   "display_name": "Python 3",
   "language": "python",
   "name": "python3"
  },
  "language_info": {
   "codemirror_mode": {
    "name": "ipython",
    "version": 3
   },
   "file_extension": ".py",
   "mimetype": "text/x-python",
   "name": "python",
   "nbconvert_exporter": "python",
   "pygments_lexer": "ipython3",
   "version": "3.6.1"
  }
 },
 "nbformat": 4,
 "nbformat_minor": 2
}
