{
 "cells": [
  {
   "cell_type": "markdown",
   "metadata": {},
   "source": [
    "**(WORKSHOP)**\n",
    "\n",
    "\n",
    "**10명의 학생이 있습니다. (joe, park, kang, bae, jung, she, khan, seo, lee, kim)**\n",
    "\n",
    "**10명의 학생에게 random하게 학점(A-F)을 부여합니다.**\n",
    "```\n",
    "joe -> A\n",
    "park -> B\n",
    "kang -> C\n",
    "...\n",
    "```"
   ]
  },
  {
   "cell_type": "code",
   "execution_count": 9,
   "metadata": {},
   "outputs": [
    {
     "data": {
      "text/plain": [
       "['joe', 'park', 'kang', 'bae', 'jung', 'she', 'khan', 'seo', 'lee', 'kim']"
      ]
     },
     "execution_count": 9,
     "metadata": {},
     "output_type": "execute_result"
    }
   ],
   "source": [
    "names = 'joe,park,kang,bae,jung,she,khan,seo,lee,kim'\n",
    "names = names.split(',')\n",
    "names"
   ]
  },
  {
   "cell_type": "code",
   "execution_count": 7,
   "metadata": {},
   "outputs": [
    {
     "data": {
      "text/plain": [
       "'a'"
      ]
     },
     "execution_count": 7,
     "metadata": {},
     "output_type": "execute_result"
    }
   ],
   "source": [
    "import random\n",
    "random.choice(['a','b','c'])"
   ]
  },
  {
   "cell_type": "code",
   "execution_count": 12,
   "metadata": {},
   "outputs": [
    {
     "data": {
      "text/plain": [
       "'E'"
      ]
     },
     "execution_count": 12,
     "metadata": {},
     "output_type": "execute_result"
    }
   ],
   "source": [
    "import random\n",
    "random.choice(\"ABCDEF\")"
   ]
  },
  {
   "cell_type": "code",
   "execution_count": 41,
   "metadata": {},
   "outputs": [
    {
     "data": {
      "text/plain": [
       "{'bae': 'E',\n",
       " 'joe': 'B',\n",
       " 'jung': 'C',\n",
       " 'kang': 'A',\n",
       " 'khan': 'C',\n",
       " 'kim': 'F',\n",
       " 'lee': 'E',\n",
       " 'park': 'C',\n",
       " 'seo': 'B',\n",
       " 'she': 'D'}"
      ]
     },
     "execution_count": 41,
     "metadata": {},
     "output_type": "execute_result"
    }
   ],
   "source": [
    "# d = {}\n",
    "# for name in names: d[name] = random.choice('ABCDEF')\n",
    "names = 'joe,park,kang,bae,jung,she,khan,seo,lee,kim'\n",
    "names = names.split(',')\n",
    "names\n",
    "d = {name: random.choice('ABCDEF') for name in names}\n",
    "d"
   ]
  },
  {
   "cell_type": "markdown",
   "metadata": {},
   "source": [
    "**학점별로 학생들을 분류한 후,**\n",
    "```\n",
    "A -> joe, lee, khan\n",
    "B -> she, park\n",
    "..\n",
    "```"
   ]
  },
  {
   "cell_type": "code",
   "execution_count": 42,
   "metadata": {},
   "outputs": [
    {
     "data": {
      "text/plain": [
       "{'A': ['kang'],\n",
       " 'B': ['joe', 'seo'],\n",
       " 'C': ['park', 'jung', 'khan'],\n",
       " 'D': ['she'],\n",
       " 'E': ['bae', 'lee'],\n",
       " 'F': ['kim']}"
      ]
     },
     "execution_count": 42,
     "metadata": {},
     "output_type": "execute_result"
    }
   ],
   "source": [
    "d_by_grade = {}\n",
    "for name, grade in d.items():\n",
    "    #     d_by_grade[grade] <- name\n",
    "    if grade in d_by_grade:\n",
    "        d_by_grade[grade].append(name)\n",
    "    else:\n",
    "        d_by_grade[grade] = []\n",
    "        my_lst = d_by_grade[grade]\n",
    "        my_lst.append(name)\n",
    "    \n",
    "d_by_grade"
   ]
  },
  {
   "cell_type": "code",
   "execution_count": null,
   "metadata": {
    "collapsed": true
   },
   "outputs": [],
   "source": [
    "from collections import defaultdict\n",
    "d_by_grade = defaultdict(list)\n",
    "for name, grade in d.items():\n",
    "    d_by_grade[grade].append(name)"
   ]
  },
  {
   "cell_type": "code",
   "execution_count": 47,
   "metadata": {},
   "outputs": [
    {
     "data": {
      "text/plain": [
       "['AsyncGenerator',\n",
       " 'AsyncIterable',\n",
       " 'AsyncIterator',\n",
       " 'Awaitable',\n",
       " 'ByteString',\n",
       " 'Callable',\n",
       " 'ChainMap',\n",
       " 'Collection',\n",
       " 'Container',\n",
       " 'Coroutine',\n",
       " 'Counter',\n",
       " 'Generator',\n",
       " 'Hashable',\n",
       " 'ItemsView',\n",
       " 'Iterable',\n",
       " 'Iterator',\n",
       " 'KeysView',\n",
       " 'Mapping',\n",
       " 'MappingView',\n",
       " 'MutableMapping',\n",
       " 'MutableSequence',\n",
       " 'MutableSet',\n",
       " 'OrderedDict',\n",
       " 'Reversible',\n",
       " 'Sequence',\n",
       " 'Set',\n",
       " 'Sized',\n",
       " 'UserDict',\n",
       " 'UserList',\n",
       " 'UserString',\n",
       " 'ValuesView',\n",
       " '_Link',\n",
       " '_OrderedDictItemsView',\n",
       " '_OrderedDictKeysView',\n",
       " '_OrderedDictValuesView',\n",
       " '__all__',\n",
       " '__builtins__',\n",
       " '__cached__',\n",
       " '__doc__',\n",
       " '__file__',\n",
       " '__loader__',\n",
       " '__name__',\n",
       " '__package__',\n",
       " '__path__',\n",
       " '__spec__',\n",
       " '_chain',\n",
       " '_class_template',\n",
       " '_collections_abc',\n",
       " '_count_elements',\n",
       " '_eq',\n",
       " '_field_template',\n",
       " '_heapq',\n",
       " '_iskeyword',\n",
       " '_itemgetter',\n",
       " '_proxy',\n",
       " '_recursive_repr',\n",
       " '_repeat',\n",
       " '_repr_template',\n",
       " '_starmap',\n",
       " '_sys',\n",
       " 'abc',\n",
       " 'defaultdict',\n",
       " 'deque',\n",
       " 'namedtuple']"
      ]
     },
     "execution_count": 47,
     "metadata": {},
     "output_type": "execute_result"
    }
   ],
   "source": [
    "import collections\n",
    "dir(collections)"
   ]
  },
  {
   "cell_type": "code",
   "execution_count": 7,
   "metadata": {},
   "outputs": [
    {
     "data": {
      "text/plain": [
       "'a'"
      ]
     },
     "execution_count": 7,
     "metadata": {},
     "output_type": "execute_result"
    }
   ],
   "source": [
    "import random\n",
    "random.choice(['a','b','c'])"
   ]
  },
  {
   "cell_type": "markdown",
   "metadata": {},
   "source": [
    "**최고학점부터 출력, 학생의 이름도 정렬하여 출력해주세요.**\n",
    "```\n",
    "A -> joe, khan, lee\n",
    "B -> park, she\n",
    "\n",
    "..\n",
    "```"
   ]
  },
  {
   "cell_type": "code",
   "execution_count": 45,
   "metadata": {},
   "outputs": [
    {
     "data": {
      "text/plain": [
       "{'A': ['kang'],\n",
       " 'B': ['joe', 'seo'],\n",
       " 'C': ['jung', 'khan', 'park'],\n",
       " 'D': ['she'],\n",
       " 'E': ['bae', 'lee'],\n",
       " 'F': ['kim']}"
      ]
     },
     "execution_count": 45,
     "metadata": {},
     "output_type": "execute_result"
    }
   ],
   "source": [
    "for _, names in d_by_grade.items():\n",
    "    names.sort()\n",
    "d_by_grade"
   ]
  },
  {
   "cell_type": "code",
   "execution_count": 30,
   "metadata": {},
   "outputs": [
    {
     "data": {
      "text/plain": [
       "0"
      ]
     },
     "execution_count": 30,
     "metadata": {},
     "output_type": "execute_result"
    }
   ],
   "source": [
    "d = defaultdict(int)\n",
    "# d = dict()\n",
    "d['abc']"
   ]
  },
  {
   "cell_type": "code",
   "execution_count": 38,
   "metadata": {},
   "outputs": [
    {
     "data": {
      "text/plain": [
       "(['bae', 'joe', 'jung', 'kang', 'khan', 'kim', 'lee', 'park', 'seo', 'she'],\n",
       " ['kim', 'lee', 'seo', 'khan', 'she', 'jung', 'bae', 'kang', 'park', 'joe'])"
      ]
     },
     "execution_count": 38,
     "metadata": {},
     "output_type": "execute_result"
    }
   ],
   "source": [
    "names = ['joe', 'park', 'kang', 'bae', 'jung', 'she', 'khan', 'seo', 'lee', 'kim']\n",
    "# names.sort()\n",
    "# names.reverse()\n",
    "# names\n",
    "\n",
    "sorted(names), list(reversed(names))"
   ]
  },
  {
   "cell_type": "code",
   "execution_count": null,
   "metadata": {
    "collapsed": true
   },
   "outputs": [],
   "source": []
  }
 ],
 "metadata": {
  "kernelspec": {
   "display_name": "Python 3",
   "language": "python",
   "name": "python3"
  },
  "language_info": {
   "codemirror_mode": {
    "name": "ipython",
    "version": 3
   },
   "file_extension": ".py",
   "mimetype": "text/x-python",
   "name": "python",
   "nbconvert_exporter": "python",
   "pygments_lexer": "ipython3",
   "version": "3.6.1"
  }
 },
 "nbformat": 4,
 "nbformat_minor": 2
}
