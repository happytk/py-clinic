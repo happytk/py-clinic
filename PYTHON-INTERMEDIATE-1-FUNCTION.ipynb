{
 "cells": [
  {
   "cell_type": "markdown",
   "metadata": {
    "slideshow": {
     "slide_type": "slide"
    }
   },
   "source": [
    "## FUNCTION\n",
    "*Python은 함수형 언어로 생각하지 않았다. --Guido*"
   ]
  },
  {
   "cell_type": "code",
   "execution_count": 48,
   "metadata": {
    "slideshow": {
     "slide_type": "subslide"
    }
   },
   "outputs": [
    {
     "name": "stdout",
     "output_type": "stream",
     "text": [
      "Hello From My Function!\n"
     ]
    },
    {
     "data": {
      "text/plain": [
       "True"
      ]
     },
     "execution_count": 48,
     "metadata": {},
     "output_type": "execute_result"
    }
   ],
   "source": [
    "# 선언은 다음과 같이\n",
    "def my_function():\n",
    "    # 함수의 주석은 함수body의 상단에 위치\n",
    "    print(\"Hello From My Function!\")\n",
    "\n",
    "# 호출은()를 붙여서 해요;\n",
    "ret = my_function()"
   ]
  },
  {
   "cell_type": "code",
   "execution_count": 3,
   "metadata": {
    "slideshow": {
     "slide_type": "subslide"
    }
   },
   "outputs": [
    {
     "name": "stdout",
     "output_type": "stream",
     "text": [
      "Hello From My Function!\n"
     ]
    },
    {
     "data": {
      "text/plain": [
       "(True, True)"
      ]
     },
     "execution_count": 3,
     "metadata": {},
     "output_type": "execute_result"
    }
   ],
   "source": [
    "def my_function1():\n",
    "    # return이 없는 함수는 None을 기본으로 반환;\n",
    "    print(\"Hello From My Function!\")\n",
    "def my_function2():\n",
    "    return 10\n",
    "\n",
    "ret1, ret2 = my_function1(), my_function2()\n",
    "ret1 is None, ret2 == 10"
   ]
  },
  {
   "cell_type": "code",
   "execution_count": 1,
   "metadata": {
    "collapsed": true,
    "slideshow": {
     "slide_type": "subslide"
    }
   },
   "outputs": [],
   "source": [
    "# arguement를 받는 함수\n",
    "def my_function_with_args(username, greeting):\n",
    "    print(\"Hello, %s , From My Function!, I wish you %s\" % (\n",
    "        username, greeting\n",
    "    ))"
   ]
  },
  {
   "cell_type": "code",
   "execution_count": 1,
   "metadata": {
    "slideshow": {
     "slide_type": "subslide"
    }
   },
   "outputs": [
    {
     "data": {
      "text/plain": [
       "(7, None)"
      ]
     },
     "execution_count": 1,
     "metadata": {},
     "output_type": "execute_result"
    }
   ],
   "source": [
    "# return with argument\n",
    "def sum_two_numbers(a, b):\n",
    "    return a + b\n",
    "\n",
    "# return None\n",
    "def sum_none(a, b):\n",
    "    pass\n",
    "\n",
    "(\n",
    "    sum_two_numbers(5, 2),\n",
    "    sum_none(5, 2)\n",
    ")"
   ]
  },
  {
   "cell_type": "code",
   "execution_count": 1,
   "metadata": {
    "slideshow": {
     "slide_type": "subslide"
    }
   },
   "outputs": [
    {
     "data": {
      "text/plain": [
       "(5, 3, 4, 4.0)"
      ]
     },
     "execution_count": 1,
     "metadata": {},
     "output_type": "execute_result"
    }
   ],
   "source": [
    "# 여러개인듯 보여도 항상 단일값을 return합니다.\n",
    "def make_two_number_oper(a, b):\n",
    "    return a+b, a-b, a*b, a/b\n",
    "\n",
    "make_two_number_oper(4,1)"
   ]
  },
  {
   "cell_type": "code",
   "execution_count": 3,
   "metadata": {
    "slideshow": {
     "slide_type": "subslide"
    }
   },
   "outputs": [
    {
     "data": {
      "text/plain": [
       "(10, 10, 20)"
      ]
     },
     "execution_count": 3,
     "metadata": {},
     "output_type": "execute_result"
    }
   ],
   "source": [
    "# argument의 default값을 지정할 수 있습니다.\n",
    "def build_number(num=10):\n",
    "    return num\n",
    "\n",
    "(\n",
    "    build_number(),  # 모두생략가능\n",
    "    build_number(10),  # num생략가능\n",
    "    build_number(num=20),  # keyword style로 전달가능\n",
    ")"
   ]
  },
  {
   "cell_type": "code",
   "execution_count": 1,
   "metadata": {
    "slideshow": {
     "slide_type": "subslide"
    }
   },
   "outputs": [
    {
     "data": {
      "text/plain": [
       "(8, 15, -2, 15)"
      ]
     },
     "execution_count": 1,
     "metadata": {},
     "output_type": "execute_result"
    }
   ],
   "source": [
    "# keyword를 받는 argument는 일반 argument보다 항상 뒤쪽에\n",
    "import operator\n",
    "def combine_two(a, b, op=operator.add):\n",
    "    return op(a, b)\n",
    "(\n",
    "    combine_two(3,5),\n",
    "    combine_two(3,5, operator.mul),\n",
    "    combine_two(3,5, op=operator.sub),\n",
    "    combine_two(b=5,a=10),\n",
    ")\n",
    "# keyword 사용 이후로 순서는 무의미해집니다.\n",
    "combine_two(5, op=operator.sub, b=10)\n",
    "combine_two(op=operator.sub, b=5, a=10)\n",
    "# combine_two(op=operator.sub, b=10, 1)  # 이런것만 안됩니다.\n",
    "# combine_two(op=operator.sub, 10, 1)  # 이런것만 안됩니다."
   ]
  },
  {
   "cell_type": "code",
   "execution_count": 10,
   "metadata": {
    "slideshow": {
     "slide_type": "subslide"
    }
   },
   "outputs": [
    {
     "name": "stdout",
     "output_type": "stream",
     "text": [
      "4481106128 4481106128\n"
     ]
    },
    {
     "data": {
      "text/plain": [
       "[('Hello From My Function!', 'apple'),\n",
       " ('Hello From My Function!', 'blueberry'),\n",
       " ('Hello From My Function!', 'grape')]"
      ]
     },
     "execution_count": 10,
     "metadata": {},
     "output_type": "execute_result"
    }
   ],
   "source": [
    "def my_function(fruit):\n",
    "    return \"Hello From My Function!\", fruit\n",
    "\n",
    "# 함수도 다른 객체처럼 다룰 수 있어요. (first-class)\n",
    "myf = my_function # 다른 변수에 할당하고\n",
    "myf(None) # 다른 변수를 호출\n",
    "print(id(myf), id(my_function))\n",
    "\n",
    "# 다른 함수의 인자로도 전달\n",
    "list(map(my_function, [\"apple\", \"blueberry\", \"grape\"]))"
   ]
  },
  {
   "cell_type": "markdown",
   "metadata": {
    "slideshow": {
     "slide_type": "slide"
    }
   },
   "source": [
    "## EXERCISE "
   ]
  },
  {
   "cell_type": "markdown",
   "metadata": {
    "slideshow": {
     "slide_type": "subslide"
    }
   },
   "source": [
    "- list_benefit() 함수는 다음 문자열의 목록을 return하도록 구현해주세요. \"More organized code\", \"More readable code\", \"Easier code reuse\", \"Allowing programmers to share and connect code together\"\n",
    "- build_sentence() 함수는 인자를 받아서 해당 인자 뒤에 \" is a benefit of functions!\" 문자열을 붙여서 return하도록 구현해주세요."
   ]
  },
  {
   "cell_type": "code",
   "execution_count": 4,
   "metadata": {
    "slideshow": {
     "slide_type": "subslide"
    }
   },
   "outputs": [],
   "source": [
    "# Modify this function to return a list of strings as defined above\n",
    "def list_benefits():\n",
    "    return []\n",
    "\n",
    "# Modify this function to concatenate to each benefit - \" is a benefit of functions!\"\n",
    "def build_sentence(benefit):\n",
    "    # python의 다양한 문자열 formatting방법을 시도해보세요 (3가지 이상)\n",
    "    return\n",
    "\n",
    "# 이 아래부터는 테스트코드이므로 건드리지 않습니다.\n",
    "def name_the_benefits_of_functions():\n",
    "    list_of_benefits = list_benefits()\n",
    "    for benefit in list_of_benefits:\n",
    "        print(build_sentence(benefit))\n",
    "\n",
    "name_the_benefits_of_functions()"
   ]
  },
  {
   "cell_type": "markdown",
   "metadata": {
    "slideshow": {
     "slide_type": "slide"
    }
   },
   "source": [
    "## VARIABLE FUNCTION ARGUMENTS\n",
    "*함수를 좀 더 유연하게*"
   ]
  },
  {
   "cell_type": "code",
   "execution_count": 2,
   "metadata": {
    "slideshow": {
     "slide_type": "subslide"
    }
   },
   "outputs": [
    {
     "name": "stdout",
     "output_type": "stream",
     "text": [
      "1 2 2 3 4 3\n"
     ]
    }
   ],
   "source": [
    "# print함수는 몇개의 변수가 파라미터로 들어올지 예상할 수 없습니다.\n",
    "# 마지막에는 keyword 형태의 argument를 받습니다.\n",
    "# (keyword end없이 해당 값을 전달할 수 있는 방법이 없습니다)\n",
    "print(1, 2, 2, 3, 4, 3, end='\\n')"
   ]
  },
  {
   "cell_type": "code",
   "execution_count": 4,
   "metadata": {
    "slideshow": {
     "slide_type": "subslide"
    }
   },
   "outputs": [],
   "source": [
    "# 우리가 일반적으로 생각하는 overloading\n",
    "def foo(first):\n",
    "    pass\n",
    "def foo(first, second):\n",
    "    pass\n",
    "def foo(first, second, third):\n",
    "    pass\n",
    "\n",
    "# foo(1)"
   ]
  },
  {
   "cell_type": "markdown",
   "metadata": {
    "slideshow": {
     "slide_type": "subslide"
    }
   },
   "source": [
    "python 에서 함수는 단일 함수 이름에, 단일 signature를 가지는 것만 가능합니다. 즉 overloading이 불가능합니다."
   ]
  },
  {
   "cell_type": "code",
   "execution_count": 5,
   "metadata": {
    "slideshow": {
     "slide_type": "subslide"
    }
   },
   "outputs": [
    {
     "data": {
      "text/plain": [
       "((tuple, (1, 2, 3)), (tuple, (1, 2)), (tuple, (1,)))"
      ]
     },
     "execution_count": 5,
     "metadata": {},
     "output_type": "execute_result"
    }
   ],
   "source": [
    "# 대안: argument개수를 제한없이 받을 수 있는 형태\n",
    "def foo(*args):\n",
    "    return type(args), args\n",
    "\n",
    "(\n",
    "    foo(1,2,3), foo(1,2), foo(1)\n",
    ")"
   ]
  },
  {
   "cell_type": "code",
   "execution_count": 12,
   "metadata": {
    "slideshow": {
     "slide_type": "subslide"
    }
   },
   "outputs": [
    {
     "name": "stdout",
     "output_type": "stream",
     "text": [
      "<class 'dict'>\n",
      "The sum is: 6\n",
      "Result: 1\n"
     ]
    }
   ],
   "source": [
    "# 모든 keyword argument를 제한없이 받을 수 있는 형태\n",
    "def bar(first, second, third, **options):\n",
    "    print(type(options))\n",
    "    if options.get(\"action\") == \"sum\":\n",
    "        print(\"The sum is: %d\" %(first + second + third))\n",
    "\n",
    "    if options.get(\"number\") == \"first\":\n",
    "        return first\n",
    "\n",
    "result = bar(1, 2, 3, action = \"sum\", number = \"first\")\n",
    "print(\"Result: %d\" %(result))"
   ]
  },
  {
   "cell_type": "code",
   "execution_count": 21,
   "metadata": {
    "slideshow": {
     "slide_type": "subslide"
    }
   },
   "outputs": [
    {
     "name": "stdout",
     "output_type": "stream",
     "text": [
      "(1, 2, 3) {}\n",
      "(1, 2, 3, '4') {'extra': None}\n",
      "(1, 2, 3) {'hello': 'world', 'leave': 'now'}\n"
     ]
    }
   ],
   "source": [
    "# 어떤 함수도 이 signature로 대체할 수 있습니다.\n",
    "def function(*args, **kwargs):\n",
    "    print(args, kwargs)\n",
    "    \n",
    "function(1,2,3)\n",
    "function(1,2,3,\"4\",extra=None)\n",
    "function(1,2,3,hello='world',leave=\"now\")"
   ]
  },
  {
   "cell_type": "code",
   "execution_count": 8,
   "metadata": {
    "slideshow": {
     "slide_type": "subslide"
    }
   },
   "outputs": [
    {
     "name": "stdout",
     "output_type": "stream",
     "text": [
      "1 2 (3, 4, 5) {}\n",
      "1 2 () {'extra': 10}\n",
      "1 2 (3, 4, 5) {'extra': 10}\n"
     ]
    }
   ],
   "source": [
    "# 가변처리에 앞서 필수고정인자를 지정하려면\n",
    "def function(first, second, *args, **kwargs):\n",
    "    print(first, second, args, kwargs)\n",
    "\n",
    "# 두개는 반드시 고정인자로 들어갑니다.\n",
    "function(1,2,3,4,5)\n",
    "function(1,2,extra=10)\n",
    "function(1,2,3,4,5,extra=10)\n",
    "# function(extra=10)\n",
    "# function(1, extra=10)"
   ]
  },
  {
   "cell_type": "code",
   "execution_count": 14,
   "metadata": {
    "slideshow": {
     "slide_type": "subslide"
    }
   },
   "outputs": [
    {
     "name": "stdout",
     "output_type": "stream",
     "text": [
      "1 2 (3, 4, 5) 10 {'therest': 100}\n",
      "1 2 (3, 4, 5) None {'therest': 100}\n",
      "1 2 (3, 4, 5) 10 {'therest': 100}\n",
      "1 2 (10,) None {}\n"
     ]
    }
   ],
   "source": [
    "# keyword-only arguments, python3 only\n",
    "# 함수 호출시 extra는 반드시 keyword로 전달해야 합니다.\n",
    "def function(first, second, *args, extra=None, **kwargs):\n",
    "    print(first, second, args, extra, kwargs)\n",
    "\n",
    "# extra는 keyword외에는 할당 불가.    \n",
    "function(1,2,3,4,5,extra=10,therest=100)\n",
    "function(1,2,3,4,5,therest=100)\n",
    "function(1,2,3,4,5,therest=100, extra=10) # kw순서는 중요하지 않아요\n",
    "function(1,2,10)"
   ]
  },
  {
   "cell_type": "code",
   "execution_count": 2,
   "metadata": {
    "slideshow": {
     "slide_type": "subslide"
    }
   },
   "outputs": [
    {
     "name": "stderr",
     "output_type": "stream",
     "text": [
      "pyenv-implicit: found multiple python2 in pyenv. Use version 2.7.13.\n",
      "  File \"<stdin>\", line 3\n",
      "    def function(first, second, *args, extra=None, **kwargs):\n",
      "                                           ^\n",
      "SyntaxError: invalid syntax\n"
     ]
    }
   ],
   "source": [
    "%%python2\n",
    "#-*-encoding:utf-8-*-\n",
    "# python2에서는 extra를 아래와 같이 지정할 수 **없어요.**\n",
    "def function(first, second, *args, extra=None, **kwargs):\n",
    "    print(first, second, args, extra, kwargs)"
   ]
  },
  {
   "cell_type": "code",
   "execution_count": 3,
   "metadata": {
    "slideshow": {
     "slide_type": "subslide"
    }
   },
   "outputs": [
    {
     "name": "stdout",
     "output_type": "stream",
     "text": [
      "1 10\n",
      "1 10\n",
      "1 10\n"
     ]
    }
   ],
   "source": [
    "# keyword-only 구현차이를 확인하세요.\n",
    "def function(first, extra=None):\n",
    "    print(first, extra)\n",
    "function(1,10)\n",
    "function(1,extra=10)\n",
    "\n",
    "def function(first, *, extra=None):\n",
    "    print(first, extra)\n",
    "# function(1, 10)  # 불가능\n",
    "function(1, extra=10)"
   ]
  },
  {
   "cell_type": "markdown",
   "metadata": {
    "slideshow": {
     "slide_type": "subslide"
    }
   },
   "source": [
    "함수의 arguments는 tuple과 map형태로 관리됩니다."
   ]
  },
  {
   "cell_type": "code",
   "execution_count": 6,
   "metadata": {
    "slideshow": {
     "slide_type": "subslide"
    }
   },
   "outputs": [
    {
     "name": "stdout",
     "output_type": "stream",
     "text": [
      "1 2 ({'hello': 'world'},) None {}\n",
      "1 2 () None {'hello': 'world'}\n",
      "1 2 (3,) None {'hello': 'world'}\n",
      "4 5 (6,) extra {'test': 'world'}\n"
     ]
    }
   ],
   "source": [
    "def function(first, second, *args, extra=None, **kwargs):\n",
    "    print(first, second, args, extra, kwargs)\n",
    "\n",
    "# 다음과 같이 unpacking할 수 있습니다.\n",
    "lst = [1,2,3]\n",
    "dic = hello='world'\n",
    "function(1,2,3)\n",
    "# function(lst) # function([1,2,3])\n",
    "function(lst[0], lst[1], lst[2])\n",
    "function(*lst) # function(1,2,3)\n",
    "function(1,2, dic)\n",
    "function(1,2, **dic) # function(1, 2, hello='world')\n",
    "function(*lst, **dic)\n",
    "function(*[4,5,6], **dict(extra='extra', test='world'))"
   ]
  },
  {
   "cell_type": "code",
   "execution_count": 19,
   "metadata": {
    "slideshow": {
     "slide_type": "subslide"
    }
   },
   "outputs": [
    {
     "data": {
      "text/plain": [
       "((1, 2, 3, 4, 5, 6, 6, 7, 8), {1, 2, 3, 4, 5, 6, 7, 8})"
      ]
     },
     "execution_count": 19,
     "metadata": {},
     "output_type": "execute_result"
    }
   ],
   "source": [
    "# unpacking의 또다른 활용법\n",
    "d1 = (1,2,3)\n",
    "d2 = (4,5,6)\n",
    "d3 = (6,7,8)\n",
    "d4 = (*d1, *d2, *d3) # tuple\n",
    "d5 = {*d1, *d2, *d3} # set\n",
    "\n",
    "d4,d5"
   ]
  },
  {
   "cell_type": "code",
   "execution_count": 7,
   "metadata": {
    "slideshow": {
     "slide_type": "subslide"
    }
   },
   "outputs": [
    {
     "data": {
      "text/plain": [
       "{1: 2, 2: 3, 3: 4, 4: 6, 5: 6}"
      ]
     },
     "execution_count": 7,
     "metadata": {},
     "output_type": "execute_result"
    }
   ],
   "source": [
    "# unpacking의 또다른 활용법\n",
    "d1 = {1:2, 2:3}\n",
    "d2 = {3:4, 4:5}\n",
    "d3 = {5:6, 4:6}\n",
    "d3 = {**d1, **d2, **d3}\n",
    "\n",
    "d3 # 4의 경우 5->6으로 overwiriting되었습니다."
   ]
  },
  {
   "cell_type": "markdown",
   "metadata": {
    "slideshow": {
     "slide_type": "subslide"
    }
   },
   "source": [
    "이 수업을 들은 여러분이 이런 수고를 하지 않았으면 좋겠습니다."
   ]
  },
  {
   "cell_type": "code",
   "execution_count": 40,
   "metadata": {
    "slideshow": {
     "slide_type": "subslide"
    }
   },
   "outputs": [
    {
     "data": {
      "text/plain": [
       "12"
      ]
     },
     "execution_count": 40,
     "metadata": {},
     "output_type": "execute_result"
    }
   ],
   "source": [
    "import random\n",
    "def get_result():\n",
    "    return [random.randrange(10) for i in range(5)]\n",
    "\n",
    "ret = get_result()\n",
    "\n",
    "def process(first, second, third, fourth, fifth):\n",
    "    return first + second + third + fourth + fifth\n",
    "\n",
    "process(ret[0], ret[1], ret[2], ret[3], ret[4]) # bad"
   ]
  },
  {
   "cell_type": "code",
   "execution_count": 42,
   "metadata": {
    "slideshow": {
     "slide_type": "subslide"
    }
   },
   "outputs": [
    {
     "data": {
      "text/plain": [
       "11"
      ]
     },
     "execution_count": 42,
     "metadata": {},
     "output_type": "execute_result"
    }
   ],
   "source": [
    "import random\n",
    "def get_result():\n",
    "    return [random.randrange(10) for i in range(5)]\n",
    "\n",
    "ret = get_result()\n",
    "\n",
    "def process(first, second, third, fourth, fifth):\n",
    "    return first + second + third + fourth + fifth\n",
    "\n",
    "process(*ret) # not bad"
   ]
  },
  {
   "cell_type": "markdown",
   "metadata": {
    "collapsed": true,
    "slideshow": {
     "slide_type": "subslide"
    }
   },
   "source": [
    "keyword에 대한 bad-case도 다들 상상하실 수 있을 것 같습니다."
   ]
  },
  {
   "cell_type": "code",
   "execution_count": null,
   "metadata": {
    "collapsed": true,
    "slideshow": {
     "slide_type": "subslide"
    }
   },
   "outputs": [],
   "source": [
    "def from_dict(d):\n",
    "    hello = d['hello']\n",
    "    world = d['world']\n",
    "    return proc(hello=hello, world=world) # bad\n",
    "\n",
    "def from_dict(d):\n",
    "    return proc(**d)  # not-bad\n",
    "\n",
    "def from_dict(**d):\n",
    "    return proc(**d)  # 무슨 차이일까요?"
   ]
  },
  {
   "cell_type": "code",
   "execution_count": 8,
   "metadata": {
    "slideshow": {
     "slide_type": "subslide"
    }
   },
   "outputs": [
    {
     "name": "stdout",
     "output_type": "stream",
     "text": [
      "world hello\n",
      "<class 'dict'>\n",
      "world hello\n",
      "<class 'dict'>\n",
      "world hello\n",
      "<class 'dict'>\n",
      "world hello\n"
     ]
    }
   ],
   "source": [
    "def proc(hello, world):\n",
    "    print(hello, world)\n",
    "\n",
    "def from_dict(d):\n",
    "    hello = d['hello']\n",
    "    world = d['world']\n",
    "    return proc(hello=hello, world=world) # bad\n",
    "from_dict({'hello':'world', 'world':'hello'})\n",
    "\n",
    "def from_dict(d):\n",
    "    print(type(d))\n",
    "    return proc(**d)  # not-bad\n",
    "from_dict({'hello':'world', 'world':'hello'})\n",
    "\n",
    "def from_dict(**d):\n",
    "    print(type(d))\n",
    "    return proc(**d)  # 무슨 차이일까요?\n",
    "\n",
    "# dictionary를 unpacking해서 전달해야 합니다.\n",
    "from_dict(**{'hello':'world', 'world':'hello'})\n",
    "# 결국은 이렇게 쓰자고 하는거죠\n",
    "from_dict(hello='world', world='hello')"
   ]
  },
  {
   "cell_type": "markdown",
   "metadata": {
    "slideshow": {
     "slide_type": "slide"
    }
   },
   "source": [
    "## EXERCISE"
   ]
  },
  {
   "cell_type": "code",
   "execution_count": 1,
   "metadata": {
    "slideshow": {
     "slide_type": "fragment"
    }
   },
   "outputs": [],
   "source": [
    "#1. print와 동일하게 동작하는 나만의 print함수를 만들어봅시다.\n",
    "# myprint('hello', 'world')\n",
    "# -> hello world\n",
    "# myprint('hello', 'world', end=' '); myprint('hello', 'world')\n",
    "# -> hello world hello world\n",
    "\n",
    "\n",
    "#2. myprint가 keyword를 추가로 지정할 경우 다음과 같이 출력하도록 개선해봅시다.\n",
    "# myprint('hello', 'world', thank='you', youre='welcome')\n",
    "# -> hello world\n",
    "# -> thank -> you\n",
    "# -> youre -> welcome\n",
    "\n",
    "#3. #2에서 you're -> welcome을 출력하고 싶다면 어떻게 해야 할까요?"
   ]
  },
  {
   "cell_type": "markdown",
   "metadata": {
    "slideshow": {
     "slide_type": "slide"
    }
   },
   "source": [
    "함수도 객체이기 때문에 재미있는 일들을 할 수 있습니다."
   ]
  },
  {
   "cell_type": "code",
   "execution_count": 31,
   "metadata": {
    "slideshow": {
     "slide_type": "subslide"
    }
   },
   "outputs": [
    {
     "name": "stdout",
     "output_type": "stream",
     "text": [
      "{'property': 'hello', 'hello': 'world'}\n",
      "<function func at 0x1074a6c80>\n",
      "hello\n",
      "world\n"
     ]
    }
   ],
   "source": [
    "def func():\n",
    "    return 'world'\n",
    "\n",
    "# PEP 232, 임의의 속성을 함수에 부여할 수 있으며 __dict__에서 찾을 수 있습니다.\n",
    "func.property = 'hello' \n",
    "func.hello = 'world'\n",
    "\n",
    "print(func.__dict__) # 함수의 __dict__ 속성에 저장되어요.\n",
    "print(func) # 변수처럼 다룰 수도 있음\n",
    "print(func.property) # 속성은 .으로 조회가능\n",
    "print(func()) # 그냥 호출할 수도 있음, 함수니까"
   ]
  },
  {
   "cell_type": "code",
   "execution_count": 26,
   "metadata": {
    "collapsed": true,
    "slideshow": {
     "slide_type": "subslide"
    }
   },
   "outputs": [],
   "source": [
    "# https://docs.djangoproject.com/en/1.11/ref/contrib/admin/\n",
    "# django의 사례\n",
    "def was_published_recently(self):\n",
    "    now = timezone.now()\n",
    "    return now - datetime.timedelta(days=1) <= self.pub_date <= now\n",
    "was_published_recently.admin_order_field = 'pub_date'\n",
    "was_published_recently.boolean = True\n",
    "was_published_recently.short_description = 'Published recently?'"
   ]
  },
  {
   "cell_type": "markdown",
   "metadata": {
    "slideshow": {
     "slide_type": "slide"
    }
   },
   "source": [
    "## LAMBDA (익명함수)\n",
    "*논란의 주인공*"
   ]
  },
  {
   "cell_type": "markdown",
   "metadata": {
    "slideshow": {
     "slide_type": "subslide"
    }
   },
   "source": [
    "- **함수**의 줄임표현입니다."
   ]
  },
  {
   "cell_type": "code",
   "execution_count": 7,
   "metadata": {
    "slideshow": {
     "slide_type": "subslide"
    }
   },
   "outputs": [
    {
     "data": {
      "text/plain": [
       "True"
      ]
     },
     "execution_count": 7,
     "metadata": {},
     "output_type": "execute_result"
    }
   ],
   "source": [
    "def count(word):\n",
    "    return len(word)\n",
    "\n",
    "lcount = lambda word: len(word)\n",
    "count('hello') == lcount('hello')"
   ]
  },
  {
   "cell_type": "code",
   "execution_count": 32,
   "metadata": {
    "slideshow": {
     "slide_type": "subslide"
    }
   },
   "outputs": [
    {
     "data": {
      "text/plain": [
       "['fig', 'apple', 'cherry', 'banana', 'raspberry', 'strawberry']"
      ]
     },
     "execution_count": 32,
     "metadata": {},
     "output_type": "execute_result"
    }
   ],
   "source": [
    "# 함수의 인자로 들어갈때 많이 사용합니다.\n",
    "fruits = ['strawberry', 'fig', 'apple', 'cherry', 'raspberry', 'banana']\n",
    "fruits.sort(key=lambda word:len(word))\n",
    "fruits"
   ]
  },
  {
   "cell_type": "code",
   "execution_count": 10,
   "metadata": {
    "slideshow": {
     "slide_type": "subslide"
    }
   },
   "outputs": [
    {
     "data": {
      "text/plain": [
       "[2, 3, 4, 5, 6]"
      ]
     },
     "execution_count": 10,
     "metadata": {},
     "output_type": "execute_result"
    }
   ],
   "source": [
    "def _(x):\n",
    "    return x + 1\n",
    "list(map(_, [1,2,3,4,5])) == list(map(lambda x: x+1, [1,2,3,4,5]))"
   ]
  },
  {
   "cell_type": "code",
   "execution_count": 40,
   "metadata": {
    "slideshow": {
     "slide_type": "subslide"
    }
   },
   "outputs": [
    {
     "data": {
      "text/plain": [
       "15"
      ]
     },
     "execution_count": 40,
     "metadata": {},
     "output_type": "execute_result"
    }
   ],
   "source": [
    "# 여러개의 인자를 받습니다.\n",
    "sum = lambda x,y: x+y\n",
    "sum(5,10)"
   ]
  },
  {
   "cell_type": "code",
   "execution_count": 32,
   "metadata": {
    "slideshow": {
     "slide_type": "subslide"
    }
   },
   "outputs": [
    {
     "name": "stdout",
     "output_type": "stream",
     "text": [
      "(1, 2, 3, 4, 5) {}\n",
      "(1, 2, 3, 4, 5) {'hello': 'world'}\n"
     ]
    }
   ],
   "source": [
    "# 가변인자도 소화가능\n",
    "func_sig = lambda *args, **kwargs: print(args, kwargs)\n",
    "func_sig(1,2,3,4,5)\n",
    "func_sig(1,2,3,4,5, **dict(hello='world'))"
   ]
  },
  {
   "cell_type": "markdown",
   "metadata": {
    "slideshow": {
     "slide_type": "subslide"
    }
   },
   "source": [
    "- **함수를 또 다른 함수의 argument로 전달하는 경우에(만) 많이 사용됩니다.**\n",
    "- PYTHON에서의 LAMBDA함수는 순수 표현식만 사용 가능합니다.\n",
    " - whilte, try 같은 statement는 사용할 수 없습니다.\n",
    " - 변수할당과 같은 동작도 불가능합니다.\n",
    " - http://www.artima.com/weblogs/viewpost.jsp?thread=147358\n"
   ]
  },
  {
   "cell_type": "markdown",
   "metadata": {
    "slideshow": {
     "slide_type": "subslide"
    }
   },
   "source": [
    "- lambda는 그저 함수표현을 간단하게 해주는 syntatic sugar에 불과합니다.\n",
    "- lambda자체를 변수에 할당해서 사용하는 경우 pep8에서는 def 형태의 함수로 변경할 것을 요구합니다."
   ]
  },
  {
   "cell_type": "markdown",
   "metadata": {
    "slideshow": {
     "slide_type": "subslide"
    }
   },
   "source": [
    "Guido는 lambda를 없애고 싶어합니다. Python에 해당 기능을 포함시킨 것을 후회하고 있다고 하네요.\n",
    "- python3에서는 거의 사라질뻔 했습니다.\n",
    "- lambda 표현은 python의 다른 표현으로 대체할 수 있습니다.\n",
    "- *그리고 그 표현들이 더 Pythonic하다고 생각하는듯 합니다.*"
   ]
  },
  {
   "cell_type": "code",
   "execution_count": 33,
   "metadata": {
    "slideshow": {
     "slide_type": "subslide"
    }
   },
   "outputs": [
    {
     "data": {
      "text/plain": [
       "(['fig', 'apple', 'cherry', 'banana', 'raspberry', 'strawberry'],\n",
       " ['strawberry', 'raspberry', 'cherry', 'banana', 'apple', 'fig'])"
      ]
     },
     "execution_count": 33,
     "metadata": {},
     "output_type": "execute_result"
    }
   ],
   "source": [
    "# lambda 사용의 흔한 예\n",
    "fruits = ['strawberry', 'fig', 'apple', 'cherry', 'raspberry', 'banana']\n",
    "fruits.sort(key=lambda x: len(x)) \n",
    "fruits, sorted(fruits, key=lambda x: -len(x))"
   ]
  },
  {
   "cell_type": "code",
   "execution_count": 36,
   "metadata": {
    "slideshow": {
     "slide_type": "subslide"
    }
   },
   "outputs": [
    {
     "data": {
      "text/plain": [
       "([1, 2, 3, 4, 5], [1, 2, 3, 4, 5])"
      ]
     },
     "execution_count": 36,
     "metadata": {},
     "output_type": "execute_result"
    }
   ],
   "source": [
    "# lambda는 대체할 수 있는 방법이 항상 존재합니다.\n",
    "# 다음장에서도 다뤄요!\n",
    "from operator import add\n",
    "from functools import partial \n",
    "\n",
    "(\n",
    "    list(map(lambda x:x+1, range(5))),\n",
    "    list(map(partial(add,1), range(5)))\n",
    ")"
   ]
  },
  {
   "cell_type": "markdown",
   "metadata": {
    "slideshow": {
     "slide_type": "slide"
    }
   },
   "source": [
    "# Exercise: code reading\n",
    "\n",
    "django-project의 lambda표현식들을 찾아봅시다. 어떤 특징들이 있나요?"
   ]
  }
 ],
 "metadata": {
  "celltoolbar": "Slideshow",
  "kernelspec": {
   "display_name": "Python 3",
   "language": "python",
   "name": "python3"
  },
  "language_info": {
   "codemirror_mode": {
    "name": "ipython",
    "version": 3
   },
   "file_extension": ".py",
   "mimetype": "text/x-python",
   "name": "python",
   "nbconvert_exporter": "python",
   "pygments_lexer": "ipython3",
   "version": "3.6.1"
  }
 },
 "nbformat": 4,
 "nbformat_minor": 2
}
