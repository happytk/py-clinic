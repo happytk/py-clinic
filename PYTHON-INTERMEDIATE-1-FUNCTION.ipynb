{
 "cells": [
  {
   "cell_type": "markdown",
   "metadata": {
    "slideshow": {
     "slide_type": "slide"
    }
   },
   "source": [
    "## FUNCTION\n",
    "*Python은 함수형 언어로 생각하지 않았다. --Guido*"
   ]
  },
  {
   "cell_type": "code",
   "execution_count": 48,
   "metadata": {
    "slideshow": {
     "slide_type": "subslide"
    }
   },
   "outputs": [
    {
     "name": "stdout",
     "output_type": "stream",
     "text": [
      "Hello From My Function!\n"
     ]
    },
    {
     "data": {
      "text/plain": [
       "True"
      ]
     },
     "execution_count": 48,
     "metadata": {},
     "output_type": "execute_result"
    }
   ],
   "source": [
    "def my_function():\n",
    "    print(\"Hello From My Function!\")\n",
    "\n",
    "# 호출은()를 붙여서 해요;\n",
    "# return이 없는 함수는 None을 기본으로 반환;\n",
    "ret = my_function()\n",
    "ret is None"
   ]
  },
  {
   "cell_type": "code",
   "execution_count": 15,
   "metadata": {
    "slideshow": {
     "slide_type": "subslide"
    }
   },
   "outputs": [
    {
     "name": "stdout",
     "output_type": "stream",
     "text": [
      "Hello From My Function!\n",
      "4551539296\n",
      "4551539296\n"
     ]
    },
    {
     "data": {
      "text/plain": [
       "<map at 0x10f54ea20>"
      ]
     },
     "execution_count": 15,
     "metadata": {},
     "output_type": "execute_result"
    }
   ],
   "source": [
    "def my_function():\n",
    "    print(\"Hello From My Function!\")\n",
    "\n",
    "\n",
    "# 함수도 다른 객체처럼 다룰 수 있어요. (first-class)\n",
    "myf = my_function\n",
    "myf()\n",
    "print(id(myf))\n",
    "print(id(my_function))\n",
    "\n",
    "# 다른 함수의 인자로도 전달할 수 있어요.\n",
    "map(my_function, [\"apple\", \"blueberry\", \"grape\"])"
   ]
  },
  {
   "cell_type": "code",
   "execution_count": 2,
   "metadata": {
    "collapsed": true,
    "slideshow": {
     "slide_type": "subslide"
    }
   },
   "outputs": [],
   "source": [
    "# arguement를 받는 함수\n",
    "def my_function_with_args(username, greeting):\n",
    "    print(\"Hello, %s , From My Function!, I wish you %s\"%(username, greeting))"
   ]
  },
  {
   "cell_type": "code",
   "execution_count": 16,
   "metadata": {
    "collapsed": true,
    "slideshow": {
     "slide_type": "subslide"
    }
   },
   "outputs": [],
   "source": [
    "# return\n",
    "def sum_two_numbers(a, b):\n",
    "    return a + b"
   ]
  },
  {
   "cell_type": "code",
   "execution_count": 19,
   "metadata": {
    "slideshow": {
     "slide_type": "subslide"
    }
   },
   "outputs": [
    {
     "data": {
      "text/plain": [
       "(5, 3, 4, 4.0)"
      ]
     },
     "execution_count": 19,
     "metadata": {},
     "output_type": "execute_result"
    }
   ],
   "source": [
    "# 항상 단일값을 return합니다.\n",
    "def make_two_number_oper(a, b):\n",
    "    return a+b, a-b, a*b, a/b\n",
    "\n",
    "make_two_number_oper(4,1)"
   ]
  },
  {
   "cell_type": "markdown",
   "metadata": {
    "slideshow": {
     "slide_type": "slide"
    }
   },
   "source": [
    "## EXERCISE "
   ]
  },
  {
   "cell_type": "markdown",
   "metadata": {
    "slideshow": {
     "slide_type": "subslide"
    }
   },
   "source": [
    "- list_benefit() 함수는 다음 문자열의 목록을 return하도록 구현해주세요. \"More organized code\", \"More readable code\", \"Easier code reuse\", \"Allowing programmers to share and connect code together\"\n",
    "- build_sentence() 함수는 인자를 받아서 해당 인자 뒤에 \" is a benefit of functions!\" 문자열을 붙여서 return하도록 구현해주세요."
   ]
  },
  {
   "cell_type": "code",
   "execution_count": 4,
   "metadata": {
    "slideshow": {
     "slide_type": "subslide"
    }
   },
   "outputs": [
    {
     "name": "stdout",
     "output_type": "stream",
     "text": [
      "More organized code is a benefit of functions!-More readable code is a benefit of functions!-Easier code reuse is a benefit of functions!-Allowing programmers to share and connect code together is a benefit of functions!-"
     ]
    }
   ],
   "source": [
    "# Modify this function to return a list of strings as defined above\n",
    "def list_benefits():\n",
    "    return [\"More organized code\", \"More readable code\",\n",
    "            \"Easier code reuse\",\n",
    "            \"Allowing programmers to share and connect code together\"]\n",
    "\n",
    "# Modify this function to concatenate to each benefit - \" is a benefit of functions!\"\n",
    "def build_sentence(benefit):\n",
    "    return benefit + \" is a benefit of functions!\"\n",
    "\n",
    "def name_the_benefits_of_functions():\n",
    "    list_of_benefits = list_benefits()\n",
    "    for benefit in list_of_benefits:\n",
    "        print(build_sentence(benefit), en)\n",
    "\n",
    "name_the_benefits_of_functions()"
   ]
  },
  {
   "cell_type": "markdown",
   "metadata": {
    "slideshow": {
     "slide_type": "slide"
    }
   },
   "source": [
    "## FUNCTION ARGUMENTS\n",
    "*함수를 좀 더 유연하게*"
   ]
  },
  {
   "cell_type": "code",
   "execution_count": 6,
   "metadata": {},
   "outputs": [
    {
     "name": "stdout",
     "output_type": "stream",
     "text": [
      "1 2 2 3 4 3\n"
     ]
    }
   ],
   "source": [
    "print(1, 2, 2, 3, 4, 3, end='\\n')"
   ]
  },
  {
   "cell_type": "code",
   "execution_count": 19,
   "metadata": {
    "slideshow": {
     "slide_type": "subslide"
    }
   },
   "outputs": [
    {
     "name": "stdout",
     "output_type": "stream",
     "text": [
      "(1, 2, 3) {'end': ' ', 'sep': ' ', 'start': ' '}\n"
     ]
    }
   ],
   "source": [
    "def foo(*args, **kw):\n",
    "#     print(\"First: %s\" %(first))\n",
    "#     print(\"Second: %s\" %(second))\n",
    "#     print(\"Third: %s\" %(third))\n",
    "#     print(\"And all the rest... %s\" %(list(therest)))\n",
    "    print(args, kw)\n",
    "\n",
    "foo(1,2,3, end=' ', sep=' ', start=' ')"
   ]
  },
  {
   "cell_type": "code",
   "execution_count": 21,
   "metadata": {
    "slideshow": {
     "slide_type": "subslide"
    }
   },
   "outputs": [
    {
     "name": "stdout",
     "output_type": "stream",
     "text": [
      "The sum is: 6\n",
      "Result: 1\n"
     ]
    }
   ],
   "source": [
    "def bar(first, second, third, **options):\n",
    "    if options.get(\"action\") == \"sum\":\n",
    "        print(\"The sum is: %d\" %(first + second + third))\n",
    "\n",
    "    if options.get(\"number\") == \"first\":\n",
    "        return first\n",
    "\n",
    "result = bar(1, 2, 3, action = \"sum\", number = \"first\")\n",
    "print(\"Result: %d\" %(result))"
   ]
  },
  {
   "cell_type": "code",
   "execution_count": 50,
   "metadata": {
    "slideshow": {
     "slide_type": "subslide"
    }
   },
   "outputs": [
    {
     "name": "stdout",
     "output_type": "stream",
     "text": [
      "(1, 2, 3) {}\n",
      "(1, 2, 3, '4') {'extra': None}\n",
      "(1, 2, 3) {'hello': 'world', 'leave': 'now'}\n"
     ]
    }
   ],
   "source": [
    "# 모든 함수의 signature가 될 수 있습니다.\n",
    "def function(*args, **kwargs):\n",
    "    print(args, kwargs)\n",
    "    \n",
    "function(1,2,3)\n",
    "function(1,2,3,\"4\",extra=None)\n",
    "function(1,2,3,hello='world',leave=\"now\")"
   ]
  },
  {
   "cell_type": "code",
   "execution_count": 22,
   "metadata": {
    "slideshow": {
     "slide_type": "subslide"
    }
   },
   "outputs": [
    {
     "name": "stdout",
     "output_type": "stream",
     "text": [
      "1 2 (3, 4, 5) {}\n",
      "1 2 () {'extra': 10}\n",
      "1 2 (3, 4, 5) {'extra': 10}\n"
     ]
    },
    {
     "ename": "TypeError",
     "evalue": "function() missing 1 required positional argument: 'second'",
     "output_type": "error",
     "traceback": [
      "\u001b[0;31m---------------------------------------------------------------------------\u001b[0m",
      "\u001b[0;31mTypeError\u001b[0m                                 Traceback (most recent call last)",
      "\u001b[0;32m<ipython-input-22-fe5a2281c595>\u001b[0m in \u001b[0;36m<module>\u001b[0;34m()\u001b[0m\n\u001b[1;32m      7\u001b[0m \u001b[0mfunction\u001b[0m\u001b[0;34m(\u001b[0m\u001b[0;36m1\u001b[0m\u001b[0;34m,\u001b[0m\u001b[0;36m2\u001b[0m\u001b[0;34m,\u001b[0m\u001b[0;36m3\u001b[0m\u001b[0;34m,\u001b[0m\u001b[0;36m4\u001b[0m\u001b[0;34m,\u001b[0m\u001b[0;36m5\u001b[0m\u001b[0;34m,\u001b[0m\u001b[0mextra\u001b[0m\u001b[0;34m=\u001b[0m\u001b[0;36m10\u001b[0m\u001b[0;34m)\u001b[0m\u001b[0;34m\u001b[0m\u001b[0m\n\u001b[1;32m      8\u001b[0m \u001b[0;31m# function(extra=10)\u001b[0m\u001b[0;34m\u001b[0m\u001b[0;34m\u001b[0m\u001b[0m\n\u001b[0;32m----> 9\u001b[0;31m \u001b[0mfunction\u001b[0m\u001b[0;34m(\u001b[0m\u001b[0;36m1\u001b[0m\u001b[0;34m,\u001b[0m \u001b[0mextra\u001b[0m\u001b[0;34m=\u001b[0m\u001b[0;36m10\u001b[0m\u001b[0;34m)\u001b[0m\u001b[0;34m\u001b[0m\u001b[0m\n\u001b[0m",
      "\u001b[0;31mTypeError\u001b[0m: function() missing 1 required positional argument: 'second'"
     ]
    }
   ],
   "source": [
    "# 필수고정인자를 지정하려면\n",
    "def function(first, second, *args, **kwargs):\n",
    "    print(first, second, args, kwargs)\n",
    "\n",
    "function(1,2,3,4,5)\n",
    "function(1,2,extra=10)\n",
    "function(1,2,3,4,5,extra=10)\n",
    "# function(extra=10)\n",
    "# function(1, extra=10)"
   ]
  },
  {
   "cell_type": "code",
   "execution_count": 52,
   "metadata": {
    "slideshow": {
     "slide_type": "subslide"
    }
   },
   "outputs": [
    {
     "name": "stdout",
     "output_type": "stream",
     "text": [
      "1 2 (3, 4, 5) 10 {'therest': 100}\n",
      "1 2 (3, 4, 5) None {'therest': 100}\n",
      "1 2 (3, 4, 5) 10 {'therest': 100}\n",
      "1 2 (10,) None {}\n"
     ]
    }
   ],
   "source": [
    "# keyword-only arguments, extra는 반드시 keyword로 전달해야 합니다.\n",
    "# python3 only\n",
    "# python2에서는 extra를 아래와 같이 지정할 수 없어요.\n",
    "def function(first, second, *args, extra=None, **kwargs):\n",
    "    print(first, second, args, extra, kwargs)\n",
    "function(1,2,3,4,5,extra=10,therest=100)\n",
    "function(1,2,3,4,5,therest=100)\n",
    "function(1,2,3,4,5,therest=100, extra=10)\n",
    "function(1,2,10)"
   ]
  },
  {
   "cell_type": "code",
   "execution_count": 25,
   "metadata": {
    "slideshow": {
     "slide_type": "subslide"
    }
   },
   "outputs": [
    {
     "name": "stdout",
     "output_type": "stream",
     "text": [
      "1 10\n",
      "1 10\n",
      "1 10\n"
     ]
    }
   ],
   "source": [
    "# extra를 keyword-only로 만들고 싶다면?\n",
    "def function(first, extra=None):\n",
    "    print(first, extra)\n",
    "function(1,10)\n",
    "function(1,extra=10)\n",
    "\n",
    "def function(first, *, extra=None):\n",
    "    print(first, extra)\n",
    "# function(1, 10)\n",
    "function(1, extra=10)"
   ]
  },
  {
   "cell_type": "code",
   "execution_count": 29,
   "metadata": {
    "slideshow": {
     "slide_type": "subslide"
    }
   },
   "outputs": [
    {
     "name": "stdout",
     "output_type": "stream",
     "text": [
      "1 2 (3,) None {}\n",
      "1 2 () None {'hello': 'world'}\n",
      "1 2 (3,) None {'hello': 'world'}\n",
      "4 5 (6,) extra {'test': 'world'}\n"
     ]
    }
   ],
   "source": [
    "def function(first, second, *args, extra=None, **kwargs):\n",
    "    print(first, second, args, extra, kwargs)\n",
    "\n",
    "\n",
    "# 함수의 인자는 tuple과 map이므로 다음과 같이\n",
    "# unpacking할 수 있습니다.\n",
    "lst = [1,2,3]\n",
    "dic = dict(hello='world')\n",
    "function(lst[0], lst[1], lst[2])\n",
    "function(lst) # function([1,2,3])\n",
    "function(*lst) # function(1,2,3)\n",
    "function(1,2, **dic) # function(1, 2, hello='world')\n",
    "function(*lst, **dic)\n",
    "function(*[4,5,6], **dict(extra='extra', test='world'))"
   ]
  },
  {
   "cell_type": "markdown",
   "metadata": {
    "slideshow": {
     "slide_type": "slide"
    }
   },
   "source": [
    "## EXERCISE"
   ]
  },
  {
   "cell_type": "code",
   "execution_count": 32,
   "metadata": {
    "slideshow": {
     "slide_type": "fragment"
    }
   },
   "outputs": [
    {
     "name": "stdout",
     "output_type": "stream",
     "text": [
      "Good.\n",
      "Better.\n",
      "Great.\n",
      "Awesome!\n"
     ]
    }
   ],
   "source": [
    "# 3개의 인자는 반드시 받고,\n",
    "# 나머지 인자는 가변적으로 받을 수 있는\n",
    "# 나머지 가변인자의 개수를 return해주는 함수를 만들어보세요.\n",
    "def foo(a, b, c, *args):\n",
    "    return len(args)\n",
    "\n",
    "# 3개는 인자를 반드시 받고,\n",
    "# optional하게, keyword형식으로만 magicnumber를 받는\n",
    "# \n",
    "def bar(a, b, c, *, magicnumber = 0):\n",
    "    return magicnumber > 6\n",
    "\n",
    "# test code\n",
    "if foo(1,2,3,4) == 1:\n",
    "    print(\"Good.\")\n",
    "if foo(1,2,3,4,5) == 2:\n",
    "    print(\"Better.\")\n",
    "    \n",
    "if bar(1,2,3,magicnumber = 6) == False:\n",
    "    print(\"Great.\")\n",
    "if bar(1,2,3,magicnumber = 7) == True:\n",
    "    print(\"Awesome!\")"
   ]
  },
  {
   "cell_type": "markdown",
   "metadata": {
    "slideshow": {
     "slide_type": "slide"
    }
   },
   "source": [
    "함수도 객체이기 때문에 재미있는 일들을 할 수 있습니다."
   ]
  },
  {
   "cell_type": "code",
   "execution_count": 33,
   "metadata": {
    "slideshow": {
     "slide_type": "subslide"
    }
   },
   "outputs": [
    {
     "name": "stdout",
     "output_type": "stream",
     "text": [
      "{'property': 'hello', 'hello': 'world'}\n",
      "<function func at 0x10be26d08>\n",
      "hello\n",
      "world\n"
     ]
    }
   ],
   "source": [
    "def func():\n",
    "    return 'world'\n",
    "\n",
    "# PEP 232, 임의의 속성을 함수에 부여할 수 있으며 __dict__에서 찾을 수 있습니다.\n",
    "func.property = 'hello' \n",
    "func.hello = 'world'\n",
    "\n",
    "print(func.__dict__) # 함수의 __dict__ 속성에 저장되어요.\n",
    "print(func) # 변수처럼 다룰 수도 있음\n",
    "print(func.property) # 속성조회\n",
    "print(func()) # 그냥 호출할 수도 있음, 함수니까"
   ]
  },
  {
   "cell_type": "code",
   "execution_count": 26,
   "metadata": {
    "slideshow": {
     "slide_type": "subslide"
    }
   },
   "outputs": [],
   "source": [
    "# https://docs.djangoproject.com/en/1.11/ref/contrib/admin/\n",
    "# django의 사례\n",
    "def upper_case_name(obj):\n",
    "    return (\"%s %s\" % (obj.first_name, obj.last_name)).upper()\n",
    "upper_case_name.short_description = 'Name'"
   ]
  },
  {
   "cell_type": "markdown",
   "metadata": {
    "slideshow": {
     "slide_type": "slide"
    }
   },
   "source": [
    "## LAMBDA (익명함수)\n",
    "*논란의 주인공*"
   ]
  },
  {
   "cell_type": "markdown",
   "metadata": {
    "slideshow": {
     "slide_type": "subslide"
    }
   },
   "source": [
    "- PYTHON에서의 LAMBDA함수는 순수 표현식만 사용 가능합니다.\n",
    " - whilte, try 같은 statement는 사용할 수 없습니다.\n",
    " - 변수할당과 같은 동작도 불가능합니다.\n",
    " - http://www.artima.com/weblogs/viewpost.jsp?thread=147358\n",
    "- 거창해보일지 몰라도 사실은 그냥 **함수**입니다."
   ]
  },
  {
   "cell_type": "code",
   "execution_count": 33,
   "metadata": {
    "slideshow": {
     "slide_type": "subslide"
    }
   },
   "outputs": [
    {
     "data": {
      "text/plain": [
       "True"
      ]
     },
     "execution_count": 33,
     "metadata": {},
     "output_type": "execute_result"
    }
   ],
   "source": [
    "def count(word):\n",
    "    return len(word)\n",
    "\n",
    "lcount = lambda word: len(word)\n",
    "count('hello') == lcount('hello')"
   ]
  },
  {
   "cell_type": "code",
   "execution_count": 32,
   "metadata": {
    "slideshow": {
     "slide_type": "subslide"
    }
   },
   "outputs": [
    {
     "data": {
      "text/plain": [
       "['fig', 'apple', 'cherry', 'banana', 'raspberry', 'strawberry']"
      ]
     },
     "execution_count": 32,
     "metadata": {},
     "output_type": "execute_result"
    }
   ],
   "source": [
    "# 함수의 인자로 들어갈때 많이 사용합니다.\n",
    "fruits = ['strawberry', 'fig', 'apple', 'cherry', 'raspberry', 'banana']\n",
    "fruits.sort(key=lambda word:len(word))\n",
    "fruits"
   ]
  },
  {
   "cell_type": "code",
   "execution_count": 1,
   "metadata": {
    "slideshow": {
     "slide_type": "subslide"
    }
   },
   "outputs": [
    {
     "data": {
      "text/plain": [
       "True"
      ]
     },
     "execution_count": 1,
     "metadata": {},
     "output_type": "execute_result"
    }
   ],
   "source": [
    "def _(x):\n",
    "    return x + 1\n",
    "list(map(_, [1,2,3,4,5])) == list(map(lambda x: x+1, [1,2,3,4,5]))"
   ]
  },
  {
   "cell_type": "code",
   "execution_count": 40,
   "metadata": {
    "slideshow": {
     "slide_type": "subslide"
    }
   },
   "outputs": [
    {
     "data": {
      "text/plain": [
       "15"
      ]
     },
     "execution_count": 40,
     "metadata": {},
     "output_type": "execute_result"
    }
   ],
   "source": [
    "# 여러개의 인자를 받습니다.\n",
    "sum = lambda x,y: x+y\n",
    "sum(5,10)"
   ]
  },
  {
   "cell_type": "code",
   "execution_count": 47,
   "metadata": {
    "slideshow": {
     "slide_type": "subslide"
    }
   },
   "outputs": [
    {
     "name": "stdout",
     "output_type": "stream",
     "text": [
      "(1, 2, 3, 4, 5) {}\n",
      "(1, 2, 3, 4, 5) {'hello': 'world'}\n"
     ]
    }
   ],
   "source": [
    "func_sig = lambda *args, **kwargs: print(args, kwargs)\n",
    "func_sig(1,2,3,4,5)\n",
    "func_sig(1,2,3,4,5, **dict(hello='world'))"
   ]
  },
  {
   "cell_type": "markdown",
   "metadata": {
    "slideshow": {
     "slide_type": "subslide"
    }
   },
   "source": [
    "- **함수를 또 다른 함수의 argument로 전달하는 경우에(만) 많이 사용됩니다.**\n",
    "- lambda는 그저 함수표현을 간단하게 해주는 syntatic sugar에 불과합니다.\n",
    "- lambda자체를 변수에 할당해서 사용하는 경우 pep8에서는 def 형태의 함수로 변경할 것을 요구합니다."
   ]
  },
  {
   "cell_type": "markdown",
   "metadata": {
    "slideshow": {
     "slide_type": "subslide"
    }
   },
   "source": [
    "Guido는 lambda를 없애고 싶어합니다. Python에 해당 기능을 포함시킨 것을 후회하고 있다고 하네요.\n",
    "- python3에서는 거의 사라질뻔 했습니다.\n",
    "- lambda 표현은 python의 다른 표현으로 대체할 수 있습니다.\n",
    "- *그리고 그 표현들이 더 Pythonic하다고 생각하는듯 합니다.*"
   ]
  },
  {
   "cell_type": "code",
   "execution_count": 49,
   "metadata": {
    "slideshow": {
     "slide_type": "subslide"
    }
   },
   "outputs": [
    {
     "data": {
      "text/plain": [
       "['fig', 'apple', 'cherry', 'banana', 'raspberry', 'strawberry']"
      ]
     },
     "execution_count": 49,
     "metadata": {},
     "output_type": "execute_result"
    }
   ],
   "source": [
    "fruits = ['strawberry', 'fig', 'apple', 'cherry', 'raspberry', 'banana']\n",
    "fruits.sort(key=lambda x: len(x))\n",
    "fruits"
   ]
  },
  {
   "cell_type": "code",
   "execution_count": 50,
   "metadata": {
    "slideshow": {
     "slide_type": "subslide"
    }
   },
   "outputs": [
    {
     "data": {
      "text/plain": [
       "[2, 3, 4, 5, 6]"
      ]
     },
     "execution_count": 50,
     "metadata": {},
     "output_type": "execute_result"
    }
   ],
   "source": [
    "from operator import add\n",
    "from functools import partial\n",
    "list(map(partial(add,1), [1,2,3,4,5]))"
   ]
  }
 ],
 "metadata": {
  "celltoolbar": "Slideshow",
  "kernelspec": {
   "display_name": "Python 3",
   "language": "python",
   "name": "python3"
  },
  "language_info": {
   "codemirror_mode": {
    "name": "ipython",
    "version": 3
   },
   "file_extension": ".py",
   "mimetype": "text/x-python",
   "name": "python",
   "nbconvert_exporter": "python",
   "pygments_lexer": "ipython3",
   "version": "3.6.1"
  }
 },
 "nbformat": 4,
 "nbformat_minor": 2
}
