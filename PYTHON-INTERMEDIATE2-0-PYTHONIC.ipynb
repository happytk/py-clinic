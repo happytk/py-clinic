{
 "cells": [
  {
   "cell_type": "markdown",
   "metadata": {},
   "source": [
    "## PROTOCOL"
   ]
  },
  {
   "cell_type": "markdown",
   "metadata": {},
   "source": [
    "왜 python에서는 object.length() 대신에 len(object)를 사용하나요?\n",
    "- 특정한 action에 대해 python 언어가 제시하는 protocol이 있습니다.\n",
    "- 해당 protocol을 구현하는 어느 객체도 python이 다룰 수 있습니다.\n",
    "- 기존 상속 메커니즘(혹은 java에서 사용하는 interface)과 다르게 강제되지 않습니다. *필요한 동작에 대한 protocl만 선택해서 구현하면 됩니다.*\n",
    "- dunder function으로 구현합니다."
   ]
  },
  {
   "cell_type": "code",
   "execution_count": 4,
   "metadata": {},
   "outputs": [
    {
     "data": {
      "text/plain": [
       "10"
      ]
     },
     "execution_count": 4,
     "metadata": {},
     "output_type": "execute_result"
    }
   ],
   "source": [
    "# 예) 객체의 길이계산은 __len__을 호출합니다.\n",
    "class Sample():\n",
    "    def __len__(self):\n",
    "        return 10\n",
    "\n",
    "len(Sample())\n",
    "    "
   ]
  },
  {
   "cell_type": "code",
   "execution_count": 25,
   "metadata": {},
   "outputs": [],
   "source": [
    "# 예) 호출은 __call__을 호출합니다.\n",
    "class Sample():\n",
    "    def __call__(self):\n",
    "        return 10\n",
    "sample = Sample()"
   ]
  },
  {
   "cell_type": "code",
   "execution_count": 11,
   "metadata": {},
   "outputs": [
    {
     "data": {
      "text/plain": [
       "True"
      ]
     },
     "execution_count": 11,
     "metadata": {},
     "output_type": "execute_result"
    }
   ],
   "source": [
    "# 예) in operator는 __contains__를 호출합니다.\n",
    "class Sample():\n",
    "    def __contains__(self, any_value):\n",
    "        return True\n",
    "sample = Sample()\n",
    "10 in sample"
   ]
  },
  {
   "cell_type": "code",
   "execution_count": 12,
   "metadata": {
    "collapsed": true
   },
   "outputs": [],
   "source": [
    "# . operator를 이용한 접근 __getattr__, __setattr__\n",
    "# [] operator를 이용한 __getitem__, __setitem__"
   ]
  },
  {
   "cell_type": "code",
   "execution_count": 14,
   "metadata": {
    "collapsed": true
   },
   "outputs": [],
   "source": [
    "#Lib/UserList.py (python2.7)\n",
    "\"\"\"A more or less complete user-defined wrapper around list objects.\"\"\"\n",
    "\n",
    "import collections\n",
    "\n",
    "class UserList(collections.MutableSequence):\n",
    "    def __init__(self, initlist=None):\n",
    "        self.data = []\n",
    "        if initlist is not None:\n",
    "            # XXX should this accept an arbitrary sequence?\n",
    "            if type(initlist) == type(self.data):\n",
    "                self.data[:] = initlist\n",
    "            elif isinstance(initlist, UserList):\n",
    "                self.data[:] = initlist.data[:]\n",
    "            else:\n",
    "                self.data = list(initlist)\n",
    "    def __repr__(self): return repr(self.data)\n",
    "    def __lt__(self, other): return self.data <  self.__cast(other)\n",
    "    def __le__(self, other): return self.data <= self.__cast(other)\n",
    "    def __eq__(self, other): return self.data == self.__cast(other)\n",
    "    def __ne__(self, other): return self.data != self.__cast(other)\n",
    "    def __gt__(self, other): return self.data >  self.__cast(other)\n",
    "    def __ge__(self, other): return self.data >= self.__cast(other)\n",
    "    def __cast(self, other):\n",
    "        if isinstance(other, UserList): return other.data\n",
    "        else: return other\n",
    "    def __cmp__(self, other):\n",
    "        return cmp(self.data, self.__cast(other))\n",
    "    __hash__ = None # Mutable sequence, so not hashable\n",
    "    def __contains__(self, item): return item in self.data\n",
    "    def __len__(self): return len(self.data)\n",
    "    def __getitem__(self, i): return self.data[i]\n",
    "    def __setitem__(self, i, item): self.data[i] = item\n",
    "    def __delitem__(self, i): del self.data[i]\n",
    "    def __getslice__(self, i, j):\n",
    "        i = max(i, 0); j = max(j, 0)\n",
    "        return self.__class__(self.data[i:j])\n",
    "    def __setslice__(self, i, j, other):\n",
    "        i = max(i, 0); j = max(j, 0)\n",
    "        if isinstance(other, UserList):\n",
    "            self.data[i:j] = other.data\n",
    "        elif isinstance(other, type(self.data)):\n",
    "            self.data[i:j] = other\n",
    "        else:\n",
    "            self.data[i:j] = list(other)\n",
    "    def __delslice__(self, i, j):\n",
    "        i = max(i, 0); j = max(j, 0)\n",
    "        del self.data[i:j]\n",
    "    def __add__(self, other):\n",
    "        if isinstance(other, UserList):\n",
    "            return self.__class__(self.data + other.data)\n",
    "        elif isinstance(other, type(self.data)):\n",
    "            return self.__class__(self.data + other)\n",
    "        else:\n",
    "            return self.__class__(self.data + list(other))\n",
    "    def __radd__(self, other):\n",
    "        if isinstance(other, UserList):\n",
    "            return self.__class__(other.data + self.data)\n",
    "        elif isinstance(other, type(self.data)):\n",
    "            return self.__class__(other + self.data)\n",
    "        else:\n",
    "            return self.__class__(list(other) + self.data)\n",
    "    def __iadd__(self, other):\n",
    "        if isinstance(other, UserList):\n",
    "            self.data += other.data\n",
    "        elif isinstance(other, type(self.data)):\n",
    "            self.data += other\n",
    "        else:\n",
    "            self.data += list(other)\n",
    "        return self\n",
    "    def __mul__(self, n):\n",
    "        return self.__class__(self.data*n)\n",
    "    __rmul__ = __mul__\n",
    "    def __imul__(self, n):\n",
    "        self.data *= n\n",
    "        return self\n",
    "    def append(self, item): self.data.append(item)\n",
    "    def insert(self, i, item): self.data.insert(i, item)\n",
    "    def pop(self, i=-1): return self.data.pop(i)\n",
    "    def remove(self, item): self.data.remove(item)\n",
    "    def count(self, item): return self.data.count(item)\n",
    "    def index(self, item, *args): return self.data.index(item, *args)\n",
    "    def reverse(self): self.data.reverse()\n",
    "    def sort(self, *args, **kwds): self.data.sort(*args, **kwds)\n",
    "    def extend(self, other):\n",
    "        if isinstance(other, UserList):\n",
    "            self.data.extend(other.data)\n",
    "        else:\n",
    "            self.data.extend(other)"
   ]
  },
  {
   "cell_type": "markdown",
   "metadata": {},
   "source": [
    "특정 protocol 구현여부를 검사할 수도 있습니다. (특정한 동작을 수행할 수 있는지)"
   ]
  },
  {
   "cell_type": "code",
   "execution_count": 52,
   "metadata": {},
   "outputs": [
    {
     "name": "stdout",
     "output_type": "stream",
     "text": [
      "['ABC', 'ABCMeta', 'WeakSet', '__builtins__', '__cached__', '__doc__', '__file__', '__loader__', '__name__', '__package__', '__spec__', 'abstractclassmethod', 'abstractmethod', 'abstractproperty', 'abstractstaticmethod', 'get_cache_token']\n"
     ]
    },
    {
     "data": {
      "text/plain": [
       "(10, 20)"
      ]
     },
     "execution_count": 52,
     "metadata": {},
     "output_type": "execute_result"
    }
   ],
   "source": [
    "from collections.abc import Sized, Callable\n",
    "print(dir(abc))\n",
    "\n",
    "# 예) 객체의 길이계산은 __len__을 호출합니다.\n",
    "class Sample:\n",
    "    def __len__(self):\n",
    "        return 10\n",
    "    def __call__(self):\n",
    "        return 20\n",
    "\n",
    "sample = Sample()\n",
    "isinstance(sample, Sized) and len(sample), isinstance(sample, Callable) and sample()"
   ]
  },
  {
   "cell_type": "code",
   "execution_count": 53,
   "metadata": {},
   "outputs": [
    {
     "data": {
      "text/plain": [
       "True"
      ]
     },
     "execution_count": 53,
     "metadata": {},
     "output_type": "execute_result"
    }
   ],
   "source": [
    "from collections.abc import Container\n",
    "class Sample:\n",
    "    def __contains__(self, _):\n",
    "        return True\n",
    "\n",
    "isinstance(Sample(), Container)"
   ]
  },
  {
   "cell_type": "markdown",
   "metadata": {},
   "source": [
    "내가 만든 함수에서 arguement검사를 해본다고 합시다."
   ]
  },
  {
   "cell_type": "code",
   "execution_count": 36,
   "metadata": {},
   "outputs": [
    {
     "ename": "NameError",
     "evalue": "name 'OrderedDict' is not defined",
     "output_type": "error",
     "traceback": [
      "\u001b[0;31m---------------------------------------------------------------------------\u001b[0m",
      "\u001b[0;31mNameError\u001b[0m                                 Traceback (most recent call last)",
      "\u001b[0;32m<ipython-input-36-a61f895874ba>\u001b[0m in \u001b[0;36m<module>\u001b[0;34m()\u001b[0m\n\u001b[1;32m      4\u001b[0m \u001b[1;33m\u001b[0m\u001b[0m\n\u001b[1;32m      5\u001b[0m \u001b[0mhello\u001b[0m\u001b[1;33m(\u001b[0m\u001b[1;33m{\u001b[0m\u001b[1;34m'hello'\u001b[0m\u001b[1;33m:\u001b[0m \u001b[1;34m'world'\u001b[0m\u001b[1;33m}\u001b[0m\u001b[1;33m)\u001b[0m \u001b[1;31m# pass\u001b[0m\u001b[1;33m\u001b[0m\u001b[0m\n\u001b[0;32m----> 6\u001b[0;31m \u001b[0mhello\u001b[0m\u001b[1;33m(\u001b[0m\u001b[0mOrderedDict\u001b[0m\u001b[1;33m(\u001b[0m\u001b[1;33m{\u001b[0m\u001b[1;34m'hello'\u001b[0m\u001b[1;33m:\u001b[0m \u001b[1;34m'world'\u001b[0m\u001b[1;33m}\u001b[0m\u001b[1;33m)\u001b[0m\u001b[1;33m)\u001b[0m \u001b[1;31m# pass\u001b[0m\u001b[1;33m\u001b[0m\u001b[0m\n\u001b[0m",
      "\u001b[0;31mNameError\u001b[0m: name 'OrderedDict' is not defined"
     ]
    }
   ],
   "source": [
    "def hello(arg):\n",
    "    assert type(arg) == type({})\n",
    "\n",
    "\n",
    "hello({'hello': 'world'}) # pass\n",
    "hello(OrderedDict({'hello': 'world'})) # pass"
   ]
  },
  {
   "cell_type": "code",
   "execution_count": 51,
   "metadata": {},
   "outputs": [],
   "source": [
    "from collections.abc import Mapping\n",
    "from collections import OrderedDict\n",
    "\n",
    "class MyDict(Mapping):\n",
    "    def __getitem__(self, key):\n",
    "        return None\n",
    "    def __iter__(self):\n",
    "        pass\n",
    "    def __len__(self):\n",
    "        return 0\n",
    "\n",
    "assert isinstance({'hello': 'world'}, Mapping)\n",
    "assert isinstance(OrderedDict({'hello': 'world'}), Mapping)\n",
    "assert isinstance(MyDict(), Mapping)"
   ]
  }
 ],
 "metadata": {
  "kernelspec": {
   "display_name": "Python 3",
   "language": "python",
   "name": "python3"
  },
  "language_info": {
   "codemirror_mode": {
    "name": "ipython",
    "version": 3
   },
   "file_extension": ".py",
   "mimetype": "text/x-python",
   "name": "python",
   "nbconvert_exporter": "python",
   "pygments_lexer": "ipython3",
   "version": "3.6.1"
  }
 },
 "nbformat": 4,
 "nbformat_minor": 2
}
