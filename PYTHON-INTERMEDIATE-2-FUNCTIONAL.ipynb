{
 "cells": [
  {
   "cell_type": "markdown",
   "metadata": {
    "slideshow": {
     "slide_type": "slide"
    }
   },
   "source": [
    "## MAP/FILTER/REDUCE\n",
    "*함수형언어를 위한 삼총사*"
   ]
  },
  {
   "cell_type": "markdown",
   "metadata": {
    "slideshow": {
     "slide_type": "subslide"
    }
   },
   "source": [
    "- **함수형 언어**에서 사용되던 패턴입니다.\n",
    "- 입력값으로 들어온 객체를 변경되지 않습니다. <font color=\"red\">**항상 새로운 객체**</font>를 return하는 함수입니다.\n",
    "- *분산병렬처리에 유용합니다.*"
   ]
  },
  {
   "cell_type": "code",
   "execution_count": 2,
   "metadata": {
    "slideshow": {
     "slide_type": "subslide"
    }
   },
   "outputs": [
    {
     "name": "stdout",
     "output_type": "stream",
     "text": [
      "[0, 1, 4, 9, 16, 25]\n",
      "[0, 1, 4, 9, 16, 25]\n"
     ]
    }
   ],
   "source": [
    "def pow(x):\n",
    "    return x*x\n",
    "print(list(map(pow, range(6))))\n",
    "print(list(map(lambda x:x*x, range(6))))"
   ]
  },
  {
   "cell_type": "code",
   "execution_count": 9,
   "metadata": {
    "slideshow": {
     "slide_type": "subslide"
    }
   },
   "outputs": [
    {
     "data": {
      "text/plain": [
       "[1, 3, 5]"
      ]
     },
     "execution_count": 9,
     "metadata": {},
     "output_type": "execute_result"
    }
   ],
   "source": [
    "list(filter(lambda n: n%2, range(6)))"
   ]
  },
  {
   "cell_type": "code",
   "execution_count": 3,
   "metadata": {
    "slideshow": {
     "slide_type": "subslide"
    }
   },
   "outputs": [
    {
     "data": {
      "text/plain": [
       "6"
      ]
     },
     "execution_count": 3,
     "metadata": {},
     "output_type": "execute_result"
    }
   ],
   "source": [
    "from functools import reduce\n",
    "reduce(lambda x,y: x+y, [0,1,2,3])"
   ]
  },
  {
   "cell_type": "markdown",
   "metadata": {
    "slideshow": {
     "slide_type": "subslide"
    }
   },
   "source": [
    "PARTIAL - 함수PARAMETER일부를 고정하기"
   ]
  },
  {
   "cell_type": "code",
   "execution_count": 1,
   "metadata": {
    "slideshow": {
     "slide_type": "subslide"
    }
   },
   "outputs": [
    {
     "name": "stdout",
     "output_type": "stream",
     "text": [
      "8\n"
     ]
    }
   ],
   "source": [
    "from functools import partial\n",
    "\n",
    "def multiply(x,y):\n",
    "    return x * y\n",
    "\n",
    "# create a new function that multiplies by 2\n",
    "dbl = partial(multiply,2)\n",
    "print(dbl(4))"
   ]
  },
  {
   "cell_type": "code",
   "execution_count": 1,
   "metadata": {
    "collapsed": true,
    "slideshow": {
     "slide_type": "subslide"
    }
   },
   "outputs": [],
   "source": [
    "# EXERCISE\n",
    "# Following is the exercise, function provided:\n",
    "from functools import partial\n",
    "def func(u,v,w,x):\n",
    "    return u*4 + v*3 + w*2 + x\n",
    "# Enter your code here to create and print with your partial function"
   ]
  },
  {
   "cell_type": "markdown",
   "metadata": {
    "slideshow": {
     "slide_type": "subslide"
    }
   },
   "source": [
    "map, filter, reduce와 같은 함수들은 점점 설 자리를 잃어가고 있습니다.\n",
    "**reduce는 python version이 up되면서 심지어 builtin함수에서 모듈레벨로 밀려났습니다.**\n",
    "\n",
    "-> 훨씬 표현력이 좋다고 여겨지는 List Comprehension부류가 있기 때문입니다. 그리고 python maintainer들이 lambda를 싫어하기도 하고요."
   ]
  },
  {
   "cell_type": "code",
   "execution_count": 15,
   "metadata": {
    "slideshow": {
     "slide_type": "subslide"
    }
   },
   "outputs": [
    {
     "name": "stdout",
     "output_type": "stream",
     "text": [
      "[1, 9, 25]\n",
      "[1, 9, 25]\n"
     ]
    }
   ],
   "source": [
    "# 같은 표현, 여러분의 선택은?\n",
    "m1 = map(pow, filter(lambda n: n%2, range(6)))\n",
    "m2 = [pow(n) for n in range(6) if n % 2]\n",
    "print(list(m1))\n",
    "print(m2)"
   ]
  },
  {
   "cell_type": "markdown",
   "metadata": {
    "slideshow": {
     "slide_type": "slide"
    }
   },
   "source": [
    "SORTED/REVERSED/ALL/ANY도 알아두면 유용합니다."
   ]
  },
  {
   "cell_type": "code",
   "execution_count": 23,
   "metadata": {
    "slideshow": {
     "slide_type": "subslide"
    }
   },
   "outputs": [
    {
     "data": {
      "text/plain": [
       "[5, 6, 4, 8, 9, 2, 7, 3, 1, 0]"
      ]
     },
     "execution_count": 23,
     "metadata": {},
     "output_type": "execute_result"
    }
   ],
   "source": [
    "lst = list(range(10))\n",
    "\n",
    "import random\n",
    "random.shuffle(lst)\n",
    "\n",
    "lst"
   ]
  },
  {
   "cell_type": "code",
   "execution_count": 11,
   "metadata": {
    "collapsed": true,
    "slideshow": {
     "slide_type": "subslide"
    }
   },
   "outputs": [],
   "source": [
    "import random\n",
    "lst = list(range(10))\n",
    "random.shuffle(lst)\n",
    "rst = sorted(lst)\n",
    "\n",
    "lst.sort() # rst, lst"
   ]
  },
  {
   "cell_type": "code",
   "execution_count": 33,
   "metadata": {
    "slideshow": {
     "slide_type": "fragment"
    }
   },
   "outputs": [
    {
     "data": {
      "text/plain": [
       "[0, 1, 3, 7, 2, 9, 8, 4, 6, 5]"
      ]
     },
     "execution_count": 33,
     "metadata": {},
     "output_type": "execute_result"
    }
   ],
   "source": [
    "list(reversed(lst))"
   ]
  },
  {
   "cell_type": "code",
   "execution_count": 36,
   "metadata": {
    "slideshow": {
     "slide_type": "fragment"
    }
   },
   "outputs": [
    {
     "data": {
      "text/plain": [
       "(True, False)"
      ]
     },
     "execution_count": 36,
     "metadata": {},
     "output_type": "execute_result"
    }
   ],
   "source": [
    "all([1,2,3]), all([0,1,2])"
   ]
  },
  {
   "cell_type": "code",
   "execution_count": 1,
   "metadata": {
    "slideshow": {
     "slide_type": "fragment"
    }
   },
   "outputs": [
    {
     "data": {
      "text/plain": [
       "(True, False)"
      ]
     },
     "execution_count": 1,
     "metadata": {},
     "output_type": "execute_result"
    }
   ],
   "source": [
    "any([1,0,-1]), any([0,0,0])"
   ]
  },
  {
   "cell_type": "markdown",
   "metadata": {
    "slideshow": {
     "slide_type": "subslide"
    }
   },
   "source": [
    "새로운 생성 없이 현재의 값을 변경하고자 한다면? 정렬의 두가지 케이스를 분리해서 기억하세요!"
   ]
  },
  {
   "cell_type": "code",
   "execution_count": 3,
   "metadata": {
    "slideshow": {
     "slide_type": "fragment"
    }
   },
   "outputs": [
    {
     "data": {
      "text/plain": [
       "[5, 4, 3, 2, 1]"
      ]
     },
     "execution_count": 3,
     "metadata": {},
     "output_type": "execute_result"
    }
   ],
   "source": [
    "lst = [1,2,3,5,4]\n",
    "lst.sort()\n",
    "lst.reverse()\n",
    "lst"
   ]
  },
  {
   "cell_type": "markdown",
   "metadata": {
    "slideshow": {
     "slide_type": "subslide"
    }
   },
   "source": [
    "정리하자면, \n",
    "- map은 목록의 재처리를 위한 용도로\n",
    "- filter는 전달된 표현식이 참인것만 필터처리\n",
    "- reduce는 목록을 하나의 값으로 재처리하기 위한 용도로 (sum을 생각하면 편해요)\n",
    "- sorted는 정렬\n",
    "- reversed는 역순\n",
    "\n",
    "기억하고 있으면 또 만날 수 있습니다. python에서는 이래나저래나 많이 사용되는 builtin함수(reduce빼고)입니다."
   ]
  },
  {
   "cell_type": "markdown",
   "metadata": {
    "slideshow": {
     "slide_type": "subslide"
    }
   },
   "source": [
    "## EXERCISE"
   ]
  },
  {
   "cell_type": "code",
   "execution_count": 1,
   "metadata": {
    "collapsed": true,
    "slideshow": {
     "slide_type": "subslide"
    }
   },
   "outputs": [],
   "source": [
    "# 다음문자열을 단어로 쪼개서 리스트로 만듭니다.\n",
    "lst = \"BD BR CD CN DE EG et FR ID IN ir jp KR MX NG PH PK RU TR US VN\"\n",
    "\n",
    "# 문자목록중 소문자는 버리겠습니다.\n",
    "\n",
    "# RU도 버리겠습니다.\n",
    "\n",
    "# 각 단어를 소문자로 재처리합니다.\n",
    "\n",
    "# 역순으로 정렬 후\n",
    "\n",
    "# 각 단어의 앞글자만으로 구성된 문장을 만들어주세요.\n",
    "\n",
    "# 마지막 문장중에 n이 있나요?"
   ]
  }
 ],
 "metadata": {
  "celltoolbar": "Slideshow",
  "kernelspec": {
   "display_name": "Python 3",
   "language": "python",
   "name": "python3"
  },
  "language_info": {
   "codemirror_mode": {
    "name": "ipython",
    "version": 3
   },
   "file_extension": ".py",
   "mimetype": "text/x-python",
   "name": "python",
   "nbconvert_exporter": "python",
   "pygments_lexer": "ipython3",
   "version": "3.6.1"
  }
 },
 "nbformat": 4,
 "nbformat_minor": 2
}
