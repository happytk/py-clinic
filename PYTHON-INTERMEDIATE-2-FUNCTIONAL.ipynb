{
 "cells": [
  {
   "cell_type": "markdown",
   "metadata": {
    "slideshow": {
     "slide_type": "slide"
    }
   },
   "source": [
    "## map/filter/reduce\n",
    "*함수형언어를 위한 삼총사*"
   ]
  },
  {
   "cell_type": "markdown",
   "metadata": {
    "slideshow": {
     "slide_type": "subslide"
    }
   },
   "source": [
    "- map, filter, reduce 함수들은 **함수형 언어**에서 주로 등장합니다.\n",
    "- 입력값으로 들어온 객체를 변경하지 않습니다.\n",
    "- <font color=\"red\">**항상 새로운 객체**</font>를 return합니다.\n",
    "- *분산병렬처리에 유용합니다.*"
   ]
  },
  {
   "cell_type": "code",
   "execution_count": 5,
   "metadata": {
    "slideshow": {
     "slide_type": "subslide"
    }
   },
   "outputs": [
    {
     "data": {
      "text/plain": [
       "(['0', '1', '2', '3', '4', '5', '6', '7', '8', '9'],\n",
       " [1, 2, 3, 4, 5, 6, 7, 8, 9, 10],\n",
       " [0, 1, 4, 9, 16, 25, 36, 49, 64, 81])"
      ]
     },
     "execution_count": 5,
     "metadata": {},
     "output_type": "execute_result"
    }
   ],
   "source": [
    "# map : 전체 집합에 대한 재처리\n",
    "def pow(x):\n",
    "    return x*x\n",
    "\n",
    "(\n",
    "    list(map(str, range(10))),\n",
    "    list(map(lambda x:x+1, range(10))),\n",
    "    list(map(pow, range(10))),\n",
    ")"
   ]
  },
  {
   "cell_type": "code",
   "execution_count": 1,
   "metadata": {
    "slideshow": {
     "slide_type": "subslide"
    }
   },
   "outputs": [
    {
     "data": {
      "text/plain": [
       "[1, 3, 5]"
      ]
     },
     "execution_count": 1,
     "metadata": {},
     "output_type": "execute_result"
    }
   ],
   "source": [
    "# filter: 전체 집합에 대한 filtering\n",
    "(\n",
    "    list(filter(lambda n: n%2, range(6)))\n",
    ")"
   ]
  },
  {
   "cell_type": "code",
   "execution_count": 6,
   "metadata": {
    "slideshow": {
     "slide_type": "subslide"
    }
   },
   "outputs": [
    {
     "data": {
      "text/plain": [
       "6"
      ]
     },
     "execution_count": 6,
     "metadata": {},
     "output_type": "execute_result"
    }
   ],
   "source": [
    "# reducer : 전체 집합을 하나의 값으로\n",
    "from functools import reduce\n",
    "(\n",
    "    reduce(lambda x,y: x+y, [0,1,2,3]),\n",
    "    \n",
    ")"
   ]
  },
  {
   "cell_type": "markdown",
   "metadata": {
    "slideshow": {
     "slide_type": "subslide"
    }
   },
   "source": [
    "map, filter, reduce와 같은 함수들은 점점 설 자리를 잃어가고 있습니다.\n",
    "**reduce는 python version이 up되면서 심지어 builtin함수에서 모듈레벨로 밀려났습니다.**\n",
    "\n",
    "-> 훨씬 표현력이 좋다고 여겨지는 List Comprehension부류가 있기 때문입니다. 그리고 python maintainer들이 lambda를 싫어하기도 하고요."
   ]
  },
  {
   "cell_type": "code",
   "execution_count": 2,
   "metadata": {
    "slideshow": {
     "slide_type": "subslide"
    }
   },
   "outputs": [
    {
     "data": {
      "text/plain": [
       "([1, 9, 25], [1, 9, 25])"
      ]
     },
     "execution_count": 2,
     "metadata": {},
     "output_type": "execute_result"
    }
   ],
   "source": [
    "# 같은 표현, 무엇이 더 보기 좋은가요? 여러분의 선택은?\n",
    "def pow(x):\n",
    "    return x*x\n",
    "\n",
    "m1 = map(pow, filter(lambda n: n%2, range(6)))\n",
    "m2 = [pow(n) for n in range(6) if n % 2]\n",
    "\n",
    "(\n",
    "    list(m1),\n",
    "    list(m2),\n",
    ")"
   ]
  },
  {
   "cell_type": "markdown",
   "metadata": {
    "slideshow": {
     "slide_type": "slide"
    }
   },
   "source": [
    "## 그 밖의 reducer, 재처리 함수들\n",
    "*sorted/reversed/all/any 등등, 알아두면 종종 유용합니다.*"
   ]
  },
  {
   "cell_type": "code",
   "execution_count": 3,
   "metadata": {
    "slideshow": {
     "slide_type": "subslide"
    }
   },
   "outputs": [
    {
     "name": "stdout",
     "output_type": "stream",
     "text": [
      "[7, 0, 5, 2, 9, 8, 4, 6, 1, 3]\n"
     ]
    },
    {
     "data": {
      "text/plain": [
       "([0, 1, 2, 3, 4, 5, 6, 7, 8, 9], [7, 0, 5, 2, 9, 8, 4, 6, 1, 3])"
      ]
     },
     "execution_count": 3,
     "metadata": {},
     "output_type": "execute_result"
    }
   ],
   "source": [
    "# sorted\n",
    "import random\n",
    "lst = list(range(10))\n",
    "random.shuffle(lst)\n",
    "\n",
    "rst = sorted(lst)\n",
    "(\n",
    "    rst,\n",
    "    lst\n",
    ")"
   ]
  },
  {
   "cell_type": "code",
   "execution_count": 12,
   "metadata": {
    "slideshow": {
     "slide_type": "subslide"
    }
   },
   "outputs": [
    {
     "data": {
      "text/plain": [
       "[20, 21, 22, 23, 24, 15, 16, 17, 18, 19]"
      ]
     },
     "execution_count": 12,
     "metadata": {},
     "output_type": "execute_result"
    }
   ],
   "source": [
    "# sorted는 key와 함께 사용할 수 있습니다. sort도 마찬가지\n",
    "sorted(range(15, 25), key=lambda x: str(x)[-1])"
   ]
  },
  {
   "cell_type": "code",
   "execution_count": 33,
   "metadata": {
    "slideshow": {
     "slide_type": "fragment"
    }
   },
   "outputs": [
    {
     "data": {
      "text/plain": [
       "[0, 1, 3, 7, 2, 9, 8, 4, 6, 5]"
      ]
     },
     "execution_count": 33,
     "metadata": {},
     "output_type": "execute_result"
    }
   ],
   "source": [
    "list(reversed(lst))"
   ]
  },
  {
   "cell_type": "code",
   "execution_count": 36,
   "metadata": {
    "slideshow": {
     "slide_type": "fragment"
    }
   },
   "outputs": [
    {
     "data": {
      "text/plain": [
       "(True, False)"
      ]
     },
     "execution_count": 36,
     "metadata": {},
     "output_type": "execute_result"
    }
   ],
   "source": [
    "all([1,2,3]), all([0,1,2])"
   ]
  },
  {
   "cell_type": "code",
   "execution_count": 4,
   "metadata": {
    "slideshow": {
     "slide_type": "fragment"
    }
   },
   "outputs": [
    {
     "data": {
      "text/plain": [
       "(True, False)"
      ]
     },
     "execution_count": 4,
     "metadata": {},
     "output_type": "execute_result"
    }
   ],
   "source": [
    "any([1,0,-1]), any([0,0,0])"
   ]
  },
  {
   "cell_type": "markdown",
   "metadata": {
    "slideshow": {
     "slide_type": "subslide"
    }
   },
   "source": [
    "새로운 생성 없이 현재의 값을 변경하고자 한다면? 정렬의 두가지 케이스를 분리해서 기억하세요!"
   ]
  },
  {
   "cell_type": "code",
   "execution_count": 14,
   "metadata": {
    "slideshow": {
     "slide_type": "subslide"
    }
   },
   "outputs": [
    {
     "data": {
      "text/plain": [
       "[0, 1, 2, 3, 4, 5, 6, 7, 8, 9]"
      ]
     },
     "execution_count": 14,
     "metadata": {},
     "output_type": "execute_result"
    }
   ],
   "source": [
    "# sorted\n",
    "import random\n",
    "lst = list(range(10))\n",
    "random.shuffle(lst)\n",
    "\n",
    "# sort (in place)\n",
    "lst.sort()\n",
    "lst "
   ]
  },
  {
   "cell_type": "code",
   "execution_count": 3,
   "metadata": {
    "slideshow": {
     "slide_type": "fragment"
    }
   },
   "outputs": [
    {
     "data": {
      "text/plain": [
       "[5, 4, 3, 2, 1]"
      ]
     },
     "execution_count": 3,
     "metadata": {},
     "output_type": "execute_result"
    }
   ],
   "source": [
    "lst = [1,2,3,5,4]\n",
    "lst.sort()\n",
    "lst.reverse()\n",
    "lst"
   ]
  },
  {
   "cell_type": "markdown",
   "metadata": {
    "slideshow": {
     "slide_type": "subslide"
    }
   },
   "source": [
    "정리하자면, \n",
    "- map은 목록의 재처리를 위한 용도로\n",
    "- filter는 전달된 표현식이 참인것만 필터처리\n",
    "- reduce는 목록을 하나의 값으로 재처리하기 위한 용도로 (sum을 생각하면 편해요)\n",
    "- sorted는 정렬\n",
    "- reversed는 역순\n",
    "\n",
    "이런 목록성 데이터에 대한 재처리함수유형은 기억하고 있으면 또 만날 수 있습니다.\n",
    "python에서는 많이 사용되는 builtin함수들(reduce빼고)입니다."
   ]
  },
  {
   "cell_type": "markdown",
   "metadata": {
    "slideshow": {
     "slide_type": "subslide"
    }
   },
   "source": [
    "partial - 함수PARAMETER일부를 고정하기"
   ]
  },
  {
   "cell_type": "code",
   "execution_count": 8,
   "metadata": {
    "slideshow": {
     "slide_type": "subslide"
    }
   },
   "outputs": [
    {
     "name": "stdout",
     "output_type": "stream",
     "text": [
      "8\n"
     ]
    }
   ],
   "source": [
    "from functools import partial\n",
    "\n",
    "def multiply(x,y):\n",
    "    return x * y\n",
    "\n",
    "# create a new function that multiplies by 2\n",
    "dbl = partial(multiply,2)\n",
    "print(dbl(4))"
   ]
  },
  {
   "cell_type": "code",
   "execution_count": 17,
   "metadata": {
    "slideshow": {
     "slide_type": "subslide"
    }
   },
   "outputs": [
    {
     "data": {
      "text/plain": [
       "60"
      ]
     },
     "execution_count": 17,
     "metadata": {},
     "output_type": "execute_result"
    }
   ],
   "source": [
    "# EXERCISE\n",
    "# Following is the exercise, function provided:\n",
    "from functools import partial\n",
    "def func(u,v,w,x):\n",
    "    return u*4 + v*3 + w*2 + x\n",
    "\n",
    "# u,v,w를 5,6,7로 고정한 새로운 함수를 만들어보세요.\n",
    "# f(8) = 60\n",
    "f = partial(func, 5,6,7)\n",
    "f(8)\n",
    "\n",
    "def outer(x):\n",
    "    return func(5,6,7,x)\n",
    "\n",
    "outer(8)"
   ]
  },
  {
   "cell_type": "code",
   "execution_count": 17,
   "metadata": {
    "collapsed": true,
    "slideshow": {
     "slide_type": "subslide"
    }
   },
   "outputs": [],
   "source": [
    "# EXERCISE\n",
    "from collections import namedtuple\n",
    "from datetime import datetime\n",
    "SampleData = namedtuple('SampleData', 'state,value,time')\n",
    "\n",
    "s1 = SampleData(state='draft', value=10, time=datetime.now())\n",
    "s2 = SampleData(state='draft', value=9, time=datetime.now())\n",
    "s3 = SampleData(state='draft', value=9, time=datetime.now())\n",
    "\n",
    "# SampleData의 state를 'draft', time을 현재시점으로 고정하는\n",
    "# 신규객체를 만들어내는 새로운 함수를 만들어보세요.\n",
    "# DraftSampleData(value=9)\n",
    "# DraftSampleData(value=10)"
   ]
  },
  {
   "cell_type": "code",
   "execution_count": 3,
   "metadata": {},
   "outputs": [
    {
     "data": {
      "text/plain": [
       "datetime.timedelta(0, 58740, 600025)"
      ]
     },
     "execution_count": 3,
     "metadata": {},
     "output_type": "execute_result"
    }
   ],
   "source": [
    "# exercise\n",
    "# 2018년 5월 8일을 기준으로 timedelta를 return해주는 나만의 함수를 만들어보세요\n",
    "\n",
    "from functools import partial\n",
    "from datetime import datetime, timedelta\n",
    "\n",
    "base = datetime.strptime('20180508', '%Y%m%d')\n",
    "datetime.now() - base"
   ]
  },
  {
   "cell_type": "markdown",
   "metadata": {
    "slideshow": {
     "slide_type": "subslide"
    }
   },
   "source": [
    "## EXERCISE"
   ]
  },
  {
   "cell_type": "code",
   "execution_count": 23,
   "metadata": {
    "slideshow": {
     "slide_type": "subslide"
    }
   },
   "outputs": [
    {
     "data": {
      "text/plain": [
       "False"
      ]
     },
     "execution_count": 23,
     "metadata": {},
     "output_type": "execute_result"
    }
   ],
   "source": [
    "# 다음문자열을 단어로 쪼개서 리스트로 만듭니다.\n",
    "lst = \"BD BR CD CN DE EG et FR ID IN ir jp KR MX NG PH PK RU TR US VN\"\n",
    "\n",
    "# 문자목록중 소문자는 버리겠습니다. (filter)\n",
    "# lst = list(filter(lambda x:x.isupper(), lst.split()))\n",
    "\n",
    "# RU도 버리겠습니다. (filter)\n",
    "lst = list(filter(lambda x:x.isupper() or x == 'RU', lst.split()))\n",
    "\n",
    "# 각 단어를 소문자로 재처리합니다. (map)\n",
    "lst = list(map(str.lower, lst))\n",
    "\n",
    "# 각 단어의 앞글자만으로 구성된 문장을 만들어주세요. (map)\n",
    "# lst = ''.join(map(lambda x: x[0], lst))\n",
    "\n",
    "# 역순으로 정렬 후 (reversed)\n",
    "lst = ''.join(reversed(list(map(lambda x: x[0], lst))))\n",
    "\n",
    "# 마지막 문장중에 n이 있나요?\n",
    "lst.endswith('n')\n",
    "\n",
    "# list-comprehension으로 바꾸어보세요!\n",
    "lst"
   ]
  }
 ],
 "metadata": {
  "celltoolbar": "Slideshow",
  "kernelspec": {
   "display_name": "Python 3",
   "language": "python",
   "name": "python3"
  },
  "language_info": {
   "codemirror_mode": {
    "name": "ipython",
    "version": 3
   },
   "file_extension": ".py",
   "mimetype": "text/x-python",
   "name": "python",
   "nbconvert_exporter": "python",
   "pygments_lexer": "ipython3",
   "version": "3.6.1"
  }
 },
 "nbformat": 4,
 "nbformat_minor": 2
}
