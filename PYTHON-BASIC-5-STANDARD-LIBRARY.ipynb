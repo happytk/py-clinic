{
 "cells": [
  {
   "cell_type": "markdown",
   "metadata": {
    "slideshow": {
     "slide_type": "slide"
    }
   },
   "source": [
    "## STANDARD LIBRARY"
   ]
  },
  {
   "cell_type": "markdown",
   "metadata": {
    "slideshow": {
     "slide_type": "subslide"
    }
   },
   "source": [
    "- python은 특징을 소개할 때 **<u>battery included</u>**라는 표현이 자주 나옵니다."
   ]
  },
  {
   "cell_type": "markdown",
   "metadata": {
    "slideshow": {
     "slide_type": "subslide"
    }
   },
   "source": [
    "![title](img/battery-included.png)"
   ]
  },
  {
   "cell_type": "markdown",
   "metadata": {
    "slideshow": {
     "slide_type": "subslide"
    }
   },
   "source": [
    "- Python은 **방대한** 표준라이브러리를 기본으로 제공합니다.\n",
    "- Python설치 **즉시** 사용할 수 있어요.\n",
    "- 무언가를 만들어 써야 한다고 느낄 때, 일단 표준 라이브러리부터 찾아보는 것이 좋습니다.\n",
    "- 여유있을때, 한가할때 대충이라도 읽어보세요. -- 언젠가 필요할 때 떠오릅니다."
   ]
  },
  {
   "cell_type": "markdown",
   "metadata": {
    "slideshow": {
     "slide_type": "slide"
    }
   },
   "source": [
    "## 알아두면 좋을 일부 표준 라이브러리\n",
    "*개인적 기준이므로 프로젝트환경에 따라 다를 수는 있습니다*"
   ]
  },
  {
   "cell_type": "code",
   "execution_count": 1,
   "metadata": {
    "collapsed": true,
    "slideshow": {
     "slide_type": "subslide"
    }
   },
   "outputs": [],
   "source": [
    "import sys\n",
    "import os\n",
    "import re\n",
    "import time\n",
    "import datetime\n",
    "import collections\n",
    "import itertools\n",
    "import glob\n",
    "import json\n",
    "import logging\n",
    "import random"
   ]
  },
  {
   "cell_type": "code",
   "execution_count": 2,
   "metadata": {
    "slideshow": {
     "slide_type": "subslide"
    }
   },
   "outputs": [
    {
     "data": {
      "text/plain": [
       "'3.6.1 (default, Feb  7 2018, 15:51:13) \\n[GCC 4.2.1 Compatible Apple LLVM 9.0.0 (clang-900.0.38)]'"
      ]
     },
     "execution_count": 2,
     "metadata": {},
     "output_type": "execute_result"
    }
   ],
   "source": [
    "import sys\n",
    "sys.version"
   ]
  },
  {
   "cell_type": "code",
   "execution_count": 3,
   "metadata": {
    "slideshow": {
     "slide_type": "subslide"
    }
   },
   "outputs": [
    {
     "data": {
      "text/plain": [
       "['PYTHON-INTERMEDIATE2-Z-QUIZ(PRE)-ANSWER.ipynb',\n",
       " 'WORKSHOPS.ipynb',\n",
       " 'PYTHON-BASIC-7-WORKSHOP(369).ipynb']"
      ]
     },
     "execution_count": 3,
     "metadata": {},
     "output_type": "execute_result"
    }
   ],
   "source": [
    "import os\n",
    "os.listdir('.')[:3]"
   ]
  },
  {
   "cell_type": "code",
   "execution_count": 7,
   "metadata": {
    "slideshow": {
     "slide_type": "subslide"
    }
   },
   "outputs": [
    {
     "data": {
      "text/plain": [
       "['test0', 'test9', 'test7']"
      ]
     },
     "execution_count": 7,
     "metadata": {},
     "output_type": "execute_result"
    }
   ],
   "source": [
    "import re\n",
    "re.findall(r'test[0-9]', 'test0 hello test9 test7')"
   ]
  },
  {
   "cell_type": "code",
   "execution_count": 9,
   "metadata": {
    "slideshow": {
     "slide_type": "subslide"
    }
   },
   "outputs": [
    {
     "name": "stdout",
     "output_type": "stream",
     "text": [
      "1.002135992050171 second is elapsed.\n"
     ]
    }
   ],
   "source": [
    "import time\n",
    "before = time.time()\n",
    "time.sleep(1)\n",
    "after = time.time()\n",
    "print(f'{after-before} second is elapsed.')"
   ]
  },
  {
   "cell_type": "code",
   "execution_count": 12,
   "metadata": {
    "slideshow": {
     "slide_type": "subslide"
    }
   },
   "outputs": [
    {
     "data": {
      "text/plain": [
       "datetime.datetime(2018, 4, 9, 21, 56, 50, 547228)"
      ]
     },
     "execution_count": 12,
     "metadata": {},
     "output_type": "execute_result"
    }
   ],
   "source": [
    "import datetime\n",
    "datetime.datetime.today() - datetime.timedelta(days=1)"
   ]
  },
  {
   "cell_type": "code",
   "execution_count": 13,
   "metadata": {
    "slideshow": {
     "slide_type": "subslide"
    }
   },
   "outputs": [
    {
     "data": {
      "text/plain": [
       "Counter({1: 2, 2: 1})"
      ]
     },
     "execution_count": 13,
     "metadata": {},
     "output_type": "execute_result"
    }
   ],
   "source": [
    "import collections\n",
    "collections.Counter([1,1,2])"
   ]
  },
  {
   "cell_type": "code",
   "execution_count": 15,
   "metadata": {
    "slideshow": {
     "slide_type": "subslide"
    }
   },
   "outputs": [],
   "source": [
    "import itertools\n",
    "\n",
    "# http://hamait.tistory.com/803\n",
    "# https://docs.python.org/3/library/itertools.html"
   ]
  },
  {
   "cell_type": "code",
   "execution_count": 18,
   "metadata": {
    "slideshow": {
     "slide_type": "subslide"
    }
   },
   "outputs": [
    {
     "data": {
      "text/plain": [
       "['img/dont-worry.jpg',\n",
       " 'img/python-2-vs-python-3.jpg',\n",
       " 'img/battery-included.png']"
      ]
     },
     "execution_count": 18,
     "metadata": {},
     "output_type": "execute_result"
    }
   ],
   "source": [
    "import glob\n",
    "glob.glob('img/*')[:3]"
   ]
  },
  {
   "cell_type": "code",
   "execution_count": 23,
   "metadata": {
    "slideshow": {
     "slide_type": "subslide"
    }
   },
   "outputs": [
    {
     "data": {
      "text/plain": [
       "('{\"hello\": \"world\"}', str, {'hello': 'world'}, dict)"
      ]
     },
     "execution_count": 23,
     "metadata": {},
     "output_type": "execute_result"
    }
   ],
   "source": [
    "import json\n",
    "(\n",
    "    json.dumps(dict(hello='world')), type(json.dumps(dict(hello='world'))),\n",
    "    json.loads('{\"hello\": \"world\"}'), type(json.loads('{\"hello\": \"world\"}'))\n",
    ")"
   ]
  },
  {
   "cell_type": "code",
   "execution_count": 24,
   "metadata": {
    "slideshow": {
     "slide_type": "subslide"
    }
   },
   "outputs": [
    {
     "name": "stderr",
     "output_type": "stream",
     "text": [
      "/usr/local/opt/pyenv/versions/3.6.1/envs/py/lib/python3.6/site-packages/ipykernel_launcher.py:2: DeprecationWarning: The 'warn' function is deprecated, use 'warning' instead\n",
      "  \n",
      "WARNING:root:helloworld\n"
     ]
    }
   ],
   "source": [
    "import logging\n",
    "logging.warn('helloworld')"
   ]
  },
  {
   "cell_type": "code",
   "execution_count": 28,
   "metadata": {
    "slideshow": {
     "slide_type": "subslide"
    }
   },
   "outputs": [
    {
     "data": {
      "text/plain": [
       "8"
      ]
     },
     "execution_count": 28,
     "metadata": {},
     "output_type": "execute_result"
    }
   ],
   "source": [
    "import random\n",
    "random.randrange(10)"
   ]
  },
  {
   "cell_type": "markdown",
   "metadata": {
    "slideshow": {
     "slide_type": "subslide"
    }
   },
   "source": [
    "이 외 사용법은 각자 배워가실 수 있기를 바랍니다. WORKSHOP에서 다양하게 다뤄보겠습니다 :)\n",
    "- 메뉴얼은 가까이 있는 것이 좋습니다. https://docs.python.org/3/library/index.html\n",
    "- 메뉴얼에는 다양하고 훌륭한 코드샘플들이 포함되어 있기 때문에, 가장 먼저 살펴보시기를 권합니다.\n",
    "- offline browser 추천합니다. https://zealdocs.org (맥 사용자는 Dash!)\n"
   ]
  },
  {
   "cell_type": "markdown",
   "metadata": {
    "slideshow": {
     "slide_type": "subslide"
    }
   },
   "source": [
    "꽤 두꺼운 관련 서적도 판매중에 있습니다.\n",
    "![python-standard-libraray-book](img/book-python-stdlib.jpg)"
   ]
  },
  {
   "cell_type": "markdown",
   "metadata": {
    "slideshow": {
     "slide_type": "subslide"
    }
   },
   "source": [
    "이번 과정의 워크샵은 표준 라이브러리만 사용합니다. PIP를 이용한 추가 패키지설치는 하지 않습니다. 사실 PYTHON으로 하고자 하는 많은 일들이 표준 라이브러리만으로도 충분합니다."
   ]
  }
 ],
 "metadata": {
  "celltoolbar": "Slideshow",
  "kernelspec": {
   "display_name": "Python 3",
   "language": "python",
   "name": "python3"
  },
  "language_info": {
   "codemirror_mode": {
    "name": "ipython",
    "version": 3
   },
   "file_extension": ".py",
   "mimetype": "text/x-python",
   "name": "python",
   "nbconvert_exporter": "python",
   "pygments_lexer": "ipython3",
   "version": "3.6.1"
  }
 },
 "nbformat": 4,
 "nbformat_minor": 2
}
