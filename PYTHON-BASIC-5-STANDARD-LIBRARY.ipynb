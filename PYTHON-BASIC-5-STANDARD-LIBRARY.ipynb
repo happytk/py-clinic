{
 "cells": [
  {
   "cell_type": "markdown",
   "metadata": {
    "slideshow": {
     "slide_type": "slide"
    }
   },
   "source": [
    "## STANDARD LIBRARY"
   ]
  },
  {
   "cell_type": "markdown",
   "metadata": {
    "slideshow": {
     "slide_type": "subslide"
    }
   },
   "source": [
    "- python은 특징을 소개할 때 **<u>battery included</u>**라는 표현이 자주 나옵니다."
   ]
  },
  {
   "cell_type": "markdown",
   "metadata": {
    "slideshow": {
     "slide_type": "subslide"
    }
   },
   "source": [
    "![title](img/battery-included.png)"
   ]
  },
  {
   "cell_type": "markdown",
   "metadata": {
    "slideshow": {
     "slide_type": "subslide"
    }
   },
   "source": [
    "- Python은 **방대한** 표준라이브러리를 기본으로 제공합니다.\n",
    "- Python설치 **즉시** 사용할 수 있어요.\n",
    "- 무언가를 만들어 써야 한다고 느낄 때, 일단 표준 라이브러리부터 찾아보는 것이 좋습니다.\n",
    "- 여유있을때, 한가할때 대충이라도 읽어보세요. -- 언젠가 필요할 때 떠오릅니다."
   ]
  },
  {
   "cell_type": "markdown",
   "metadata": {
    "slideshow": {
     "slide_type": "slide"
    }
   },
   "source": [
    "## 알아두면 좋을 일부 표준 라이브러리\n",
    "*개인적 기준이므로 프로젝트환경에 따라 다를 수는 있습니다*"
   ]
  },
  {
   "cell_type": "code",
   "execution_count": 7,
   "metadata": {
    "collapsed": true,
    "slideshow": {
     "slide_type": "subslide"
    }
   },
   "outputs": [],
   "source": [
    "import sys\n",
    "import os\n",
    "import re\n",
    "import datetime\n",
    "import collections\n",
    "import glob\n",
    "import json\n",
    "import logging\n",
    "import random"
   ]
  },
  {
   "cell_type": "markdown",
   "metadata": {
    "slideshow": {
     "slide_type": "subslide"
    }
   },
   "source": [
    "사용법은 각자 연구해보세요. 이후 연습문제나 WORKSHOP에서도 틈틈히 사용합니다! :)\n",
    "- 메뉴얼은 가까이 있는 것이 좋습니다. https://docs.python.org/3/library/index.html\n",
    "- offline browser 추천합니다. https://zealdocs.org"
   ]
  },
  {
   "cell_type": "markdown",
   "metadata": {
    "slideshow": {
     "slide_type": "subslide"
    }
   },
   "source": [
    "꽤 두꺼운 관련 서적도 판매중에 있습니다.\n",
    "![python-standard-libraray-book](img/book-python-stdlib.jpg)"
   ]
  },
  {
   "cell_type": "markdown",
   "metadata": {
    "slideshow": {
     "slide_type": "subslide"
    }
   },
   "source": [
    "이번 과정은 표준 라이브러리만 사용합니다. PIP를 이용한 추가 패키지설치는 하지 않습니다."
   ]
  }
 ],
 "metadata": {
  "celltoolbar": "Slideshow",
  "kernelspec": {
   "display_name": "Python 3",
   "language": "python",
   "name": "python3"
  },
  "language_info": {
   "codemirror_mode": {
    "name": "ipython",
    "version": 3
   },
   "file_extension": ".py",
   "mimetype": "text/x-python",
   "name": "python",
   "nbconvert_exporter": "python",
   "pygments_lexer": "ipython3",
   "version": "3.6.1"
  }
 },
 "nbformat": 4,
 "nbformat_minor": 2
}
