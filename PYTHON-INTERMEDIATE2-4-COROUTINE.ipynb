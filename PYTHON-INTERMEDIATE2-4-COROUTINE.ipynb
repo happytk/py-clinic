{
 "cells": [
  {
   "cell_type": "markdown",
   "metadata": {
    "slideshow": {
     "slide_type": "slide"
    }
   },
   "source": [
    "## Coroutine\n",
    "*비동기 프로그래밍을 여행하는 히치하이커를 위한 안내서*"
   ]
  },
  {
   "cell_type": "markdown",
   "metadata": {
    "slideshow": {
     "slide_type": "subslide"
    }
   },
   "source": [
    "pep342 coroutine via enhanced generators\n",
    "\n",
    "- generator를 좀 더 개선해서 coroutine 개념으로 동작할 수 있는 pep를 제안했습니다.\n",
    "- python2.5부터 채택되었습니다(2005년) https://www.python.org/dev/peps/pep-0342/"
   ]
  },
  {
   "cell_type": "code",
   "execution_count": 59,
   "metadata": {
    "slideshow": {
     "slide_type": "subslide"
    }
   },
   "outputs": [
    {
     "name": "stdout",
     "output_type": "stream",
     "text": [
      "100\n",
      "200\n",
      "300\n"
     ]
    },
    {
     "data": {
      "text/plain": [
       "(100, 200, 300)"
      ]
     },
     "execution_count": 59,
     "metadata": {},
     "output_type": "execute_result"
    }
   ],
   "source": [
    "# 우리가 잘 아는 generator\n",
    "def well_known_generator():\n",
    "    yield 100\n",
    "    yield 200\n",
    "    yield 300\n",
    "\n",
    "for x in well_known_generator():\n",
    "    print(x)\n",
    "\n",
    "# as-iterator-protocol\n",
    "g = well_known_generator()\n",
    "next(g), next(g), next(g)"
   ]
  },
  {
   "cell_type": "markdown",
   "metadata": {
    "slideshow": {
     "slide_type": "subslide"
    }
   },
   "source": [
    "지금까지는 generator가 값을 만들어내는 역할로 동작했지만, <span class=\"mark\">generator를 좀 더 개선하여 값을 받아내는 역할로도 동작할 수 있게 만들었습니다.</span>\n",
    "\n",
    "*(개발자스럽게 더 풀어서 설명하자면) 예전엔 generator가 `__next__`를 구현한 iterable한 객체였다면, 향상된 generator는 `send()`가 추가로 구현되어 있습니다.*"
   ]
  },
  {
   "cell_type": "markdown",
   "metadata": {
    "slideshow": {
     "slide_type": "subslide"
    }
   },
   "source": [
    "generator를 개선해서 양방향으로 데이터를 주고 받을 수 있는 채널을 구현하면서, generator는 coroutine으로도 동작가능합니다.\n",
    "\n",
    "- 생성자를 generator라고 한다면, 소비자는 coroutine입니다. *coroutine은 꼭 그런 개념은 아닌데 generator와 섞이지 않게 이렇게 표현하는 듯 합니다.*\n",
    "- 데이터를 받고자 하는 시점에서 흐름을 중지할 수 있고,\n",
    "- 신호(데이터)를 보냄으로써 실행을 재게할 수 있는 특성을 갖습니다.\n",
    "- 이렇게 외부와 데이터를 주고 받을 수 있으면서, 실행시점을 제어할 수 있는 작업단위를 일반적인 의미의 coroutine이라고 합니다."
   ]
  },
  {
   "cell_type": "code",
   "execution_count": 52,
   "metadata": {
    "slideshow": {
     "slide_type": "subslide"
    }
   },
   "outputs": [
    {
     "name": "stdout",
     "output_type": "stream",
     "text": [
      "100 200 300\n",
      "100 200 300\n"
     ]
    }
   ],
   "source": [
    "# 이런모양입니다.\n",
    "def well_known_generator():\n",
    "    yield 100\n",
    "    yield 200\n",
    "    yield 300\n",
    "\n",
    "# __next__\n",
    "g = well_known_generator()\n",
    "print(next(g), next(g), next(g))\n",
    "    \n",
    "# send()\n",
    "g = well_known_generator()\n",
    "print(next(g), g.send(None), g.send(None))"
   ]
  },
  {
   "cell_type": "code",
   "execution_count": 4,
   "metadata": {
    "slideshow": {
     "slide_type": "subslide"
    }
   },
   "outputs": [
    {
     "name": "stdout",
     "output_type": "stream",
     "text": [
      "started\n",
      "None\n",
      "None\n",
      "100 200 300\n",
      "None\n",
      "end\n"
     ]
    },
    {
     "ename": "StopIteration",
     "evalue": "",
     "output_type": "error",
     "traceback": [
      "\u001b[0;31m---------------------------------------------------------------------------\u001b[0m",
      "\u001b[0;31mStopIteration\u001b[0m                             Traceback (most recent call last)",
      "\u001b[0;32m<ipython-input-4-800311a1008a>\u001b[0m in \u001b[0;36m<module>\u001b[0;34m()\u001b[0m\n\u001b[1;32m     13\u001b[0m \u001b[0;34m\u001b[0m\u001b[0m\n\u001b[1;32m     14\u001b[0m \u001b[0;31m# generator와 동일하게 stopiteration으로 끝납니다.\u001b[0m\u001b[0;34m\u001b[0m\u001b[0;34m\u001b[0m\u001b[0m\n\u001b[0;32m---> 15\u001b[0;31m \u001b[0mg\u001b[0m\u001b[0;34m.\u001b[0m\u001b[0msend\u001b[0m\u001b[0;34m(\u001b[0m\u001b[0;32mNone\u001b[0m\u001b[0;34m)\u001b[0m\u001b[0;34m\u001b[0m\u001b[0m\n\u001b[0m",
      "\u001b[0;31mStopIteration\u001b[0m: "
     ]
    }
   ],
   "source": [
    "def well_known_generator():\n",
    "    print('started')\n",
    "    received = yield 100\n",
    "    print(received)\n",
    "    received = yield 200\n",
    "    print(received)\n",
    "    received = yield 300\n",
    "    print(received)\n",
    "    print('end')\n",
    "    \n",
    "g = well_known_generator()\n",
    "print(next(g), g.send(None), g.send(None))\n",
    "\n",
    "# generator와 동일하게 stopiteration으로 끝납니다.\n",
    "g.send(None)"
   ]
  },
  {
   "cell_type": "code",
   "execution_count": 6,
   "metadata": {
    "slideshow": {
     "slide_type": "subslide"
    }
   },
   "outputs": [
    {
     "name": "stdout",
     "output_type": "stream",
     "text": [
      "started\n",
      "None\n",
      "None\n",
      "100 200 300\n",
      "None\n",
      "end\n"
     ]
    },
    {
     "ename": "StopIteration",
     "evalue": "",
     "output_type": "error",
     "traceback": [
      "\u001b[0;31m---------------------------------------------------------------------------\u001b[0m",
      "\u001b[0;31mStopIteration\u001b[0m                             Traceback (most recent call last)",
      "\u001b[0;32m<ipython-input-6-f0b25c69c1c0>\u001b[0m in \u001b[0;36m<module>\u001b[0;34m()\u001b[0m\n\u001b[1;32m     11\u001b[0m \u001b[0;34m\u001b[0m\u001b[0m\n\u001b[1;32m     12\u001b[0m \u001b[0;31m# generator와 동일하게 stopiteration으로 끝납니다.\u001b[0m\u001b[0;34m\u001b[0m\u001b[0;34m\u001b[0m\u001b[0m\n\u001b[0;32m---> 13\u001b[0;31m \u001b[0mg\u001b[0m\u001b[0;34m.\u001b[0m\u001b[0msend\u001b[0m\u001b[0;34m(\u001b[0m\u001b[0;32mNone\u001b[0m\u001b[0;34m)\u001b[0m\u001b[0;34m\u001b[0m\u001b[0m\n\u001b[0m",
      "\u001b[0;31mStopIteration\u001b[0m: "
     ]
    }
   ],
   "source": [
    "# yield는 assign되는 expression일때만 ()를 생략할 수 있습니다.\n",
    "def well_known_generator():\n",
    "    print('started')\n",
    "    print((yield 100))\n",
    "    print((yield 200))\n",
    "    print((yield 300))\n",
    "    print('end')\n",
    "    \n",
    "g = well_known_generator()\n",
    "print(next(g), g.send(None), g.send(None))\n",
    "\n",
    "# generator와 동일하게 stopiteration으로 끝납니다.\n",
    "g.send(None)"
   ]
  },
  {
   "cell_type": "code",
   "execution_count": 43,
   "metadata": {
    "slideshow": {
     "slide_type": "subslide"
    }
   },
   "outputs": [
    {
     "data": {
      "text/plain": [
       "0"
      ]
     },
     "execution_count": 43,
     "metadata": {},
     "output_type": "execute_result"
    }
   ],
   "source": [
    "# coroutine에서의 return\n",
    "def coroutine():\n",
    "    sum_ = 0\n",
    "    while True:\n",
    "        sum_ += yield sum_\n",
    "    return sum_\n",
    "\n",
    "coro = coroutine()\n",
    "next(coro)"
   ]
  },
  {
   "cell_type": "code",
   "execution_count": 44,
   "metadata": {
    "slideshow": {
     "slide_type": "subslide"
    }
   },
   "outputs": [
    {
     "data": {
      "text/plain": [
       "60"
      ]
     },
     "execution_count": 44,
     "metadata": {},
     "output_type": "execute_result"
    }
   ],
   "source": [
    "coro.send(10)\n",
    "coro.send(20)\n",
    "coro.send(30)"
   ]
  },
  {
   "cell_type": "code",
   "execution_count": 45,
   "metadata": {
    "slideshow": {
     "slide_type": "subslide"
    }
   },
   "outputs": [
    {
     "ename": "TypeError",
     "evalue": "unsupported operand type(s) for +=: 'int' and 'NoneType'",
     "output_type": "error",
     "traceback": [
      "\u001b[0;31m---------------------------------------------------------------------------\u001b[0m",
      "\u001b[0;31mTypeError\u001b[0m                                 Traceback (most recent call last)",
      "\u001b[0;32m<ipython-input-45-7a7656e80eea>\u001b[0m in \u001b[0;36m<module>\u001b[0;34m()\u001b[0m\n\u001b[0;32m----> 1\u001b[0;31m \u001b[0mcoro\u001b[0m\u001b[0;34m.\u001b[0m\u001b[0msend\u001b[0m\u001b[0;34m(\u001b[0m\u001b[0;32mNone\u001b[0m\u001b[0;34m)\u001b[0m\u001b[0;34m\u001b[0m\u001b[0m\n\u001b[0m",
      "\u001b[0;32m<ipython-input-43-7c6123dc4baf>\u001b[0m in \u001b[0;36mcoroutine\u001b[0;34m()\u001b[0m\n\u001b[1;32m      3\u001b[0m     \u001b[0msum_\u001b[0m \u001b[0;34m=\u001b[0m \u001b[0;36m0\u001b[0m\u001b[0;34m\u001b[0m\u001b[0m\n\u001b[1;32m      4\u001b[0m     \u001b[0;32mwhile\u001b[0m \u001b[0;32mTrue\u001b[0m\u001b[0;34m:\u001b[0m\u001b[0;34m\u001b[0m\u001b[0m\n\u001b[0;32m----> 5\u001b[0;31m         \u001b[0msum_\u001b[0m \u001b[0;34m+=\u001b[0m \u001b[0;32myield\u001b[0m \u001b[0msum_\u001b[0m\u001b[0;34m\u001b[0m\u001b[0m\n\u001b[0m\u001b[1;32m      6\u001b[0m     \u001b[0;32mreturn\u001b[0m \u001b[0msum_\u001b[0m\u001b[0;34m\u001b[0m\u001b[0m\n\u001b[1;32m      7\u001b[0m \u001b[0;34m\u001b[0m\u001b[0m\n",
      "\u001b[0;31mTypeError\u001b[0m: unsupported operand type(s) for +=: 'int' and 'NoneType'"
     ]
    }
   ],
   "source": [
    "coro.send(None)"
   ]
  },
  {
   "cell_type": "code",
   "execution_count": 46,
   "metadata": {
    "slideshow": {
     "slide_type": "subslide"
    }
   },
   "outputs": [
    {
     "ename": "StopIteration",
     "evalue": "",
     "output_type": "error",
     "traceback": [
      "\u001b[0;31m---------------------------------------------------------------------------\u001b[0m",
      "\u001b[0;31mStopIteration\u001b[0m                             Traceback (most recent call last)",
      "\u001b[0;32m<ipython-input-46-f56ab31b0c70>\u001b[0m in \u001b[0;36m<module>\u001b[0;34m()\u001b[0m\n\u001b[0;32m----> 1\u001b[0;31m \u001b[0mcoro\u001b[0m\u001b[0;34m.\u001b[0m\u001b[0msend\u001b[0m\u001b[0;34m(\u001b[0m\u001b[0;36m10\u001b[0m\u001b[0;34m)\u001b[0m\u001b[0;34m\u001b[0m\u001b[0m\n\u001b[0m",
      "\u001b[0;31mStopIteration\u001b[0m: "
     ]
    }
   ],
   "source": [
    "coro.send(10)"
   ]
  },
  {
   "cell_type": "code",
   "execution_count": 1,
   "metadata": {},
   "outputs": [
    {
     "name": "stderr",
     "output_type": "stream",
     "text": [
      "Unclosed client session\n",
      "client_session: <aiohttp.client.ClientSession object at 0x1096d2f28>\n"
     ]
    },
    {
     "data": {
      "text/html": [
       "<img src=\"downloads/id.gif\"/>"
      ],
      "text/plain": [
       "<IPython.core.display.Image object>"
      ]
     },
     "metadata": {},
     "output_type": "display_data"
    },
    {
     "name": "stderr",
     "output_type": "stream",
     "text": [
      "Unclosed client session\n",
      "client_session: <aiohttp.client.ClientSession object at 0x1096bc2e8>\n"
     ]
    },
    {
     "data": {
      "text/html": [
       "<img src=\"downloads/cn.gif\"/>"
      ],
      "text/plain": [
       "<IPython.core.display.Image object>"
      ]
     },
     "metadata": {},
     "output_type": "display_data"
    },
    {
     "name": "stderr",
     "output_type": "stream",
     "text": [
      "Unclosed client session\n",
      "client_session: <aiohttp.client.ClientSession object at 0x1096e4d68>\n"
     ]
    },
    {
     "data": {
      "text/html": [
       "<img src=\"downloads/ng.gif\"/>"
      ],
      "text/plain": [
       "<IPython.core.display.Image object>"
      ]
     },
     "metadata": {},
     "output_type": "display_data"
    },
    {
     "name": "stderr",
     "output_type": "stream",
     "text": [
      "Unclosed client session\n",
      "client_session: <aiohttp.client.ClientSession object at 0x109706128>\n"
     ]
    },
    {
     "data": {
      "text/html": [
       "<img src=\"downloads/kr.gif\"/>"
      ],
      "text/plain": [
       "<IPython.core.display.Image object>"
      ]
     },
     "metadata": {},
     "output_type": "display_data"
    },
    {
     "name": "stderr",
     "output_type": "stream",
     "text": [
      "Unclosed client session\n",
      "client_session: <aiohttp.client.ClientSession object at 0x1096e4470>\n"
     ]
    },
    {
     "data": {
      "text/html": [
       "<img src=\"downloads/br.gif\"/>"
      ],
      "text/plain": [
       "<IPython.core.display.Image object>"
      ]
     },
     "metadata": {},
     "output_type": "display_data"
    },
    {
     "name": "stderr",
     "output_type": "stream",
     "text": [
      "Unclosed client session\n",
      "client_session: <aiohttp.client.ClientSession object at 0x1096f4630>\n"
     ]
    },
    {
     "data": {
      "text/html": [
       "<img src=\"downloads/jp.gif\"/>"
      ],
      "text/plain": [
       "<IPython.core.display.Image object>"
      ]
     },
     "metadata": {},
     "output_type": "display_data"
    },
    {
     "name": "stderr",
     "output_type": "stream",
     "text": [
      "Unclosed client session\n",
      "client_session: <aiohttp.client.ClientSession object at 0x1096f4780>\n"
     ]
    },
    {
     "data": {
      "text/html": [
       "<img src=\"downloads/ru.gif\"/>"
      ],
      "text/plain": [
       "<IPython.core.display.Image object>"
      ]
     },
     "metadata": {},
     "output_type": "display_data"
    },
    {
     "name": "stderr",
     "output_type": "stream",
     "text": [
      "Unclosed client session\n",
      "client_session: <aiohttp.client.ClientSession object at 0x109717048>\n"
     ]
    },
    {
     "data": {
      "text/html": [
       "<img src=\"downloads/vn.gif\"/>"
      ],
      "text/plain": [
       "<IPython.core.display.Image object>"
      ]
     },
     "metadata": {},
     "output_type": "display_data"
    },
    {
     "name": "stderr",
     "output_type": "stream",
     "text": [
      "Unclosed client session\n",
      "client_session: <aiohttp.client.ClientSession object at 0x109717e48>\n"
     ]
    },
    {
     "data": {
      "text/html": [
       "<img src=\"downloads/de.gif\"/>"
      ],
      "text/plain": [
       "<IPython.core.display.Image object>"
      ]
     },
     "metadata": {},
     "output_type": "display_data"
    },
    {
     "name": "stderr",
     "output_type": "stream",
     "text": [
      "Unclosed client session\n",
      "client_session: <aiohttp.client.ClientSession object at 0x109724320>\n"
     ]
    },
    {
     "data": {
      "text/html": [
       "<img src=\"downloads/tr.gif\"/>"
      ],
      "text/plain": [
       "<IPython.core.display.Image object>"
      ]
     },
     "metadata": {},
     "output_type": "display_data"
    },
    {
     "name": "stderr",
     "output_type": "stream",
     "text": [
      "Unclosed client session\n",
      "client_session: <aiohttp.client.ClientSession object at 0x109717438>\n"
     ]
    },
    {
     "data": {
      "text/html": [
       "<img src=\"downloads/eg.gif\"/>"
      ],
      "text/plain": [
       "<IPython.core.display.Image object>"
      ]
     },
     "metadata": {},
     "output_type": "display_data"
    },
    {
     "name": "stderr",
     "output_type": "stream",
     "text": [
      "Unclosed client session\n",
      "client_session: <aiohttp.client.ClientSession object at 0x1096f4278>\n"
     ]
    },
    {
     "data": {
      "text/html": [
       "<img src=\"downloads/bd.gif\"/>"
      ],
      "text/plain": [
       "<IPython.core.display.Image object>"
      ]
     },
     "metadata": {},
     "output_type": "display_data"
    },
    {
     "name": "stderr",
     "output_type": "stream",
     "text": [
      "Unclosed client session\n",
      "client_session: <aiohttp.client.ClientSession object at 0x1097065f8>\n"
     ]
    },
    {
     "data": {
      "text/html": [
       "<img src=\"downloads/mx.gif\"/>"
      ],
      "text/plain": [
       "<IPython.core.display.Image object>"
      ]
     },
     "metadata": {},
     "output_type": "display_data"
    },
    {
     "name": "stderr",
     "output_type": "stream",
     "text": [
      "Unclosed client session\n",
      "client_session: <aiohttp.client.ClientSession object at 0x109717550>\n"
     ]
    },
    {
     "data": {
      "text/html": [
       "<img src=\"downloads/et.gif\"/>"
      ],
      "text/plain": [
       "<IPython.core.display.Image object>"
      ]
     },
     "metadata": {},
     "output_type": "display_data"
    },
    {
     "name": "stderr",
     "output_type": "stream",
     "text": [
      "Unclosed client session\n",
      "client_session: <aiohttp.client.ClientSession object at 0x109706ac8>\n"
     ]
    },
    {
     "data": {
      "text/html": [
       "<img src=\"downloads/ph.gif\"/>"
      ],
      "text/plain": [
       "<IPython.core.display.Image object>"
      ]
     },
     "metadata": {},
     "output_type": "display_data"
    },
    {
     "name": "stderr",
     "output_type": "stream",
     "text": [
      "Unclosed client session\n",
      "client_session: <aiohttp.client.ClientSession object at 0x109724cf8>\n"
     ]
    },
    {
     "data": {
      "text/html": [
       "<img src=\"downloads/cd.gif\"/>"
      ],
      "text/plain": [
       "<IPython.core.display.Image object>"
      ]
     },
     "metadata": {},
     "output_type": "display_data"
    },
    {
     "name": "stderr",
     "output_type": "stream",
     "text": [
      "Unclosed client session\n",
      "client_session: <aiohttp.client.ClientSession object at 0x1097243c8>\n"
     ]
    },
    {
     "data": {
      "text/html": [
       "<img src=\"downloads/ir.gif\"/>"
      ],
      "text/plain": [
       "<IPython.core.display.Image object>"
      ]
     },
     "metadata": {},
     "output_type": "display_data"
    },
    {
     "name": "stderr",
     "output_type": "stream",
     "text": [
      "Unclosed client session\n",
      "client_session: <aiohttp.client.ClientSession object at 0x1096d2dd8>\n"
     ]
    },
    {
     "data": {
      "text/html": [
       "<img src=\"downloads/pk.gif\"/>"
      ],
      "text/plain": [
       "<IPython.core.display.Image object>"
      ]
     },
     "metadata": {},
     "output_type": "display_data"
    },
    {
     "name": "stderr",
     "output_type": "stream",
     "text": [
      "Unclosed client session\n",
      "client_session: <aiohttp.client.ClientSession object at 0x109730208>\n"
     ]
    },
    {
     "data": {
      "text/html": [
       "<img src=\"downloads/fr.gif\"/>"
      ],
      "text/plain": [
       "<IPython.core.display.Image object>"
      ]
     },
     "metadata": {},
     "output_type": "display_data"
    },
    {
     "name": "stderr",
     "output_type": "stream",
     "text": [
      "Unclosed client session\n",
      "client_session: <aiohttp.client.ClientSession object at 0x1096d24e0>\n"
     ]
    },
    {
     "data": {
      "text/html": [
       "<img src=\"downloads/in.gif\"/>"
      ],
      "text/plain": [
       "<IPython.core.display.Image object>"
      ]
     },
     "metadata": {},
     "output_type": "display_data"
    },
    {
     "name": "stderr",
     "output_type": "stream",
     "text": [
      "Unclosed client session\n",
      "client_session: <aiohttp.client.ClientSession object at 0x1096d2a20>\n"
     ]
    },
    {
     "data": {
      "text/html": [
       "<img src=\"downloads/us.gif\"/>"
      ],
      "text/plain": [
       "<IPython.core.display.Image object>"
      ]
     },
     "metadata": {},
     "output_type": "display_data"
    },
    {
     "name": "stdout",
     "output_type": "stream",
     "text": [
      "elapsed in 2.69s\n"
     ]
    }
   ],
   "source": [
    "import asyncio\n",
    "import aiohttp\n",
    "import collections\n",
    "import os\n",
    "import time\n",
    "\n",
    "from IPython.display import display, Image\n",
    "\n",
    "POP20_CC = (\n",
    "    ' CN IN US ID BR PK NG BD RU JP KR '\n",
    "    'MX PH VN ET EG DE IR TR CD FR'\n",
    ").split()\n",
    "BASE_URL = 'http://flupy.org/data/flags'\n",
    "DEST_DIR = 'downloads/'\n",
    "\n",
    "async def get_flag(cc):\n",
    "    url = '{}/{cc}/{cc}.gif'.format(BASE_URL, cc=cc.lower())\n",
    "    resp = await aiohttp.request('GET', url)\n",
    "    image = await resp.read()\n",
    "    path = os.path.join(DEST_DIR, f'{cc.lower()}.gif')\n",
    "    with open(path, 'wb') as fp:\n",
    "        fp.write(image)\n",
    "    display(Image(url=path))\n",
    "    resp.close()\n",
    "\n",
    "\n",
    "if __name__ == '__main__':\n",
    "    t0 = time.time()\n",
    "    loop = asyncio.get_event_loop()\n",
    "    coros = [asyncio.Task(get_flag(cc)) for cc in POP20_CC]\n",
    "    counts = loop.run_until_complete(asyncio.wait(coros))\n",
    "    loop.close()\n",
    "    elapsed = time.time() - t0\n",
    "    print('elapsed in {:.2f}s'.format(elapsed))\n"
   ]
  }
 ],
 "metadata": {
  "celltoolbar": "Slideshow",
  "kernelspec": {
   "display_name": "Python 3",
   "language": "python",
   "name": "python3"
  },
  "language_info": {
   "codemirror_mode": {
    "name": "ipython",
    "version": 3
   },
   "file_extension": ".py",
   "mimetype": "text/x-python",
   "name": "python",
   "nbconvert_exporter": "python",
   "pygments_lexer": "ipython3",
   "version": "3.6.1"
  }
 },
 "nbformat": 4,
 "nbformat_minor": 2
}
