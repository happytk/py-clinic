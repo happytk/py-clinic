{
 "cells": [
  {
   "cell_type": "markdown",
   "metadata": {
    "collapsed": true
   },
   "source": [
    "## GIL (Global Interpreter Lock)"
   ]
  },
  {
   "cell_type": "markdown",
   "metadata": {},
   "source": [
    "- CPython이 단일 바이트코드를 수행할 때\n",
    "- Thread가 interrupt하지 못하도록 전역 인터프리터 잠금을 수행\n",
    "- Thread상황에서 인터프리터가 올바르게 동작하도록"
   ]
  },
  {
   "cell_type": "markdown",
   "metadata": {},
   "source": [
    "<span style='color:blue'>**그러나..**</span>\n",
    "- <u>Multithreading 상황에서도 GIL은 한 번에 한 스레드만 동작하게 합니다.</u>\n",
    "- Multithreading의 장점이 잘 발휘되지 않습니다."
   ]
  },
  {
   "cell_type": "code",
   "execution_count": 39,
   "metadata": {},
   "outputs": [
    {
     "name": "stdout",
     "output_type": "stream",
     "text": [
      "Took 2.039 seconds\n"
     ]
    }
   ],
   "source": [
    "def factorize(number):\n",
    "    return [i for i in range(1, number+1) if number % i == 0]\n",
    "\n",
    "import time\n",
    "\n",
    "numbers = [2139079, 1214759, 1516637, 1852285] * 4\n",
    "start = time.time()\n",
    "for number in numbers:\n",
    "    factorize(number)\n",
    "end = time.time()\n",
    "print('Took %.3f seconds' % (end-start))"
   ]
  },
  {
   "cell_type": "code",
   "execution_count": 40,
   "metadata": {},
   "outputs": [
    {
     "name": "stdout",
     "output_type": "stream",
     "text": [
      "Took 2.179 seconds\n"
     ]
    }
   ],
   "source": [
    "from concurrent.futures import ThreadPoolExecutor\n",
    "\n",
    "pool = ThreadPoolExecutor(max_workers=4)\n",
    "start = time.time()\n",
    "results = list(pool.map(factorize, numbers))\n",
    "end = time.time()\n",
    "\n",
    "print('Took %.3f seconds' % (end-start))\n"
   ]
  },
  {
   "cell_type": "code",
   "execution_count": 42,
   "metadata": {},
   "outputs": [
    {
     "name": "stdout",
     "output_type": "stream",
     "text": [
      "Took 0.647 seconds\n"
     ]
    }
   ],
   "source": [
    "from concurrent.futures import ProcessPoolExecutor\n",
    "\n",
    "pool = ProcessPoolExecutor(max_workers=4)\n",
    "start = time.time()\n",
    "results = list(pool.map(factorize, numbers))\n",
    "end = time.time()\n",
    "\n",
    "print('Took %.3f seconds' % (end-start))\n"
   ]
  },
  {
   "cell_type": "markdown",
   "metadata": {},
   "source": [
    "만약 IO를 다룬다면?"
   ]
  },
  {
   "cell_type": "code",
   "execution_count": 45,
   "metadata": {},
   "outputs": [
    {
     "name": "stdout",
     "output_type": "stream",
     "text": [
      "Took 0.515 seconds\n"
     ]
    }
   ],
   "source": [
    "import select\n",
    "import time\n",
    "def slow_systemcall():\n",
    "    select.select([], [], [], 0.1)\n",
    "\n",
    "start = time.time()\n",
    "for _ in range(5):\n",
    "    slow_systemcall()\n",
    "end = time.time()\n",
    "\n",
    "print('Took %.3f seconds' % (end-start))"
   ]
  },
  {
   "cell_type": "code",
   "execution_count": 51,
   "metadata": {},
   "outputs": [
    {
     "name": "stdout",
     "output_type": "stream",
     "text": [
      "Took 0.210 seconds\n"
     ]
    }
   ],
   "source": [
    "from concurrent.futures import ThreadPoolExecutor\n",
    "\n",
    "start = time.time()\n",
    "with ThreadPoolExecutor(max_workers=4) as e:\n",
    "    for _ in range(5):\n",
    "        e.submit(slow_systemcall)\n",
    "end = time.time()\n",
    "\n",
    "print('Took %.3f seconds' % (end-start))"
   ]
  },
  {
   "cell_type": "code",
   "execution_count": 52,
   "metadata": {},
   "outputs": [
    {
     "name": "stdout",
     "output_type": "stream",
     "text": [
      "Took 0.224 seconds\n"
     ]
    }
   ],
   "source": [
    "from concurrent.futures import ProcessPoolExecutor\n",
    "\n",
    "start = time.time()\n",
    "with ProcessPoolExecutor(max_workers=4) as e:\n",
    "    for _ in range(5):\n",
    "        e.submit(slow_systemcall)\n",
    "end = time.time()\n",
    "\n",
    "print('Took %.3f seconds' % (end-start))"
   ]
  }
 ],
 "metadata": {
  "kernelspec": {
   "display_name": "Python 3",
   "language": "python",
   "name": "python3"
  },
  "language_info": {
   "codemirror_mode": {
    "name": "ipython",
    "version": 3
   },
   "file_extension": ".py",
   "mimetype": "text/x-python",
   "name": "python",
   "nbconvert_exporter": "python",
   "pygments_lexer": "ipython3",
   "version": "3.6.1"
  }
 },
 "nbformat": 4,
 "nbformat_minor": 2
}
