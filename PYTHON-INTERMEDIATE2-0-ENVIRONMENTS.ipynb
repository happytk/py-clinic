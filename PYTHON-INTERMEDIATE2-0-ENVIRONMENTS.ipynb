{
 "cells": [
  {
   "cell_type": "markdown",
   "metadata": {
    "collapsed": true
   },
   "source": [
    "## 문제1\n",
    "\n",
    "두개의 프로젝트 작업을 해야 하는데\n",
    "- 한개는 Django 1.8을 다른 하나는 Django 1.9를 사용한다면?\n",
    "- 새로나온 Django 1.10을 시험해보려면?"
   ]
  },
  {
   "cell_type": "markdown",
   "metadata": {},
   "source": [
    "내가 설치하고자 하는 임의의 패키지들을 **가상환경마다 별도로 관리할 수 있습니다.**\n",
    "\n",
    "- python3에서는 기본적으로 venv module을 제공합니다.\n",
    "- python2에서는 virtualenv를 별도로 설치해줘야 합니다."
   ]
  },
  {
   "cell_type": "markdown",
   "metadata": {},
   "source": [
    "Virtual Environment 만들기\n",
    "\n",
    "- python3 -m venv /path/to/env\n",
    "- c:\\python36\\python -m venv c:\\path\\to\\env"
   ]
  },
  {
   "cell_type": "markdown",
   "metadata": {},
   "source": [
    "가상환경으로 들어가기"
   ]
  },
  {
   "cell_type": "markdown",
   "metadata": {},
   "source": [
    "가상환경에서 빠져나오기"
   ]
  },
  {
   "cell_type": "markdown",
   "metadata": {},
   "source": [
    "가상환경에 패키지 설치하기"
   ]
  },
  {
   "cell_type": "markdown",
   "metadata": {},
   "source": [
    "## 문제2\n",
    "\n",
    "나는 3.6도 사용하고 싶고, 3.5도 사용해보고 싶고, 2.7도 사용해보고 싶다면?"
   ]
  },
  {
   "cell_type": "markdown",
   "metadata": {},
   "source": [
    "pyenv"
   ]
  }
 ],
 "metadata": {
  "kernelspec": {
   "display_name": "Python 3",
   "language": "python",
   "name": "python3"
  },
  "language_info": {
   "codemirror_mode": {
    "name": "ipython",
    "version": 3
   },
   "file_extension": ".py",
   "mimetype": "text/x-python",
   "name": "python",
   "nbconvert_exporter": "python",
   "pygments_lexer": "ipython3",
   "version": "3.6.0"
  }
 },
 "nbformat": 4,
 "nbformat_minor": 2
}
