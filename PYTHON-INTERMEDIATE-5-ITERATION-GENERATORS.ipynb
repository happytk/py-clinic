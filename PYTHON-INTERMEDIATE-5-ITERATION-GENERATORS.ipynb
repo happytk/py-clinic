{
 "cells": [
  {
   "cell_type": "markdown",
   "metadata": {
    "slideshow": {
     "slide_type": "slide"
    }
   },
   "source": [
    "## ITERATION\n",
    "*python을 아름답게*"
   ]
  },
  {
   "cell_type": "code",
   "execution_count": 10,
   "metadata": {
    "slideshow": {
     "slide_type": "subslide"
    }
   },
   "outputs": [
    {
     "name": "stdout",
     "output_type": "stream",
     "text": [
      "1 2 3 1 2 3 one two 1 2 3 total 3672\n",
      "drwxr-xr-x@  4 happytk  staff      136 May 17 22:09 .\n",
      "drwx------@ 49 happytk  staff     1666 May 17 22:08 ..\n",
      "-rwxr-xr-x@  1 happytk  staff  1877810 May 12 18:46 WindowsUpdate.log\n",
      "-rw-r--r--   1 happytk  staff        0 May 17 22:09 myfile.txt\n"
     ]
    }
   ],
   "source": [
    "# python은 많은 것이 iterable합니다.\n",
    "\n",
    "for element in [1, 2, 3]:\n",
    "    print(element, end=' ')\n",
    "for element in (1, 2, 3):\n",
    "    print(element, end=' ')\n",
    "for key in {'one':1, 'two':2}:\n",
    "    print(key, end=' ')\n",
    "for char in \"123\":\n",
    "    print(char, end=' ')\n",
    "for line in open(\"data/myfile.txt\"):\n",
    "    print(line, end='')"
   ]
  },
  {
   "cell_type": "markdown",
   "metadata": {
    "slideshow": {
     "slide_type": "subslide"
    }
   },
   "source": [
    "Behind the scenes.\n",
    "- forloop은 container object에 iter()함수를 호출합니다.\n",
    "- return받은 객체의 __next__() 를 호출하면서 iterating할 대상을 하나씩 가져옵니다.\n",
    "- StopIteration 오류가 발생하면 forloop을 멈추게 됩니다."
   ]
  },
  {
   "cell_type": "markdown",
   "metadata": {
    "slideshow": {
     "slide_type": "subslide"
    }
   },
   "source": [
    "```\n",
    ">>> s = 'abc'\n",
    ">>> it = iter(s)\n",
    ">>> it\n",
    "<iterator object at 0x00A1DB50>\n",
    ">>> next(it)\n",
    "'a'\n",
    ">>> next(it)\n",
    "'b'\n",
    ">>> next(it)\n",
    "'c'\n",
    ">>> next(it)\n",
    "Traceback (most recent call last):\n",
    "  File \"<stdin>\", line 1, in ?\n",
    "    next(it)\n",
    "StopIteration\n",
    "```"
   ]
  },
  {
   "cell_type": "code",
   "execution_count": 54,
   "metadata": {
    "slideshow": {
     "slide_type": "subslide"
    }
   },
   "outputs": [
    {
     "name": "stdout",
     "output_type": "stream",
     "text": [
      "4\n",
      "0\n",
      "7\n",
      "3\n"
     ]
    }
   ],
   "source": [
    "# Iteration protocol을 구현해보기\n",
    "class MyClass:\n",
    "    def __init__(self):\n",
    "        self._data = [4,0,7,3]\n",
    "        self.index = 0\n",
    "    def __iter__(self):\n",
    "        return self\n",
    "    def __next__(self):\n",
    "        if len(self._data) == self.index:\n",
    "            raise StopIteration\n",
    "        ret = self._data[self.index]\n",
    "        self.index += 1\n",
    "        return ret\n",
    "\n",
    "for x in MyClass():\n",
    "    print(x)"
   ]
  },
  {
   "cell_type": "code",
   "execution_count": 55,
   "metadata": {
    "slideshow": {
     "slide_type": "subslide"
    }
   },
   "outputs": [
    {
     "data": {
      "text/plain": [
       "True"
      ]
     },
     "execution_count": 55,
     "metadata": {},
     "output_type": "execute_result"
    }
   ],
   "source": [
    "from collections.abc import Iterable\n",
    "isinstance(MyClass(), Iterable)"
   ]
  },
  {
   "cell_type": "markdown",
   "metadata": {
    "slideshow": {
     "slide_type": "slide"
    }
   },
   "source": [
    "## GENERATOR (PEP 255)\n",
    "*강력한 도구*"
   ]
  },
  {
   "cell_type": "markdown",
   "metadata": {
    "slideshow": {
     "slide_type": "subslide"
    }
   },
   "source": [
    "- iterator를 return하는 함수입니다.\n",
    "- 일반 함수처럼 생겼는데 다만 함수 내 **yield** keyword가 사용됩니다.\n",
    "- (신기하게도) 함수가 **동작중 SUSPEND**될 수 있습니다.\n",
    "- 물론 SUSPEND되었던 부분에서 이어 다시 수행할 수 있습니다."
   ]
  },
  {
   "cell_type": "code",
   "execution_count": 10,
   "metadata": {
    "slideshow": {
     "slide_type": "subslide"
    }
   },
   "outputs": [
    {
     "data": {
      "text/plain": [
       "10"
      ]
     },
     "execution_count": 10,
     "metadata": {},
     "output_type": "execute_result"
    }
   ],
   "source": [
    "def yield_test():\n",
    "    return 10\n",
    "\n",
    "yield_test()"
   ]
  },
  {
   "cell_type": "code",
   "execution_count": 14,
   "metadata": {
    "slideshow": {
     "slide_type": "subslide"
    }
   },
   "outputs": [
    {
     "data": {
      "text/plain": [
       "<generator object yield_test at 0x10c620468>"
      ]
     },
     "execution_count": 14,
     "metadata": {},
     "output_type": "execute_result"
    }
   ],
   "source": [
    "# yield가 사용되는 순간 함수가 아닌 generator로 변신.\n",
    "def yield_test():\n",
    "    print('funtion is started.')\n",
    "    yield 10\n",
    "\n",
    "yield_test()"
   ]
  },
  {
   "cell_type": "code",
   "execution_count": 2,
   "metadata": {
    "slideshow": {
     "slide_type": "subslide"
    }
   },
   "outputs": [
    {
     "name": "stdout",
     "output_type": "stream",
     "text": [
      "funtion is started.\n",
      "1\n",
      "2\n",
      "3\n",
      "function is finished.\n"
     ]
    }
   ],
   "source": [
    "# 일반함수와 유사합니다. yield를 쓴다는 것 빼고는.\n",
    "def yield_test():\n",
    "    print('funtion is started.') # 이게 언제 실행되는지 보세요.\n",
    "    yield 1\n",
    "    yield 2\n",
    "    yield 3\n",
    "    print('function is finished.')\n",
    "g = yield_test()\n",
    "for x in g:\n",
    "    print(x)"
   ]
  },
  {
   "cell_type": "code",
   "execution_count": 17,
   "metadata": {
    "slideshow": {
     "slide_type": "subslide"
    }
   },
   "outputs": [
    {
     "name": "stdout",
     "output_type": "stream",
     "text": [
      "True\n",
      "funtion is started.\n",
      "1\n",
      "2\n",
      "3\n"
     ]
    }
   ],
   "source": [
    "from collections.abc import Iterable\n",
    "gen = yield_test()\n",
    "\n",
    "# iterable한 객체를 return하기 때문에 looping가능.\n",
    "print(isinstance(gen, Iterable))\n",
    "\n",
    "for x in yield_test():\n",
    "    print(x)"
   ]
  },
  {
   "cell_type": "code",
   "execution_count": 18,
   "metadata": {
    "slideshow": {
     "slide_type": "subslide"
    }
   },
   "outputs": [
    {
     "name": "stdout",
     "output_type": "stream",
     "text": [
      "True\n",
      "True\n",
      "funtion is started.\n"
     ]
    },
    {
     "data": {
      "text/plain": [
       "(1, 2, 3)"
      ]
     },
     "execution_count": 18,
     "metadata": {},
     "output_type": "execute_result"
    }
   ],
   "source": [
    "# iterator를 return하는\n",
    "g = yield_test()\n",
    "print('__iter__' in dir(g))\n",
    "print('__next__' in dir(g))\n",
    "next(g), next(g), next(g)"
   ]
  },
  {
   "cell_type": "code",
   "execution_count": 42,
   "metadata": {
    "slideshow": {
     "slide_type": "subslide"
    }
   },
   "outputs": [
    {
     "name": "stdout",
     "output_type": "stream",
     "text": [
      "1\n",
      "resumed\n",
      "2\n",
      "resumed\n",
      "3\n"
     ]
    }
   ],
   "source": [
    "# 함수 수행중 중단 및 재개\n",
    "def yield_test():\n",
    "    yield 1\n",
    "    print('resumed')\n",
    "    yield 2\n",
    "    print('resumed')\n",
    "    yield 3\n",
    "for x in yield_test():\n",
    "    print(x)"
   ]
  },
  {
   "cell_type": "code",
   "execution_count": 4,
   "metadata": {
    "slideshow": {
     "slide_type": "subslide"
    }
   },
   "outputs": [
    {
     "name": "stdout",
     "output_type": "stream",
     "text": [
      "And the next number is... 0!\n",
      "And the next number is... 1!\n",
      "And the next number is... 3!\n",
      "And the next number is... 2!\n",
      "And the next number is... 4!\n",
      "And the next number is... 5!\n"
     ]
    }
   ],
   "source": [
    "# 연습문제: 기분에 따라 번호 다르게 매기기\n",
    "import random\n",
    "# random.shuffle()\n",
    "\n",
    "def lottery(cout):\n",
    "    # 0 - cout 사이의 숫자를 random하게 cout번 내어주도록\n",
    "    lst = list(range(cout))\n",
    "    random.shuffle(lst)\n",
    "    for number in lst:\n",
    "        yield number\n",
    "\n",
    "for random_number in lottery(6):\n",
    "    print(\"And the next number is... %d!\" %(random_number))"
   ]
  },
  {
   "cell_type": "code",
   "execution_count": 15,
   "metadata": {
    "slideshow": {
     "slide_type": "subslide"
    }
   },
   "outputs": [
    {
     "name": "stdout",
     "output_type": "stream",
     "text": [
      "And the next number is... 0!\n",
      "And the next number is... 1968!\n",
      "And the next number is... 1580!\n",
      "And the next number is... 3!\n",
      "And the next number is... 1979!\n",
      "And the next number is... 1983!\n"
     ]
    }
   ],
   "source": [
    "#연습문제: 기분에 따라 번호 다르게 매기기\n",
    "import random\n",
    "\n",
    "def lottery(cout):\n",
    "    for i in range(cout):\n",
    "        if random.choice(['cool', 'bad']) == 'cool':\n",
    "            yield i\n",
    "        else:\n",
    "            yield random.randint(1000,2000) # spark!\n",
    "\n",
    "\n",
    "for random_number in lottery(6):\n",
    "    print(\"And the next number is... %d!\" %(random_number))"
   ]
  },
  {
   "cell_type": "code",
   "execution_count": 4,
   "metadata": {
    "collapsed": true,
    "slideshow": {
     "slide_type": "subslide"
    }
   },
   "outputs": [],
   "source": [
    "# 연습문제: fibonacci\n",
    "# fill in this function\n",
    "def fib():\n",
    "    pass #this is a null statement which does nothing when executed, useful as a placeholder.\n",
    "\n",
    "# testing code\n",
    "import types\n",
    "if type(fib()) == types.GeneratorType:\n",
    "    print(\"Good, The fib function is a generator.\")\n",
    "\n",
    "    counter = 0\n",
    "    for n in fib():\n",
    "        print(n)\n",
    "        counter += 1\n",
    "        if counter == 10:\n",
    "            break"
   ]
  },
  {
   "cell_type": "code",
   "execution_count": 12,
   "metadata": {
    "slideshow": {
     "slide_type": "subslide"
    }
   },
   "outputs": [
    {
     "name": "stdout",
     "output_type": "stream",
     "text": [
      "Good, The fib function is a generator.\n",
      "1, 1, 2, 3, 5, 8, 13, 21, 34, 55, "
     ]
    }
   ],
   "source": [
    "def fib():\n",
    "    val1, val2 = 1, 1\n",
    "    while True:\n",
    "        yield val1\n",
    "        val1, val2 = val2, (val1+val2)\n",
    "\n",
    "# testing code\n",
    "import types\n",
    "if type(fib()) == types.GeneratorType:\n",
    "    print(\"Good, The fib function is a generator.\")\n",
    "\n",
    "    counter = 0\n",
    "    for n in fib():\n",
    "        print(n, end=', ')\n",
    "        counter += 1\n",
    "        if counter == 10:\n",
    "            break"
   ]
  },
  {
   "cell_type": "markdown",
   "metadata": {
    "slideshow": {
     "slide_type": "subslide"
    }
   },
   "source": [
    "LIST와 무엇이 다른가요?\n",
    "- 한번 소비되면 끝이에요.\n",
    "- 데이터를 무한으로 생성 가능해요.\n",
    "- LIST보다 메모리를 조금 써요.\n",
    "- LIST사용하는 것보다는 조금 느릴 수 있어요.\n",
    "- len이나 slice를 generator에는 사용할 수 없습니다.\n",
    "\n",
    "return을 만나거나 함수끝까지 가면 generator는 끝납니다."
   ]
  },
  {
   "cell_type": "markdown",
   "metadata": {
    "slideshow": {
     "slide_type": "subslide"
    }
   },
   "source": [
    "python3은 laziness가 python3의 주요 테마이자 trend입니다.\n",
    "\n",
    "```\n",
    "# python2\n",
    "range(10), xrange(10)\n",
    "open(file).readlines, open(file).xreadlines\n",
    "{}.keys()\n",
    "\n",
    "# python3\n",
    "range(10)\n",
    "open(file).readlines()\n",
    "{}.keys()\n",
    "```\n",
    "\n",
    "**<u>generator는 쉽게 laziness를 구현할 수 있습니다.</u>**"
   ]
  },
  {
   "cell_type": "markdown",
   "metadata": {
    "slideshow": {
     "slide_type": "subslide"
    }
   },
   "source": [
    "기본적으로 list를 return하는 함수를 generator로 바꿔서 사용할 수 있습니다.\n",
    "- 한번 쓰고 재사용되지 않을 것이라면\n",
    "- 메모리를 과점유하고 싶지 않다면\n",
    "- database record fetching"
   ]
  },
  {
   "cell_type": "code",
   "execution_count": 13,
   "metadata": {
    "slideshow": {
     "slide_type": "subslide"
    }
   },
   "outputs": [
    {
     "data": {
      "text/plain": [
       "True"
      ]
     },
     "execution_count": 13,
     "metadata": {},
     "output_type": "execute_result"
    }
   ],
   "source": [
    "def counter_list(size):\n",
    "    results = []\n",
    "    cur = 1\n",
    "    while cur <= size:\n",
    "        results.append(cur)\n",
    "        cur = cur + 1\n",
    "    return results\n",
    "\n",
    "def counter_gen(size):\n",
    "    cur = 1\n",
    "    while cur <= size:\n",
    "        yield cur\n",
    "        cur = cur + 1\n",
    "\n",
    "list(counter_gen(500)) == counter_list(500)"
   ]
  },
  {
   "cell_type": "markdown",
   "metadata": {
    "slideshow": {
     "slide_type": "slide"
    }
   },
   "source": [
    "## GENERATOR EXPRESSION (AGAIN)"
   ]
  },
  {
   "cell_type": "code",
   "execution_count": 8,
   "metadata": {
    "slideshow": {
     "slide_type": "subslide"
    }
   },
   "outputs": [
    {
     "data": {
      "text/plain": [
       "['0', '1', '2']"
      ]
     },
     "execution_count": 8,
     "metadata": {},
     "output_type": "execute_result"
    }
   ],
   "source": [
    "[str(num) for num in range(3)]"
   ]
  },
  {
   "cell_type": "code",
   "execution_count": 10,
   "metadata": {
    "slideshow": {
     "slide_type": "subslide"
    }
   },
   "outputs": [
    {
     "data": {
      "text/plain": [
       "<generator object <genexpr> at 0x00000000068E65C8>"
      ]
     },
     "execution_count": 10,
     "metadata": {},
     "output_type": "execute_result"
    }
   ],
   "source": [
    "(str(num) for num in range(3))"
   ]
  },
  {
   "cell_type": "code",
   "execution_count": 12,
   "metadata": {
    "slideshow": {
     "slide_type": "subslide"
    }
   },
   "outputs": [
    {
     "data": {
      "text/plain": [
       "(['0', '1', '2'], [])"
      ]
     },
     "execution_count": 12,
     "metadata": {},
     "output_type": "execute_result"
    }
   ],
   "source": [
    "# generator는 한번 사용하면 버려져요!\n",
    "g = (str(num) for num in range(3))\n",
    "list(g), list(g)"
   ]
  },
  {
   "cell_type": "code",
   "execution_count": 59,
   "metadata": {
    "slideshow": {
     "slide_type": "subslide"
    }
   },
   "outputs": [
    {
     "data": {
      "text/plain": [
       "(65, 65)"
      ]
     },
     "execution_count": 59,
     "metadata": {},
     "output_type": "execute_result"
    }
   ],
   "source": [
    "# 함수의 단일인자로 사용할때는 ()가 필요없어집니다.\n",
    "sum((x+2 for x in range(10))), \\\n",
    "sum(x+2 for x in range(10))"
   ]
  },
  {
   "cell_type": "markdown",
   "metadata": {
    "slideshow": {
     "slide_type": "subslide"
    }
   },
   "source": [
    "## EXERCISE"
   ]
  },
  {
   "cell_type": "markdown",
   "metadata": {
    "slideshow": {
     "slide_type": "subslide"
    }
   },
   "source": [
    "list를 인자로 받아 음수를 filtering하는 generator를 만들어보세요.\n",
    "\n",
    "```\n",
    ">> list(pos_gen(range(-10,10)))\n",
    "[0, 1, 2, 3, 4, 5, 6, 7, 8, 9]\n",
    "```"
   ]
  },
  {
   "cell_type": "code",
   "execution_count": 1,
   "metadata": {
    "slideshow": {
     "slide_type": "notes"
    }
   },
   "outputs": [
    {
     "data": {
      "text/plain": [
       "[0, 1, 2, 3, 4, 5, 6, 7, 8, 9]"
      ]
     },
     "execution_count": 1,
     "metadata": {},
     "output_type": "execute_result"
    }
   ],
   "source": [
    "# 정답\n",
    "def pos_gen(seq):\n",
    "    for x in seq:\n",
    "        if x >= 0:\n",
    "            yield x\n",
    "list(pos_gen(range(-10,10)))"
   ]
  },
  {
   "cell_type": "code",
   "execution_count": 23,
   "metadata": {
    "slideshow": {
     "slide_type": "notes"
    }
   },
   "outputs": [
    {
     "data": {
      "text/plain": [
       "[0, 1, 2, 3, 4, 5, 6, 7, 8, 9]"
      ]
     },
     "execution_count": 23,
     "metadata": {},
     "output_type": "execute_result"
    }
   ],
   "source": [
    "def pos_gen(seq):\n",
    "    return (x for x in seq if x >= 0)\n",
    "list(pos_gen(range(-10,10)))"
   ]
  },
  {
   "cell_type": "code",
   "execution_count": 33,
   "metadata": {
    "slideshow": {
     "slide_type": "notes"
    }
   },
   "outputs": [
    {
     "data": {
      "text/plain": [
       "[0, 1, 2, 3, 4, 5, 6, 7, 8, 9]"
      ]
     },
     "execution_count": 33,
     "metadata": {},
     "output_type": "execute_result"
    }
   ],
   "source": [
    "pos_gen = lambda seq: filter(lambda x: x>=0, seq)\n",
    "list(pos_gen(range(-10,10)))"
   ]
  },
  {
   "cell_type": "markdown",
   "metadata": {
    "slideshow": {
     "slide_type": "subslide"
    }
   },
   "source": [
    "## EXERCISE"
   ]
  },
  {
   "cell_type": "markdown",
   "metadata": {
    "slideshow": {
     "slide_type": "subslide"
    }
   },
   "source": [
    "영어문장을 받아서 각 단어의 앞글자만 대문자로 유지해주는 함수를 만들어봅시다. (문자열의 capitalize method를 사용하세요.)\n",
    "\n",
    "```\n",
    ">> capwords(\" abc  dEf \")\n",
    "\"Abc Def\"\n",
    "```"
   ]
  },
  {
   "cell_type": "code",
   "execution_count": 56,
   "metadata": {
    "collapsed": true,
    "slideshow": {
     "slide_type": "notes"
    }
   },
   "outputs": [],
   "source": [
    "# Lib/string.py 표준라이브러리에서 \n",
    "# generator expression 사용된 것이 보이시나요?\n",
    "\n",
    "# Capitalize the words in a string, e.g. \" aBc  dEf \" -> \"Abc Def\".\n",
    "def capwords(s, sep=None):\n",
    "    \"\"\"capwords(s [,sep]) -> string\n",
    "\n",
    "    Split the argument into words using split, capitalize each\n",
    "    word using capitalize, and join the capitalized words using\n",
    "    join.  If the optional second argument sep is absent or None,\n",
    "    runs of whitespace characters are replaced by a single space\n",
    "    and leading and trailing whitespace are removed, otherwise\n",
    "    sep is used to split and join the words.\n",
    "\n",
    "    \"\"\"\n",
    "    return (sep or ' ').join(x.capitalize() for x in s.split(sep))"
   ]
  },
  {
   "cell_type": "markdown",
   "metadata": {
    "slideshow": {
     "slide_type": "subslide"
    }
   },
   "source": [
    "*1천억건의 데이터를 가진 list를 생성해서 사용하고자 한다. 한개 써먹었는데 갑자기 일이 생겨서 그만둬야겠다.*\n",
    "![](https://trustliveserve.files.wordpress.com/2013/06/heavy-burden.png)"
   ]
  },
  {
   "cell_type": "code",
   "execution_count": 1,
   "metadata": {
    "slideshow": {
     "slide_type": "fragment"
    }
   },
   "outputs": [
    {
     "data": {
      "text/plain": [
       "range(0, 1000000000000)"
      ]
     },
     "execution_count": 1,
     "metadata": {},
     "output_type": "execute_result"
    }
   ],
   "source": [
    "range(1_000_000_000_000)"
   ]
  },
  {
   "cell_type": "code",
   "execution_count": 61,
   "metadata": {
    "slideshow": {
     "slide_type": "fragment"
    }
   },
   "outputs": [
    {
     "data": {
      "text/plain": [
       "1"
      ]
     },
     "execution_count": 61,
     "metadata": {},
     "output_type": "execute_result"
    }
   ],
   "source": [
    "r = range(1_000_000_000_000)\n",
    "i = iter(r)\n",
    "next(i)\n",
    "next(i)"
   ]
  },
  {
   "cell_type": "markdown",
   "metadata": {
    "slideshow": {
     "slide_type": "subslide"
    }
   },
   "source": [
    "내가 요구할때 <span class=\"burk\">하나씩</span> 주시면 됩니다."
   ]
  },
  {
   "cell_type": "markdown",
   "metadata": {
    "slideshow": {
     "slide_type": "fragment"
    }
   },
   "source": [
    "- 메모리를 최대한 적게 사용하고\n",
    "- 가능한 처리를 **늦게까지** 미루는"
   ]
  },
  {
   "cell_type": "markdown",
   "metadata": {
    "slideshow": {
     "slide_type": "fragment"
    }
   },
   "source": [
    "<span class=\"mark\">PYTHON에서는 많은 것들이 iterable하고, 사용자도 쉽게 iterable한 데이터를 만들 수 있습니다.</span>"
   ]
  },
  {
   "cell_type": "markdown",
   "metadata": {
    "slideshow": {
     "slide_type": "skip"
    }
   },
   "source": [
    "## COROUTINE (PEP 492) with asyncio (PEP3153)"
   ]
  },
  {
   "cell_type": "markdown",
   "metadata": {
    "slideshow": {
     "slide_type": "skip"
    }
   },
   "source": [
    "PYTHON3에서 제공하는 ASYNCIO를 이용해서 COROUTINE을 쉽게 생성할 수 있습니다."
   ]
  },
  {
   "cell_type": "code",
   "execution_count": 6,
   "metadata": {
    "collapsed": true,
    "slideshow": {
     "slide_type": "skip"
    }
   },
   "outputs": [],
   "source": [
    "import asyncio"
   ]
  },
  {
   "cell_type": "code",
   "execution_count": 7,
   "metadata": {
    "slideshow": {
     "slide_type": "skip"
    }
   },
   "outputs": [
    {
     "data": {
      "text/plain": [
       "<coroutine object greeting at 0x104404780>"
      ]
     },
     "execution_count": 7,
     "metadata": {},
     "output_type": "execute_result"
    }
   ],
   "source": [
    "async def greeting():\n",
    "    print(\"Hello World\")\n",
    "\n",
    "greeting()"
   ]
  },
  {
   "cell_type": "code",
   "execution_count": 8,
   "metadata": {
    "slideshow": {
     "slide_type": "skip"
    }
   },
   "outputs": [
    {
     "name": "stdout",
     "output_type": "stream",
     "text": [
      "Hello World\n"
     ]
    }
   ],
   "source": [
    "loop = asyncio.get_event_loop()\n",
    "loop.run_until_complete(greeting())\n",
    "loop.close()"
   ]
  },
  {
   "cell_type": "raw",
   "metadata": {
    "slideshow": {
     "slide_type": "skip"
    }
   },
   "source": [
    "결과값을 받고 싶다면"
   ]
  },
  {
   "cell_type": "code",
   "execution_count": 9,
   "metadata": {
    "slideshow": {
     "slide_type": "skip"
    }
   },
   "outputs": [
    {
     "ename": "RuntimeError",
     "evalue": "Event loop is closed",
     "output_type": "error",
     "traceback": [
      "\u001b[0;31m---------------------------------------------------------------------------\u001b[0m",
      "\u001b[0;31mRuntimeError\u001b[0m                              Traceback (most recent call last)",
      "\u001b[0;32m<ipython-input-9-f5691d9f01fd>\u001b[0m in \u001b[0;36m<module>\u001b[0;34m()\u001b[0m\n\u001b[1;32m      9\u001b[0m \u001b[0mf\u001b[0m \u001b[0;34m=\u001b[0m \u001b[0masyncio\u001b[0m\u001b[0;34m.\u001b[0m\u001b[0mFuture\u001b[0m\u001b[0;34m(\u001b[0m\u001b[0;34m)\u001b[0m\u001b[0;34m\u001b[0m\u001b[0m\n\u001b[1;32m     10\u001b[0m \u001b[0mloop\u001b[0m \u001b[0;34m=\u001b[0m \u001b[0masyncio\u001b[0m\u001b[0;34m.\u001b[0m\u001b[0mget_event_loop\u001b[0m\u001b[0;34m(\u001b[0m\u001b[0;34m)\u001b[0m\u001b[0;34m\u001b[0m\u001b[0m\n\u001b[0;32m---> 11\u001b[0;31m \u001b[0mloop\u001b[0m\u001b[0;34m.\u001b[0m\u001b[0mrun_until_complete\u001b[0m\u001b[0;34m(\u001b[0m\u001b[0mcompute\u001b[0m\u001b[0;34m(\u001b[0m\u001b[0mf\u001b[0m\u001b[0;34m)\u001b[0m\u001b[0;34m)\u001b[0m\u001b[0;34m\u001b[0m\u001b[0m\n\u001b[0m\u001b[1;32m     12\u001b[0m \u001b[0mloop\u001b[0m\u001b[0;34m.\u001b[0m\u001b[0mclose\u001b[0m\u001b[0;34m(\u001b[0m\u001b[0;34m)\u001b[0m\u001b[0;34m\u001b[0m\u001b[0m\n\u001b[1;32m     13\u001b[0m \u001b[0mf\u001b[0m\u001b[0;34m.\u001b[0m\u001b[0mresult\u001b[0m\u001b[0;34m(\u001b[0m\u001b[0;34m)\u001b[0m\u001b[0;34m\u001b[0m\u001b[0m\n",
      "\u001b[0;32m/Users/happytk/.pyenv/versions/3.6.1/lib/python3.6/asyncio/base_events.py\u001b[0m in \u001b[0;36mrun_until_complete\u001b[0;34m(self, future)\u001b[0m\n\u001b[1;32m    441\u001b[0m         \u001b[0mReturn\u001b[0m \u001b[0mthe\u001b[0m \u001b[0mFuture\u001b[0m\u001b[0;31m'\u001b[0m\u001b[0ms\u001b[0m \u001b[0mresult\u001b[0m\u001b[0;34m,\u001b[0m \u001b[0;32mor\u001b[0m \u001b[0;32mraise\u001b[0m \u001b[0mits\u001b[0m \u001b[0mexception\u001b[0m\u001b[0;34m.\u001b[0m\u001b[0;34m\u001b[0m\u001b[0m\n\u001b[1;32m    442\u001b[0m         \"\"\"\n\u001b[0;32m--> 443\u001b[0;31m         \u001b[0mself\u001b[0m\u001b[0;34m.\u001b[0m\u001b[0m_check_closed\u001b[0m\u001b[0;34m(\u001b[0m\u001b[0;34m)\u001b[0m\u001b[0;34m\u001b[0m\u001b[0m\n\u001b[0m\u001b[1;32m    444\u001b[0m \u001b[0;34m\u001b[0m\u001b[0m\n\u001b[1;32m    445\u001b[0m         \u001b[0mnew_task\u001b[0m \u001b[0;34m=\u001b[0m \u001b[0;32mnot\u001b[0m \u001b[0mfutures\u001b[0m\u001b[0;34m.\u001b[0m\u001b[0misfuture\u001b[0m\u001b[0;34m(\u001b[0m\u001b[0mfuture\u001b[0m\u001b[0;34m)\u001b[0m\u001b[0;34m\u001b[0m\u001b[0m\n",
      "\u001b[0;32m/Users/happytk/.pyenv/versions/3.6.1/lib/python3.6/asyncio/base_events.py\u001b[0m in \u001b[0;36m_check_closed\u001b[0;34m(self)\u001b[0m\n\u001b[1;32m    355\u001b[0m     \u001b[0;32mdef\u001b[0m \u001b[0m_check_closed\u001b[0m\u001b[0;34m(\u001b[0m\u001b[0mself\u001b[0m\u001b[0;34m)\u001b[0m\u001b[0;34m:\u001b[0m\u001b[0;34m\u001b[0m\u001b[0m\n\u001b[1;32m    356\u001b[0m         \u001b[0;32mif\u001b[0m \u001b[0mself\u001b[0m\u001b[0;34m.\u001b[0m\u001b[0m_closed\u001b[0m\u001b[0;34m:\u001b[0m\u001b[0;34m\u001b[0m\u001b[0m\n\u001b[0;32m--> 357\u001b[0;31m             \u001b[0;32mraise\u001b[0m \u001b[0mRuntimeError\u001b[0m\u001b[0;34m(\u001b[0m\u001b[0;34m'Event loop is closed'\u001b[0m\u001b[0;34m)\u001b[0m\u001b[0;34m\u001b[0m\u001b[0m\n\u001b[0m\u001b[1;32m    358\u001b[0m \u001b[0;34m\u001b[0m\u001b[0m\n\u001b[1;32m    359\u001b[0m     \u001b[0;32mdef\u001b[0m \u001b[0m_asyncgen_finalizer_hook\u001b[0m\u001b[0;34m(\u001b[0m\u001b[0mself\u001b[0m\u001b[0;34m,\u001b[0m \u001b[0magen\u001b[0m\u001b[0;34m)\u001b[0m\u001b[0;34m:\u001b[0m\u001b[0;34m\u001b[0m\u001b[0m\n",
      "\u001b[0;31mRuntimeError\u001b[0m: Event loop is closed"
     ]
    }
   ],
   "source": [
    "async def compute(future):\n",
    "    print('starting...')\n",
    "    res = await answer()\n",
    "    future.set_result(res)\n",
    "async def answer():\n",
    "    await asyncio.sleep(1)\n",
    "    return 42\n",
    "\n",
    "f = asyncio.Future()\n",
    "loop = asyncio.get_event_loop()\n",
    "loop.run_until_complete(compute(f))\n",
    "loop.close()\n",
    "f.result()"
   ]
  }
 ],
 "metadata": {
  "celltoolbar": "Slideshow",
  "kernelspec": {
   "display_name": "Python 3",
   "language": "python",
   "name": "python3"
  },
  "language_info": {
   "codemirror_mode": {
    "name": "ipython",
    "version": 3
   },
   "file_extension": ".py",
   "mimetype": "text/x-python",
   "name": "python",
   "nbconvert_exporter": "python",
   "pygments_lexer": "ipython3",
   "version": "3.6.1"
  }
 },
 "nbformat": 4,
 "nbformat_minor": 2
}
