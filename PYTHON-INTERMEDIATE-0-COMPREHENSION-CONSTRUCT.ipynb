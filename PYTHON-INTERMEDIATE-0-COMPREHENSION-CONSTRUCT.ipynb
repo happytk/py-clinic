{
 "cells": [
  {
   "cell_type": "markdown",
   "metadata": {
    "slideshow": {
     "slide_type": "slide"
    }
   },
   "source": [
    "# Python Programming\n",
    "<span class=\"mark\">Intemediate Course</span>, 2017/5/25-26"
   ]
  },
  {
   "cell_type": "markdown",
   "metadata": {
    "slideshow": {
     "slide_type": "subslide"
    }
   },
   "source": [
    "함수와 클래스를 활용한, 좀 더 복잡한 요구사항을 Python으로 구현해봅니다.\n",
    "- 기본 자료구조와 반복문, 조건문은 다시 공부하지는 않습니다.\n",
    "- 그렇지만 계속 사용되어요!"
   ]
  },
  {
   "cell_type": "markdown",
   "metadata": {
    "slideshow": {
     "slide_type": "slide"
    }
   },
   "source": [
    "## LIST COMPREHENSION (PEP 202)\n",
    "*python의 신세계*"
   ]
  },
  {
   "cell_type": "code",
   "execution_count": 5,
   "metadata": {
    "slideshow": {
     "slide_type": "subslide"
    }
   },
   "outputs": [
    {
     "data": {
      "text/plain": [
       "True"
      ]
     },
     "execution_count": 5,
     "metadata": {},
     "output_type": "execute_result"
    }
   ],
   "source": [
    "nums = range(10)\n",
    "result = []\n",
    "for num in nums:\n",
    "    if num % 2 == 0:  # filter\n",
    "        result.append(num*num)  # map\n",
    "result\n",
    "result2 = [num*num for num in nums if num % 2 == 0]\n",
    "result == result2"
   ]
  },
  {
   "cell_type": "markdown",
   "metadata": {
    "slideshow": {
     "slide_type": "subslide"
    }
   },
   "source": [
    "```\n",
    "[]  # 시작\n",
    "```"
   ]
  },
  {
   "cell_type": "markdown",
   "metadata": {
    "slideshow": {
     "slide_type": "fragment"
    }
   },
   "source": [
    "```\n",
    "[for num in nums]  # 반복문을 붙입니다.\n",
    "```"
   ]
  },
  {
   "cell_type": "markdown",
   "metadata": {
    "slideshow": {
     "slide_type": "fragment"
    }
   },
   "source": [
    "```\n",
    "[for num in nums if num % 2 == 0]  # 조건을 붙입니다.\n",
    "```"
   ]
  },
  {
   "cell_type": "markdown",
   "metadata": {
    "slideshow": {
     "slide_type": "fragment"
    }
   },
   "source": [
    "```\n",
    "[num*num for num in nums if num % 2 == 0]  # 최종 값을 표현합니다.\n",
    "```"
   ]
  },
  {
   "cell_type": "code",
   "execution_count": 3,
   "metadata": {
    "slideshow": {
     "slide_type": "subslide"
    }
   },
   "outputs": [
    {
     "data": {
      "text/plain": [
       "[8, 10, 12, 14, 16, 18]"
      ]
     },
     "execution_count": 3,
     "metadata": {},
     "output_type": "execute_result"
    }
   ],
   "source": [
    "nums = range(10)\n",
    "# [num*num for num in nums if num % 2 == 0] # 완성\n",
    "[num*2 for num in nums if num > 3]"
   ]
  },
  {
   "cell_type": "code",
   "execution_count": 8,
   "metadata": {
    "slideshow": {
     "slide_type": "subslide"
    }
   },
   "outputs": [
    {
     "data": {
      "text/plain": [
       "['the', 'fox', 'the', 'dog']"
      ]
     },
     "execution_count": 8,
     "metadata": {},
     "output_type": "execute_result"
    }
   ],
   "source": [
    "# 다른 예제(before)\n",
    "sentence = \"the quick brown fox jumps over the lazy dog\"\n",
    "words = sentence.split()\n",
    "word_lengths = []\n",
    "for word in words:\n",
    "      if len(word) == 3:\n",
    "          word_lengths.append(word)\n",
    "word_lengths"
   ]
  },
  {
   "cell_type": "code",
   "execution_count": 16,
   "metadata": {
    "slideshow": {
     "slide_type": "subslide"
    }
   },
   "outputs": [
    {
     "data": {
      "text/plain": [
       "['the', 'fox', 'the', 'dog']"
      ]
     },
     "execution_count": 16,
     "metadata": {},
     "output_type": "execute_result"
    }
   ],
   "source": [
    "# 다른 예제(after)\n",
    "sentence = \"the quick brown fox jumps over the lazy dog\"\n",
    "[word for word in sentence.split() if len(word) == 3]"
   ]
  },
  {
   "cell_type": "code",
   "execution_count": 18,
   "metadata": {
    "slideshow": {
     "slide_type": "subslide"
    }
   },
   "outputs": [
    {
     "data": {
      "text/plain": [
       "[34.6, 44.9, 68.3, 44.6, 12.7]"
      ]
     },
     "execution_count": 18,
     "metadata": {},
     "output_type": "execute_result"
    }
   ],
   "source": [
    "# 또 다른 예제(after)\n",
    "numbers = [34.6, -203.4, 44.9, 68.3, -12.2, 44.6, 12.7]\n",
    "[number for number in numbers if number > 0]"
   ]
  },
  {
   "cell_type": "code",
   "execution_count": 9,
   "metadata": {
    "slideshow": {
     "slide_type": "subslide"
    }
   },
   "outputs": [
    {
     "data": {
      "text/plain": [
       "[(1, 'Apples'),\n",
       " (1, 'Peaches'),\n",
       " (1, 'Pears'),\n",
       " (1, 'Bananas'),\n",
       " (2, 'Apples'),\n",
       " (2, 'Peaches'),\n",
       " (2, 'Pears'),\n",
       " (2, 'Bananas'),\n",
       " (3, 'Apples'),\n",
       " (3, 'Peaches'),\n",
       " (3, 'Pears'),\n",
       " (3, 'Bananas'),\n",
       " (4, 'Apples'),\n",
       " (4, 'Peaches'),\n",
       " (4, 'Pears'),\n",
       " (4, 'Bananas')]"
      ]
     },
     "execution_count": 9,
     "metadata": {},
     "output_type": "execute_result"
    }
   ],
   "source": [
    "nums = [1, 2, 3, 4]\n",
    "fruit = [\"Apples\", \"Peaches\", \"Pears\", \"Bananas\"]\n",
    "[(i, f) for i in nums for f in fruit]"
   ]
  },
  {
   "cell_type": "code",
   "execution_count": 10,
   "metadata": {
    "slideshow": {
     "slide_type": "subslide"
    }
   },
   "outputs": [
    {
     "data": {
      "text/plain": [
       "[(1, 'Peaches'),\n",
       " (1, 'Pears'),\n",
       " (2, 'Peaches'),\n",
       " (2, 'Pears'),\n",
       " (3, 'Peaches'),\n",
       " (3, 'Pears'),\n",
       " (4, 'Peaches'),\n",
       " (4, 'Pears')]"
      ]
     },
     "execution_count": 10,
     "metadata": {},
     "output_type": "execute_result"
    }
   ],
   "source": [
    "nums = [1, 2, 3, 4]\n",
    "fruit = [\"Apples\", \"Peaches\", \"Pears\", \"Bananas\"]\n",
    "[(i, f) for i in nums for f in fruit if f[0] == \"P\"]"
   ]
  },
  {
   "cell_type": "markdown",
   "metadata": {
    "slideshow": {
     "slide_type": "slide"
    }
   },
   "source": [
    "## SET COMPREHENSIONS\n",
    "## PEP 274 - `[`을 `{`로 바꾸기만 하면"
   ]
  },
  {
   "cell_type": "code",
   "execution_count": 6,
   "metadata": {
    "slideshow": {
     "slide_type": "subslide"
    }
   },
   "outputs": [
    {
     "data": {
      "text/plain": [
       "{0, 4, 16, 36, 64}"
      ]
     },
     "execution_count": 6,
     "metadata": {},
     "output_type": "execute_result"
    }
   ],
   "source": [
    "{num * num for num in nums if num % 2 == 0}"
   ]
  },
  {
   "cell_type": "code",
   "execution_count": 7,
   "metadata": {
    "slideshow": {
     "slide_type": "subslide"
    }
   },
   "outputs": [
    {
     "data": {
      "text/plain": [
       "{4, 16}"
      ]
     },
     "execution_count": 7,
     "metadata": {},
     "output_type": "execute_result"
    }
   ],
   "source": [
    "{num * num for num in (1,2,3,3,3,4,4,4,4,4) if num % 2 == 0}"
   ]
  },
  {
   "cell_type": "markdown",
   "metadata": {
    "slideshow": {
     "slide_type": "slide"
    }
   },
   "source": [
    "## DICT COMPREHENSIONS\n",
    "## (PEP 274) - `:`만 넣어주면"
   ]
  },
  {
   "cell_type": "code",
   "execution_count": 8,
   "metadata": {
    "slideshow": {
     "slide_type": "subslide"
    }
   },
   "outputs": [
    {
     "data": {
      "text/plain": [
       "{0: 0, 2: 4, 4: 16, 6: 36, 8: 64}"
      ]
     },
     "execution_count": 8,
     "metadata": {},
     "output_type": "execute_result"
    }
   ],
   "source": [
    "{num:num*num for num in nums if num % 2 == 0}"
   ]
  },
  {
   "cell_type": "markdown",
   "metadata": {
    "slideshow": {
     "slide_type": "slide"
    }
   },
   "source": [
    "## GENERATOR EXPRESSIONS\n",
    "## (PEP 289) - `[`을 `(`로 바꾸기만 하면"
   ]
  },
  {
   "cell_type": "code",
   "execution_count": 9,
   "metadata": {
    "slideshow": {
     "slide_type": "subslide"
    }
   },
   "outputs": [
    {
     "data": {
      "text/plain": [
       "<generator object <genexpr> at 0x10b286d00>"
      ]
     },
     "execution_count": 9,
     "metadata": {},
     "output_type": "execute_result"
    }
   ],
   "source": [
    "(num*num for num in nums if num % 2 == 0)"
   ]
  },
  {
   "cell_type": "markdown",
   "metadata": {
    "slideshow": {
     "slide_type": "slide"
    }
   },
   "source": [
    "## Asynchronous Comprehensions\n",
    "## (PEP530, Python3.6)"
   ]
  },
  {
   "cell_type": "code",
   "execution_count": 10,
   "metadata": {
    "collapsed": true
   },
   "outputs": [],
   "source": [
    "async def process(aiter):\n",
    "    result = []\n",
    "    async for num in aiter:\n",
    "        if num % 2 == 0:\n",
    "            result.append(num * num)"
   ]
  },
  {
   "cell_type": "code",
   "execution_count": 11,
   "metadata": {
    "collapsed": true
   },
   "outputs": [],
   "source": [
    "async def process(aiter):\n",
    "    result = [num*num async for num in aiter if num % 2 == 0]"
   ]
  }
 ],
 "metadata": {
  "celltoolbar": "Slideshow",
  "kernelspec": {
   "display_name": "Python 3",
   "language": "python",
   "name": "python3"
  },
  "language_info": {
   "codemirror_mode": {
    "name": "ipython",
    "version": 3
   },
   "file_extension": ".py",
   "mimetype": "text/x-python",
   "name": "python",
   "nbconvert_exporter": "python",
   "pygments_lexer": "ipython3",
   "version": "3.6.1"
  }
 },
 "nbformat": 4,
 "nbformat_minor": 2
}
