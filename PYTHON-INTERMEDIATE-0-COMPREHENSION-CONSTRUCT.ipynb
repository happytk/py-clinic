{
 "cells": [
  {
   "cell_type": "markdown",
   "metadata": {
    "slideshow": {
     "slide_type": "skip"
    }
   },
   "source": [
    "# Python Programming\n",
    "Intemediate Course, 2017/7/25-26"
   ]
  },
  {
   "cell_type": "markdown",
   "metadata": {
    "slideshow": {
     "slide_type": "skip"
    }
   },
   "source": [
    "함수와 클래스를 활용한, python의 다양한 심화주제들을 다뤄보고, 좀 더 복잡한 요구사항을 Python으로 구현해보는 workshop을 진행합니다.\n",
    "- 기초 과정에서의 자료구조(List, Dictionary, Tuple, Set)와 반복문, 조건문은 다시 공부하지는 않습니다.\n",
    "- 그렇지만 계속 사용되어요!\n",
    "- 기초과정 자료들을 가볍게 review해주시는것도 좋습니다"
   ]
  },
  {
   "cell_type": "markdown",
   "metadata": {
    "slideshow": {
     "slide_type": "skip"
    }
   },
   "source": [
    "- Comprehension Struct\n",
    "- Function\n",
    "- Functional\n",
    "- Script/Module/Packages\n",
    "- Global/Local/Closure\n",
    "- Iteration/Generator\n",
    "- Decorator\n",
    "- Workshops"
   ]
  },
  {
   "cell_type": "markdown",
   "metadata": {
    "slideshow": {
     "slide_type": "skip"
    }
   },
   "source": [
    "- Class\n",
    "- Pythonic Data Model\n",
    "- Context Manager\n",
    "- Concurrency\n",
    "- Coroutine\n",
    "- Extra\n",
    "- Workshops"
   ]
  },
  {
   "cell_type": "markdown",
   "metadata": {
    "slideshow": {
     "slide_type": "slide"
    }
   },
   "source": [
    "## LIST COMPREHENSION (PEP 202)\n",
    "*python의 신세계에 오신 것을 환영합니다.*"
   ]
  },
  {
   "cell_type": "code",
   "execution_count": 1,
   "metadata": {
    "slideshow": {
     "slide_type": "subslide"
    }
   },
   "outputs": [
    {
     "data": {
      "text/plain": [
       "[0, 4, 16, 36, 64]"
      ]
     },
     "execution_count": 1,
     "metadata": {},
     "output_type": "execute_result"
    }
   ],
   "source": [
    "# 자주쓰는 pattern\n",
    "nums = list(range(10))\n",
    "result = []\n",
    "for num in nums:\n",
    "    if num % 2 == 0:  # filter\n",
    "        result.append(num*num)  # map\n",
    "result"
   ]
  },
  {
   "cell_type": "code",
   "execution_count": 3,
   "metadata": {
    "slideshow": {
     "slide_type": "subslide"
    }
   },
   "outputs": [
    {
     "data": {
      "text/plain": [
       "[0, 4, 16, 36, 64]"
      ]
     },
     "execution_count": 3,
     "metadata": {},
     "output_type": "execute_result"
    }
   ],
   "source": [
    "# 이렇게 줄여쓸 수 있습니다.\n",
    "[num*num for num in range(10) if num % 2 == 0]"
   ]
  },
  {
   "cell_type": "markdown",
   "metadata": {
    "slideshow": {
     "slide_type": "subslide"
    }
   },
   "source": [
    "```\n",
    "[]  # 시작\n",
    "```"
   ]
  },
  {
   "cell_type": "markdown",
   "metadata": {
    "slideshow": {
     "slide_type": "fragment"
    }
   },
   "source": [
    "```\n",
    "[for num in nums]  # 반복문을 붙입니다.\n",
    "```"
   ]
  },
  {
   "cell_type": "markdown",
   "metadata": {
    "slideshow": {
     "slide_type": "fragment"
    }
   },
   "source": [
    "```\n",
    "[for num in nums if num % 2 == 0]  # 조건을 붙입니다.\n",
    "```"
   ]
  },
  {
   "cell_type": "markdown",
   "metadata": {
    "slideshow": {
     "slide_type": "fragment"
    }
   },
   "source": [
    "```\n",
    "[num*num for num in nums if num % 2 == 0]  # 최종 값을 표현합니다.\n",
    "```"
   ]
  },
  {
   "cell_type": "code",
   "execution_count": 5,
   "metadata": {
    "slideshow": {
     "slide_type": "subslide"
    }
   },
   "outputs": [
    {
     "data": {
      "text/plain": [
       "[0, 4, 16, 36, 64]"
      ]
     },
     "execution_count": 5,
     "metadata": {},
     "output_type": "execute_result"
    }
   ],
   "source": [
    "[num*num for num in range(10) if num % 2 == 0] # 완성본"
   ]
  },
  {
   "cell_type": "code",
   "execution_count": 6,
   "metadata": {
    "slideshow": {
     "slide_type": "fragment"
    }
   },
   "outputs": [
    {
     "data": {
      "text/plain": [
       "[0, 1, 4, 9, 16, 25, 36, 49, 64, 81]"
      ]
     },
     "execution_count": 6,
     "metadata": {},
     "output_type": "execute_result"
    }
   ],
   "source": [
    "[num*num for num in range(10)] # filter는 생략 가능"
   ]
  },
  {
   "cell_type": "code",
   "execution_count": 1,
   "metadata": {
    "slideshow": {
     "slide_type": "subslide"
    }
   },
   "outputs": [
    {
     "data": {
      "text/plain": [
       "['the', 'fox', 'the', 'dog']"
      ]
     },
     "execution_count": 1,
     "metadata": {},
     "output_type": "execute_result"
    }
   ],
   "source": [
    "# 다른 예제(before)\n",
    "sentence = \"the quick brown fox jumps over the lazy dog\"\n",
    "words = sentence.split()\n",
    "word_lengths = []\n",
    "for word in words:\n",
    "      if len(word) == 3:\n",
    "          word_lengths.append(word)\n",
    "word_lengths"
   ]
  },
  {
   "cell_type": "code",
   "execution_count": 16,
   "metadata": {
    "slideshow": {
     "slide_type": "subslide"
    }
   },
   "outputs": [
    {
     "data": {
      "text/plain": [
       "['the', 'fox', 'the', 'dog']"
      ]
     },
     "execution_count": 16,
     "metadata": {},
     "output_type": "execute_result"
    }
   ],
   "source": [
    "# 다른 예제(after)\n",
    "sentence = \"the quick brown fox jumps over the lazy dog\"\n",
    "[word for word in sentence.split() if len(word) == 3]"
   ]
  },
  {
   "cell_type": "code",
   "execution_count": 2,
   "metadata": {
    "slideshow": {
     "slide_type": "subslide"
    }
   },
   "outputs": [
    {
     "data": {
      "text/plain": [
       "[34.6, 44.9, 68.3, 44.6, 12.7]"
      ]
     },
     "execution_count": 2,
     "metadata": {},
     "output_type": "execute_result"
    }
   ],
   "source": [
    "# 또 다른 예제(after만 봅시다. --before는 상상가능하니까 생략)\n",
    "numbers = [34.6, -203.4, 44.9, 68.3, -12.2, 44.6, 12.7]\n",
    "[number for number in numbers if number > 0]"
   ]
  },
  {
   "cell_type": "code",
   "execution_count": 2,
   "metadata": {
    "slideshow": {
     "slide_type": "subslide"
    }
   },
   "outputs": [
    {
     "data": {
      "text/plain": [
       "[(1, 'Apples'),\n",
       " (1, 'Peaches'),\n",
       " (1, 'Pears'),\n",
       " (1, 'Bananas'),\n",
       " (2, 'Apples'),\n",
       " (2, 'Peaches'),\n",
       " (2, 'Pears'),\n",
       " (2, 'Bananas'),\n",
       " (3, 'Apples'),\n",
       " (3, 'Peaches'),\n",
       " (3, 'Pears'),\n",
       " (3, 'Bananas'),\n",
       " (4, 'Apples'),\n",
       " (4, 'Peaches'),\n",
       " (4, 'Pears'),\n",
       " (4, 'Bananas')]"
      ]
     },
     "execution_count": 2,
     "metadata": {},
     "output_type": "execute_result"
    }
   ],
   "source": [
    "# 중첩된 nested loop도 표현 가능합니다.\n",
    "nums = [1, 2, 3, 4]\n",
    "fruit = [\"Apples\", \"Peaches\", \"Pears\", \"Bananas\"]\n",
    "\n",
    "# for i in nums:\n",
    "#     for f in fruit:\n",
    "        \n",
    "[(i, f) for i in nums for f in fruit]"
   ]
  },
  {
   "cell_type": "code",
   "execution_count": 6,
   "metadata": {
    "slideshow": {
     "slide_type": "subslide"
    }
   },
   "outputs": [
    {
     "data": {
      "text/plain": [
       "([(3, 'Apples'), (4, 'Apples')],\n",
       " [(3, 'Apples'), (4, 'Apples')],\n",
       " [(3, 'Apples')],\n",
       " [(3, 'Apples')],\n",
       " [(3, 'Apples')])"
      ]
     },
     "execution_count": 6,
     "metadata": {},
     "output_type": "execute_result"
    }
   ],
   "source": [
    "# multiple if - classical way와 비교하면서 생각해보세요.\n",
    "# https://stackoverflow.com/questions/15248272/python-list-comprehension-with-multiple-ifs\n",
    "nums = [1, 2, 3, 4]\n",
    "fruit = [\"Apples\", \"Peaches\", \"Pears\", \"Bananas\"]\n",
    "\n",
    "(\n",
    "    [(i, f) for i in nums if i > 2 for f in fruit if f[0] == 'A'],\n",
    "    [(i, f) for i in nums for f in fruit if f[0] == 'A' if i > 2],\n",
    "    [(i, f) for i in nums for f in fruit if f[0] == 'A' if i > 2 and i < 4],\n",
    "    [(i, f) for i in nums for f in fruit if f[0] == 'A' if i > 2 if i < 4],\n",
    "    [(i, f) for i in nums for f in fruit if f.startswith('A') if 2 < i < 4],\n",
    ")"
   ]
  },
  {
   "cell_type": "code",
   "execution_count": 2,
   "metadata": {
    "slideshow": {
     "slide_type": "subslide"
    }
   },
   "outputs": [
    {
     "data": {
      "text/plain": [
       "[6, 7, 5, 7]"
      ]
     },
     "execution_count": 2,
     "metadata": {},
     "output_type": "execute_result"
    }
   ],
   "source": [
    "# coding convention.\n",
    "# [] 안에서는 \\가 필요없습니다.\n",
    "# 보기좋게 들여쓰기\n",
    "\n",
    "fruits = [\"Apples\", \"Peaches\", \"Pears\", \"Bananas\"]\n",
    "[\n",
    "    len(word)\n",
    "    for word in fruits\n",
    "    if word.endswith('s')\n",
    "]"
   ]
  },
  {
   "cell_type": "code",
   "execution_count": 10,
   "metadata": {
    "slideshow": {
     "slide_type": "subslide"
    }
   },
   "outputs": [
    {
     "data": {
      "text/plain": [
       "['total 3672',\n",
       " 'drwxr-xr-x@  4 happytk  staff      136 May 17 22:09 .',\n",
       " 'drwx------@ 49 happytk  staff     1666 May 17 22:08 ..',\n",
       " '-rwxr-xr-x@  1 happytk  staff  1877810 May 12 18:46 WindowsUpdate.log',\n",
       " '-rw-r--r--   1 happytk  staff        0 May 17 22:09 myfile.txt']"
      ]
     },
     "execution_count": 10,
     "metadata": {},
     "output_type": "execute_result"
    }
   ],
   "source": [
    "# 표현식도 한계는 있습니다.\n",
    "[\n",
    "    line.strip()\n",
    "    for line in open('data/myfile.txt')\n",
    "    if line.strip()\n",
    "]"
   ]
  },
  {
   "cell_type": "code",
   "execution_count": 16,
   "metadata": {
    "slideshow": {
     "slide_type": "subslide"
    }
   },
   "outputs": [
    {
     "name": "stdout",
     "output_type": "stream",
     "text": [
      "CPU times: user 1.23 ms, sys: 1.13 ms, total: 2.37 ms\n",
      "Wall time: 10 s\n"
     ]
    }
   ],
   "source": [
    "%%time\n",
    "# 표현식도 한계는 있습니다(2)\n",
    "def expensive(line):\n",
    "    import time\n",
    "    time.sleep(1)\n",
    "    return line\n",
    "\n",
    "[\n",
    "    expensive(line)\n",
    "    for line in open('data/myfile.txt')\n",
    "    if expensive(line)\n",
    "]"
   ]
  },
  {
   "cell_type": "code",
   "execution_count": 15,
   "metadata": {
    "slideshow": {
     "slide_type": "subslide"
    }
   },
   "outputs": [
    {
     "name": "stdout",
     "output_type": "stream",
     "text": [
      "CPU times: user 948 µs, sys: 1.5 ms, total: 2.45 ms\n",
      "Wall time: 5.01 s\n"
     ]
    }
   ],
   "source": [
    "%%time\n",
    "# 표현식도 한계는 있습니다(3) - 그럭저럭 쓸만한 solution\n",
    "def expensive(line):\n",
    "    import time\n",
    "    time.sleep(1)\n",
    "    return line\n",
    "\n",
    "expensive_values = [\n",
    "    expensive(line)\n",
    "    for line in open('data/myfile.txt')\n",
    "]\n",
    "\n",
    "[\n",
    "    expensive_value\n",
    "    for expensive_value in expensive_values\n",
    "    if expensive_value\n",
    "]"
   ]
  },
  {
   "cell_type": "markdown",
   "metadata": {
    "slideshow": {
     "slide_type": "slide"
    }
   },
   "source": [
    "## SET COMPREHENSIONS\n",
    "## PEP 274 - `[`을 `{`로 바꾸기만 하면"
   ]
  },
  {
   "cell_type": "code",
   "execution_count": 6,
   "metadata": {
    "slideshow": {
     "slide_type": "subslide"
    }
   },
   "outputs": [
    {
     "data": {
      "text/plain": [
       "{0, 4, 16, 36, 64}"
      ]
     },
     "execution_count": 6,
     "metadata": {},
     "output_type": "execute_result"
    }
   ],
   "source": [
    "{num * num for num in nums if num % 2 == 0}"
   ]
  },
  {
   "cell_type": "code",
   "execution_count": 7,
   "metadata": {
    "slideshow": {
     "slide_type": "subslide"
    }
   },
   "outputs": [
    {
     "data": {
      "text/plain": [
       "{4, 16}"
      ]
     },
     "execution_count": 7,
     "metadata": {},
     "output_type": "execute_result"
    }
   ],
   "source": [
    "{num * num for num in (1,2,3,3,3,4,4,4,4,4) if num % 2 == 0}"
   ]
  },
  {
   "cell_type": "markdown",
   "metadata": {
    "slideshow": {
     "slide_type": "slide"
    }
   },
   "source": [
    "## DICT COMPREHENSIONS\n",
    "## (PEP 274) - `:`만 넣어주면"
   ]
  },
  {
   "cell_type": "code",
   "execution_count": 8,
   "metadata": {
    "slideshow": {
     "slide_type": "subslide"
    }
   },
   "outputs": [
    {
     "data": {
      "text/plain": [
       "{0: 0, 2: 4, 4: 16, 6: 36, 8: 64}"
      ]
     },
     "execution_count": 8,
     "metadata": {},
     "output_type": "execute_result"
    }
   ],
   "source": [
    "{num:num*num for num in nums if num % 2 == 0}"
   ]
  },
  {
   "cell_type": "markdown",
   "metadata": {
    "slideshow": {
     "slide_type": "slide"
    }
   },
   "source": [
    "## GENERATOR EXPRESSIONS\n",
    "## (PEP 289) - `[`을 `(`로 바꾸기만 하면"
   ]
  },
  {
   "cell_type": "code",
   "execution_count": 9,
   "metadata": {
    "slideshow": {
     "slide_type": "subslide"
    }
   },
   "outputs": [
    {
     "data": {
      "text/plain": [
       "<generator object <genexpr> at 0x10b286d00>"
      ]
     },
     "execution_count": 9,
     "metadata": {},
     "output_type": "execute_result"
    }
   ],
   "source": [
    "(num*num for num in nums if num % 2 == 0)"
   ]
  },
  {
   "cell_type": "markdown",
   "metadata": {
    "slideshow": {
     "slide_type": "slide"
    }
   },
   "source": [
    "## Asynchronous Comprehensions\n",
    "## (PEP530, Python3.6)"
   ]
  },
  {
   "cell_type": "code",
   "execution_count": 1,
   "metadata": {
    "collapsed": true,
    "slideshow": {
     "slide_type": "subslide"
    }
   },
   "outputs": [],
   "source": [
    "# before\n",
    "async def process(aiter):\n",
    "    result = []\n",
    "    async for num in aiter:\n",
    "        if num % 2 == 0:\n",
    "            result.append(num * num)"
   ]
  },
  {
   "cell_type": "code",
   "execution_count": 2,
   "metadata": {
    "collapsed": true,
    "slideshow": {
     "slide_type": "subslide"
    }
   },
   "outputs": [],
   "source": [
    "# after\n",
    "async def process(aiter):\n",
    "    result = [num*num async for num in aiter if num % 2 == 0]"
   ]
  },
  {
   "cell_type": "markdown",
   "metadata": {
    "slideshow": {
     "slide_type": "slide"
    }
   },
   "source": [
    "## EXERCISE"
   ]
  },
  {
   "cell_type": "code",
   "execution_count": 19,
   "metadata": {
    "slideshow": {
     "slide_type": "subslide"
    }
   },
   "outputs": [
    {
     "data": {
      "text/plain": [
       "[1,\n",
       " 2,\n",
       " 'clap',\n",
       " 4,\n",
       " 5,\n",
       " 'clap',\n",
       " 7,\n",
       " 8,\n",
       " 'clap',\n",
       " 10,\n",
       " 11,\n",
       " 12,\n",
       " 'clap',\n",
       " 14,\n",
       " 15,\n",
       " 'clap',\n",
       " 17,\n",
       " 18,\n",
       " 'clap',\n",
       " 20,\n",
       " 21,\n",
       " 22,\n",
       " 'clap',\n",
       " 24,\n",
       " 25,\n",
       " 'clap',\n",
       " 27,\n",
       " 28,\n",
       " 'clap',\n",
       " 'clap',\n",
       " 'clap',\n",
       " 'clap',\n",
       " 'clapclap',\n",
       " 'clap',\n",
       " 'clap',\n",
       " 'clapclap',\n",
       " 'clap',\n",
       " 'clap',\n",
       " 'clapclap',\n",
       " 40,\n",
       " 41,\n",
       " 42,\n",
       " 'clap',\n",
       " 44,\n",
       " 45,\n",
       " 'clap',\n",
       " 47,\n",
       " 48,\n",
       " 'clap',\n",
       " 50,\n",
       " 51,\n",
       " 52,\n",
       " 'clap',\n",
       " 54,\n",
       " 55,\n",
       " 'clap',\n",
       " 57,\n",
       " 58,\n",
       " 'clap',\n",
       " 'clap',\n",
       " 'clap',\n",
       " 'clap',\n",
       " 'clapclap',\n",
       " 'clap',\n",
       " 'clap',\n",
       " 'clapclap',\n",
       " 'clap',\n",
       " 'clap',\n",
       " 'clapclap',\n",
       " 70,\n",
       " 71,\n",
       " 72,\n",
       " 'clap',\n",
       " 74,\n",
       " 75,\n",
       " 'clap',\n",
       " 77,\n",
       " 78,\n",
       " 'clap',\n",
       " 80,\n",
       " 81,\n",
       " 82,\n",
       " 'clap',\n",
       " 84,\n",
       " 85,\n",
       " 'clap',\n",
       " 87,\n",
       " 88,\n",
       " 'clap',\n",
       " 'clap',\n",
       " 'clap',\n",
       " 'clap',\n",
       " 'clapclap',\n",
       " 'clap',\n",
       " 'clap',\n",
       " 'clapclap',\n",
       " 'clap',\n",
       " 'clap',\n",
       " 'clapclap',\n",
       " 100]"
      ]
     },
     "execution_count": 19,
     "metadata": {},
     "output_type": "execute_result"
    }
   ],
   "source": [
    "# 다음 369게임 코드를 list comprehension style로 바꿔봅시다.\n",
    "for i in range(1, 101): # 1-100\n",
    "    claps = []\n",
    "    for number in str(i):\n",
    "        if number in '369':\n",
    "            claps.append('clap')\n",
    "    print(''.join(claps) if len(claps) > 0 else i)\n",
    "\n",
    "# 1.\n",
    "# for i in range(1, 101):\n",
    "#     claps = ['clap' for number in str(i) if number in '369']\n",
    "#     print(''.join(claps) if claps else i)    \n",
    "\n",
    "# 2.\n",
    "# [\n",
    "#     ''.join(['clap' for number in str(i) if number in '369']) or i\n",
    "#     for i in range(1, 101)\n",
    "# ]"
   ]
  }
 ],
 "metadata": {
  "celltoolbar": "Slideshow",
  "kernelspec": {
   "display_name": "Python 3",
   "language": "python",
   "name": "python3"
  },
  "language_info": {
   "codemirror_mode": {
    "name": "ipython",
    "version": 3
   },
   "file_extension": ".py",
   "mimetype": "text/x-python",
   "name": "python",
   "nbconvert_exporter": "python",
   "pygments_lexer": "ipython3",
   "version": "3.6.1"
  }
 },
 "nbformat": 4,
 "nbformat_minor": 2
}
