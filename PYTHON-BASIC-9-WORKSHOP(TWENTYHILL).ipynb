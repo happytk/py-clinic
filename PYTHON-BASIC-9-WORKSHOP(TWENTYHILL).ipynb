{
 "cells": [
  {
   "cell_type": "markdown",
   "metadata": {},
   "source": [
    "**WORKSHOP**\n",
    "\n",
    "1-100사이의 random숫자를 기억하고 사용자와 스무고개 게임을 만들어봅시다.\n",
    "\n",
    "72 <- random하게 생성된 숫자\n",
    "\n",
    "- (1) 사용자가 30 입력 -> 제가 가진 숫자보다 작습니다.\n",
    "- (2) 사용자가 70 입력 -> 제가 가진 숫자보다 작습니다.\n",
    "- (3) 사용자가 80 입력 -> 제가 가진 숫자보다 큽니다.\n",
    "- (4) 사용자가 75 입력 -> 제가 가진 숫자보다 큽니다.\n",
    "- (5) 사용자가 72 입력 -> 제가 가진 숫자와 같습니다. (종료)\n",
    "- ..\n",
    "- ..\n",
    "- (20)번 입력이 넘으면 종료."
   ]
  },
  {
   "cell_type": "code",
   "execution_count": 1,
   "metadata": {},
   "outputs": [
    {
     "data": {
      "text/plain": [
       "45"
      ]
     },
     "execution_count": 1,
     "metadata": {},
     "output_type": "execute_result"
    }
   ],
   "source": [
    "import random\n",
    "\n",
    "data = list(range(1,101))\n",
    "\n",
    "def twenty_hill_simulation():\n",
    "    try_count = 0\n",
    "    my_pick = random.choice(data)\n",
    "    while try_count < 20:\n",
    "        your_pick = random.choice(data)\n",
    "        if your_pick == my_pick:\n",
    "            print(f'{your_pick} -> 제가 가진 숫자와 같습니다.')\n",
    "            break\n",
    "        elif your_pick > my_pick:\n",
    "            print(f'{your_pick} -> 제가 가진 숫자보다 큽니다.')\n",
    "        else:\n",
    "            print(f'{your_pick} -> 제가 가진 숫자보다 작습니다.')\n",
    "        try_count += 1\n",
    "    else:\n",
    "        print('20번이 넘어서 종료합니다.')\n",
    "\n",
    "twenty_hill_simulation()"
   ]
  }
 ],
 "metadata": {
  "kernelspec": {
   "display_name": "Python 3",
   "language": "python",
   "name": "python3"
  },
  "language_info": {
   "codemirror_mode": {
    "name": "ipython",
    "version": 3
   },
   "file_extension": ".py",
   "mimetype": "text/x-python",
   "name": "python",
   "nbconvert_exporter": "python",
   "pygments_lexer": "ipython3",
   "version": "3.6.1"
  }
 },
 "nbformat": 4,
 "nbformat_minor": 2
}
