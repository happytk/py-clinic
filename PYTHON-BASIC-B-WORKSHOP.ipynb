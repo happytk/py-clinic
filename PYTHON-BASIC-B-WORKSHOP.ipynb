{
 "cells": [
  {
   "cell_type": "markdown",
   "metadata": {},
   "source": [
    "**WORKSHOP**\n",
    "\n",
    "구구단을 만들어봅시다.\n",
    "\n",
    "사용자입력: 2\n",
    "\n",
    "```\n",
    "2 * 1 = 2\n",
    "2 * 2 = 4\n",
    "2 * 3 = 6\n",
    "..\n",
    "2 * 9 = 18\n",
    "```"
   ]
  }
 ],
 "metadata": {
  "kernelspec": {
   "display_name": "Python 3",
   "language": "python",
   "name": "python3"
  },
  "language_info": {
   "codemirror_mode": {
    "name": "ipython",
    "version": 3
   },
   "file_extension": ".py",
   "mimetype": "text/x-python",
   "name": "python",
   "nbconvert_exporter": "python",
   "pygments_lexer": "ipython3",
   "version": "3.6.0"
  }
 },
 "nbformat": 4,
 "nbformat_minor": 2
}
