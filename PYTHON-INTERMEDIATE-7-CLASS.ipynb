{
 "cells": [
  {
   "cell_type": "markdown",
   "metadata": {
    "slideshow": {
     "slide_type": "slide"
    }
   },
   "source": [
    "## Class.\n",
    "*함수의 개선된 버전*"
   ]
  },
  {
   "cell_type": "code",
   "execution_count": 3,
   "metadata": {
    "slideshow": {
     "slide_type": "subslide"
    }
   },
   "outputs": [
    {
     "name": "stdout",
     "output_type": "stream",
     "text": [
      "140439586749176\n",
      "4535739112\n",
      "4537142296\n"
     ]
    }
   ],
   "source": [
    "# 간단한 생성방식, 인스턴스 생성\n",
    "class MyClass:\n",
    "    pass\n",
    "my1 = MyClass()\n",
    "my2 = MyClass()\n",
    "\n",
    "print(id(MyClass))\n",
    "print(id(my1))\n",
    "print(id(my2))"
   ]
  },
  {
   "cell_type": "code",
   "execution_count": 2,
   "metadata": {
    "slideshow": {
     "slide_type": "subslide"
    }
   },
   "outputs": [
    {
     "data": {
      "text/plain": [
       "'world'"
      ]
     },
     "execution_count": 2,
     "metadata": {},
     "output_type": "execute_result"
    }
   ],
   "source": [
    "# 메서드 탑재\n",
    "class MyClass:\n",
    "    def hello(self):\n",
    "        return 'world'\n",
    "\n",
    "my = MyClass()\n",
    "my.hello()"
   ]
  },
  {
   "cell_type": "code",
   "execution_count": 5,
   "metadata": {
    "slideshow": {
     "slide_type": "subslide"
    }
   },
   "outputs": [
    {
     "name": "stdout",
     "output_type": "stream",
     "text": [
      "Object is created.\n"
     ]
    }
   ],
   "source": [
    "# 생성자 (생성 시점에 호출)\n",
    "class MyClass:\n",
    "    def __init__(self):\n",
    "        print('Object is created.')\n",
    "\n",
    "        my1 = MyClass()"
   ]
  },
  {
   "cell_type": "code",
   "execution_count": null,
   "metadata": {
    "collapsed": true,
    "slideshow": {
     "slide_type": "subslide"
    }
   },
   "outputs": [],
   "source": [
    "# 클래스변수\n",
    "class MyClass:\n",
    "    variable = \"blah\"\n",
    "\n",
    "    def function(self):\n",
    "        print(\"This is a message inside the class.\")\n",
    "my1 = MyClass()\n",
    "my2 = MyClass()\n",
    "\n",
    "print(my1.variable, id(my1.variable))\n",
    "print(my2.variable, id(my2.variable))\n",
    "print(MyClass.variable, id(MyClass.variable))"
   ]
  },
  {
   "cell_type": "code",
   "execution_count": 35,
   "metadata": {
    "slideshow": {
     "slide_type": "subslide"
    }
   },
   "outputs": [
    {
     "name": "stdout",
     "output_type": "stream",
     "text": [
      "4536249928 4536249928 4537866984\n",
      "<bound method MyClass.function of <__main__.MyClass object at 0x10e7f05f8>>\n",
      "<bound method MyClass.function of <__main__.MyClass object at 0x10e59e1d0>>\n",
      "<function MyClass.function at 0x10e7a5ae8>\n"
     ]
    }
   ],
   "source": [
    "# 클래스변수\n",
    "class MyClass:\n",
    "    variable = \"blah\"\n",
    "\n",
    "    def function(self):\n",
    "        print(\"This is a message inside the class.\")\n",
    "my1 = MyClass()\n",
    "my2 = MyClass()\n",
    "\n",
    "print(id(my1.function), id(my2.function), id(MyClass.function))\n",
    "print(my1.function, my2.function, MyClass.function, sep='\\n')  # 나중에 차이를 알아봅시다."
   ]
  },
  {
   "cell_type": "code",
   "execution_count": 12,
   "metadata": {
    "slideshow": {
     "slide_type": "subslide"
    }
   },
   "outputs": [
    {
     "data": {
      "text/plain": [
       "('hello', 'hello', 'world')"
      ]
     },
     "execution_count": 12,
     "metadata": {},
     "output_type": "execute_result"
    }
   ],
   "source": [
    "# 인스턴스 변수\n",
    "class MyClass:\n",
    "    def __init__(self):\n",
    "        # 기본적으로는 여기서 정의합니다.\n",
    "        self.world = 'hello'\n",
    "\n",
    "    def function(self):\n",
    "        # 여기서도 할 수는 있지만..\n",
    "        self.hello = 'world'\n",
    "        return True\n",
    "\n",
    "my1 = MyClass()\n",
    "my2 = MyClass()\n",
    "my1.world, my2.world, my1.function() and my1.hello"
   ]
  },
  {
   "cell_type": "code",
   "execution_count": 18,
   "metadata": {
    "slideshow": {
     "slide_type": "subslide"
    }
   },
   "outputs": [
    {
     "data": {
      "text/plain": [
       "('hello', 'world')"
      ]
     },
     "execution_count": 18,
     "metadata": {},
     "output_type": "execute_result"
    }
   ],
   "source": [
    "# 모든 것이 public합니다.\n",
    "class MyClass:\n",
    "    def __init__(self):\n",
    "        self.world = 'hello'\n",
    "        self.hello = 'world'\n",
    "\n",
    "my1 = MyClass()\n",
    "my1.world, my1.hello"
   ]
  },
  {
   "cell_type": "code",
   "execution_count": 20,
   "metadata": {
    "slideshow": {
     "slide_type": "subslide"
    }
   },
   "outputs": [
    {
     "ename": "AttributeError",
     "evalue": "'MyClass' object has no attribute '__world'",
     "output_type": "error",
     "traceback": [
      "\u001b[0;31m---------------------------------------------------------------------------\u001b[0m",
      "\u001b[0;31mAttributeError\u001b[0m                            Traceback (most recent call last)",
      "\u001b[0;32m<ipython-input-20-e38606f6fa9a>\u001b[0m in \u001b[0;36m<module>\u001b[0;34m()\u001b[0m\n\u001b[1;32m      6\u001b[0m \u001b[0;34m\u001b[0m\u001b[0m\n\u001b[1;32m      7\u001b[0m \u001b[0mmy1\u001b[0m \u001b[0;34m=\u001b[0m \u001b[0mMyClass\u001b[0m\u001b[0;34m(\u001b[0m\u001b[0;34m)\u001b[0m\u001b[0;34m\u001b[0m\u001b[0m\n\u001b[0;32m----> 8\u001b[0;31m \u001b[0mmy1\u001b[0m\u001b[0;34m.\u001b[0m\u001b[0m__world\u001b[0m\u001b[0;34m,\u001b[0m \u001b[0mmy1\u001b[0m\u001b[0;34m.\u001b[0m\u001b[0m__hello\u001b[0m\u001b[0;34m\u001b[0m\u001b[0m\n\u001b[0m",
      "\u001b[0;31mAttributeError\u001b[0m: 'MyClass' object has no attribute '__world'"
     ]
    }
   ],
   "source": [
    "# private\n",
    "class MyClass:\n",
    "    def __init__(self):\n",
    "        self.__world = 'hello'\n",
    "        self.__hello = 'world'\n",
    "\n",
    "my1 = MyClass()\n",
    "my1.__world, my1.__hello"
   ]
  },
  {
   "cell_type": "code",
   "execution_count": 25,
   "metadata": {
    "slideshow": {
     "slide_type": "subslide"
    }
   },
   "outputs": [
    {
     "name": "stdout",
     "output_type": "stream",
     "text": [
      "['_MyClass__hello']\n"
     ]
    },
    {
     "data": {
      "text/plain": [
       "'world'"
      ]
     },
     "execution_count": 25,
     "metadata": {},
     "output_type": "execute_result"
    }
   ],
   "source": [
    "# private?\n",
    "class MyClass:\n",
    "    def __init__(self):\n",
    "        self.__world = 'hello'\n",
    "        self.__hello = 'world'\n",
    "\n",
    "my1 = MyClass()\n",
    "print(list(name for name in dir(my1) if 'hello' in name))\n",
    "my1._MyClass__hello"
   ]
  },
  {
   "cell_type": "markdown",
   "metadata": {
    "slideshow": {
     "slide_type": "subslide"
    }
   },
   "source": [
    "__로 시작하는 변수이름은 Python이 변조를 수행합니다. (mangling한다고 합니다.)\n",
    " * class이름을 앞에 붙여서 변조를 합니다.\n",
    " * 그렇지만 강제로 접근하고자 하면 막을 방법은 없습니다.\n",
    " * **사용자가 실수하는 것은 막지만, 꼭 접근해야 한다면 하게 해줍니다.**\n",
    " * 테스트 등에서 유용합니다."
   ]
  },
  {
   "cell_type": "markdown",
   "metadata": {
    "slideshow": {
     "slide_type": "subslide"
    }
   },
   "source": [
    "    그렇지만 ``__``는 소스를 어지럽게 하고, 이름을 바꾸는 요상한 행위때문에 사용을 권장하지는 않습니다.\n",
    "    `_` 하나로 시작되는 속성은 일반적으로 (관습상, 합의하에) 비공개 속성으로 인지합니다."
   ]
  },
  {
   "cell_type": "markdown",
   "metadata": {
    "slideshow": {
     "slide_type": "slide"
    }
   },
   "source": [
    "## class 함수는 사실 그냥 함수입니다.\n",
    "*여러분은 속고 있었어요.*"
   ]
  },
  {
   "cell_type": "code",
   "execution_count": 39,
   "metadata": {
    "slideshow": {
     "slide_type": "subslide"
    }
   },
   "outputs": [
    {
     "name": "stdout",
     "output_type": "stream",
     "text": [
      "4536250120 4537911496\n",
      "<bound method MyClass.function of <__main__.MyClass object at 0x10e7e2a20>>\n",
      "<function MyClass.function at 0x10e7b08c8>\n"
     ]
    }
   ],
   "source": [
    "# 클래스변수\n",
    "class MyClass:\n",
    "    variable = \"blah\"\n",
    "\n",
    "    def function(self):\n",
    "        print(\"This is a message inside the class.\")\n",
    "\n",
    "my = MyClass()\n",
    "\n",
    "print(id(my.function),id(MyClass.function))\n",
    "print(my.function, MyClass.function, sep='\\n')"
   ]
  },
  {
   "cell_type": "markdown",
   "metadata": {
    "slideshow": {
     "slide_type": "subslide"
    }
   },
   "source": [
    "bound method는 함수의 첫번째 인자를 instance로 대체해서 호출합니다.\n",
    "```\n",
    "my = MyClass()\n",
    "my.function() # bound-method\n",
    "```\n",
    "->\n",
    "```\n",
    "my = MyClass()\n",
    "MyClass.function(my)\n",
    "```"
   ]
  },
  {
   "cell_type": "code",
   "execution_count": 42,
   "metadata": {
    "slideshow": {
     "slide_type": "subslide"
    }
   },
   "outputs": [
    {
     "name": "stdout",
     "output_type": "stream",
     "text": [
      "This is a message inside the class\n",
      "This is a message inside the class\n"
     ]
    }
   ],
   "source": [
    "class MyClass:\n",
    "    variable = \"blah\"\n",
    "    def function(self):\n",
    "        print(\"This is a message inside the class\")\n",
    "my = MyClass()\n",
    "my.function()\n",
    "\n",
    "MyClass.function(my) # 요런 행위를 가능하게 해줍니다."
   ]
  },
  {
   "cell_type": "markdown",
   "metadata": {
    "slideshow": {
     "slide_type": "slide"
    }
   },
   "source": [
    "## 상속, classmethod, staticmethod"
   ]
  },
  {
   "cell_type": "code",
   "execution_count": 49,
   "metadata": {
    "slideshow": {
     "slide_type": "subslide"
    }
   },
   "outputs": [
    {
     "data": {
      "text/plain": [
       "(1, 4)"
      ]
     },
     "execution_count": 49,
     "metadata": {},
     "output_type": "execute_result"
    }
   ],
   "source": [
    "# subclass\n",
    "class Bike():\n",
    "    num_passengers = 1\n",
    "\n",
    "class Car(Bike):\n",
    "    num_passengers = 4\n",
    "\n",
    "class Bus(Bike):\n",
    "    num_passengers = 10\n",
    "\n",
    "\n",
    "bike, car = Bike(), Car()\n",
    "bike.num_passengers, car.num_passengers"
   ]
  },
  {
   "cell_type": "code",
   "execution_count": 58,
   "metadata": {
    "slideshow": {
     "slide_type": "subslide"
    }
   },
   "outputs": [
    {
     "data": {
      "text/plain": [
       "(10, [__main__.Hybrid, __main__.Bus, __main__.Car, __main__.Bike, object])"
      ]
     },
     "execution_count": 58,
     "metadata": {},
     "output_type": "execute_result"
    }
   ],
   "source": [
    "# 다중상속\n",
    "class Hybrid(Bus, Car):\n",
    "    @property\n",
    "    def passengers_count(self):\n",
    "        return self.num_passengers\n",
    "\n",
    "Hybrid().passengers_count, Hybrid.mro()"
   ]
  },
  {
   "cell_type": "code",
   "execution_count": 4,
   "metadata": {
    "slideshow": {
     "slide_type": "subslide"
    }
   },
   "outputs": [
    {
     "ename": "NameError",
     "evalue": "name 'Bike' is not defined",
     "output_type": "error",
     "traceback": [
      "\u001b[0;31m---------------------------------------------------------------------------\u001b[0m",
      "\u001b[0;31mNameError\u001b[0m                                 Traceback (most recent call last)",
      "\u001b[0;32m<ipython-input-4-8a47b5951ece>\u001b[0m in \u001b[0;36m<module>\u001b[0;34m()\u001b[0m\n\u001b[1;32m      1\u001b[0m \u001b[0;31m# 똑똑한 다중상속\u001b[0m\u001b[0;34m\u001b[0m\u001b[0;34m\u001b[0m\u001b[0m\n\u001b[1;32m      2\u001b[0m \u001b[0;31m# http://stackoverflow.com/questions/29214888/typeerror-cannot-create-a-consistent-method-resolution-order-mro\u001b[0m\u001b[0;34m\u001b[0m\u001b[0;34m\u001b[0m\u001b[0m\n\u001b[0;32m----> 3\u001b[0;31m \u001b[0;32mclass\u001b[0m \u001b[0mHybrid\u001b[0m\u001b[0;34m(\u001b[0m\u001b[0mBike\u001b[0m\u001b[0;34m,\u001b[0m \u001b[0mBus\u001b[0m\u001b[0;34m)\u001b[0m\u001b[0;34m:\u001b[0m\u001b[0;34m\u001b[0m\u001b[0m\n\u001b[0m\u001b[1;32m      4\u001b[0m     \u001b[0;34m@\u001b[0m\u001b[0mproperty\u001b[0m\u001b[0;34m\u001b[0m\u001b[0m\n\u001b[1;32m      5\u001b[0m     \u001b[0;32mdef\u001b[0m \u001b[0mpassengers_count\u001b[0m\u001b[0;34m(\u001b[0m\u001b[0mself\u001b[0m\u001b[0;34m)\u001b[0m\u001b[0;34m:\u001b[0m\u001b[0;34m\u001b[0m\u001b[0m\n",
      "\u001b[0;31mNameError\u001b[0m: name 'Bike' is not defined"
     ]
    }
   ],
   "source": [
    "# 똑똑한 다중상속\n",
    "# http://stackoverflow.com/questions/29214888/typeerror-cannot-create-a-consistent-method-resolution-order-mro\n",
    "class Hybrid(Bike, Bus):\n",
    "    @property\n",
    "    def passengers_count(self):\n",
    "        return self.num_passengers\n",
    "\n",
    "Hybrid().passengers_count, Hybrid.mro()"
   ]
  },
  {
   "cell_type": "code",
   "execution_count": 7,
   "metadata": {
    "slideshow": {
     "slide_type": "subslide"
    }
   },
   "outputs": [
    {
     "name": "stdout",
     "output_type": "stream",
     "text": [
      "1 1 1\n",
      "1 2 1\n",
      "3 2 3\n"
     ]
    }
   ],
   "source": [
    "#다중상속\n",
    "class A:\n",
    "    x = 1\n",
    "class B(A):\n",
    "    pass\n",
    "class C(A):\n",
    "    pass\n",
    "\n",
    "print(A.x, B.x, C.x)\n",
    "B.x = 2\n",
    "print(A.x, B.x, C.x)\n",
    "A.x = 3\n",
    "print(A.x, B.x, C.x)"
   ]
  },
  {
   "cell_type": "code",
   "execution_count": 22,
   "metadata": {
    "slideshow": {
     "slide_type": "subslide"
    }
   },
   "outputs": [
    {
     "data": {
      "text/plain": [
       "([__main__.C, __main__.A, object],\n",
       " [__main__.B, __main__.A, object],\n",
       " mappingproxy({'__doc__': None, '__module__': '__main__'}),\n",
       " mappingproxy({'__doc__': None, '__module__': '__main__', 'x': 2}),\n",
       " mappingproxy({'__dict__': <attribute '__dict__' of 'A' objects>,\n",
       "               '__doc__': None,\n",
       "               '__module__': '__main__',\n",
       "               '__weakref__': <attribute '__weakref__' of 'A' objects>,\n",
       "               'x': 3}))"
      ]
     },
     "execution_count": 22,
     "metadata": {},
     "output_type": "execute_result"
    }
   ],
   "source": [
    "C.mro(), B.mro(), C.__dict__, B.__dict__, A.__dict__"
   ]
  },
  {
   "cell_type": "markdown",
   "metadata": {
    "slideshow": {
     "slide_type": "subslide"
    }
   },
   "source": [
    "다중상속이 가능하다는 것은 알지만, 잘 활용하지는 않습니다. mro자체도 복잡한 상속관계가 아니면 굳이 따지지 않아도 잘 보이니까요."
   ]
  },
  {
   "cell_type": "markdown",
   "metadata": {
    "slideshow": {
     "slide_type": "subslide"
    }
   },
   "source": [
    "![tk-class-inheritance](img/tk-class-inheritance.png)"
   ]
  },
  {
   "cell_type": "code",
   "execution_count": 64,
   "metadata": {
    "slideshow": {
     "slide_type": "subslide"
    }
   },
   "outputs": [
    {
     "name": "stdout",
     "output_type": "stream",
     "text": [
      "<function MyClass.function1 at 0x10e7b01e0>\n",
      "<function MyClass.function2 at 0x10e7b0d90>\n",
      "<bound method MyClass.function1 of <__main__.MyClass object at 0x10e7e25c0>>\n",
      "<function MyClass.function2 at 0x10e7b0d90>\n"
     ]
    }
   ],
   "source": [
    "# staticmethod, bound되지 않은 method는 기본적으로 일반 function입니다. (from python3.)\n",
    "class MyClass:\n",
    "    variable = \"blah\"\n",
    "\n",
    "    def function1():\n",
    "        print(\"This is a message inside the class.\")\n",
    "\n",
    "    @staticmethod\n",
    "    def function2():\n",
    "        print(\"This is a message inside the class(staticmethod)\")\n",
    "\n",
    "print(MyClass.function1)\n",
    "print(MyClass.function2)\n",
    "print(MyClass().function1)\n",
    "print(MyClass().function2)"
   ]
  },
  {
   "cell_type": "code",
   "execution_count": 65,
   "metadata": {
    "slideshow": {
     "slide_type": "subslide"
    }
   },
   "outputs": [
    {
     "data": {
      "text/plain": [
       "'<__main__.MyClass object at 0x10e7d39e8> world'"
      ]
     },
     "execution_count": 65,
     "metadata": {},
     "output_type": "execute_result"
    }
   ],
   "source": [
    "# classmethod\n",
    "class MyClass:\n",
    "    @classmethod\n",
    "    def make_myclass(cls):\n",
    "        return cls()\n",
    "\n",
    "    def hello(self):\n",
    "        return '{} world'.format(self)\n",
    "\n",
    "my = MyClass.make_myclass()\n",
    "my.hello()"
   ]
  },
  {
   "cell_type": "code",
   "execution_count": 51,
   "metadata": {
    "slideshow": {
     "slide_type": "subslide"
    }
   },
   "outputs": [
    {
     "data": {
      "text/plain": [
       "'hello python'"
      ]
     },
     "execution_count": 51,
     "metadata": {},
     "output_type": "execute_result"
    }
   ],
   "source": [
    "# properties\n",
    "class MyClass:\n",
    "    def __init__(self, name):\n",
    "        self.name = name\n",
    "    def hello(self):\n",
    "        return f'hello {self.name}'\n",
    "\n",
    "MyClass('python').hello()"
   ]
  },
  {
   "cell_type": "code",
   "execution_count": 52,
   "metadata": {
    "slideshow": {
     "slide_type": "subslide"
    }
   },
   "outputs": [
    {
     "data": {
      "text/plain": [
       "'hello python'"
      ]
     },
     "execution_count": 52,
     "metadata": {},
     "output_type": "execute_result"
    }
   ],
   "source": [
    "# properties\n",
    "class MyClass:\n",
    "    def __init__(self, name):\n",
    "        self.name = name\n",
    "    @property\n",
    "    def hello(self):\n",
    "        return f'hello {self.name}'\n",
    "\n",
    "MyClass('python').hello"
   ]
  },
  {
   "cell_type": "code",
   "execution_count": 3,
   "metadata": {
    "slideshow": {
     "slide_type": "subslide"
    }
   },
   "outputs": [
    {
     "data": {
      "text/plain": [
       "'hello world'"
      ]
     },
     "execution_count": 3,
     "metadata": {},
     "output_type": "execute_result"
    }
   ],
   "source": [
    "# properties\n",
    "class MyClass:\n",
    "    def __init__(self, name):\n",
    "        self.name = name\n",
    "    @property\n",
    "    def hello(self):\n",
    "        return f'hello {self.name}'\n",
    "    @hello.setter\n",
    "    def hello(self, value):\n",
    "        self.name = value\n",
    "    @hello.deleter\n",
    "    def hello(self):\n",
    "        del self.name\n",
    "\n",
    "my = MyClass('python')\n",
    "my.hello = 'world'\n",
    "my.hello"
   ]
  },
  {
   "cell_type": "code",
   "execution_count": 13,
   "metadata": {
    "slideshow": {
     "slide_type": "subslide"
    }
   },
   "outputs": [
    {
     "name": "stdout",
     "output_type": "stream",
     "text": [
      "Name: hello python\n",
      "Name: hello python, Length: 12\n"
     ]
    }
   ],
   "source": [
    "obj = MyClass('python')\n",
    "\n",
    "# 문자열 format 쉽게하기\n",
    "print('Name: {obj.hello}'.format(obj=obj))\n",
    "# print('Name: {user.hello}, Length: {len(user.hello)})'.format(obj=MyClass('python')))\n",
    "\n",
    "print(f'Name: {user.hello}, Length: {len(user.hello)}') # f-string은 강력하네요."
   ]
  },
  {
   "cell_type": "markdown",
   "metadata": {
    "slideshow": {
     "slide_type": "slide"
    }
   },
   "source": [
    "## class도 dynamic하게 다룰 수 있습니다. \n",
    "*Python은 dynamic하니까요!*"
   ]
  },
  {
   "cell_type": "code",
   "execution_count": 56,
   "metadata": {
    "slideshow": {
     "slide_type": "subslide"
    }
   },
   "outputs": [
    {
     "data": {
      "text/plain": [
       "('blah', 'blah')"
      ]
     },
     "execution_count": 56,
     "metadata": {},
     "output_type": "execute_result"
    }
   ],
   "source": [
    "class MyClass:\n",
    "    variable = \"blah\"\n",
    "\n",
    "    def function(self):\n",
    "        print(\"This is a message inside the class.\")\n",
    "\n",
    "my1 = MyClass()\n",
    "my2 = MyClass()\n",
    "my1.variable, my2.variable"
   ]
  },
  {
   "cell_type": "code",
   "execution_count": 59,
   "metadata": {
    "slideshow": {
     "slide_type": "subslide"
    }
   },
   "outputs": [
    {
     "data": {
      "text/plain": [
       "('blah', 'blah', 'oops')"
      ]
     },
     "execution_count": 59,
     "metadata": {},
     "output_type": "execute_result"
    }
   ],
   "source": [
    "class MyClass:\n",
    "    variable = \"blah\"\n",
    "\n",
    "    def function(self):\n",
    "        print(\"This is a message inside the class.\")\n",
    "\n",
    "my1 = MyClass()\n",
    "my2 = MyClass()\n",
    "my3 = MyClass()\n",
    "my3.variable = \"oops\"\n",
    "my1.variable, my2.variable, my3.variable"
   ]
  },
  {
   "cell_type": "code",
   "execution_count": 66,
   "metadata": {
    "slideshow": {
     "slide_type": "subslide"
    }
   },
   "outputs": [
    {
     "data": {
      "text/plain": [
       "(110120216, 110120216, 110048176)"
      ]
     },
     "execution_count": 66,
     "metadata": {},
     "output_type": "execute_result"
    }
   ],
   "source": [
    "id(my1.variable), id(my2.variable), id(my3.variable)"
   ]
  },
  {
   "cell_type": "code",
   "execution_count": 86,
   "metadata": {
    "slideshow": {
     "slide_type": "subslide"
    }
   },
   "outputs": [
    {
     "name": "stdout",
     "output_type": "stream",
     "text": [
      "hack!\n",
      "This is a message inside the class.\n"
     ]
    }
   ],
   "source": [
    "class MyClass:\n",
    "    variable = \"blah\"\n",
    "\n",
    "    def function(self):\n",
    "        print(\"This is a message inside the class.\")\n",
    "\n",
    "my1 = MyClass()\n",
    "my2 = MyClass()\n",
    "\n",
    "my1.function = lambda : print('hack!')\n",
    "\n",
    "# Then pring out both values\n",
    "my1.function()\n",
    "my2.function()"
   ]
  },
  {
   "cell_type": "code",
   "execution_count": 93,
   "metadata": {
    "slideshow": {
     "slide_type": "subslide"
    }
   },
   "outputs": [
    {
     "name": "stdout",
     "output_type": "stream",
     "text": [
      "<function custom_function at 0x0000000006BCB1E0>\n",
      "<bound method custom_function of <__main__.MyClass object at 0x0000000006BEB6D8>>\n",
      "hello world\n"
     ]
    }
   ],
   "source": [
    "def custom_function(self, value):\n",
    "    print('hello {}'.format(value))\n",
    "\n",
    "MyClass.custom_function = custom_function\n",
    "print(MyClass.custom_function)\n",
    "print(my1.custom_function)\n",
    "\n",
    "my1.custom_function('world')"
   ]
  },
  {
   "cell_type": "code",
   "execution_count": 8,
   "metadata": {
    "slideshow": {
     "slide_type": "subslide"
    }
   },
   "outputs": [
    {
     "name": "stdout",
     "output_type": "stream",
     "text": [
      "blah\n",
      "blahblah\n"
     ]
    }
   ],
   "source": [
    "class MyClass:\n",
    "    variable = \"blah\"\n",
    "\n",
    "    def function(self):\n",
    "        print(\"This is a message inside the class.\")\n",
    "\n",
    "print(MyClass.variable)\n",
    "\n",
    "MyClass.variable = 'blahblah'\n",
    "print(MyClass.variable)"
   ]
  },
  {
   "cell_type": "code",
   "execution_count": 12,
   "metadata": {
    "slideshow": {
     "slide_type": "subslide"
    }
   },
   "outputs": [
    {
     "name": "stdout",
     "output_type": "stream",
     "text": [
      "blah\n",
      "blah\n",
      "blahblah\n",
      "blahblah\n",
      "blahblah\n"
     ]
    }
   ],
   "source": [
    "class MyClass:\n",
    "    variable = \"blah\"\n",
    "\n",
    "    def function(self):\n",
    "        print(\"This is a message inside the class.\")\n",
    "\n",
    "print(MyClass.variable)\n",
    "myobjectx = MyClass()\n",
    "print(myobjectx.variable)\n",
    "\n",
    "MyClass.variable = 'blahblah'\n",
    "\n",
    "print(MyClass.variable)\n",
    "myobjecty = MyClass()\n",
    "print(myobjecty.variable)\n",
    "\n",
    "print(myobjectx.variable)"
   ]
  },
  {
   "cell_type": "code",
   "execution_count": 24,
   "metadata": {
    "slideshow": {
     "slide_type": "subslide"
    }
   },
   "outputs": [
    {
     "name": "stdout",
     "output_type": "stream",
     "text": [
      "blahblah 108035376\n",
      "blahblah 108035376\n",
      "hurray 108146736\n",
      "blahblah 108035376\n"
     ]
    }
   ],
   "source": [
    "class MyClass:\n",
    "    variable = \"blah\"\n",
    "\n",
    "    def function(self):\n",
    "        print(\"This is a message inside the class.\")\n",
    "\n",
    "myobjectx = MyClass()\n",
    "myobjectx.variable = 'hurray'\n",
    "MyClass.variable = 'blahblah'\n",
    "\n",
    "myobjecty = MyClass()\n",
    "print(MyClass.variable, id(MyClass.variable))\n",
    "print(myobjecty.variable, id(myobjecty.variable))\n",
    "print(myobjectx.variable, id(myobjectx.variable))\n",
    "print(myobjectx.__class__.variable, id(myobjectx.__class__.variable))"
   ]
  },
  {
   "cell_type": "markdown",
   "metadata": {
    "collapsed": true,
    "slideshow": {
     "slide_type": "subslide"
    }
   },
   "source": [
    "이렇게 class의 구현내용을 임의로 변경하는 방법을 monkey-patching이라고도 합니다. 때때로 외부 라이브러리의 긴급patch를 적용하고자 할 때 유용할 수 있습니다. 물론 설계의 복잡도가 높아지므로 권장하지는 않습니다. javascript처럼 builtin-type에 대한 재정의는 불가능합니다."
   ]
  },
  {
   "cell_type": "code",
   "execution_count": 85,
   "metadata": {
    "slideshow": {
     "slide_type": "subslide"
    }
   },
   "outputs": [
    {
     "ename": "TypeError",
     "evalue": "Can't instantiate abstract class Sample with abstract methods hello",
     "output_type": "error",
     "traceback": [
      "\u001b[0;31m---------------------------------------------------------------------------\u001b[0m",
      "\u001b[0;31mTypeError\u001b[0m                                 Traceback (most recent call last)",
      "\u001b[0;32m<ipython-input-85-18ef7d7cce36>\u001b[0m in \u001b[0;36m<module>\u001b[0;34m()\u001b[0m\n\u001b[1;32m      7\u001b[0m         \u001b[1;32mraise\u001b[0m \u001b[0mImplementedError\u001b[0m\u001b[1;33m\u001b[0m\u001b[0m\n\u001b[1;32m      8\u001b[0m \u001b[1;33m\u001b[0m\u001b[0m\n\u001b[0;32m----> 9\u001b[0;31m \u001b[0mSample\u001b[0m\u001b[1;33m(\u001b[0m\u001b[1;33m)\u001b[0m\u001b[1;33m\u001b[0m\u001b[0m\n\u001b[0m",
      "\u001b[0;31mTypeError\u001b[0m: Can't instantiate abstract class Sample with abstract methods hello"
     ]
    }
   ],
   "source": [
    "# abstract class\n",
    "from abc import ABC, abstractmethod\n",
    "\n",
    "class Sample(ABC):\n",
    "    @abstractmethod\n",
    "    def hello(self, name):\n",
    "        pass\n",
    "\n",
    "Sample()"
   ]
  },
  {
   "cell_type": "code",
   "execution_count": 84,
   "metadata": {
    "slideshow": {
     "slide_type": "subslide"
    }
   },
   "outputs": [
    {
     "data": {
      "text/plain": [
       "'hello world'"
      ]
     },
     "execution_count": 84,
     "metadata": {},
     "output_type": "execute_result"
    }
   ],
   "source": [
    "class SampleInherited(Sample):\n",
    "    def hello(self, name):\n",
    "        return 'hello {}'.format(name)\n",
    "SampleInherited().hello('world')"
   ]
  },
  {
   "cell_type": "markdown",
   "metadata": {
    "slideshow": {
     "slide_type": "slide"
    }
   },
   "source": [
    "## EXERCISE"
   ]
  },
  {
   "cell_type": "code",
   "execution_count": 7,
   "metadata": {
    "slideshow": {
     "slide_type": "subslide"
    }
   },
   "outputs": [
    {
     "ename": "NameError",
     "evalue": "name 'car1' is not defined",
     "output_type": "error",
     "traceback": [
      "\u001b[0;31m---------------------------------------------------------------------------\u001b[0m",
      "\u001b[0;31mNameError\u001b[0m                                 Traceback (most recent call last)",
      "\u001b[0;32m<ipython-input-7-be20c747edf5>\u001b[0m in \u001b[0;36m<module>\u001b[0;34m()\u001b[0m\n\u001b[1;32m     11\u001b[0m \u001b[0;34m\u001b[0m\u001b[0m\n\u001b[1;32m     12\u001b[0m \u001b[0;31m# test code\u001b[0m\u001b[0;34m\u001b[0m\u001b[0;34m\u001b[0m\u001b[0m\n\u001b[0;32m---> 13\u001b[0;31m \u001b[0mprint\u001b[0m\u001b[0;34m(\u001b[0m\u001b[0mcar1\u001b[0m\u001b[0;34m.\u001b[0m\u001b[0mdescription\u001b[0m\u001b[0;34m(\u001b[0m\u001b[0;34m)\u001b[0m\u001b[0;34m)\u001b[0m\u001b[0;34m\u001b[0m\u001b[0m\n\u001b[0m\u001b[1;32m     14\u001b[0m \u001b[0mprint\u001b[0m\u001b[0;34m(\u001b[0m\u001b[0mcar2\u001b[0m\u001b[0;34m.\u001b[0m\u001b[0mdescription\u001b[0m\u001b[0;34m(\u001b[0m\u001b[0;34m)\u001b[0m\u001b[0;34m)\u001b[0m\u001b[0;34m\u001b[0m\u001b[0m\n",
      "\u001b[0;31mNameError\u001b[0m: name 'car1' is not defined"
     ]
    }
   ],
   "source": [
    "# define the Vehicle class\n",
    "class Vehicle:\n",
    "    name = \"\"\n",
    "    kind = \"car\"\n",
    "    color = \"\"\n",
    "    value = 100.00\n",
    "    def description(self):\n",
    "        desc_str = \"%s is a %s %s worth $%.2f.\" % (self.name, self.color, self.kind, self.value)\n",
    "        return desc_str\n",
    "# your code goes here\n",
    "\n",
    "# test code\n",
    "print(car1.description())\n",
    "print(car2.description())"
   ]
  }
 ],
 "metadata": {
  "celltoolbar": "Slideshow",
  "kernelspec": {
   "display_name": "Python 3",
   "language": "python",
   "name": "python3"
  },
  "language_info": {
   "codemirror_mode": {
    "name": "ipython",
    "version": 3
   },
   "file_extension": ".py",
   "mimetype": "text/x-python",
   "name": "python",
   "nbconvert_exporter": "python",
   "pygments_lexer": "ipython3",
   "version": "3.6.1"
  }
 },
 "nbformat": 4,
 "nbformat_minor": 2
}
