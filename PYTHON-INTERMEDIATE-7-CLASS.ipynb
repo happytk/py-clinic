{
 "cells": [
  {
   "cell_type": "code",
   "execution_count": 2,
   "metadata": {
    "collapsed": false
   },
   "outputs": [
    {
     "name": "stdout",
     "output_type": "stream",
     "text": [
      "93012008\n",
      "110048200\n",
      "110048144\n"
     ]
    }
   ],
   "source": [
    "class MyClass:\n",
    "    pass\n",
    "my1 = MyClass()\n",
    "my2 = MyClass()\n",
    "print(id(MyClass))\n",
    "print(id(my1))\n",
    "print(id(my2))"
   ]
  },
  {
   "cell_type": "code",
   "execution_count": 6,
   "metadata": {
    "collapsed": false
   },
   "outputs": [
    {
     "data": {
      "text/plain": [
       "'world'"
      ]
     },
     "execution_count": 6,
     "metadata": {},
     "output_type": "execute_result"
    }
   ],
   "source": [
    "class MyClass:\n",
    "    def hello(self):\n",
    "        return 'world'\n",
    "\n",
    "my = MyClass()\n",
    "my.hello()"
   ]
  },
  {
   "cell_type": "code",
   "execution_count": 9,
   "metadata": {
    "collapsed": false
   },
   "outputs": [
    {
     "name": "stdout",
     "output_type": "stream",
     "text": [
      "Object is created.\n"
     ]
    }
   ],
   "source": [
    "class MyClass:\n",
    "    def __init__(self):\n",
    "        print('Object is created.')\n",
    "my1 = MyClass()"
   ]
  },
  {
   "cell_type": "code",
   "execution_count": 38,
   "metadata": {
    "collapsed": false
   },
   "outputs": [
    {
     "name": "stdout",
     "output_type": "stream",
     "text": [
      "blah 110120216\n",
      "blah 110120216\n",
      "blah 110120216\n",
      "104099272 104099272 110864312\n",
      "<function MyClass.function at 0x00000000069BA7B8>\n",
      "<bound method MyClass.function of <__main__.MyClass object at 0x0000000006BCF0F0>>\n",
      "<bound method MyClass.function of <__main__.MyClass object at 0x0000000006BCF0B8>>\n"
     ]
    }
   ],
   "source": [
    "class MyClass:\n",
    "    variable = \"blah\"\n",
    "\n",
    "    def function(self):\n",
    "        print(\"This is a message inside the class.\")\n",
    "\n",
    "my1 = MyClass()\n",
    "my2 = MyClass()\n",
    "print(my1.variable, id(my1.variable))\n",
    "print(my2.variable, id(my2.variable))\n",
    "print(MyClass.variable, id(MyClass.variable))\n",
    "print(id(my1.function), id(my2.function), id(MyClass.function))\n",
    "print(MyClass.function)\n",
    "print(my1.function)\n",
    "print(my2.function)"
   ]
  },
  {
   "cell_type": "markdown",
   "metadata": {},
   "source": [
    "bound method는 함수의 첫번째 인자를 instance로 대체해서 호출합니다.\n",
    "```\n",
    "my = MyClass()\n",
    "my.function() # bound-method\n",
    "```\n",
    "->\n",
    "```\n",
    "my = MyClass()\n",
    "MyClass.function(my)\n",
    "```"
   ]
  },
  {
   "cell_type": "code",
   "execution_count": 41,
   "metadata": {
    "collapsed": false
   },
   "outputs": [
    {
     "data": {
      "text/plain": [
       "(1, 4)"
      ]
     },
     "execution_count": 41,
     "metadata": {},
     "output_type": "execute_result"
    }
   ],
   "source": [
    "# subclass\n",
    "class Bike():\n",
    "    num_passengers = 1\n",
    "\n",
    "class Car(Bike):\n",
    "    num_passengers = 4\n",
    "    \n",
    "bike, car = Bike(), Car()\n",
    "bike.num_passengers, car.num_passengers"
   ]
  },
  {
   "cell_type": "code",
   "execution_count": 45,
   "metadata": {
    "collapsed": false
   },
   "outputs": [
    {
     "name": "stdout",
     "output_type": "stream",
     "text": [
      "<function MyClass.function1 at 0x0000000006BC2488>\n",
      "<function MyClass.function2 at 0x0000000006BC21E0>\n",
      "<bound method MyClass.function1 of <__main__.MyClass object at 0x00000000069596D8>>\n",
      "<function MyClass.function2 at 0x0000000006BC21E0>\n"
     ]
    }
   ],
   "source": [
    "# staticmethod, bound되지 않은 method는 기본적으로 일반 function입니다. (from python3.)\n",
    "class MyClass:\n",
    "    variable = \"blah\"\n",
    "\n",
    "    def function1():\n",
    "        print(\"This is a message inside the class.\")\n",
    "\n",
    "    @staticmethod\n",
    "    def function2():\n",
    "        print(\"This is a message inside the class(staticmethod)\")\n",
    "\n",
    "print(MyClass.function1)\n",
    "print(MyClass.function2)\n",
    "print(MyClass().function1)\n",
    "print(MyClass().function2)"
   ]
  },
  {
   "cell_type": "code",
   "execution_count": 48,
   "metadata": {
    "collapsed": false
   },
   "outputs": [
    {
     "data": {
      "text/plain": [
       "'<__main__.MyClass object at 0x0000000006BCF6A0> world'"
      ]
     },
     "execution_count": 48,
     "metadata": {},
     "output_type": "execute_result"
    }
   ],
   "source": [
    "# classmethod\n",
    "class MyClass:\n",
    "    @classmethod\n",
    "    def make_myclass(cls):\n",
    "        return cls()\n",
    "\n",
    "    def hello(self):\n",
    "        return '{} world'.format(self)\n",
    "\n",
    "my = MyClass.make_myclass()\n",
    "my.hello()"
   ]
  },
  {
   "cell_type": "code",
   "execution_count": 51,
   "metadata": {
    "collapsed": false
   },
   "outputs": [
    {
     "data": {
      "text/plain": [
       "'hello python'"
      ]
     },
     "execution_count": 51,
     "metadata": {},
     "output_type": "execute_result"
    }
   ],
   "source": [
    "# properties\n",
    "class MyClass:\n",
    "    def __init__(self, name):\n",
    "        self.name = name\n",
    "    def hello(self):\n",
    "        return f'hello {self.name}'\n",
    "\n",
    "MyClass('python').hello()"
   ]
  },
  {
   "cell_type": "code",
   "execution_count": 52,
   "metadata": {
    "collapsed": false
   },
   "outputs": [
    {
     "data": {
      "text/plain": [
       "'hello python'"
      ]
     },
     "execution_count": 52,
     "metadata": {},
     "output_type": "execute_result"
    }
   ],
   "source": [
    "# properties\n",
    "class MyClass:\n",
    "    def __init__(self, name):\n",
    "        self.name = name\n",
    "    @property\n",
    "    def hello(self):\n",
    "        return f'hello {self.name}'\n",
    "\n",
    "MyClass('python').hello"
   ]
  },
  {
   "cell_type": "code",
   "execution_count": 55,
   "metadata": {
    "collapsed": false
   },
   "outputs": [
    {
     "data": {
      "text/plain": [
       "'hello world'"
      ]
     },
     "execution_count": 55,
     "metadata": {},
     "output_type": "execute_result"
    }
   ],
   "source": [
    "# properties\n",
    "class MyClass:\n",
    "    def __init__(self, name):\n",
    "        self.name = name\n",
    "    @property\n",
    "    def hello(self):\n",
    "        return f'hello {self.name}'\n",
    "    @hello.setter\n",
    "    def hello(self, value):\n",
    "        self.name = value\n",
    "    @hello.deleter\n",
    "    def hello(self):\n",
    "        del self.name\n",
    "\n",
    "my = MyClass('python')\n",
    "my.hello = 'world'\n",
    "my.hello"
   ]
  },
  {
   "cell_type": "markdown",
   "metadata": {},
   "source": [
    "class도 dynamic하게 다룰 수 있습니다. Python은 dynamic하니까요!"
   ]
  },
  {
   "cell_type": "code",
   "execution_count": 56,
   "metadata": {
    "collapsed": false
   },
   "outputs": [
    {
     "data": {
      "text/plain": [
       "('blah', 'blah')"
      ]
     },
     "execution_count": 56,
     "metadata": {},
     "output_type": "execute_result"
    }
   ],
   "source": [
    "class MyClass:\n",
    "    variable = \"blah\"\n",
    "\n",
    "    def function(self):\n",
    "        print(\"This is a message inside the class.\")\n",
    "\n",
    "my1 = MyClass()\n",
    "my2 = MyClass()\n",
    "my1.variable, my2.variable"
   ]
  },
  {
   "cell_type": "code",
   "execution_count": 59,
   "metadata": {
    "collapsed": false
   },
   "outputs": [
    {
     "data": {
      "text/plain": [
       "('blah', 'blah', 'oops')"
      ]
     },
     "execution_count": 59,
     "metadata": {},
     "output_type": "execute_result"
    }
   ],
   "source": [
    "class MyClass:\n",
    "    variable = \"blah\"\n",
    "\n",
    "    def function(self):\n",
    "        print(\"This is a message inside the class.\")\n",
    "\n",
    "my1 = MyClass()\n",
    "my2 = MyClass()\n",
    "my3 = MyClass()\n",
    "my3.variable = \"oops\"\n",
    "my1.variable, my2.variable, my3.variable"
   ]
  },
  {
   "cell_type": "code",
   "execution_count": 66,
   "metadata": {
    "collapsed": false
   },
   "outputs": [
    {
     "data": {
      "text/plain": [
       "(110120216, 110120216, 110048176)"
      ]
     },
     "execution_count": 66,
     "metadata": {},
     "output_type": "execute_result"
    }
   ],
   "source": [
    "id(my1.variable), id(my2.variable), id(my3.variable)"
   ]
  },
  {
   "cell_type": "code",
   "execution_count": 86,
   "metadata": {
    "collapsed": false
   },
   "outputs": [
    {
     "name": "stdout",
     "output_type": "stream",
     "text": [
      "hack!\n",
      "This is a message inside the class.\n"
     ]
    }
   ],
   "source": [
    "class MyClass:\n",
    "    variable = \"blah\"\n",
    "\n",
    "    def function(self):\n",
    "        print(\"This is a message inside the class.\")\n",
    "\n",
    "my1 = MyClass()\n",
    "my2 = MyClass()\n",
    "\n",
    "my1.function = lambda : print('hack!')\n",
    "\n",
    "# Then pring out both values\n",
    "my1.function()\n",
    "my2.function()"
   ]
  },
  {
   "cell_type": "code",
   "execution_count": 93,
   "metadata": {
    "collapsed": false
   },
   "outputs": [
    {
     "name": "stdout",
     "output_type": "stream",
     "text": [
      "<function custom_function at 0x0000000006BCB1E0>\n",
      "<bound method custom_function of <__main__.MyClass object at 0x0000000006BEB6D8>>\n",
      "hello world\n"
     ]
    }
   ],
   "source": [
    "def custom_function(self, value):\n",
    "    print('hello {}'.format(value))\n",
    "\n",
    "MyClass.custom_function = custom_function\n",
    "print(MyClass.custom_function)\n",
    "print(my1.custom_function)\n",
    "\n",
    "my1.custom_function('world')"
   ]
  },
  {
   "cell_type": "code",
   "execution_count": 8,
   "metadata": {
    "collapsed": false
   },
   "outputs": [
    {
     "name": "stdout",
     "output_type": "stream",
     "text": [
      "blah\n",
      "blahblah\n"
     ]
    }
   ],
   "source": [
    "class MyClass:\n",
    "    variable = \"blah\"\n",
    "\n",
    "    def function(self):\n",
    "        print(\"This is a message inside the class.\")\n",
    "\n",
    "print(MyClass.variable)\n",
    "\n",
    "MyClass.variable = 'blahblah'\n",
    "print(MyClass.variable)"
   ]
  },
  {
   "cell_type": "code",
   "execution_count": 12,
   "metadata": {
    "collapsed": false
   },
   "outputs": [
    {
     "name": "stdout",
     "output_type": "stream",
     "text": [
      "blah\n",
      "blah\n",
      "blahblah\n",
      "blahblah\n",
      "blahblah\n"
     ]
    }
   ],
   "source": [
    "class MyClass:\n",
    "    variable = \"blah\"\n",
    "\n",
    "    def function(self):\n",
    "        print(\"This is a message inside the class.\")\n",
    "\n",
    "print(MyClass.variable)\n",
    "myobjectx = MyClass()\n",
    "print(myobjectx.variable)\n",
    "\n",
    "MyClass.variable = 'blahblah'\n",
    "\n",
    "print(MyClass.variable)\n",
    "myobjecty = MyClass()\n",
    "print(myobjecty.variable)\n",
    "\n",
    "print(myobjectx.variable)"
   ]
  },
  {
   "cell_type": "code",
   "execution_count": 24,
   "metadata": {
    "collapsed": false
   },
   "outputs": [
    {
     "name": "stdout",
     "output_type": "stream",
     "text": [
      "blahblah 108035376\n",
      "blahblah 108035376\n",
      "hurray 108146736\n",
      "blahblah 108035376\n"
     ]
    }
   ],
   "source": [
    "class MyClass:\n",
    "    variable = \"blah\"\n",
    "\n",
    "    def function(self):\n",
    "        print(\"This is a message inside the class.\")\n",
    "\n",
    "myobjectx = MyClass()\n",
    "myobjectx.variable = 'hurray'\n",
    "MyClass.variable = 'blahblah'\n",
    "\n",
    "myobjecty = MyClass()\n",
    "print(MyClass.variable, id(MyClass.variable))\n",
    "print(myobjecty.variable, id(myobjecty.variable))\n",
    "print(myobjectx.variable, id(myobjectx.variable))\n",
    "print(myobjectx.__class__.variable, id(myobjectx.__class__.variable))"
   ]
  },
  {
   "cell_type": "markdown",
   "metadata": {
    "collapsed": true
   },
   "source": [
    "이렇게 class의 구현내용을 임의로 변경하는 방법을 monkey-patching이라고도 합니다. 때때로 외부 라이브러리의 긴급patch를 적용하고자 할 때 유용할 수 있습니다. 물론 설계의 복잡도가 높아지므로 권장하지는 않습니다. javascript처럼 builtin-type에 대한 재정의는 불가능합니다."
   ]
  },
  {
   "cell_type": "code",
   "execution_count": 85,
   "metadata": {
    "collapsed": false
   },
   "outputs": [
    {
     "ename": "TypeError",
     "evalue": "Can't instantiate abstract class Sample with abstract methods hello",
     "output_type": "error",
     "traceback": [
      "\u001b[0;31m---------------------------------------------------------------------------\u001b[0m",
      "\u001b[0;31mTypeError\u001b[0m                                 Traceback (most recent call last)",
      "\u001b[0;32m<ipython-input-85-18ef7d7cce36>\u001b[0m in \u001b[0;36m<module>\u001b[0;34m()\u001b[0m\n\u001b[1;32m      7\u001b[0m         \u001b[1;32mraise\u001b[0m \u001b[0mImplementedError\u001b[0m\u001b[1;33m\u001b[0m\u001b[0m\n\u001b[1;32m      8\u001b[0m \u001b[1;33m\u001b[0m\u001b[0m\n\u001b[0;32m----> 9\u001b[0;31m \u001b[0mSample\u001b[0m\u001b[1;33m(\u001b[0m\u001b[1;33m)\u001b[0m\u001b[1;33m\u001b[0m\u001b[0m\n\u001b[0m",
      "\u001b[0;31mTypeError\u001b[0m: Can't instantiate abstract class Sample with abstract methods hello"
     ]
    }
   ],
   "source": [
    "# abstract class\n",
    "from abc import ABC, abstractmethod\n",
    "\n",
    "class Sample(ABC):\n",
    "    @abstractmethod\n",
    "    def hello(self, name):\n",
    "        pass\n",
    "\n",
    "Sample()"
   ]
  },
  {
   "cell_type": "code",
   "execution_count": 84,
   "metadata": {
    "collapsed": false
   },
   "outputs": [
    {
     "data": {
      "text/plain": [
       "'hello world'"
      ]
     },
     "execution_count": 84,
     "metadata": {},
     "output_type": "execute_result"
    }
   ],
   "source": [
    "class SampleInherited(Sample):\n",
    "    def hello(self, name):\n",
    "        return 'hello {}'.format(name)\n",
    "SampleInherited().hello('world')"
   ]
  },
  {
   "cell_type": "markdown",
   "metadata": {},
   "source": []
  },
  {
   "cell_type": "markdown",
   "metadata": {},
   "source": [
    "## EXERCISE"
   ]
  },
  {
   "cell_type": "code",
   "execution_count": 7,
   "metadata": {
    "collapsed": false
   },
   "outputs": [
    {
     "ename": "NameError",
     "evalue": "name 'car1' is not defined",
     "output_type": "error",
     "traceback": [
      "\u001b[0;31m---------------------------------------------------------------------------\u001b[0m",
      "\u001b[0;31mNameError\u001b[0m                                 Traceback (most recent call last)",
      "\u001b[0;32m<ipython-input-7-be20c747edf5>\u001b[0m in \u001b[0;36m<module>\u001b[0;34m()\u001b[0m\n\u001b[1;32m     11\u001b[0m \u001b[0;34m\u001b[0m\u001b[0m\n\u001b[1;32m     12\u001b[0m \u001b[0;31m# test code\u001b[0m\u001b[0;34m\u001b[0m\u001b[0;34m\u001b[0m\u001b[0m\n\u001b[0;32m---> 13\u001b[0;31m \u001b[0mprint\u001b[0m\u001b[0;34m(\u001b[0m\u001b[0mcar1\u001b[0m\u001b[0;34m.\u001b[0m\u001b[0mdescription\u001b[0m\u001b[0;34m(\u001b[0m\u001b[0;34m)\u001b[0m\u001b[0;34m)\u001b[0m\u001b[0;34m\u001b[0m\u001b[0m\n\u001b[0m\u001b[1;32m     14\u001b[0m \u001b[0mprint\u001b[0m\u001b[0;34m(\u001b[0m\u001b[0mcar2\u001b[0m\u001b[0;34m.\u001b[0m\u001b[0mdescription\u001b[0m\u001b[0;34m(\u001b[0m\u001b[0;34m)\u001b[0m\u001b[0;34m)\u001b[0m\u001b[0;34m\u001b[0m\u001b[0m\n",
      "\u001b[0;31mNameError\u001b[0m: name 'car1' is not defined"
     ]
    }
   ],
   "source": [
    "# define the Vehicle class\n",
    "class Vehicle:\n",
    "    name = \"\"\n",
    "    kind = \"car\"\n",
    "    color = \"\"\n",
    "    value = 100.00\n",
    "    def description(self):\n",
    "        desc_str = \"%s is a %s %s worth $%.2f.\" % (self.name, self.color, self.kind, self.value)\n",
    "        return desc_str\n",
    "# your code goes here\n",
    "\n",
    "# test code\n",
    "print(car1.description())\n",
    "print(car2.description())"
   ]
  },
  {
   "cell_type": "code",
   "execution_count": null,
   "metadata": {
    "collapsed": true
   },
   "outputs": [],
   "source": []
  }
 ],
 "metadata": {
  "kernelspec": {
   "display_name": "Python 3",
   "language": "python",
   "name": "python3"
  },
  "language_info": {
   "codemirror_mode": {
    "name": "ipython",
    "version": 3
   },
   "file_extension": ".py",
   "mimetype": "text/x-python",
   "name": "python",
   "nbconvert_exporter": "python",
   "pygments_lexer": "ipython3",
   "version": "3.6.0"
  }
 },
 "nbformat": 4,
 "nbformat_minor": 2
}
