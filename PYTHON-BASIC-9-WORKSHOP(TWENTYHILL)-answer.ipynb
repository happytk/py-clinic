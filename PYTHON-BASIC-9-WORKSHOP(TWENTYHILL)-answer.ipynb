{
 "cells": [
  {
   "cell_type": "markdown",
   "metadata": {},
   "source": [
    "**WORKSHOP**\n",
    "\n",
    "1-100사이의 random숫자를 기억하고 사용자와 스무고개 게임을 만들어봅시다.\n",
    "\n",
    "72 <- random하게 생성된 숫자\n",
    "\n",
    "- (1) 사용자가 30 입력 -> 제가 가진 숫자보다 작습니다.\n",
    "- (2) 사용자가 70 입력 -> 제가 가진 숫자보다 작습니다.\n",
    "- (3) 사용자가 80 입력 -> 제가 가진 숫자보다 큽니다.\n",
    "- (4) 사용자가 75 입력 -> 제가 가진 숫자보다 큽니다.\n",
    "- (5) 사용자가 72 입력 -> 제가 가진 숫자와 같습니다. (종료)\n",
    "- ..\n",
    "- ..\n",
    "- (20)번 입력이 넘으면 종료."
   ]
  },
  {
   "cell_type": "code",
   "execution_count": 31,
   "metadata": {},
   "outputs": [
    {
     "name": "stdout",
     "output_type": "stream",
     "text": [
      "(0) 사용자가 45 입력 -> 제가 가진 숫자보다 큽니다.\n",
      "(1) 사용자가 1 입력 -> 제가 가진 숫자보다 작습니다.\n",
      "(2) 사용자가 17 입력 -> 제가 가진 숫자보다 큽니다.\n",
      "(3) 사용자가 5 입력 -> 제가 가진 숫자보다 작습니다.\n",
      "(4) 사용자가 73 입력 -> 제가 가진 숫자보다 큽니다.\n",
      "(5) 사용자가 33 입력 -> 제가 가진 숫자보다 큽니다.\n",
      "(6) 사용자가 12 입력 -> 제가 가진 숫자보다 작습니다.\n",
      "(7) 사용자가 77 입력 -> 제가 가진 숫자보다 큽니다.\n",
      "(8) 사용자가 3 입력 -> 제가 가진 숫자보다 작습니다.\n",
      "(9) 사용자가 7 입력 -> 제가 가진 숫자보다 작습니다.\n",
      "(10) 사용자가 94 입력 -> 제가 가진 숫자보다 큽니다.\n",
      "(11) 사용자가 5 입력 -> 제가 가진 숫자보다 작습니다.\n",
      "(12) 사용자가 83 입력 -> 제가 가진 숫자보다 큽니다.\n",
      "(13) 사용자가 47 입력 -> 제가 가진 숫자보다 큽니다.\n",
      "(14) 사용자가 85 입력 -> 제가 가진 숫자보다 큽니다.\n",
      "(15) 사용자가 64 입력 -> 제가 가진 숫자보다 큽니다.\n",
      "(16) 사용자가 15 입력 -> 제가 가진 숫자보다 작습니다.\n",
      "(17) 사용자가 4 입력 -> 제가 가진 숫자보다 작습니다.\n",
      "(18) 사용자가 76 입력 -> 제가 가진 숫자보다 큽니다.\n",
      "(19) 사용자가 24 입력 -> 제가 가진 숫자보다 큽니다.\n",
      "20번이 넘어서 종료합니다.\n"
     ]
    }
   ],
   "source": [
    "import random\n",
    "picked = random.choice(range(1,101))\n",
    "\n",
    "for i in range(20):\n",
    "    user_input = random.choice(range(1,101))\n",
    "#     user_input = int(input('---'))\n",
    "    if user_input == picked:\n",
    "        print(f'({i}) 사용자가 {user_input} 입력', end=' ')\n",
    "        print(f'-> 제가 가진 숫자와 같습니다.')\n",
    "        break\n",
    "    elif user_input > picked:\n",
    "        print(f'({i}) 사용자가 {user_input} 입력', end=' ')\n",
    "        print(f'-> 제가 가진 숫자보다 큽니다.')\n",
    "    elif user_input < picked:\n",
    "        print(f'({i}) 사용자가 {user_input} 입력', end=' ')\n",
    "        print(f'-> 제가 가진 숫자보다 작습니다.')\n",
    "else:\n",
    "    print('20번이 넘어서 종료합니다.')"
   ]
  }
 ],
 "metadata": {
  "kernelspec": {
   "display_name": "Python 3",
   "language": "python",
   "name": "python3"
  },
  "language_info": {
   "codemirror_mode": {
    "name": "ipython",
    "version": 3
   },
   "file_extension": ".py",
   "mimetype": "text/x-python",
   "name": "python",
   "nbconvert_exporter": "python",
   "pygments_lexer": "ipython3",
   "version": "3.6.1"
  }
 },
 "nbformat": 4,
 "nbformat_minor": 2
}
